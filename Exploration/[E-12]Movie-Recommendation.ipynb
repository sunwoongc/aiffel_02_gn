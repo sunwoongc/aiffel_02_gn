{
 "cells": [
  {
   "cell_type": "code",
   "execution_count": 1,
   "id": "swedish-polls",
   "metadata": {},
   "outputs": [
    {
     "name": "stdout",
     "output_type": "stream",
     "text": [
      "total 1893632\r\n",
      "-rwxr-xr-x 1 root root       3973 Jul  6 02:11 dataset-README.txt\r\n",
      "-rw-r--r-- 1 root root     171308 Jul 13 03:52 movies.dat\r\n",
      "-rw-r--r-- 1 root root   24594131 Jul 13 03:52 ratings.dat\r\n",
      "-rw-r--r-- 1 root root       5577 Jul 13 03:52 README\r\n",
      "-rw-r--r-- 1 root root     134368 Jul 13 03:52 users.dat\r\n",
      "-rwxr-xr-x 1 root root   55583744 Jul  6 02:11 yoochoose-buys.dat\r\n",
      "-rwxr-xr-x 1 root root 1486798186 Jul  6 02:13 yoochoose-clicks.dat\r\n",
      "-rwxr-xr-x 1 root root  371725851 Jul  6 02:12 yoochoose-test.dat\r\n"
     ]
    }
   ],
   "source": [
    "!ls -l ~/data"
   ]
  },
  {
   "cell_type": "code",
   "execution_count": 4,
   "id": "turkish-agency",
   "metadata": {},
   "outputs": [],
   "source": [
    "import datetime as dt\n",
    "from pathlib import Path\n",
    "import os\n",
    "\n",
    "import numpy as np\n",
    "import pandas as pd\n",
    "import warnings\n",
    "warnings.filterwarnings('ignore')"
   ]
  },
  {
   "cell_type": "code",
   "execution_count": 5,
   "id": "negative-trick",
   "metadata": {},
   "outputs": [
    {
     "data": {
      "text/html": [
       "<div>\n",
       "<style scoped>\n",
       "    .dataframe tbody tr th:only-of-type {\n",
       "        vertical-align: middle;\n",
       "    }\n",
       "\n",
       "    .dataframe tbody tr th {\n",
       "        vertical-align: top;\n",
       "    }\n",
       "\n",
       "    .dataframe thead th {\n",
       "        text-align: right;\n",
       "    }\n",
       "</style>\n",
       "<table border=\"1\" class=\"dataframe\">\n",
       "  <thead>\n",
       "    <tr style=\"text-align: right;\">\n",
       "      <th></th>\n",
       "      <th>UserId</th>\n",
       "      <th>ItemId</th>\n",
       "      <th>Rating</th>\n",
       "      <th>Time</th>\n",
       "    </tr>\n",
       "  </thead>\n",
       "  <tbody>\n",
       "    <tr>\n",
       "      <th>31</th>\n",
       "      <td>1</td>\n",
       "      <td>3186</td>\n",
       "      <td>4</td>\n",
       "      <td>978300019</td>\n",
       "    </tr>\n",
       "    <tr>\n",
       "      <th>22</th>\n",
       "      <td>1</td>\n",
       "      <td>1270</td>\n",
       "      <td>5</td>\n",
       "      <td>978300055</td>\n",
       "    </tr>\n",
       "    <tr>\n",
       "      <th>27</th>\n",
       "      <td>1</td>\n",
       "      <td>1721</td>\n",
       "      <td>4</td>\n",
       "      <td>978300055</td>\n",
       "    </tr>\n",
       "    <tr>\n",
       "      <th>37</th>\n",
       "      <td>1</td>\n",
       "      <td>1022</td>\n",
       "      <td>5</td>\n",
       "      <td>978300055</td>\n",
       "    </tr>\n",
       "    <tr>\n",
       "      <th>24</th>\n",
       "      <td>1</td>\n",
       "      <td>2340</td>\n",
       "      <td>3</td>\n",
       "      <td>978300103</td>\n",
       "    </tr>\n",
       "    <tr>\n",
       "      <th>...</th>\n",
       "      <td>...</td>\n",
       "      <td>...</td>\n",
       "      <td>...</td>\n",
       "      <td>...</td>\n",
       "    </tr>\n",
       "    <tr>\n",
       "      <th>1000019</th>\n",
       "      <td>6040</td>\n",
       "      <td>2917</td>\n",
       "      <td>4</td>\n",
       "      <td>997454429</td>\n",
       "    </tr>\n",
       "    <tr>\n",
       "      <th>999988</th>\n",
       "      <td>6040</td>\n",
       "      <td>1921</td>\n",
       "      <td>4</td>\n",
       "      <td>997454464</td>\n",
       "    </tr>\n",
       "    <tr>\n",
       "      <th>1000172</th>\n",
       "      <td>6040</td>\n",
       "      <td>1784</td>\n",
       "      <td>3</td>\n",
       "      <td>997454464</td>\n",
       "    </tr>\n",
       "    <tr>\n",
       "      <th>1000167</th>\n",
       "      <td>6040</td>\n",
       "      <td>161</td>\n",
       "      <td>3</td>\n",
       "      <td>997454486</td>\n",
       "    </tr>\n",
       "    <tr>\n",
       "      <th>1000042</th>\n",
       "      <td>6040</td>\n",
       "      <td>1221</td>\n",
       "      <td>4</td>\n",
       "      <td>998315055</td>\n",
       "    </tr>\n",
       "  </tbody>\n",
       "</table>\n",
       "<p>1000209 rows × 4 columns</p>\n",
       "</div>"
      ],
      "text/plain": [
       "         UserId  ItemId  Rating       Time\n",
       "31            1    3186       4  978300019\n",
       "22            1    1270       5  978300055\n",
       "27            1    1721       4  978300055\n",
       "37            1    1022       5  978300055\n",
       "24            1    2340       3  978300103\n",
       "...         ...     ...     ...        ...\n",
       "1000019    6040    2917       4  997454429\n",
       "999988     6040    1921       4  997454464\n",
       "1000172    6040    1784       3  997454464\n",
       "1000167    6040     161       3  997454486\n",
       "1000042    6040    1221       4  998315055\n",
       "\n",
       "[1000209 rows x 4 columns]"
      ]
     },
     "execution_count": 5,
     "metadata": {},
     "output_type": "execute_result"
    }
   ],
   "source": [
    "data_path = Path(os.getenv('HOME')+'/aiffel/yoochoose/data/') \n",
    "train_path = data_path / 'ratings.dat'\n",
    "\n",
    "def load_data(data_path: Path, nrows=None):\n",
    "    data = pd.read_csv(data_path, sep='::', header=None, usecols=[0, 1, 2, 3], dtype={0: np.int32, 1: np.int32, 2: np.int32}, nrows=nrows)\n",
    "    data.columns = ['UserId', 'ItemId', 'Rating', 'Time']\n",
    "    return data\n",
    "\n",
    "data = load_data(train_path, None)\n",
    "data.sort_values(['UserId', 'Time'], inplace=True)  # data를 id와 시간 순서로 정렬해줍니다.\n",
    "data"
   ]
  },
  {
   "cell_type": "code",
   "execution_count": 37,
   "id": "moderate-amino",
   "metadata": {},
   "outputs": [],
   "source": [
    "original_data = data.copy()"
   ]
  },
  {
   "cell_type": "markdown",
   "id": "miniature-simon",
   "metadata": {},
   "source": [
    "## Step 1. 데이터의 전처리"
   ]
  },
  {
   "cell_type": "markdown",
   "id": "christian-assignment",
   "metadata": {},
   "source": [
    "### (1) 데이터 불러오기"
   ]
  },
  {
   "cell_type": "markdown",
   "id": "junior-homeless",
   "metadata": {},
   "source": [
    "UserID가 978300019 시간에 3186번 영화에 4점을 줬고, 잠시 후 978300055 시간에 1270 영화에 5점을 줬음을 알 수 있습니다. 노드에서는 세션을 브라우저가 종료되기 전까지 유저의 행동을 담은 시퀀스 데이터로 사용하기로 했습니다. 따라서 UserID 단위로 생성되어 있는 데이터를 Session 단위로 해석하기 위해서는 단순히 언제 UserID가 다른 값으로 바뀌는 지에 대해 생각해볼 수 있습니다.\n",
    "\n",
    "978300019, 978300055와 같은 시간표현은 직관적이지도 않고 구분하기도 힘들기 때문에 다음과 같이 변형시켜주겠습니다."
   ]
  },
  {
   "cell_type": "code",
   "execution_count": 64,
   "id": "significant-belle",
   "metadata": {},
   "outputs": [
    {
     "name": "stdout",
     "output_type": "stream",
     "text": [
      "2000-12-31 10:00:19\n",
      "2000-12-31 10:00:55\n"
     ]
    }
   ],
   "source": [
    "from datetime import datetime\n",
    "print(datetime.fromtimestamp(978300019).strftime(\"%Y-%m-%d %I:%M:%S\"))\n",
    "print(datetime.fromtimestamp(978300055).strftime(\"%Y-%m-%d %I:%M:%S\"))"
   ]
  },
  {
   "cell_type": "code",
   "execution_count": 20,
   "id": "sexual-child",
   "metadata": {},
   "outputs": [
    {
     "data": {
      "text/html": [
       "<div>\n",
       "<style scoped>\n",
       "    .dataframe tbody tr th:only-of-type {\n",
       "        vertical-align: middle;\n",
       "    }\n",
       "\n",
       "    .dataframe tbody tr th {\n",
       "        vertical-align: top;\n",
       "    }\n",
       "\n",
       "    .dataframe thead th {\n",
       "        text-align: right;\n",
       "    }\n",
       "</style>\n",
       "<table border=\"1\" class=\"dataframe\">\n",
       "  <thead>\n",
       "    <tr style=\"text-align: right;\">\n",
       "      <th></th>\n",
       "      <th>UserId</th>\n",
       "      <th>ItemId</th>\n",
       "      <th>Rating</th>\n",
       "      <th>Time</th>\n",
       "    </tr>\n",
       "  </thead>\n",
       "  <tbody>\n",
       "    <tr>\n",
       "      <th>31</th>\n",
       "      <td>1</td>\n",
       "      <td>3186</td>\n",
       "      <td>4</td>\n",
       "      <td>2000-12-31 10:00:19</td>\n",
       "    </tr>\n",
       "    <tr>\n",
       "      <th>22</th>\n",
       "      <td>1</td>\n",
       "      <td>1270</td>\n",
       "      <td>5</td>\n",
       "      <td>2000-12-31 10:00:55</td>\n",
       "    </tr>\n",
       "    <tr>\n",
       "      <th>27</th>\n",
       "      <td>1</td>\n",
       "      <td>1721</td>\n",
       "      <td>4</td>\n",
       "      <td>2000-12-31 10:00:55</td>\n",
       "    </tr>\n",
       "    <tr>\n",
       "      <th>37</th>\n",
       "      <td>1</td>\n",
       "      <td>1022</td>\n",
       "      <td>5</td>\n",
       "      <td>2000-12-31 10:00:55</td>\n",
       "    </tr>\n",
       "    <tr>\n",
       "      <th>24</th>\n",
       "      <td>1</td>\n",
       "      <td>2340</td>\n",
       "      <td>3</td>\n",
       "      <td>2000-12-31 10:01:43</td>\n",
       "    </tr>\n",
       "    <tr>\n",
       "      <th>36</th>\n",
       "      <td>1</td>\n",
       "      <td>1836</td>\n",
       "      <td>5</td>\n",
       "      <td>2000-12-31 10:02:52</td>\n",
       "    </tr>\n",
       "    <tr>\n",
       "      <th>3</th>\n",
       "      <td>1</td>\n",
       "      <td>3408</td>\n",
       "      <td>4</td>\n",
       "      <td>2000-12-31 10:04:35</td>\n",
       "    </tr>\n",
       "    <tr>\n",
       "      <th>7</th>\n",
       "      <td>1</td>\n",
       "      <td>2804</td>\n",
       "      <td>5</td>\n",
       "      <td>2000-12-31 10:11:59</td>\n",
       "    </tr>\n",
       "    <tr>\n",
       "      <th>47</th>\n",
       "      <td>1</td>\n",
       "      <td>1207</td>\n",
       "      <td>4</td>\n",
       "      <td>2000-12-31 10:11:59</td>\n",
       "    </tr>\n",
       "    <tr>\n",
       "      <th>0</th>\n",
       "      <td>1</td>\n",
       "      <td>1193</td>\n",
       "      <td>5</td>\n",
       "      <td>2000-12-31 10:12:40</td>\n",
       "    </tr>\n",
       "    <tr>\n",
       "      <th>21</th>\n",
       "      <td>1</td>\n",
       "      <td>720</td>\n",
       "      <td>3</td>\n",
       "      <td>2000-12-31 10:12:40</td>\n",
       "    </tr>\n",
       "    <tr>\n",
       "      <th>44</th>\n",
       "      <td>1</td>\n",
       "      <td>260</td>\n",
       "      <td>4</td>\n",
       "      <td>2000-12-31 10:12:40</td>\n",
       "    </tr>\n",
       "    <tr>\n",
       "      <th>9</th>\n",
       "      <td>1</td>\n",
       "      <td>919</td>\n",
       "      <td>4</td>\n",
       "      <td>2000-12-31 10:22:48</td>\n",
       "    </tr>\n",
       "    <tr>\n",
       "      <th>51</th>\n",
       "      <td>1</td>\n",
       "      <td>608</td>\n",
       "      <td>4</td>\n",
       "      <td>2000-12-31 10:23:18</td>\n",
       "    </tr>\n",
       "    <tr>\n",
       "      <th>43</th>\n",
       "      <td>1</td>\n",
       "      <td>2692</td>\n",
       "      <td>4</td>\n",
       "      <td>2000-12-31 10:26:10</td>\n",
       "    </tr>\n",
       "  </tbody>\n",
       "</table>\n",
       "</div>"
      ],
      "text/plain": [
       "    UserId  ItemId  Rating                 Time\n",
       "31       1    3186       4  2000-12-31 10:00:19\n",
       "22       1    1270       5  2000-12-31 10:00:55\n",
       "27       1    1721       4  2000-12-31 10:00:55\n",
       "37       1    1022       5  2000-12-31 10:00:55\n",
       "24       1    2340       3  2000-12-31 10:01:43\n",
       "36       1    1836       5  2000-12-31 10:02:52\n",
       "3        1    3408       4  2000-12-31 10:04:35\n",
       "7        1    2804       5  2000-12-31 10:11:59\n",
       "47       1    1207       4  2000-12-31 10:11:59\n",
       "0        1    1193       5  2000-12-31 10:12:40\n",
       "21       1     720       3  2000-12-31 10:12:40\n",
       "44       1     260       4  2000-12-31 10:12:40\n",
       "9        1     919       4  2000-12-31 10:22:48\n",
       "51       1     608       4  2000-12-31 10:23:18\n",
       "43       1    2692       4  2000-12-31 10:26:10"
      ]
     },
     "execution_count": 20,
     "metadata": {},
     "output_type": "execute_result"
    }
   ],
   "source": [
    "data['Time'] = data['Time'].apply(lambda x: datetime.fromtimestamp(x).strftime(\"%Y-%m-%d %I:%M:%S\"))"
   ]
  },
  {
   "cell_type": "markdown",
   "id": "disabled-airplane",
   "metadata": {},
   "source": [
    "가장 먼저 유저 수와 아이템 수를 각각 확인해보겠습니다."
   ]
  },
  {
   "cell_type": "code",
   "execution_count": 25,
   "id": "nutritional-cedar",
   "metadata": {},
   "outputs": [
    {
     "name": "stdout",
     "output_type": "stream",
     "text": [
      "총 유저 수: 6040\n",
      "총 아이템(영화) 수: 3706\n"
     ]
    }
   ],
   "source": [
    "print(f\"총 유저 수: {data['UserId'].nunique()}\")\n",
    "print(f\"총 아이템(영화) 수: {data['ItemId'].nunique()}\")"
   ]
  },
  {
   "cell_type": "markdown",
   "id": "orange-fairy",
   "metadata": {},
   "source": [
    "여기서의 유저 수가 총 세션 수라고는 할 수 없습니다. 데이터 자체의 길이가 여기서는 대략적인 세션 수처럼 생각을 할 수 있을텐데 데이터의 길이는 1000209 입니다."
   ]
  },
  {
   "cell_type": "markdown",
   "id": "structured-junction",
   "metadata": {},
   "source": [
    "### (2) 세션 길이\n",
    "\n",
    "세션길이를 체크하면 전처리할 부분에 대해 생각해보겠습니다."
   ]
  },
  {
   "cell_type": "code",
   "execution_count": 27,
   "id": "clear-organ",
   "metadata": {},
   "outputs": [
    {
     "data": {
      "text/plain": [
       "UserId\n",
       "1        53\n",
       "2       129\n",
       "3        51\n",
       "4        21\n",
       "5       198\n",
       "       ... \n",
       "6036    888\n",
       "6037    202\n",
       "6038     20\n",
       "6039    123\n",
       "6040    341\n",
       "Length: 6040, dtype: int64"
      ]
     },
     "execution_count": 27,
     "metadata": {},
     "output_type": "execute_result"
    }
   ],
   "source": [
    "session_length = data.groupby('UserId').size()\n",
    "session_length"
   ]
  },
  {
   "cell_type": "code",
   "execution_count": 28,
   "id": "outer-identity",
   "metadata": {},
   "outputs": [
    {
     "name": "stdout",
     "output_type": "stream",
     "text": [
      "Median of session length: 96.0\n",
      "Mean of session length: 165.5975165562914\n",
      "Minimum of session length: 20\n",
      "Maximum of session length: 2314\n",
      "Quantile(0.999) of session length: 1343.181000000005\n"
     ]
    }
   ],
   "source": [
    "print(f\"Median of session length: {session_length.median()}\")\n",
    "print(f\"Mean of session length: {session_length.mean()}\")\n",
    "print(f\"Minimum of session length: {session_length.min()}\")\n",
    "print(f\"Maximum of session length: {session_length.max()}\")\n",
    "print(f\"Quantile(0.999) of session length: {session_length.quantile(0.999)}\")"
   ]
  },
  {
   "cell_type": "markdown",
   "id": "trained-france",
   "metadata": {},
   "source": [
    "간단하게 세션 길이에 대한 통계량들을 체크해봤습니다. 이를 이용해 체크하기 전에 데이터를 다시 한번 살펴보겠습니다. 데이터는 유저Id, 영화Id, 평점, 시간으로 구성되있습니다. 같은 UserId가 동일한 시간대에 선택한 영화는 실제 리뷰를 했다고 판단하기 어려울 것 같습니다. 이를 토대로 전처리를 해주고 다시 한번 통계량을 체크해보겠습니다.\n",
    "\n",
    "먼저 UserId와 Time이 동일한 data들은 아래와 같습니다. 확인 후 `drop_duplicates`로 삭제를 하고 통계량을 다시 한번 체크해보겠습니다."
   ]
  },
  {
   "cell_type": "code",
   "execution_count": 35,
   "id": "offensive-retreat",
   "metadata": {},
   "outputs": [
    {
     "data": {
      "text/html": [
       "<div>\n",
       "<style scoped>\n",
       "    .dataframe tbody tr th:only-of-type {\n",
       "        vertical-align: middle;\n",
       "    }\n",
       "\n",
       "    .dataframe tbody tr th {\n",
       "        vertical-align: top;\n",
       "    }\n",
       "\n",
       "    .dataframe thead th {\n",
       "        text-align: right;\n",
       "    }\n",
       "</style>\n",
       "<table border=\"1\" class=\"dataframe\">\n",
       "  <thead>\n",
       "    <tr style=\"text-align: right;\">\n",
       "      <th></th>\n",
       "      <th>UserId</th>\n",
       "      <th>ItemId</th>\n",
       "      <th>Rating</th>\n",
       "      <th>Time</th>\n",
       "    </tr>\n",
       "  </thead>\n",
       "  <tbody>\n",
       "    <tr>\n",
       "      <th>27</th>\n",
       "      <td>1</td>\n",
       "      <td>1721</td>\n",
       "      <td>4</td>\n",
       "      <td>2000-12-31 10:00:55</td>\n",
       "    </tr>\n",
       "    <tr>\n",
       "      <th>37</th>\n",
       "      <td>1</td>\n",
       "      <td>1022</td>\n",
       "      <td>5</td>\n",
       "      <td>2000-12-31 10:00:55</td>\n",
       "    </tr>\n",
       "    <tr>\n",
       "      <th>47</th>\n",
       "      <td>1</td>\n",
       "      <td>1207</td>\n",
       "      <td>4</td>\n",
       "      <td>2000-12-31 10:11:59</td>\n",
       "    </tr>\n",
       "    <tr>\n",
       "      <th>21</th>\n",
       "      <td>1</td>\n",
       "      <td>720</td>\n",
       "      <td>3</td>\n",
       "      <td>2000-12-31 10:12:40</td>\n",
       "    </tr>\n",
       "    <tr>\n",
       "      <th>44</th>\n",
       "      <td>1</td>\n",
       "      <td>260</td>\n",
       "      <td>4</td>\n",
       "      <td>2000-12-31 10:12:40</td>\n",
       "    </tr>\n",
       "    <tr>\n",
       "      <th>...</th>\n",
       "      <td>...</td>\n",
       "      <td>...</td>\n",
       "      <td>...</td>\n",
       "      <td>...</td>\n",
       "    </tr>\n",
       "    <tr>\n",
       "      <th>1000188</th>\n",
       "      <td>6040</td>\n",
       "      <td>535</td>\n",
       "      <td>4</td>\n",
       "      <td>2000-07-28 11:58:54</td>\n",
       "    </tr>\n",
       "    <tr>\n",
       "      <th>1000191</th>\n",
       "      <td>6040</td>\n",
       "      <td>3751</td>\n",
       "      <td>4</td>\n",
       "      <td>2000-07-28 11:59:42</td>\n",
       "    </tr>\n",
       "    <tr>\n",
       "      <th>1000162</th>\n",
       "      <td>6040</td>\n",
       "      <td>3362</td>\n",
       "      <td>4</td>\n",
       "      <td>2001-08-10 02:29:56</td>\n",
       "    </tr>\n",
       "    <tr>\n",
       "      <th>1000069</th>\n",
       "      <td>6040</td>\n",
       "      <td>1258</td>\n",
       "      <td>4</td>\n",
       "      <td>2001-08-10 02:31:49</td>\n",
       "    </tr>\n",
       "    <tr>\n",
       "      <th>1000172</th>\n",
       "      <td>6040</td>\n",
       "      <td>1784</td>\n",
       "      <td>3</td>\n",
       "      <td>2001-08-10 02:41:04</td>\n",
       "    </tr>\n",
       "  </tbody>\n",
       "</table>\n",
       "<p>529058 rows × 4 columns</p>\n",
       "</div>"
      ],
      "text/plain": [
       "         UserId  ItemId  Rating                 Time\n",
       "27            1    1721       4  2000-12-31 10:00:55\n",
       "37            1    1022       5  2000-12-31 10:00:55\n",
       "47            1    1207       4  2000-12-31 10:11:59\n",
       "21            1     720       3  2000-12-31 10:12:40\n",
       "44            1     260       4  2000-12-31 10:12:40\n",
       "...         ...     ...     ...                  ...\n",
       "1000188    6040     535       4  2000-07-28 11:58:54\n",
       "1000191    6040    3751       4  2000-07-28 11:59:42\n",
       "1000162    6040    3362       4  2001-08-10 02:29:56\n",
       "1000069    6040    1258       4  2001-08-10 02:31:49\n",
       "1000172    6040    1784       3  2001-08-10 02:41:04\n",
       "\n",
       "[529058 rows x 4 columns]"
      ]
     },
     "execution_count": 35,
     "metadata": {},
     "output_type": "execute_result"
    }
   ],
   "source": [
    "data[data.duplicated(subset=['UserId', 'Time'])]"
   ]
  },
  {
   "cell_type": "code",
   "execution_count": 39,
   "id": "psychological-delay",
   "metadata": {},
   "outputs": [],
   "source": [
    "data.drop_duplicates(subset=['UserId', 'Time'], inplace=True)"
   ]
  },
  {
   "cell_type": "code",
   "execution_count": 42,
   "id": "first-vault",
   "metadata": {},
   "outputs": [
    {
     "name": "stdout",
     "output_type": "stream",
     "text": [
      "Median of session length: 43.0\n",
      "Mean of session length: 78.00513245033113\n",
      "Minimum of session length: 2\n",
      "Maximum of session length: 893\n",
      "Quantile(0.999) of session length: 670.4930000000031\n"
     ]
    }
   ],
   "source": [
    "session_length = data.groupby('UserId').size()\n",
    "\n",
    "print(f\"Median of session length: {session_length.median()}\")\n",
    "print(f\"Mean of session length: {session_length.mean()}\")\n",
    "print(f\"Minimum of session length: {session_length.min()}\")\n",
    "print(f\"Maximum of session length: {session_length.max()}\")\n",
    "print(f\"Quantile(0.999) of session length: {session_length.quantile(0.999)}\")"
   ]
  },
  {
   "cell_type": "markdown",
   "id": "caring-boulder",
   "metadata": {},
   "source": [
    "전반적으로 모든 값들이 작아졌음을 확인할 수 있습니다. 이번에는 99.9%의 데이터는 670이하의 길이를 가지는데, 최대값은 893입니다. 최대 세션 길이를 가지는 데이터에 대해 확인해보겠습니다. 너무 짧은 간격으로 영화를 리뷰하거나 한 영화에 대해서 여러번 리뷰를 할 경우도 있을 수 있기 때문에 체크를 해보겠습니다."
   ]
  },
  {
   "cell_type": "code",
   "execution_count": 45,
   "id": "ordered-overhead",
   "metadata": {},
   "outputs": [
    {
     "data": {
      "text/html": [
       "<div>\n",
       "<style scoped>\n",
       "    .dataframe tbody tr th:only-of-type {\n",
       "        vertical-align: middle;\n",
       "    }\n",
       "\n",
       "    .dataframe tbody tr th {\n",
       "        vertical-align: top;\n",
       "    }\n",
       "\n",
       "    .dataframe thead th {\n",
       "        text-align: right;\n",
       "    }\n",
       "</style>\n",
       "<table border=\"1\" class=\"dataframe\">\n",
       "  <thead>\n",
       "    <tr style=\"text-align: right;\">\n",
       "      <th></th>\n",
       "      <th>UserId</th>\n",
       "      <th>ItemId</th>\n",
       "      <th>Rating</th>\n",
       "      <th>Time</th>\n",
       "    </tr>\n",
       "  </thead>\n",
       "  <tbody>\n",
       "    <tr>\n",
       "      <th>171477</th>\n",
       "      <td>1088</td>\n",
       "      <td>260</td>\n",
       "      <td>5</td>\n",
       "      <td>2000-11-22 10:09:11</td>\n",
       "    </tr>\n",
       "    <tr>\n",
       "      <th>171224</th>\n",
       "      <td>1088</td>\n",
       "      <td>912</td>\n",
       "      <td>5</td>\n",
       "      <td>2000-11-22 10:10:43</td>\n",
       "    </tr>\n",
       "    <tr>\n",
       "      <th>171113</th>\n",
       "      <td>1088</td>\n",
       "      <td>589</td>\n",
       "      <td>4</td>\n",
       "      <td>2000-11-22 10:14:04</td>\n",
       "    </tr>\n",
       "    <tr>\n",
       "      <th>172077</th>\n",
       "      <td>1088</td>\n",
       "      <td>1035</td>\n",
       "      <td>4</td>\n",
       "      <td>2000-11-22 10:16:59</td>\n",
       "    </tr>\n",
       "    <tr>\n",
       "      <th>171897</th>\n",
       "      <td>1088</td>\n",
       "      <td>3512</td>\n",
       "      <td>4</td>\n",
       "      <td>2000-11-22 10:19:37</td>\n",
       "    </tr>\n",
       "    <tr>\n",
       "      <th>...</th>\n",
       "      <td>...</td>\n",
       "      <td>...</td>\n",
       "      <td>...</td>\n",
       "      <td>...</td>\n",
       "    </tr>\n",
       "    <tr>\n",
       "      <th>171531</th>\n",
       "      <td>1088</td>\n",
       "      <td>2844</td>\n",
       "      <td>3</td>\n",
       "      <td>2003-02-18 12:58:13</td>\n",
       "    </tr>\n",
       "    <tr>\n",
       "      <th>171936</th>\n",
       "      <td>1088</td>\n",
       "      <td>2728</td>\n",
       "      <td>3</td>\n",
       "      <td>2003-02-18 12:59:03</td>\n",
       "    </tr>\n",
       "    <tr>\n",
       "      <th>171978</th>\n",
       "      <td>1088</td>\n",
       "      <td>3543</td>\n",
       "      <td>4</td>\n",
       "      <td>2003-02-18 01:02:22</td>\n",
       "    </tr>\n",
       "    <tr>\n",
       "      <th>171708</th>\n",
       "      <td>1088</td>\n",
       "      <td>2314</td>\n",
       "      <td>4</td>\n",
       "      <td>2003-02-23 10:22:03</td>\n",
       "    </tr>\n",
       "    <tr>\n",
       "      <th>171627</th>\n",
       "      <td>1088</td>\n",
       "      <td>1186</td>\n",
       "      <td>4</td>\n",
       "      <td>2003-02-23 10:26:31</td>\n",
       "    </tr>\n",
       "  </tbody>\n",
       "</table>\n",
       "<p>893 rows × 4 columns</p>\n",
       "</div>"
      ],
      "text/plain": [
       "        UserId  ItemId  Rating                 Time\n",
       "171477    1088     260       5  2000-11-22 10:09:11\n",
       "171224    1088     912       5  2000-11-22 10:10:43\n",
       "171113    1088     589       4  2000-11-22 10:14:04\n",
       "172077    1088    1035       4  2000-11-22 10:16:59\n",
       "171897    1088    3512       4  2000-11-22 10:19:37\n",
       "...        ...     ...     ...                  ...\n",
       "171531    1088    2844       3  2003-02-18 12:58:13\n",
       "171936    1088    2728       3  2003-02-18 12:59:03\n",
       "171978    1088    3543       4  2003-02-18 01:02:22\n",
       "171708    1088    2314       4  2003-02-23 10:22:03\n",
       "171627    1088    1186       4  2003-02-23 10:26:31\n",
       "\n",
       "[893 rows x 4 columns]"
      ]
     },
     "execution_count": 45,
     "metadata": {},
     "output_type": "execute_result"
    }
   ],
   "source": [
    "long_session = session_length.loc[session_length==893].index[0]\n",
    "long_session_user = data.loc[data['UserId'] == long_session]\n",
    "long_session_user"
   ]
  },
  {
   "cell_type": "code",
   "execution_count": 46,
   "id": "imposed-squad",
   "metadata": {},
   "outputs": [
    {
     "data": {
      "text/plain": [
       "893"
      ]
     },
     "execution_count": 46,
     "metadata": {},
     "output_type": "execute_result"
    }
   ],
   "source": [
    "long_session_user['ItemId'].nunique()"
   ]
  },
  {
   "cell_type": "markdown",
   "id": "published-rubber",
   "metadata": {},
   "source": [
    "별 문제는 없는 데이터 같습니다. 단지 영화 리뷰를 많이 한 유저로 생각할 수 있을 것 같습니다. *(추가적으로 UserId 별로 ItemId가 모두 unique한지 체크해봐도 좋을 것 같습니다.)*\n",
    "\n",
    "이번에도 노드에서처럼 세션길이의 누적값에 대해 시각화를 해보겠습니다."
   ]
  },
  {
   "cell_type": "code",
   "execution_count": 51,
   "id": "southwest-victim",
   "metadata": {},
   "outputs": [
    {
     "data": {
      "image/png": "[encoded data removed]",
      "text/plain": [
       "<Figure size 1440x720 with 1 Axes>"
      ]
     },
     "metadata": {
      "needs_background": "light"
     },
     "output_type": "display_data"
    }
   ],
   "source": [
    "length_count = session_length.groupby(session_length).size()\n",
    "length_percent_cumsum = length_count.cumsum() / length_count.sum()\n",
    "length_percent_cumsum_999 = length_percent_cumsum[length_percent_cumsum < 0.999]\n",
    "\n",
    "import matplotlib.pyplot as plt\n",
    "\n",
    "fig, ax = plt.subplots(figsize=(20,10))\n",
    "\n",
    "ax.bar(x=length_percent_cumsum_999.index,\n",
    "       height=length_percent_cumsum_999,\n",
    "       color='mediumseagreen')\n",
    "\n",
    "ax.plot(length_percent_cumsum_999.index, \n",
    "        length_percent_cumsum_999,\n",
    "        color='indianred',\n",
    "        lw=3)\n",
    "\n",
    "ax.set_xticks(length_percent_cumsum_999.index)\n",
    "ax.set_yticks(np.arange(0, 1.01, 0.05))\n",
    "\n",
    "ax.set_title(\"Cumsum Percentage Until 0.999\", size=20)\n",
    "\n",
    "\n",
    "\n",
    "import matplotlib.dates as mdates\n",
    "from matplotlib.ticker import (MultipleLocator, AutoMinorLocator)\n",
    "\n",
    "ax.xaxis.set_major_locator(MultipleLocator(50))\n",
    "ax.xaxis.set_minor_locator(MultipleLocator(10))\n"
   ]
  },
  {
   "cell_type": "markdown",
   "id": "architectural-least",
   "metadata": {},
   "source": [
    "### (3) 세션 시간"
   ]
  },
  {
   "cell_type": "code",
   "execution_count": 52,
   "id": "spare-vienna",
   "metadata": {},
   "outputs": [
    {
     "name": "stdout",
     "output_type": "stream",
     "text": [
      "2000-04-25 11:05:32\n",
      "2003-02-28 12:51:39\n"
     ]
    }
   ],
   "source": [
    "oldest, latest = data['Time'].min(), data['Time'].max()\n",
    "print(oldest) \n",
    "print(latest)"
   ]
  },
  {
   "cell_type": "markdown",
   "id": "theoretical-furniture",
   "metadata": {},
   "source": [
    "약 3년간의 데이터임을 위를 통해 확인할 수도 있습니다. 일단은 현재 사용하는 영화 데이터의 경우, 핸드폰이나 매일 사용하는 제품들과는 달리 트렌드에 그렇게 민감하지 않다고 판단할 수도 있을 것 같습니다. 따라서 일단은 3년간의 데이터 전부를 사용하는 방향으로 진행해보겠습니다. "
   ]
  },
  {
   "cell_type": "markdown",
   "id": "acute-mortgage",
   "metadata": {},
   "source": [
    "### (4) 데이터 정제\n",
    "노드에서와 달리 세션길이의 최소값은 2로 나옵니다. 이렇게 되면 한 영화를 추천받았을 때 다른 영화를 추천받을 수 있으므로 노드의 과정과 같은 데이터 클렌징은 별도로 진행해주지 않았습니다. 하지만 우리의 목표는 영화를 골랐을 때 다음 영화를 추천하는 것이 목표이므로 rating이 어느정도 갖춰진 데이터만 필요하다고 생각할 수 있습니다. 따라서 rating이 3이상인 데이터만 사용하도록 정제를 해주겠습니다."
   ]
  },
  {
   "cell_type": "code",
   "execution_count": 55,
   "id": "encouraging-homework",
   "metadata": {
    "scrolled": true
   },
   "outputs": [
    {
     "data": {
      "text/html": [
       "<div>\n",
       "<style scoped>\n",
       "    .dataframe tbody tr th:only-of-type {\n",
       "        vertical-align: middle;\n",
       "    }\n",
       "\n",
       "    .dataframe tbody tr th {\n",
       "        vertical-align: top;\n",
       "    }\n",
       "\n",
       "    .dataframe thead th {\n",
       "        text-align: right;\n",
       "    }\n",
       "</style>\n",
       "<table border=\"1\" class=\"dataframe\">\n",
       "  <thead>\n",
       "    <tr style=\"text-align: right;\">\n",
       "      <th></th>\n",
       "      <th>UserId</th>\n",
       "      <th>ItemId</th>\n",
       "      <th>Rating</th>\n",
       "      <th>Time</th>\n",
       "    </tr>\n",
       "  </thead>\n",
       "  <tbody>\n",
       "    <tr>\n",
       "      <th>31</th>\n",
       "      <td>1</td>\n",
       "      <td>3186</td>\n",
       "      <td>4</td>\n",
       "      <td>2000-12-31 10:00:19</td>\n",
       "    </tr>\n",
       "    <tr>\n",
       "      <th>22</th>\n",
       "      <td>1</td>\n",
       "      <td>1270</td>\n",
       "      <td>5</td>\n",
       "      <td>2000-12-31 10:00:55</td>\n",
       "    </tr>\n",
       "    <tr>\n",
       "      <th>24</th>\n",
       "      <td>1</td>\n",
       "      <td>2340</td>\n",
       "      <td>3</td>\n",
       "      <td>2000-12-31 10:01:43</td>\n",
       "    </tr>\n",
       "    <tr>\n",
       "      <th>36</th>\n",
       "      <td>1</td>\n",
       "      <td>1836</td>\n",
       "      <td>5</td>\n",
       "      <td>2000-12-31 10:02:52</td>\n",
       "    </tr>\n",
       "    <tr>\n",
       "      <th>3</th>\n",
       "      <td>1</td>\n",
       "      <td>3408</td>\n",
       "      <td>4</td>\n",
       "      <td>2000-12-31 10:04:35</td>\n",
       "    </tr>\n",
       "    <tr>\n",
       "      <th>...</th>\n",
       "      <td>...</td>\n",
       "      <td>...</td>\n",
       "      <td>...</td>\n",
       "      <td>...</td>\n",
       "    </tr>\n",
       "    <tr>\n",
       "      <th>999923</th>\n",
       "      <td>6040</td>\n",
       "      <td>232</td>\n",
       "      <td>5</td>\n",
       "      <td>2001-08-10 02:39:58</td>\n",
       "    </tr>\n",
       "    <tr>\n",
       "      <th>1000019</th>\n",
       "      <td>6040</td>\n",
       "      <td>2917</td>\n",
       "      <td>4</td>\n",
       "      <td>2001-08-10 02:40:29</td>\n",
       "    </tr>\n",
       "    <tr>\n",
       "      <th>999988</th>\n",
       "      <td>6040</td>\n",
       "      <td>1921</td>\n",
       "      <td>4</td>\n",
       "      <td>2001-08-10 02:41:04</td>\n",
       "    </tr>\n",
       "    <tr>\n",
       "      <th>1000167</th>\n",
       "      <td>6040</td>\n",
       "      <td>161</td>\n",
       "      <td>3</td>\n",
       "      <td>2001-08-10 02:41:26</td>\n",
       "    </tr>\n",
       "    <tr>\n",
       "      <th>1000042</th>\n",
       "      <td>6040</td>\n",
       "      <td>1221</td>\n",
       "      <td>4</td>\n",
       "      <td>2001-08-20 01:44:15</td>\n",
       "    </tr>\n",
       "  </tbody>\n",
       "</table>\n",
       "<p>395234 rows × 4 columns</p>\n",
       "</div>"
      ],
      "text/plain": [
       "         UserId  ItemId  Rating                 Time\n",
       "31            1    3186       4  2000-12-31 10:00:19\n",
       "22            1    1270       5  2000-12-31 10:00:55\n",
       "24            1    2340       3  2000-12-31 10:01:43\n",
       "36            1    1836       5  2000-12-31 10:02:52\n",
       "3             1    3408       4  2000-12-31 10:04:35\n",
       "...         ...     ...     ...                  ...\n",
       "999923     6040     232       5  2001-08-10 02:39:58\n",
       "1000019    6040    2917       4  2001-08-10 02:40:29\n",
       "999988     6040    1921       4  2001-08-10 02:41:04\n",
       "1000167    6040     161       3  2001-08-10 02:41:26\n",
       "1000042    6040    1221       4  2001-08-20 01:44:15\n",
       "\n",
       "[395234 rows x 4 columns]"
      ]
     },
     "execution_count": 55,
     "metadata": {},
     "output_type": "execute_result"
    }
   ],
   "source": [
    "data = data.loc[data['Rating'] >= 3]\n",
    "data"
   ]
  },
  {
   "cell_type": "code",
   "execution_count": 56,
   "id": "accomplished-sentence",
   "metadata": {
    "scrolled": true
   },
   "outputs": [
    {
     "name": "stdout",
     "output_type": "stream",
     "text": [
      "2000-04-25 11:05:32\n",
      "2003-02-28 12:51:39\n"
     ]
    }
   ],
   "source": [
    "oldest, latest = data['Time'].min(), data['Time'].max()\n",
    "print(oldest) \n",
    "print(latest)"
   ]
  },
  {
   "cell_type": "markdown",
   "id": "demanding-carpet",
   "metadata": {},
   "source": [
    "### (5) Train/ Valid/ Test split\n",
    "\n",
    "데이터 셋을 시간에 따라 나눠주기 위해 우선 데이터 셋의 Time 컬럼을 datetime으로 바꿔줘야합니다."
   ]
  },
  {
   "cell_type": "code",
   "execution_count": 74,
   "id": "adverse-consistency",
   "metadata": {},
   "outputs": [
    {
     "data": {
      "text/plain": [
       "UserId             int32\n",
       "ItemId             int32\n",
       "Rating             int32\n",
       "Time      datetime64[ns]\n",
       "dtype: object"
      ]
     },
     "execution_count": 74,
     "metadata": {},
     "output_type": "execute_result"
    }
   ],
   "source": [
    "data['Time'] = pd.to_datetime(data['Time'])\n",
    "data.dtypes"
   ]
  },
  {
   "cell_type": "markdown",
   "id": "dense-consortium",
   "metadata": {},
   "source": [
    "현재는 트렌드에 민감하지 않다는 전제를 했기 때문에 데이터셋 자체를 8:1:1의 비율로 나눠주는 방법을 선택해보겠습니다."
   ]
  },
  {
   "cell_type": "code",
   "execution_count": 111,
   "id": "outstanding-symphony",
   "metadata": {},
   "outputs": [],
   "source": [
    "sorted_data = data.sort_values(by=['UserId', 'Time'])\n",
    "tr, val, test = sorted_data[:-int(len(sorted_data)*(0.2))], data[-int(len(sorted_data)*(0.2)):-int(len(sorted_data)*(0.1))], data[-int(len(sorted_data)*(0.1)):]"
   ]
  },
  {
   "cell_type": "code",
   "execution_count": 115,
   "id": "heated-sound",
   "metadata": {},
   "outputs": [],
   "source": [
    "# data에 대한 정보를 살펴봅니다.\n",
    "def stats_info(data: pd.DataFrame, status: str):\n",
    "    print(f'* {status} Set Stats Info\\n'\n",
    "          f'\\t Events: {len(data)}\\n'\n",
    "          f'\\t Sessions: {data[\"UserId\"].nunique()}\\n'\n",
    "          f'\\t Items: {data[\"ItemId\"].nunique()}\\n'\n",
    "          f'\\t First Time : {data[\"Time\"].min()}\\n'\n",
    "          f'\\t Last Time : {data[\"Time\"].max()}\\n')"
   ]
  },
  {
   "cell_type": "code",
   "execution_count": 116,
   "id": "special-netherlands",
   "metadata": {},
   "outputs": [
    {
     "name": "stdout",
     "output_type": "stream",
     "text": [
      "* train Set Stats Info\n",
      "\t Events: 316188\n",
      "\t Sessions: 4840\n",
      "\t Items: 3507\n",
      "\t First Time : 2000-07-06 01:32:19\n",
      "\t Last Time : 2003-02-28 12:51:39\n",
      "\n",
      "* valid Set Stats Info\n",
      "\t Events: 39523\n",
      "\t Sessions: 613\n",
      "\t Items: 2808\n",
      "\t First Time : 2000-06-02 01:11:41\n",
      "\t Last Time : 2003-02-28 05:49:50\n",
      "\n",
      "* test Set Stats Info\n",
      "\t Events: 39523\n",
      "\t Sessions: 588\n",
      "\t Items: 2770\n",
      "\t First Time : 2000-04-25 11:05:32\n",
      "\t Last Time : 2003-02-28 01:12:12\n",
      "\n"
     ]
    }
   ],
   "source": [
    "stats_info(tr, 'train')\n",
    "stats_info(val, 'valid')\n",
    "stats_info(test, 'test')"
   ]
  },
  {
   "cell_type": "code",
   "execution_count": 117,
   "id": "younger-stamp",
   "metadata": {},
   "outputs": [],
   "source": [
    "# train set에 없는 아이템이 val, test기간에 생길 수 있으므로 train data를 기준으로 인덱싱합니다.\n",
    "id2idx = {item_id : index for index, item_id in enumerate(tr['ItemId'].unique())}\n",
    "\n",
    "def indexing(df, id2idx):\n",
    "    df['item_idx'] = df['ItemId'].map(lambda x: id2idx.get(x, -1))  # id2idx에 없는 아이템은 모르는 값(-1) 처리 해줍니다.\n",
    "    return df\n",
    "\n",
    "tr = indexing(tr, id2idx)\n",
    "val = indexing(val, id2idx)\n",
    "test = indexing(test, id2idx)"
   ]
  },
  {
   "cell_type": "code",
   "execution_count": 118,
   "id": "figured-wellington",
   "metadata": {},
   "outputs": [
    {
     "name": "stdout",
     "output_type": "stream",
     "text": [
      "* train Set Stats Info\n",
      "\t Events: 316188\n",
      "\t Sessions: 4840\n",
      "\t Items: 3507\n",
      "\t First Time : 2000-07-06 01:32:19\n",
      "\t Last Time : 2003-02-28 12:51:39\n",
      "\n",
      "* valid Set Stats Info\n",
      "\t Events: 39523\n",
      "\t Sessions: 613\n",
      "\t Items: 2808\n",
      "\t First Time : 2000-06-02 01:11:41\n",
      "\t Last Time : 2003-02-28 05:49:50\n",
      "\n",
      "* test Set Stats Info\n",
      "\t Events: 39523\n",
      "\t Sessions: 588\n",
      "\t Items: 2770\n",
      "\t First Time : 2000-04-25 11:05:32\n",
      "\t Last Time : 2003-02-28 01:12:12\n",
      "\n"
     ]
    }
   ],
   "source": [
    "stats_info(tr, 'train')\n",
    "stats_info(val, 'valid')\n",
    "stats_info(test, 'test')"
   ]
  },
  {
   "cell_type": "code",
   "execution_count": 119,
   "id": "another-cooperation",
   "metadata": {},
   "outputs": [],
   "source": [
    "save_path = data_path / 'processed'\n",
    "save_path.mkdir(parents=True, exist_ok=True)\n",
    "\n",
    "tr.to_pickle(save_path / 'train.pkl')\n",
    "val.to_pickle(save_path / 'valid.pkl')\n",
    "test.to_pickle(save_path / 'test.pkl')"
   ]
  },
  {
   "cell_type": "markdown",
   "id": "stainless-dynamics",
   "metadata": {},
   "source": [
    "## Step 2. 미니 배치의 구성"
   ]
  },
  {
   "cell_type": "code",
   "execution_count": 122,
   "id": "economic-control",
   "metadata": {},
   "outputs": [],
   "source": [
    "class SessionDataset:\n",
    "    \"\"\"Credit to yhs-968/pyGRU4REC.\"\"\"\n",
    "\n",
    "    def __init__(self, data):\n",
    "        self.df = data\n",
    "        self.click_offsets = self.get_click_offsets()\n",
    "        self.session_idx = np.arange(self.df['UserId'].nunique())  # indexing to SessionId\n",
    "\n",
    "    def get_click_offsets(self):\n",
    "        \"\"\"\n",
    "        Return the indexes of the first click of each session IDs,\n",
    "        \"\"\"\n",
    "        offsets = np.zeros(self.df['UserId'].nunique() + 1, dtype=np.int32)\n",
    "        offsets[1:] = self.df.groupby('UserId').size().cumsum()\n",
    "        return offsets"
   ]
  },
  {
   "cell_type": "code",
   "execution_count": 123,
   "id": "african-description",
   "metadata": {},
   "outputs": [
    {
     "data": {
      "text/html": [
       "<div>\n",
       "<style scoped>\n",
       "    .dataframe tbody tr th:only-of-type {\n",
       "        vertical-align: middle;\n",
       "    }\n",
       "\n",
       "    .dataframe tbody tr th {\n",
       "        vertical-align: top;\n",
       "    }\n",
       "\n",
       "    .dataframe thead th {\n",
       "        text-align: right;\n",
       "    }\n",
       "</style>\n",
       "<table border=\"1\" class=\"dataframe\">\n",
       "  <thead>\n",
       "    <tr style=\"text-align: right;\">\n",
       "      <th></th>\n",
       "      <th>UserId</th>\n",
       "      <th>ItemId</th>\n",
       "      <th>Rating</th>\n",
       "      <th>Time</th>\n",
       "      <th>item_idx</th>\n",
       "    </tr>\n",
       "  </thead>\n",
       "  <tbody>\n",
       "    <tr>\n",
       "      <th>31</th>\n",
       "      <td>1</td>\n",
       "      <td>3186</td>\n",
       "      <td>4</td>\n",
       "      <td>2000-12-31 10:00:19</td>\n",
       "      <td>0</td>\n",
       "    </tr>\n",
       "    <tr>\n",
       "      <th>22</th>\n",
       "      <td>1</td>\n",
       "      <td>1270</td>\n",
       "      <td>5</td>\n",
       "      <td>2000-12-31 10:00:55</td>\n",
       "      <td>1</td>\n",
       "    </tr>\n",
       "    <tr>\n",
       "      <th>24</th>\n",
       "      <td>1</td>\n",
       "      <td>2340</td>\n",
       "      <td>3</td>\n",
       "      <td>2000-12-31 10:01:43</td>\n",
       "      <td>2</td>\n",
       "    </tr>\n",
       "    <tr>\n",
       "      <th>36</th>\n",
       "      <td>1</td>\n",
       "      <td>1836</td>\n",
       "      <td>5</td>\n",
       "      <td>2000-12-31 10:02:52</td>\n",
       "      <td>3</td>\n",
       "    </tr>\n",
       "    <tr>\n",
       "      <th>3</th>\n",
       "      <td>1</td>\n",
       "      <td>3408</td>\n",
       "      <td>4</td>\n",
       "      <td>2000-12-31 10:04:35</td>\n",
       "      <td>4</td>\n",
       "    </tr>\n",
       "    <tr>\n",
       "      <th>7</th>\n",
       "      <td>1</td>\n",
       "      <td>2804</td>\n",
       "      <td>5</td>\n",
       "      <td>2000-12-31 10:11:59</td>\n",
       "      <td>5</td>\n",
       "    </tr>\n",
       "    <tr>\n",
       "      <th>0</th>\n",
       "      <td>1</td>\n",
       "      <td>1193</td>\n",
       "      <td>5</td>\n",
       "      <td>2000-12-31 10:12:40</td>\n",
       "      <td>6</td>\n",
       "    </tr>\n",
       "    <tr>\n",
       "      <th>9</th>\n",
       "      <td>1</td>\n",
       "      <td>919</td>\n",
       "      <td>4</td>\n",
       "      <td>2000-12-31 10:22:48</td>\n",
       "      <td>7</td>\n",
       "    </tr>\n",
       "    <tr>\n",
       "      <th>51</th>\n",
       "      <td>1</td>\n",
       "      <td>608</td>\n",
       "      <td>4</td>\n",
       "      <td>2000-12-31 10:23:18</td>\n",
       "      <td>8</td>\n",
       "    </tr>\n",
       "    <tr>\n",
       "      <th>43</th>\n",
       "      <td>1</td>\n",
       "      <td>2692</td>\n",
       "      <td>4</td>\n",
       "      <td>2000-12-31 10:26:10</td>\n",
       "      <td>9</td>\n",
       "    </tr>\n",
       "  </tbody>\n",
       "</table>\n",
       "</div>"
      ],
      "text/plain": [
       "    UserId  ItemId  Rating                Time  item_idx\n",
       "31       1    3186       4 2000-12-31 10:00:19         0\n",
       "22       1    1270       5 2000-12-31 10:00:55         1\n",
       "24       1    2340       3 2000-12-31 10:01:43         2\n",
       "36       1    1836       5 2000-12-31 10:02:52         3\n",
       "3        1    3408       4 2000-12-31 10:04:35         4\n",
       "7        1    2804       5 2000-12-31 10:11:59         5\n",
       "0        1    1193       5 2000-12-31 10:12:40         6\n",
       "9        1     919       4 2000-12-31 10:22:48         7\n",
       "51       1     608       4 2000-12-31 10:23:18         8\n",
       "43       1    2692       4 2000-12-31 10:26:10         9"
      ]
     },
     "execution_count": 123,
     "metadata": {},
     "output_type": "execute_result"
    }
   ],
   "source": [
    "tr_dataset = SessionDataset(tr)\n",
    "tr_dataset.df.head(10)"
   ]
  },
  {
   "cell_type": "code",
   "execution_count": 124,
   "id": "fresh-angel",
   "metadata": {},
   "outputs": [
    {
     "data": {
      "text/plain": [
       "array([   0,    1,    2, ..., 4837, 4838, 4839])"
      ]
     },
     "execution_count": 124,
     "metadata": {},
     "output_type": "execute_result"
    }
   ],
   "source": [
    "tr_dataset.session_idx"
   ]
  },
  {
   "cell_type": "code",
   "execution_count": 125,
   "id": "sufficient-pickup",
   "metadata": {},
   "outputs": [
    {
     "data": {
      "text/plain": [
       "array([     0,     34,     94, ..., 316135, 316170, 316188], dtype=int32)"
      ]
     },
     "execution_count": 125,
     "metadata": {},
     "output_type": "execute_result"
    }
   ],
   "source": [
    "tr_dataset.click_offsets"
   ]
  },
  {
   "cell_type": "code",
   "execution_count": 126,
   "id": "premium-banks",
   "metadata": {},
   "outputs": [],
   "source": [
    "class SessionDataLoader:\n",
    "    \"\"\"Credit to yhs-968/pyGRU4REC.\"\"\"\n",
    "\n",
    "    def __init__(self, dataset: SessionDataset, batch_size=50):\n",
    "        self.dataset = dataset\n",
    "        self.batch_size = batch_size\n",
    "\n",
    "    def __iter__(self):\n",
    "        \"\"\" Returns the iterator for producing session-parallel training mini-batches.\n",
    "        Yields:\n",
    "            input (B,):  Item indices that will be encoded as one-hot vectors later.\n",
    "            target (B,): a Variable that stores the target item indices\n",
    "            masks: Numpy array indicating the positions of the sessions to be terminated\n",
    "        \"\"\"\n",
    "\n",
    "        start, end, mask, last_session, finished = self.initialize()  # initialize 메소드에서 확인해주세요.\n",
    "        \"\"\"\n",
    "        start : Index Where Session Start\n",
    "        end : Index Where Session End\n",
    "        mask : indicator for the sessions to be terminated\n",
    "        \"\"\"\n",
    "\n",
    "        while not finished:\n",
    "            min_len = (end - start).min() - 1  # Shortest Length Among Sessions\n",
    "            for i in range(min_len):\n",
    "                # Build inputs & targets\n",
    "                inp = self.dataset.df['item_idx'].values[start + i]\n",
    "                target = self.dataset.df['item_idx'].values[start + i + 1]\n",
    "                yield inp, target, mask\n",
    "\n",
    "            start, end, mask, last_session, finished = self.update_status(start, end, min_len, last_session, finished)\n",
    "\n",
    "    def initialize(self):\n",
    "        first_iters = np.arange(self.batch_size)    # 첫 배치에 사용할 세션 Index를 가져옵니다.\n",
    "        last_session = self.batch_size - 1    # 마지막으로 다루고 있는 세션 Index를 저장해둡니다.\n",
    "        start = self.dataset.click_offsets[self.dataset.session_idx[first_iters]]       # data 상에서 session이 시작된 위치를 가져옵니다.\n",
    "        end = self.dataset.click_offsets[self.dataset.session_idx[first_iters] + 1]  # session이 끝난 위치 바로 다음 위치를 가져옵니다.\n",
    "        mask = np.array([])   # session의 모든 아이템을 다 돌은 경우 mask에 추가해줄 것입니다.\n",
    "        finished = False         # data를 전부 돌았는지 기록하기 위한 변수입니다.\n",
    "        return start, end, mask, last_session, finished\n",
    "\n",
    "    def update_status(self, start: np.ndarray, end: np.ndarray, min_len: int, last_session: int, finished: bool):  \n",
    "        # 다음 배치 데이터를 생성하기 위해 상태를 update합니다.\n",
    "        \n",
    "        start += min_len   # __iter__에서 min_len 만큼 for문을 돌았으므로 start를 min_len 만큼 더해줍니다.\n",
    "        mask = np.arange(self.batch_size)[(end - start) == 1]  \n",
    "        # end는 다음 세션이 시작되는 위치인데 start와 한 칸 차이난다는 것은 session이 끝났다는 뜻입니다. mask에 기록해줍니다.\n",
    "\n",
    "        for i, idx in enumerate(mask, start=1):  # mask에 추가된 세션 개수만큼 새로운 세션을 돌것입니다.\n",
    "            new_session = last_session + i  \n",
    "            if new_session > self.dataset.session_idx[-1]:  # 만약 새로운 세션이 마지막 세션 index보다 크다면 모든 학습데이터를 돈 것입니다.\n",
    "                finished = True\n",
    "                break\n",
    "            # update the next starting/ending point\n",
    "            start[idx] = self.dataset.click_offsets[self.dataset.session_idx[new_session]]     # 종료된 세션 대신 새로운 세션의 시작점을 기록합니다.\n",
    "            end[idx] = self.dataset.click_offsets[self.dataset.session_idx[new_session] + 1]\n",
    "\n",
    "        last_session += len(mask)  # 마지막 세션의 위치를 기록해둡니다.\n",
    "        return start, end, mask, last_session, finished"
   ]
  },
  {
   "cell_type": "code",
   "execution_count": 127,
   "id": "little-influence",
   "metadata": {},
   "outputs": [
    {
     "data": {
      "text/html": [
       "<div>\n",
       "<style scoped>\n",
       "    .dataframe tbody tr th:only-of-type {\n",
       "        vertical-align: middle;\n",
       "    }\n",
       "\n",
       "    .dataframe tbody tr th {\n",
       "        vertical-align: top;\n",
       "    }\n",
       "\n",
       "    .dataframe thead th {\n",
       "        text-align: right;\n",
       "    }\n",
       "</style>\n",
       "<table border=\"1\" class=\"dataframe\">\n",
       "  <thead>\n",
       "    <tr style=\"text-align: right;\">\n",
       "      <th></th>\n",
       "      <th>UserId</th>\n",
       "      <th>ItemId</th>\n",
       "      <th>Rating</th>\n",
       "      <th>Time</th>\n",
       "      <th>item_idx</th>\n",
       "    </tr>\n",
       "  </thead>\n",
       "  <tbody>\n",
       "    <tr>\n",
       "      <th>31</th>\n",
       "      <td>1</td>\n",
       "      <td>3186</td>\n",
       "      <td>4</td>\n",
       "      <td>2000-12-31 10:00:19</td>\n",
       "      <td>0</td>\n",
       "    </tr>\n",
       "    <tr>\n",
       "      <th>22</th>\n",
       "      <td>1</td>\n",
       "      <td>1270</td>\n",
       "      <td>5</td>\n",
       "      <td>2000-12-31 10:00:55</td>\n",
       "      <td>1</td>\n",
       "    </tr>\n",
       "    <tr>\n",
       "      <th>24</th>\n",
       "      <td>1</td>\n",
       "      <td>2340</td>\n",
       "      <td>3</td>\n",
       "      <td>2000-12-31 10:01:43</td>\n",
       "      <td>2</td>\n",
       "    </tr>\n",
       "    <tr>\n",
       "      <th>36</th>\n",
       "      <td>1</td>\n",
       "      <td>1836</td>\n",
       "      <td>5</td>\n",
       "      <td>2000-12-31 10:02:52</td>\n",
       "      <td>3</td>\n",
       "    </tr>\n",
       "    <tr>\n",
       "      <th>3</th>\n",
       "      <td>1</td>\n",
       "      <td>3408</td>\n",
       "      <td>4</td>\n",
       "      <td>2000-12-31 10:04:35</td>\n",
       "      <td>4</td>\n",
       "    </tr>\n",
       "    <tr>\n",
       "      <th>7</th>\n",
       "      <td>1</td>\n",
       "      <td>2804</td>\n",
       "      <td>5</td>\n",
       "      <td>2000-12-31 10:11:59</td>\n",
       "      <td>5</td>\n",
       "    </tr>\n",
       "    <tr>\n",
       "      <th>0</th>\n",
       "      <td>1</td>\n",
       "      <td>1193</td>\n",
       "      <td>5</td>\n",
       "      <td>2000-12-31 10:12:40</td>\n",
       "      <td>6</td>\n",
       "    </tr>\n",
       "    <tr>\n",
       "      <th>9</th>\n",
       "      <td>1</td>\n",
       "      <td>919</td>\n",
       "      <td>4</td>\n",
       "      <td>2000-12-31 10:22:48</td>\n",
       "      <td>7</td>\n",
       "    </tr>\n",
       "    <tr>\n",
       "      <th>51</th>\n",
       "      <td>1</td>\n",
       "      <td>608</td>\n",
       "      <td>4</td>\n",
       "      <td>2000-12-31 10:23:18</td>\n",
       "      <td>8</td>\n",
       "    </tr>\n",
       "    <tr>\n",
       "      <th>43</th>\n",
       "      <td>1</td>\n",
       "      <td>2692</td>\n",
       "      <td>4</td>\n",
       "      <td>2000-12-31 10:26:10</td>\n",
       "      <td>9</td>\n",
       "    </tr>\n",
       "    <tr>\n",
       "      <th>41</th>\n",
       "      <td>1</td>\n",
       "      <td>1961</td>\n",
       "      <td>5</td>\n",
       "      <td>2000-12-31 10:26:30</td>\n",
       "      <td>10</td>\n",
       "    </tr>\n",
       "    <tr>\n",
       "      <th>48</th>\n",
       "      <td>1</td>\n",
       "      <td>2028</td>\n",
       "      <td>5</td>\n",
       "      <td>2000-12-31 10:26:59</td>\n",
       "      <td>11</td>\n",
       "    </tr>\n",
       "    <tr>\n",
       "      <th>18</th>\n",
       "      <td>1</td>\n",
       "      <td>3105</td>\n",
       "      <td>5</td>\n",
       "      <td>2000-12-31 10:28:33</td>\n",
       "      <td>12</td>\n",
       "    </tr>\n",
       "    <tr>\n",
       "      <th>11</th>\n",
       "      <td>1</td>\n",
       "      <td>938</td>\n",
       "      <td>4</td>\n",
       "      <td>2000-12-31 10:29:12</td>\n",
       "      <td>13</td>\n",
       "    </tr>\n",
       "    <tr>\n",
       "      <th>14</th>\n",
       "      <td>1</td>\n",
       "      <td>1035</td>\n",
       "      <td>5</td>\n",
       "      <td>2000-12-31 10:29:13</td>\n",
       "      <td>14</td>\n",
       "    </tr>\n",
       "  </tbody>\n",
       "</table>\n",
       "</div>"
      ],
      "text/plain": [
       "    UserId  ItemId  Rating                Time  item_idx\n",
       "31       1    3186       4 2000-12-31 10:00:19         0\n",
       "22       1    1270       5 2000-12-31 10:00:55         1\n",
       "24       1    2340       3 2000-12-31 10:01:43         2\n",
       "36       1    1836       5 2000-12-31 10:02:52         3\n",
       "3        1    3408       4 2000-12-31 10:04:35         4\n",
       "7        1    2804       5 2000-12-31 10:11:59         5\n",
       "0        1    1193       5 2000-12-31 10:12:40         6\n",
       "9        1     919       4 2000-12-31 10:22:48         7\n",
       "51       1     608       4 2000-12-31 10:23:18         8\n",
       "43       1    2692       4 2000-12-31 10:26:10         9\n",
       "41       1    1961       5 2000-12-31 10:26:30        10\n",
       "48       1    2028       5 2000-12-31 10:26:59        11\n",
       "18       1    3105       5 2000-12-31 10:28:33        12\n",
       "11       1     938       4 2000-12-31 10:29:12        13\n",
       "14       1    1035       5 2000-12-31 10:29:13        14"
      ]
     },
     "execution_count": 127,
     "metadata": {},
     "output_type": "execute_result"
    }
   ],
   "source": [
    "tr_data_loader = SessionDataLoader(tr_dataset, batch_size=4)\n",
    "tr_dataset.df.head(15)"
   ]
  },
  {
   "cell_type": "code",
   "execution_count": 128,
   "id": "electronic-shopping",
   "metadata": {},
   "outputs": [],
   "source": [
    "iter_ex = iter(tr_data_loader)"
   ]
  },
  {
   "cell_type": "code",
   "execution_count": 130,
   "id": "colored-entity",
   "metadata": {},
   "outputs": [
    {
     "name": "stdout",
     "output_type": "stream",
     "text": [
      "Model Input Item Idx are : [ 1 35 92 16]\n",
      "Label Item Idx are :       [ 2 36 93 43]\n",
      "Previous Masked Input Idx are []\n"
     ]
    }
   ],
   "source": [
    "inputs, labels, mask =  next(iter_ex)\n",
    "print(f'Model Input Item Idx are : {inputs}')\n",
    "print(f'Label Item Idx are : {\"\":5} {labels}')\n",
    "print(f'Previous Masked Input Idx are {mask}')"
   ]
  },
  {
   "cell_type": "markdown",
   "id": "unexpected-raleigh",
   "metadata": {},
   "source": [
    "## Step 3. 모델 구성"
   ]
  },
  {
   "cell_type": "code",
   "execution_count": 131,
   "id": "indoor-madonna",
   "metadata": {},
   "outputs": [],
   "source": [
    "def mrr_k(pred, truth: int, k: int):\n",
    "    indexing = np.where(pred[:k] == truth)[0]\n",
    "    if len(indexing) > 0:\n",
    "        return 1 / (indexing[0] + 1)\n",
    "    else:\n",
    "        return 0\n",
    "\n",
    "\n",
    "def recall_k(pred, truth: int, k: int) -> int:\n",
    "    answer = truth in pred[:k]\n",
    "    return int(answer)"
   ]
  },
  {
   "cell_type": "code",
   "execution_count": 132,
   "id": "induced-cycle",
   "metadata": {},
   "outputs": [],
   "source": [
    "import numpy as np\n",
    "import tensorflow as tf\n",
    "from tensorflow.keras.layers import Input, Dense, Dropout, GRU\n",
    "from tensorflow.keras.losses import categorical_crossentropy\n",
    "from tensorflow.keras.models import Model\n",
    "from tensorflow.keras.optimizers import Adam\n",
    "from tensorflow.keras.utils import to_categorical\n",
    "from tqdm import tqdm"
   ]
  },
  {
   "cell_type": "code",
   "execution_count": 133,
   "id": "exciting-choice",
   "metadata": {},
   "outputs": [],
   "source": [
    "def create_model(args):\n",
    "    inputs = Input(batch_shape=(args.batch_size, 1, args.num_items))\n",
    "    gru, _ = GRU(args.hsz, stateful=True, return_state=True, name='GRU')(inputs)\n",
    "    dropout = Dropout(args.drop_rate)(gru)\n",
    "    predictions = Dense(args.num_items, activation='softmax')(dropout)\n",
    "    model = Model(inputs=inputs, outputs=[predictions])\n",
    "    model.compile(loss=categorical_crossentropy, optimizer=Adam(args.lr), metrics=['accuracy'])\n",
    "    model.summary()\n",
    "    return model"
   ]
  },
  {
   "cell_type": "code",
   "execution_count": 141,
   "id": "determined-alabama",
   "metadata": {},
   "outputs": [],
   "source": [
    "class Args:\n",
    "    def __init__(self, tr, val, test, batch_size, hsz, drop_rate, lr, epochs, k):\n",
    "        self.tr = tr\n",
    "        self.val = val\n",
    "        self.test = test\n",
    "        self.num_items = tr['ItemId'].nunique()\n",
    "        self.num_sessions = tr['UserId'].nunique()\n",
    "        self.batch_size = batch_size\n",
    "        self.hsz = hsz\n",
    "        self.drop_rate = drop_rate\n",
    "        self.lr = lr\n",
    "        self.epochs = epochs\n",
    "        self.k = k\n",
    "\n",
    "args = Args(tr, val, test, batch_size=32, hsz=50, drop_rate=0.1, lr=0.001, epochs=3, k=20)"
   ]
  },
  {
   "cell_type": "code",
   "execution_count": 142,
   "id": "passive-booking",
   "metadata": {},
   "outputs": [
    {
     "name": "stdout",
     "output_type": "stream",
     "text": [
      "Model: \"model_1\"\n",
      "_________________________________________________________________\n",
      "Layer (type)                 Output Shape              Param #   \n",
      "=================================================================\n",
      "input_2 (InputLayer)         [(32, 1, 3507)]           0         \n",
      "_________________________________________________________________\n",
      "GRU (GRU)                    [(32, 50), (32, 50)]      533850    \n",
      "_________________________________________________________________\n",
      "dropout_1 (Dropout)          (32, 50)                  0         \n",
      "_________________________________________________________________\n",
      "dense_1 (Dense)              (32, 3507)                178857    \n",
      "=================================================================\n",
      "Total params: 712,707\n",
      "Trainable params: 712,707\n",
      "Non-trainable params: 0\n",
      "_________________________________________________________________\n"
     ]
    }
   ],
   "source": [
    "model = create_model(args)"
   ]
  },
  {
   "cell_type": "code",
   "execution_count": 143,
   "id": "breathing-toyota",
   "metadata": {},
   "outputs": [],
   "source": [
    "# train 셋으로 학습하면서 valid 셋으로 검증합니다.\n",
    "def train_model(model, args):\n",
    "    train_dataset = SessionDataset(args.tr)\n",
    "    train_loader = SessionDataLoader(train_dataset, batch_size=args.batch_size)\n",
    "\n",
    "    for epoch in range(1, args.epochs + 1):\n",
    "        total_step = len(args.tr) - args.tr['UserId'].nunique()\n",
    "        tr_loader = tqdm(train_loader, total=total_step // args.batch_size, desc='Train', mininterval=1)\n",
    "        for feat, target, mask in tr_loader:\n",
    "            reset_hidden_states(model, mask)  # 종료된 session은 hidden_state를 초기화합니다. 아래 메서드에서 확인해주세요.\n",
    "\n",
    "            input_ohe = to_categorical(feat, num_classes=args.num_items)\n",
    "            input_ohe = np.expand_dims(input_ohe, axis=1)\n",
    "            target_ohe = to_categorical(target, num_classes=args.num_items)\n",
    "\n",
    "            result = model.train_on_batch(input_ohe, target_ohe)\n",
    "            tr_loader.set_postfix(train_loss=result[0], accuracy = result[1])\n",
    "\n",
    "        val_recall, val_mrr = get_metrics(args.val, model, args, args.k)  # valid set에 대해 검증합니다.\n",
    "\n",
    "        print(f\"\\t - Recall@{args.k} epoch {epoch}: {val_recall:3f}\")\n",
    "        print(f\"\\t - MRR@{args.k}    epoch {epoch}: {val_mrr:3f}\\n\")\n",
    "\n",
    "\n",
    "def reset_hidden_states(model, mask):\n",
    "    gru_layer = model.get_layer(name='GRU')  # model에서 gru layer를 가져옵니다.\n",
    "    hidden_states = gru_layer.states[0].numpy()  # gru_layer의 parameter를 가져옵니다.\n",
    "    for elt in mask:  # mask된 인덱스 즉, 종료된 세션의 인덱스를 돌면서\n",
    "        hidden_states[elt, :] = 0  # parameter를 초기화 합니다.\n",
    "    gru_layer.reset_states(states=hidden_states)\n",
    "\n",
    "\n",
    "def get_metrics(data, model, args, k: int):  # valid셋과 test셋을 평가하는 코드입니다. \n",
    "                                             # train과 거의 같지만 mrr, recall을 구하는 라인이 있습니다.\n",
    "    dataset = SessionDataset(data)\n",
    "    loader = SessionDataLoader(dataset, batch_size=args.batch_size)\n",
    "    recall_list, mrr_list = [], []\n",
    "\n",
    "    total_step = len(data) - data['UserId'].nunique()\n",
    "    for inputs, label, mask in tqdm(loader, total=total_step // args.batch_size, desc='Evaluation', mininterval=1):\n",
    "        reset_hidden_states(model, mask)\n",
    "        input_ohe = to_categorical(inputs, num_classes=args.num_items)\n",
    "        input_ohe = np.expand_dims(input_ohe, axis=1)\n",
    "\n",
    "        pred = model.predict(input_ohe, batch_size=args.batch_size)\n",
    "        pred_arg = tf.argsort(pred, direction='DESCENDING')  # softmax 값이 큰 순서대로 sorting 합니다.\n",
    "\n",
    "        length = len(inputs)\n",
    "        recall_list.extend([recall_k(pred_arg[i], label[i], k) for i in range(length)])\n",
    "        mrr_list.extend([mrr_k(pred_arg[i], label[i], k) for i in range(length)])\n",
    "\n",
    "    recall, mrr = np.mean(recall_list), np.mean(mrr_list)\n",
    "    return recall, mrr"
   ]
  },
  {
   "cell_type": "markdown",
   "id": "material-syntax",
   "metadata": {},
   "source": [
    "### Train 1"
   ]
  },
  {
   "cell_type": "code",
   "execution_count": 144,
   "id": "modern-soundtrack",
   "metadata": {
    "scrolled": true
   },
   "outputs": [
    {
     "name": "stderr",
     "output_type": "stream",
     "text": [
      "Train:  99%|█████████▉| 9646/9729 [01:40<00:00, 95.56it/s, accuracy=0, train_loss=6.86]     \n",
      "Evaluation:  93%|█████████▎| 1131/1215 [03:48<00:16,  4.95it/s]\n",
      "Train:   0%|          | 0/9729 [00:00<?, ?it/s, accuracy=0.0312, train_loss=6.68]"
     ]
    },
    {
     "name": "stdout",
     "output_type": "stream",
     "text": [
      "\t - Recall@20 epoch 1: 0.162135\n",
      "\t - MRR@20    epoch 1: 0.041907\n",
      "\n"
     ]
    },
    {
     "name": "stderr",
     "output_type": "stream",
     "text": [
      "Train:  99%|█████████▉| 9646/9729 [01:39<00:00, 96.63it/s, accuracy=0, train_loss=6.58]     \n",
      "Evaluation:  93%|█████████▎| 1131/1215 [03:44<00:16,  5.03it/s]\n",
      "Train:   0%|          | 0/9729 [00:00<?, ?it/s, accuracy=0.0312, train_loss=6.53]"
     ]
    },
    {
     "name": "stdout",
     "output_type": "stream",
     "text": [
      "\t - Recall@20 epoch 2: 0.208610\n",
      "\t - MRR@20    epoch 2: 0.055020\n",
      "\n"
     ]
    },
    {
     "name": "stderr",
     "output_type": "stream",
     "text": [
      "Train:  99%|█████████▉| 9646/9729 [01:40<00:00, 96.22it/s, accuracy=0, train_loss=6.39]     \n",
      "Evaluation:  93%|█████████▎| 1131/1215 [03:42<00:16,  5.09it/s]"
     ]
    },
    {
     "name": "stdout",
     "output_type": "stream",
     "text": [
      "\t - Recall@20 epoch 3: 0.224083\n",
      "\t - MRR@20    epoch 3: 0.060159\n",
      "\n"
     ]
    },
    {
     "name": "stderr",
     "output_type": "stream",
     "text": [
      "\n"
     ]
    }
   ],
   "source": [
    "train_model(model, args)"
   ]
  },
  {
   "cell_type": "code",
   "execution_count": 145,
   "id": "worldwide-visibility",
   "metadata": {},
   "outputs": [
    {
     "name": "stderr",
     "output_type": "stream",
     "text": [
      "Evaluation:  95%|█████████▌| 1160/1216 [03:49<00:11,  5.07it/s]"
     ]
    },
    {
     "name": "stdout",
     "output_type": "stream",
     "text": [
      "\t - Recall@20: 0.225593\n",
      "\t - MRR@20: 0.060122\n",
      "\n"
     ]
    },
    {
     "name": "stderr",
     "output_type": "stream",
     "text": [
      "\n"
     ]
    }
   ],
   "source": [
    "def test_model(model, args, test):\n",
    "    test_recall, test_mrr = get_metrics(test, model, args, 20)\n",
    "    print(f\"\\t - Recall@{args.k}: {test_recall:3f}\")\n",
    "    print(f\"\\t - MRR@{args.k}: {test_mrr:3f}\\n\")\n",
    "\n",
    "test_model(model, args, test)"
   ]
  },
  {
   "cell_type": "markdown",
   "id": "rolled-possibility",
   "metadata": {},
   "source": [
    "0.22의 Recall@20 값을 확인할 수 있었습니다."
   ]
  },
  {
   "cell_type": "markdown",
   "id": "hourly-victory",
   "metadata": {},
   "source": [
    "### Train 2"
   ]
  },
  {
   "cell_type": "code",
   "execution_count": 148,
   "id": "through-summary",
   "metadata": {},
   "outputs": [
    {
     "name": "stdout",
     "output_type": "stream",
     "text": [
      "Model: \"model_2\"\n",
      "_________________________________________________________________\n",
      "Layer (type)                 Output Shape              Param #   \n",
      "=================================================================\n",
      "input_3 (InputLayer)         [(32, 1, 3507)]           0         \n",
      "_________________________________________________________________\n",
      "GRU (GRU)                    [(32, 64), (32, 64)]      686016    \n",
      "_________________________________________________________________\n",
      "dropout_2 (Dropout)          (32, 64)                  0         \n",
      "_________________________________________________________________\n",
      "dense_2 (Dense)              (32, 3507)                227955    \n",
      "=================================================================\n",
      "Total params: 913,971\n",
      "Trainable params: 913,971\n",
      "Non-trainable params: 0\n",
      "_________________________________________________________________\n"
     ]
    }
   ],
   "source": [
    "args = Args(tr, val, test, batch_size=32, hsz=64, drop_rate=0.1, lr=0.001, epochs=3, k=20)\n",
    "train_model(model, args)"
   ]
  },
  {
   "cell_type": "code",
   "execution_count": 149,
   "id": "martial-ancient",
   "metadata": {},
   "outputs": [
    {
     "name": "stderr",
     "output_type": "stream",
     "text": [
      "Train:  99%|█████████▉| 9646/9729 [01:43<00:00, 93.23it/s, accuracy=0, train_loss=6.85]     \n",
      "Evaluation:  93%|█████████▎| 1131/1215 [03:41<00:16,  5.10it/s]\n",
      "Train:   0%|          | 0/9729 [00:00<?, ?it/s, accuracy=0.0312, train_loss=6.73]"
     ]
    },
    {
     "name": "stdout",
     "output_type": "stream",
     "text": [
      "\t - Recall@20 epoch 1: 0.168684\n",
      "\t - MRR@20    epoch 1: 0.043741\n",
      "\n"
     ]
    },
    {
     "name": "stderr",
     "output_type": "stream",
     "text": [
      "Train:  99%|█████████▉| 9646/9729 [01:39<00:00, 96.59it/s, accuracy=0, train_loss=6.5]      \n",
      "Evaluation:  93%|█████████▎| 1131/1215 [03:37<00:16,  5.20it/s]\n",
      "Train:   0%|          | 0/9729 [00:00<?, ?it/s, accuracy=0.0312, train_loss=6.1] "
     ]
    },
    {
     "name": "stdout",
     "output_type": "stream",
     "text": [
      "\t - Recall@20 epoch 2: 0.214605\n",
      "\t - MRR@20    epoch 2: 0.056303\n",
      "\n"
     ]
    },
    {
     "name": "stderr",
     "output_type": "stream",
     "text": [
      "Train:  99%|█████████▉| 9646/9729 [01:41<00:00, 95.42it/s, accuracy=0, train_loss=6.44]     \n",
      "Evaluation:  93%|█████████▎| 1131/1215 [03:35<00:15,  5.25it/s]"
     ]
    },
    {
     "name": "stdout",
     "output_type": "stream",
     "text": [
      "\t - Recall@20 epoch 3: 0.228365\n",
      "\t - MRR@20    epoch 3: 0.060575\n",
      "\n"
     ]
    },
    {
     "name": "stderr",
     "output_type": "stream",
     "text": [
      "\n"
     ]
    }
   ],
   "source": [
    "train_model(model, args)"
   ]
  },
  {
   "cell_type": "code",
   "execution_count": 150,
   "id": "smoking-philippines",
   "metadata": {},
   "outputs": [
    {
     "name": "stderr",
     "output_type": "stream",
     "text": [
      "Evaluation:  95%|█████████▌| 1160/1216 [03:41<00:10,  5.23it/s]"
     ]
    },
    {
     "name": "stdout",
     "output_type": "stream",
     "text": [
      "\t - Recall@20: 0.232651\n",
      "\t - MRR@20: 0.062139\n",
      "\n"
     ]
    },
    {
     "name": "stderr",
     "output_type": "stream",
     "text": [
      "\n"
     ]
    }
   ],
   "source": [
    "test_model(model, args, test)"
   ]
  },
  {
   "cell_type": "markdown",
   "id": "beautiful-airport",
   "metadata": {},
   "source": [
    "0.23의 Recall@20 값을 확인할 수 있었습니다."
   ]
  },
  {
   "cell_type": "markdown",
   "id": "genuine-occupation",
   "metadata": {},
   "source": [
    "### Train 3"
   ]
  },
  {
   "cell_type": "code",
   "execution_count": 151,
   "id": "catholic-international",
   "metadata": {},
   "outputs": [
    {
     "name": "stdout",
     "output_type": "stream",
     "text": [
      "Model: \"model_3\"\n",
      "_________________________________________________________________\n",
      "Layer (type)                 Output Shape              Param #   \n",
      "=================================================================\n",
      "input_4 (InputLayer)         [(16, 1, 3507)]           0         \n",
      "_________________________________________________________________\n",
      "GRU (GRU)                    [(16, 100), (16, 100)]    1082700   \n",
      "_________________________________________________________________\n",
      "dropout_3 (Dropout)          (16, 100)                 0         \n",
      "_________________________________________________________________\n",
      "dense_3 (Dense)              (16, 3507)                354207    \n",
      "=================================================================\n",
      "Total params: 1,436,907\n",
      "Trainable params: 1,436,907\n",
      "Non-trainable params: 0\n",
      "_________________________________________________________________\n"
     ]
    }
   ],
   "source": [
    "args = Args(tr, val, test, batch_size=16, hsz=100, drop_rate=0.15, lr=0.001, epochs=3, k=20)\n",
    "model = create_model(args)"
   ]
  },
  {
   "cell_type": "code",
   "execution_count": 152,
   "id": "threaded-australia",
   "metadata": {},
   "outputs": [
    {
     "name": "stderr",
     "output_type": "stream",
     "text": [
      "Train: 100%|█████████▉| 19384/19459 [03:42<00:00, 87.24it/s, accuracy=0, train_loss=6.66]     \n",
      "Evaluation:  97%|█████████▋| 2367/2431 [04:32<00:07,  8.69it/s]\n",
      "Train:   0%|          | 0/19459 [00:00<?, ?it/s, accuracy=0.0625, train_loss=5.74]"
     ]
    },
    {
     "name": "stdout",
     "output_type": "stream",
     "text": [
      "\t - Recall@20 epoch 1: 0.195369\n",
      "\t - MRR@20    epoch 1: 0.051873\n",
      "\n"
     ]
    },
    {
     "name": "stderr",
     "output_type": "stream",
     "text": [
      "Train: 100%|█████████▉| 19384/19459 [03:31<00:00, 91.62it/s, accuracy=0, train_loss=6.26]     \n",
      "Evaluation:  97%|█████████▋| 2367/2431 [04:24<00:07,  8.96it/s]\n",
      "Train:   0%|          | 0/19459 [00:00<?, ?it/s, accuracy=0.0625, train_loss=5.83]"
     ]
    },
    {
     "name": "stdout",
     "output_type": "stream",
     "text": [
      "\t - Recall@20 epoch 2: 0.223490\n",
      "\t - MRR@20    epoch 2: 0.059818\n",
      "\n"
     ]
    },
    {
     "name": "stderr",
     "output_type": "stream",
     "text": [
      "Train: 100%|█████████▉| 19384/19459 [03:32<00:00, 91.04it/s, accuracy=0, train_loss=6.22]     \n",
      "Evaluation:  97%|█████████▋| 2367/2431 [04:22<00:07,  9.01it/s]"
     ]
    },
    {
     "name": "stdout",
     "output_type": "stream",
     "text": [
      "\t - Recall@20 epoch 3: 0.229695\n",
      "\t - MRR@20    epoch 3: 0.062519\n",
      "\n"
     ]
    },
    {
     "name": "stderr",
     "output_type": "stream",
     "text": [
      "\n"
     ]
    }
   ],
   "source": [
    "train_model(model, args)"
   ]
  },
  {
   "cell_type": "code",
   "execution_count": 153,
   "id": "functional-testing",
   "metadata": {},
   "outputs": [
    {
     "name": "stderr",
     "output_type": "stream",
     "text": [
      "Evaluation:  98%|█████████▊| 2377/2433 [04:24<00:06,  8.99it/s]"
     ]
    },
    {
     "name": "stdout",
     "output_type": "stream",
     "text": [
      "\t - Recall@20: 0.231437\n",
      "\t - MRR@20: 0.062377\n",
      "\n"
     ]
    },
    {
     "name": "stderr",
     "output_type": "stream",
     "text": [
      "\n"
     ]
    }
   ],
   "source": [
    "test_model(model, args, test)"
   ]
  },
  {
   "cell_type": "markdown",
   "id": "pacific-chapel",
   "metadata": {},
   "source": [
    "0.23의 Recall@20 값을 확인할 수 있었습니다."
   ]
  },
  {
   "cell_type": "markdown",
   "id": "unlimited-rating",
   "metadata": {},
   "source": [
    "## 소감\n",
    "\n",
    "우선 이런저런 약속에 백신을 핑계로 열심히 노드를 진행하지 못했습니다. Session based의 정확한 의미도 이해하지 못했고 노드를 최대한 기초에 두고 따라하는 것에 집중해서 진행하게 됐습니다.\n",
    "\n",
    "따라서 추가적으로 해야할 공부를 우선적으로 정리해보겠습니다.\n",
    "\n",
    "1. Session based 추천 시스템 확실하게 이해하기.\n",
    "    * 시계열 데이터를 사용해 문제를 풀 때 처럼 어떻게 데이터를 나눠야 할 지에 대해 많이 헷갈렸기 때문에 추가적으로 공부를 해야겠다.\n",
    "2. Session을 어떻게 나눌 것인지 생각하고 다시 진행해보기.\n",
    "    * 이번 노드에서는 브라우저가 꺼지는 기준으로 세션을 나누는 것 보다 UserId로 데이터를 모으는 것이 더 중요하다고 생각해 Session을 별도로 나누지는 않았다.\n",
    "3. 미니 배치 구성에 대해 이해하기.\n",
    "\n",
    "추가적으로 이번주 내로 밀린 노드들을 다시 한번 보고 우수 노드들을 토대로 정리해야겠다고 생각하게 됐습니다."
   ]
  },
  {
   "cell_type": "code",
   "execution_count": null,
   "id": "facial-champagne",
   "metadata": {},
   "outputs": [],
   "source": []
  }
 ],
 "metadata": {
  "kernelspec": {
   "display_name": "Python 3",
   "language": "python",
   "name": "python3"
  },
  "language_info": {
   "codemirror_mode": {
    "name": "ipython",
    "version": 3
   },
   "file_extension": ".py",
   "mimetype": "text/x-python",
   "name": "python",
   "nbconvert_exporter": "python",
   "pygments_lexer": "ipython3",
   "version": "3.7.9"
  }
 },
 "nbformat": 4,
 "nbformat_minor": 5
}
