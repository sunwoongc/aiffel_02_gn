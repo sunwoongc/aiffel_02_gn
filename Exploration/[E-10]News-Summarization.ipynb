{
 "cells": [
  {
   "cell_type": "markdown",
   "id": "common-static",
   "metadata": {},
   "source": [
    "## Load the data"
   ]
  },
  {
   "cell_type": "code",
   "execution_count": 2,
   "id": "classical-iraqi",
   "metadata": {},
   "outputs": [
    {
     "name": "stderr",
     "output_type": "stream",
     "text": [
      "[nltk_data] Downloading package stopwords to /aiffel/nltk_data...\n",
      "[nltk_data]   Package stopwords is already up-to-date!\n"
     ]
    }
   ],
   "source": [
    "import nltk\n",
    "nltk.download('stopwords')\n",
    "\n",
    "import numpy as np\n",
    "import pandas as pd\n",
    "import os\n",
    "import re\n",
    "import matplotlib.pyplot as plt\n",
    "\n",
    "from nltk.corpus import stopwords\n",
    "from bs4 import BeautifulSoup\n",
    "from tensorflow.keras.preprocessing.text import Tokenizer\n",
    "from tensorflow.keras.preprocessing.sequence import pad_sequences\n",
    "import urllib.request"
   ]
  },
  {
   "cell_type": "code",
   "execution_count": 3,
   "id": "experienced-montana",
   "metadata": {},
   "outputs": [],
   "source": [
    "urllib.request.urlretrieve(\"https://raw.githubusercontent.com/sunnysai12345/News_Summary/master/news_summary_more.csv\", filename=\"news_summary_more.csv\")\n",
    "data = pd.read_csv('news_summary_more.csv', encoding='iso-8859-1')"
   ]
  },
  {
   "cell_type": "code",
   "execution_count": 4,
   "id": "saved-comfort",
   "metadata": {},
   "outputs": [
    {
     "data": {
      "text/html": [
       "<div>\n",
       "<style scoped>\n",
       "    .dataframe tbody tr th:only-of-type {\n",
       "        vertical-align: middle;\n",
       "    }\n",
       "\n",
       "    .dataframe tbody tr th {\n",
       "        vertical-align: top;\n",
       "    }\n",
       "\n",
       "    .dataframe thead th {\n",
       "        text-align: right;\n",
       "    }\n",
       "</style>\n",
       "<table border=\"1\" class=\"dataframe\">\n",
       "  <thead>\n",
       "    <tr style=\"text-align: right;\">\n",
       "      <th></th>\n",
       "      <th>headlines</th>\n",
       "      <th>text</th>\n",
       "    </tr>\n",
       "  </thead>\n",
       "  <tbody>\n",
       "    <tr>\n",
       "      <th>92598</th>\n",
       "      <td>Turkey election board rejects referendum annul...</td>\n",
       "      <td>Turkey's Supreme Election Board on Wednesday r...</td>\n",
       "    </tr>\n",
       "    <tr>\n",
       "      <th>60639</th>\n",
       "      <td>CBI to look for missing JNU student Najeeb in ...</td>\n",
       "      <td>The Central Bureau of Investigation, which is ...</td>\n",
       "    </tr>\n",
       "    <tr>\n",
       "      <th>59788</th>\n",
       "      <td>Parliament winter session not to clash with st...</td>\n",
       "      <td>Amidst Congress' claims that the government wa...</td>\n",
       "    </tr>\n",
       "    <tr>\n",
       "      <th>52709</th>\n",
       "      <td>Jimmy Kimmel marks Trump's '2000th lie' with a...</td>\n",
       "      <td>American television host Jimmy Kimmel marked P...</td>\n",
       "    </tr>\n",
       "    <tr>\n",
       "      <th>43807</th>\n",
       "      <td>Stone Age people in SA survived supervolcano e...</td>\n",
       "      <td>A supervolcano eruption 74,000 years ago in In...</td>\n",
       "    </tr>\n",
       "    <tr>\n",
       "      <th>88264</th>\n",
       "      <td>Tiger Shroff unveils first look poster of 'Ram...</td>\n",
       "      <td>Actor Tiger Shroff took to Twitter to share th...</td>\n",
       "    </tr>\n",
       "    <tr>\n",
       "      <th>80724</th>\n",
       "      <td>There's nothing I miss about India, says Vijay...</td>\n",
       "      <td>When asked if he missed India, Vijay Mallya sa...</td>\n",
       "    </tr>\n",
       "    <tr>\n",
       "      <th>89246</th>\n",
       "      <td>US approves sale of missiles worth Ã¢ÂÂ¹12,80...</td>\n",
       "      <td>The US State Department has approved the sale ...</td>\n",
       "    </tr>\n",
       "    <tr>\n",
       "      <th>19099</th>\n",
       "      <td>Hotel installs robot 'dinosaurs' at the recept...</td>\n",
       "      <td>A hotel in Japan has installed robot 'dinosaur...</td>\n",
       "    </tr>\n",
       "    <tr>\n",
       "      <th>70787</th>\n",
       "      <td>SEBI plans to reduce mutual fund schemes by half</td>\n",
       "      <td>SEBI's mutual fund advisory panel has reported...</td>\n",
       "    </tr>\n",
       "  </tbody>\n",
       "</table>\n",
       "</div>"
      ],
      "text/plain": [
       "                                               headlines  \\\n",
       "92598  Turkey election board rejects referendum annul...   \n",
       "60639  CBI to look for missing JNU student Najeeb in ...   \n",
       "59788  Parliament winter session not to clash with st...   \n",
       "52709  Jimmy Kimmel marks Trump's '2000th lie' with a...   \n",
       "43807  Stone Age people in SA survived supervolcano e...   \n",
       "88264  Tiger Shroff unveils first look poster of 'Ram...   \n",
       "80724  There's nothing I miss about India, says Vijay...   \n",
       "89246  US approves sale of missiles worth Ã¢ÂÂ¹12,80...   \n",
       "19099  Hotel installs robot 'dinosaurs' at the recept...   \n",
       "70787   SEBI plans to reduce mutual fund schemes by half   \n",
       "\n",
       "                                                    text  \n",
       "92598  Turkey's Supreme Election Board on Wednesday r...  \n",
       "60639  The Central Bureau of Investigation, which is ...  \n",
       "59788  Amidst Congress' claims that the government wa...  \n",
       "52709  American television host Jimmy Kimmel marked P...  \n",
       "43807  A supervolcano eruption 74,000 years ago in In...  \n",
       "88264  Actor Tiger Shroff took to Twitter to share th...  \n",
       "80724  When asked if he missed India, Vijay Mallya sa...  \n",
       "89246  The US State Department has approved the sale ...  \n",
       "19099  A hotel in Japan has installed robot 'dinosaur...  \n",
       "70787  SEBI's mutual fund advisory panel has reported...  "
      ]
     },
     "execution_count": 4,
     "metadata": {},
     "output_type": "execute_result"
    }
   ],
   "source": [
    "data.sample(10)"
   ]
  },
  {
   "cell_type": "markdown",
   "id": "affected-appeal",
   "metadata": {},
   "source": [
    "text는 본문, headlines는 요약으로 구성된 데이터입니다. 따라서 추상적 요약을 하는 경우에는 text를 본문, headlines를 요약된 데이터로 삼아서 학습을 진행하면 되고, 추출적 요약을 하는 경우에는 text열만 사용하면 됩니다."
   ]
  },
  {
   "cell_type": "code",
   "execution_count": 5,
   "id": "incredible-visit",
   "metadata": {},
   "outputs": [],
   "source": [
    "original_data = data.copy()"
   ]
  },
  {
   "cell_type": "markdown",
   "id": "cubic-journey",
   "metadata": {},
   "source": [
    "## Preprocessing"
   ]
  },
  {
   "cell_type": "markdown",
   "id": "helpful-conflict",
   "metadata": {},
   "source": [
    "### (1) `dropna`, `drop_duplicates`"
   ]
  },
  {
   "cell_type": "code",
   "execution_count": 324,
   "id": "absent-population",
   "metadata": {},
   "outputs": [
    {
     "name": "stdout",
     "output_type": "stream",
     "text": [
      "전체 샘플 수: 98401\n",
      "text열에서 중복을 배제한 유일한 샘플의 수: 98360\n",
      "headlines열에서 중복을 배제한 유일한 샘플의 수: 98280\n"
     ]
    }
   ],
   "source": [
    "print(f\"전체 샘플 수: {len(data)}\")\n",
    "print(f\"text열에서 중복을 배제한 유일한 샘플의 수: {data['text'].nunique()}\")\n",
    "print(f\"headlines열에서 중복을 배제한 유일한 샘플의 수: {data['headlines'].nunique()}\")"
   ]
  },
  {
   "cell_type": "markdown",
   "id": "affiliated-domain",
   "metadata": {},
   "source": [
    "요약은 중복된 경우가 충분히 나올 수 있으므로 text열에서 중복이 되는 샘플을 확인 후 지워주겠습니다."
   ]
  },
  {
   "cell_type": "code",
   "execution_count": 325,
   "id": "mature-corrections",
   "metadata": {},
   "outputs": [
    {
     "data": {
      "text/plain": [
       "78519    A TechCrunch report has claimed that IndiaÃ¢Â...\n",
       "80355    As many as 54,250 fluorescent-yellow tennis ba...\n",
       "84724    Australia won the 1999 Cricket World Cup after...\n",
       "52021    Australia's Anthony Stuart took a hat-trick in...\n",
       "70392    Before India-England 2011 World Cup match, for...\n",
       "44594    Berger Paints has launched Berger Express Pain...\n",
       "81352    Born on July 10, 1856, Serbian inventor Nikola...\n",
       "63533    Born on October 30, 1909, Padma Bhushan-awarde...\n",
       "78521    CARS24 has enabled car owners to sell their ca...\n",
       "53865    Cricket legend Don Bradman reversed the Austra...\n",
       "55208    During an El ClÃÂ¡sico match in 2002, Barcelo...\n",
       "53731    England captain Mike Denness left himself out ...\n",
       "59705    England was beaten at home for the first time ...\n",
       "74095    English astronomer Arthur Eddington used 1919'...\n",
       "60885    Fijian cricketer Ilikena Lasarusa Talebulamain...\n",
       "61445    Former Australian fast bowler Glenn McGrath, w...\n",
       "54078    Former Australian leg-spinner Shane Warne was ...\n",
       "71887    Former England players David Gower and John Mo...\n",
       "70249    Former Pakistan captain Inzamam-ul-Haq attacke...\n",
       "51012    Former Pakistani cricketer Hanif Mohammad batt...\n",
       "58769    Former Services' medium-pacer Joginder Rao pic...\n",
       "53578    Former Windies' captain Brian Lara named his f...\n",
       "78244    Former Windies' cricketer Garry Sobers, the fi...\n",
       "62639    Former batsman Sachin Tendulkar became the fir...\n",
       "53892    German Formula One legend Michael Schumacher, ...\n",
       "62785    India conceded an ODI against Pakistan on Nove...\n",
       "84195    June 21 marks the beginning of summer in Earth...\n",
       "75349    Legendary Australian batsman Donald Bradman ha...\n",
       "86430    Legendary Australian spinner Shane Warne bowle...\n",
       "55374    National Mathematics Day is celebrated on Dece...\n",
       "78522    Reebok has launched FlexweaveÃ¢ÂÂan innovati...\n",
       "20754    Safeguard yourself against life's unpleasant s...\n",
       "69673    The New Zealand-Zimbabwe Test, which started o...\n",
       "60724    The Test in which Sachin Tendulkar made his in...\n",
       "61055    The first wicket and first catch in Test crick...\n",
       "58715    The first-ever official international football...\n",
       "62575    Virat Kohli dismissed England's Kevin Pieterse...\n",
       "57402    Virender Sehwag was captaining India when he h...\n",
       "64468    WeWork is a platform for creators, which provi...\n",
       "58934    Windies' Gus Logie was adjudged Man of the Mat...\n",
       "62063    Zimbabwe played an ODI against New Zealand in ...\n",
       "Name: text, dtype: object"
      ]
     },
     "execution_count": 325,
     "metadata": {},
     "output_type": "execute_result"
    }
   ],
   "source": [
    "data[data.duplicated('text')].sort_values(by='text')['text']"
   ]
  },
  {
   "cell_type": "code",
   "execution_count": 326,
   "id": "powerful-youth",
   "metadata": {},
   "outputs": [
    {
     "name": "stdout",
     "output_type": "stream",
     "text": [
      "전체 샘플 수: 98360\n"
     ]
    }
   ],
   "source": [
    "data.drop_duplicates(subset=['text'], inplace=True)\n",
    "print(f\"전체 샘플 수: {len(data)}\")"
   ]
  },
  {
   "cell_type": "markdown",
   "id": "satisfactory-biotechnology",
   "metadata": {},
   "source": [
    "중복은 제거했지만 null값을 확인해보고 제외해주겠습니다."
   ]
  },
  {
   "cell_type": "code",
   "execution_count": 327,
   "id": "anticipated-sphere",
   "metadata": {
    "scrolled": true
   },
   "outputs": [
    {
     "name": "stdout",
     "output_type": "stream",
     "text": [
      "headlines    0\n",
      "text         0\n",
      "dtype: int64\n"
     ]
    }
   ],
   "source": [
    "print(data.isnull().sum())"
   ]
  },
  {
   "cell_type": "markdown",
   "id": "sharp-shelter",
   "metadata": {},
   "source": [
    "확인결과 null값이 없으므로 추가적인 삭제는 해주지 않아도 될 것 같습니다."
   ]
  },
  {
   "cell_type": "markdown",
   "id": "charming-vancouver",
   "metadata": {},
   "source": [
    "### (2) Text normalization\n",
    "전처리과정에서 동일한 의미를 가지지만 축약형으로 표현이 된 단어들을 풀어줘 같은 단어로 인식이 되게끔 text normalization(텍스트 정규화)을 진행하겠습니다. \n",
    "\n",
    "우선은 노드에서 사용된 정규화 사전을 그대로 사용하겠습니다."
   ]
  },
  {
   "cell_type": "code",
   "execution_count": 328,
   "id": "civic-evidence",
   "metadata": {},
   "outputs": [
    {
     "name": "stdout",
     "output_type": "stream",
     "text": [
      "정규화 사전의 수:  120\n"
     ]
    }
   ],
   "source": [
    "contractions = {\"ain't\": \"is not\", \"aren't\": \"are not\",\"can't\": \"cannot\", \"'cause\": \"because\", \"could've\": \"could have\", \"couldn't\": \"could not\",\n",
    "                           \"didn't\": \"did not\",  \"doesn't\": \"does not\", \"don't\": \"do not\", \"hadn't\": \"had not\", \"hasn't\": \"has not\", \"haven't\": \"have not\",\n",
    "                           \"he'd\": \"he would\",\"he'll\": \"he will\", \"he's\": \"he is\", \"how'd\": \"how did\", \"how'd'y\": \"how do you\", \"how'll\": \"how will\", \"how's\": \"how is\",\n",
    "                           \"I'd\": \"I would\", \"I'd've\": \"I would have\", \"I'll\": \"I will\", \"I'll've\": \"I will have\",\"I'm\": \"I am\", \"I've\": \"I have\", \"i'd\": \"i would\",\n",
    "                           \"i'd've\": \"i would have\", \"i'll\": \"i will\",  \"i'll've\": \"i will have\",\"i'm\": \"i am\", \"i've\": \"i have\", \"isn't\": \"is not\", \"it'd\": \"it would\",\n",
    "                           \"it'd've\": \"it would have\", \"it'll\": \"it will\", \"it'll've\": \"it will have\",\"it's\": \"it is\", \"let's\": \"let us\", \"ma'am\": \"madam\",\n",
    "                           \"mayn't\": \"may not\", \"might've\": \"might have\",\"mightn't\": \"might not\",\"mightn't've\": \"might not have\", \"must've\": \"must have\",\n",
    "                           \"mustn't\": \"must not\", \"mustn't've\": \"must not have\", \"needn't\": \"need not\", \"needn't've\": \"need not have\",\"o'clock\": \"of the clock\",\n",
    "                           \"oughtn't\": \"ought not\", \"oughtn't've\": \"ought not have\", \"shan't\": \"shall not\", \"sha'n't\": \"shall not\", \"shan't've\": \"shall not have\",\n",
    "                           \"she'd\": \"she would\", \"she'd've\": \"she would have\", \"she'll\": \"she will\", \"she'll've\": \"she will have\", \"she's\": \"she is\",\n",
    "                           \"should've\": \"should have\", \"shouldn't\": \"should not\", \"shouldn't've\": \"should not have\", \"so've\": \"so have\",\"so's\": \"so as\",\n",
    "                           \"this's\": \"this is\",\"that'd\": \"that would\", \"that'd've\": \"that would have\", \"that's\": \"that is\", \"there'd\": \"there would\",\n",
    "                           \"there'd've\": \"there would have\", \"there's\": \"there is\", \"here's\": \"here is\",\"they'd\": \"they would\", \"they'd've\": \"they would have\",\n",
    "                           \"they'll\": \"they will\", \"they'll've\": \"they will have\", \"they're\": \"they are\", \"they've\": \"they have\", \"to've\": \"to have\",\n",
    "                           \"wasn't\": \"was not\", \"we'd\": \"we would\", \"we'd've\": \"we would have\", \"we'll\": \"we will\", \"we'll've\": \"we will have\", \"we're\": \"we are\",\n",
    "                           \"we've\": \"we have\", \"weren't\": \"were not\", \"what'll\": \"what will\", \"what'll've\": \"what will have\", \"what're\": \"what are\",\n",
    "                           \"what's\": \"what is\", \"what've\": \"what have\", \"when's\": \"when is\", \"when've\": \"when have\", \"where'd\": \"where did\", \"where's\": \"where is\",\n",
    "                           \"where've\": \"where have\", \"who'll\": \"who will\", \"who'll've\": \"who will have\", \"who's\": \"who is\", \"who've\": \"who have\",\n",
    "                           \"why's\": \"why is\", \"why've\": \"why have\", \"will've\": \"will have\", \"won't\": \"will not\", \"won't've\": \"will not have\",\n",
    "                           \"would've\": \"would have\", \"wouldn't\": \"would not\", \"wouldn't've\": \"would not have\", \"y'all\": \"you all\",\n",
    "                           \"y'all'd\": \"you all would\",\"y'all'd've\": \"you all would have\",\"y'all're\": \"you all are\",\"y'all've\": \"you all have\",\n",
    "                           \"you'd\": \"you would\", \"you'd've\": \"you would have\", \"you'll\": \"you will\", \"you'll've\": \"you will have\",\n",
    "                           \"you're\": \"you are\", \"you've\": \"you have\"}\n",
    "\n",
    "print(\"정규화 사전의 수: \", len(contractions))"
   ]
  },
  {
   "cell_type": "markdown",
   "id": "super-fifty",
   "metadata": {},
   "source": [
    "### Remove stopwords\n",
    "학습에 도움이 되지 않는다고 판단이 되는 stopwords들을 제거해주겠습니다. 이번에도 nltk에서 제공하는 불용어 리스트를 참조해 불용어를 제거해보겠습니다."
   ]
  },
  {
   "cell_type": "code",
   "execution_count": 329,
   "id": "everyday-scoop",
   "metadata": {},
   "outputs": [
    {
     "name": "stdout",
     "output_type": "stream",
     "text": [
      "불용어 갯수: 179\n",
      "['i', 'me', 'my', 'myself', 'we', 'our', 'ours', 'ourselves', 'you', \"you're\", \"you've\", \"you'll\", \"you'd\", 'your', 'yours', 'yourself', 'yourselves', 'he', 'him', 'his', 'himself', 'she', \"she's\", 'her', 'hers', 'herself', 'it', \"it's\", 'its', 'itself', 'they', 'them', 'their', 'theirs', 'themselves', 'what', 'which', 'who', 'whom', 'this', 'that', \"that'll\", 'these', 'those', 'am', 'is', 'are', 'was', 'were', 'be', 'been', 'being', 'have', 'has', 'had', 'having', 'do', 'does', 'did', 'doing', 'a', 'an', 'the', 'and', 'but', 'if', 'or', 'because', 'as', 'until', 'while', 'of', 'at', 'by', 'for', 'with', 'about', 'against', 'between', 'into', 'through', 'during', 'before', 'after', 'above', 'below', 'to', 'from', 'up', 'down', 'in', 'out', 'on', 'off', 'over', 'under', 'again', 'further', 'then', 'once', 'here', 'there', 'when', 'where', 'why', 'how', 'all', 'any', 'both', 'each', 'few', 'more', 'most', 'other', 'some', 'such', 'no', 'nor', 'not', 'only', 'own', 'same', 'so', 'than', 'too', 'very', 's', 't', 'can', 'will', 'just', 'don', \"don't\", 'should', \"should've\", 'now', 'd', 'll', 'm', 'o', 're', 've', 'y', 'ain', 'aren', \"aren't\", 'couldn', \"couldn't\", 'didn', \"didn't\", 'doesn', \"doesn't\", 'hadn', \"hadn't\", 'hasn', \"hasn't\", 'haven', \"haven't\", 'isn', \"isn't\", 'ma', 'mightn', \"mightn't\", 'mustn', \"mustn't\", 'needn', \"needn't\", 'shan', \"shan't\", 'shouldn', \"shouldn't\", 'wasn', \"wasn't\", 'weren', \"weren't\", 'won', \"won't\", 'wouldn', \"wouldn't\"]\n"
     ]
    }
   ],
   "source": [
    "print(f\"불용어 갯수: {len(stopwords.words('english'))}\")\n",
    "print(stopwords.words('english'))"
   ]
  },
  {
   "cell_type": "code",
   "execution_count": 330,
   "id": "catholic-salvation",
   "metadata": {},
   "outputs": [],
   "source": [
    "def preprocess_sentence(sentence, remove_stopwords=True):\n",
    "    sentence = sentence.lower()\n",
    "    sentence = BeautifulSoup(sentence, 'lxml').text # <br />, <a href = ...> 등의 html 태그 제거\n",
    "    sentence = re.sub(r'\\([^)]*\\)', '', sentence) # 괄호로 닫힌 문자열 제거\n",
    "    sentence = re.sub('\"', '', sentence)\n",
    "    sentence = ' '.join([contractions[t] if t in contractions else t for t in sentence.split(\" \")])\n",
    "    sentence = re.sub(r\"'s\\b\", \"\", sentence)\n",
    "    sentence = re.sub(\"[^a-zA-Z]\", \" \", sentence)\n",
    "    sentence = re.sub('[m]{2,}', 'mm', sentence)\n",
    "    \n",
    "    if remove_stopwords:\n",
    "        tokens = ' '.join(word for word in sentence.split() if not word in stopwords.words('english') if len(word) > 1)\n",
    "        \n",
    "    else:\n",
    "        tokens = ' '.join(word for word in sentence.split() if len(word) > 1)\n",
    "    \n",
    "    return tokens\n"
   ]
  },
  {
   "cell_type": "code",
   "execution_count": 331,
   "id": "specific-massage",
   "metadata": {},
   "outputs": [
    {
     "name": "stdout",
     "output_type": "stream",
     "text": [
      "When removing stopwords: \n",
      "When not removing stopwords: when he was not there she should not have been there\n"
     ]
    }
   ],
   "source": [
    "sample_text = \"When he was not there, she shouldn't have been there.\"\n",
    "print(f\"When removing stopwords: {preprocess_sentence(sample_text, True)}\")\n",
    "print(f\"When not removing stopwords: {preprocess_sentence(sample_text, False)}\")"
   ]
  },
  {
   "cell_type": "markdown",
   "id": "adjustable-iraqi",
   "metadata": {},
   "source": [
    "불용어 자체를 어느정도 수정해 줄 필요도 있다고 생각이 드는 부분입니다. 'When he was not there, she shouldn't be there.' 의 경우 모든 단어를 불용어로 분류해서 없애버리기도 합니다."
   ]
  },
  {
   "cell_type": "markdown",
   "id": "dynamic-canberra",
   "metadata": {},
   "source": [
    "전처리의 속도를 올리기 위해 multi-processing을 이용하겠습니다."
   ]
  },
  {
   "cell_type": "code",
   "execution_count": 332,
   "id": "moderate-intention",
   "metadata": {},
   "outputs": [],
   "source": [
    "import multiprocessing as mp\n",
    "from multiprocessing import Pool\n",
    "import numpy as np\n",
    "import time\n",
    "from functools import partial\n",
    "\n",
    "start = time.time()\n",
    "\n",
    "def appendTexts(sentences, remove_stopwords):\n",
    "    texts = []\n",
    "    for s in sentences:\n",
    "        texts += preprocess_sentence(s, remove_stopwords),\n",
    "    return texts\n",
    "\n",
    "def preprocess_data(data, remove_stopwords=True):\n",
    "    start_time = time.time()\n",
    "    num_cores = mp.cpu_count()\n",
    "    \n",
    "    text_data_split = np.array_split(data, num_cores)\n",
    "    pool = Pool(num_cores)\n",
    "    \n",
    "    processed_data = np.concatenate(pool.map(partial(appendTexts, remove_stopwords=remove_stopwords), text_data_split))\n",
    "    pool.close()\n",
    "    pool.join()\n",
    "    \n",
    "    print(time.time() - start_time, \" seconds\")\n",
    "    return processed_data"
   ]
  },
  {
   "cell_type": "code",
   "execution_count": 333,
   "id": "every-cheese",
   "metadata": {},
   "outputs": [
    {
     "name": "stdout",
     "output_type": "stream",
     "text": [
      "182.40769004821777  seconds\n",
      "['saurav kant alumnus upgrad iiit pg program machine learning artificial intelligence sr systems engineer infosys almost years work experience program upgrad degree career support helped transition data scientist tech mahindra salary hike upgrad online power learning powered lakh careers'\n",
      " 'kunal shah credit card bill payment platform cred gave users chance win free food swiggy one year pranav kaushik delhi techie bagged reward spending cred coins users get one cred coin per rupee bill paid used avail rewards brands like ixigo bookmyshow ubereats cult fit'\n",
      " 'new zealand defeated india wickets fourth odi hamilton thursday win first match five match odi series india lost international match rohit sharma captaincy consecutive victories dating back march match witnessed india getting seventh lowest total odi cricket history'\n",
      " ...\n",
      " 'according reports new version science fiction film matrix development michael jordan reportedly play lead role film screenwriter zak penn talks write script film reports added actor keanu reeves starred original film followed two sequels'\n",
      " 'new music video shows rapper snoop dogg aiming toy gun clown character parodying us president donald trump video also shows tv airing news conference headline ronald klump wants deport doggs airing live clown house video remixed version song lavender'\n",
      " 'madhesi morcha alliance seven political parties withdrawn support pm pushpa kamal dahal led nepal government failed meet seven day ultimatum fulfil demands including endorsement revised constitution amendment bill morcha seats parliament despite withdrawal support immediate threat government']\n"
     ]
    }
   ],
   "source": [
    "clean_text = preprocess_data(data['text'])\n",
    "print(clean_text)"
   ]
  },
  {
   "cell_type": "code",
   "execution_count": 334,
   "id": "parental-alexandria",
   "metadata": {},
   "outputs": [
    {
     "name": "stdout",
     "output_type": "stream",
     "text": [
      "38.42037057876587  seconds\n",
      "['upgrad learner switches career ml al salary hike'\n",
      " 'delhi techie wins free food swiggy one year cred'\n",
      " 'new zealand end rohit sharma led india match winning streak' ...\n",
      " 'matrix film get reboot reports'\n",
      " 'snoop dogg aims gun clown dressed trump new video'\n",
      " 'madhesi morcha withdraws support nepalese government']\n"
     ]
    }
   ],
   "source": [
    "clean_headlines = preprocess_data(data['headlines'])\n",
    "print(clean_headlines)"
   ]
  },
  {
   "cell_type": "code",
   "execution_count": 335,
   "id": "former-vegetarian",
   "metadata": {},
   "outputs": [],
   "source": [
    "original_data = data.copy()"
   ]
  },
  {
   "cell_type": "code",
   "execution_count": 336,
   "id": "flexible-junction",
   "metadata": {},
   "outputs": [
    {
     "data": {
      "text/plain": [
       "98360"
      ]
     },
     "execution_count": 336,
     "metadata": {},
     "output_type": "execute_result"
    }
   ],
   "source": [
    "len(clean_text)"
   ]
  },
  {
   "cell_type": "code",
   "execution_count": 337,
   "id": "vocational-population",
   "metadata": {},
   "outputs": [],
   "source": [
    "data['text'] = clean_text\n",
    "data['headlines'] = clean_headlines"
   ]
  },
  {
   "cell_type": "code",
   "execution_count": 338,
   "id": "divine-iraqi",
   "metadata": {},
   "outputs": [
    {
     "data": {
      "text/plain": [
       "headlines    0\n",
       "text         0\n",
       "dtype: int64"
      ]
     },
     "execution_count": 338,
     "metadata": {},
     "output_type": "execute_result"
    }
   ],
   "source": [
    "data.replace('', np.nan, inplace=True)\n",
    "data.isnull().sum()"
   ]
  },
  {
   "cell_type": "markdown",
   "id": "utility-match",
   "metadata": {},
   "source": [
    "공백을 nan으로 바꿔준 후 버리는 과정을 진행하려고 했지만 공백이 없어서 nan값이 없어서 별도로 진행해주지 않았습니다."
   ]
  },
  {
   "cell_type": "markdown",
   "id": "respected-lebanon",
   "metadata": {},
   "source": [
    "### max length of samples"
   ]
  },
  {
   "cell_type": "code",
   "execution_count": 339,
   "id": "loved-ottawa",
   "metadata": {},
   "outputs": [
    {
     "name": "stdout",
     "output_type": "stream",
     "text": [
      "텍스트의 최소 길이: 1\n",
      "텍스트의 최대 길이: 60\n",
      "텍스트의 평균 길이: 35.09968483123221\n",
      "요약의 최소 길이: 1\n",
      "요약의 최대 길이: 13\n",
      "요약의 평균 길이: 7.136183407889386\n"
     ]
    }
   ],
   "source": [
    "import matplotlib.pyplot as plt\n",
    "text_len = [len(s.split()) for s in data['text']]\n",
    "headlines_len = [len(s.split()) for s in data['headlines']]\n",
    "\n",
    "print(f\"텍스트의 최소 길이: {np.min(text_len)}\")\n",
    "print(f\"텍스트의 최대 길이: {np.max(text_len)}\")\n",
    "print(f\"텍스트의 평균 길이: {np.mean(text_len)}\")\n",
    "print(f\"요약의 최소 길이: {np.min(headlines_len)}\")\n",
    "print(f\"요약의 최대 길이: {np.max(headlines_len)}\")\n",
    "print(f\"요약의 평균 길이: {np.mean(headlines_len)}\")"
   ]
  },
  {
   "cell_type": "code",
   "execution_count": 340,
   "id": "atomic-officer",
   "metadata": {
    "scrolled": true
   },
   "outputs": [
    {
     "data": {
      "text/plain": [
       "Text(0.5, 1.0, 'Text')"
      ]
     },
     "execution_count": 340,
     "metadata": {},
     "output_type": "execute_result"
    },
    {
     "data": {
      "image/png": "[encoded data removed]",
      "text/plain": [
       "<Figure size 432x288 with 2 Axes>"
      ]
     },
     "metadata": {
      "needs_background": "light"
     },
     "output_type": "display_data"
    },
    {
     "data": {
      "image/png": "[encoded data removed]",
      "text/plain": [
       "<Figure size 432x288 with 1 Axes>"
      ]
     },
     "metadata": {
      "needs_background": "light"
     },
     "output_type": "display_data"
    },
    {
     "data": {
      "image/png": "[encoded data removed]",
      "text/plain": [
       "<Figure size 432x288 with 1 Axes>"
      ]
     },
     "metadata": {
      "needs_background": "light"
     },
     "output_type": "display_data"
    }
   ],
   "source": [
    "fig, axes = plt.subplots(nrows=1, ncols=2)\n",
    "axs = axes.ravel()\n",
    "\n",
    "axs[0].boxplot(headlines_len)\n",
    "axs[0].set_title(\"Length of headlines.\")\n",
    "\n",
    "axs[1].boxplot(text_len)\n",
    "axs[1].set_title(\"Length of text.\")\n",
    "\n",
    "fig.tight_layout()\n",
    "\n",
    "fig2, ax2 = plt.subplots()\n",
    "ax2.hist(headlines_len, bins=40)\n",
    "ax2.set_xlabel(\"Length of samples\")\n",
    "ax2.set_ylabel(\"Number of samples\")\n",
    "ax2.set_title(\"Headlines\")\n",
    "\n",
    "fig3, ax3 = plt.subplots()\n",
    "ax3.hist(text_len, bins=40)\n",
    "ax3.set_xlabel(\"Length of samples\")\n",
    "ax3.set_ylabel(\"Number of samples\")\n",
    "ax3.set_title(\"Text\")"
   ]
  },
  {
   "cell_type": "markdown",
   "id": "front-panel",
   "metadata": {},
   "source": [
    "텍스트의 최대 길이는 45, 요약(headlines)의 최대길이는 8로 설정해서 문제를 풀어보겠습니다."
   ]
  },
  {
   "cell_type": "code",
   "execution_count": 341,
   "id": "acknowledged-search",
   "metadata": {},
   "outputs": [],
   "source": [
    "text_max_len = 45\n",
    "headlines_max_len = 8"
   ]
  },
  {
   "cell_type": "code",
   "execution_count": 342,
   "id": "plastic-reverse",
   "metadata": {},
   "outputs": [],
   "source": [
    "def below_threshold_len(max_len, nested_list):\n",
    "    cnt = 0\n",
    "    for s in nested_list:\n",
    "        if(len(s.split()) <= max_len):\n",
    "            cnt = cnt+1\n",
    "            \n",
    "    print(f\"전체 샘플 중 길이가 {max_len} 이하인 샘플의 비율: {cnt/len(nested_list):.2%}\")"
   ]
  },
  {
   "cell_type": "code",
   "execution_count": 343,
   "id": "neither-terrorist",
   "metadata": {},
   "outputs": [
    {
     "name": "stdout",
     "output_type": "stream",
     "text": [
      "전체 샘플 중 길이가 45 이하인 샘플의 비율: 99.68%\n",
      "전체 샘플 중 길이가 8 이하인 샘플의 비율: 89.26%\n"
     ]
    }
   ],
   "source": [
    "below_threshold_len(text_max_len, data['text'])\n",
    "below_threshold_len(headlines_max_len,  data['headlines'])"
   ]
  },
  {
   "cell_type": "code",
   "execution_count": 344,
   "id": "hispanic-running",
   "metadata": {},
   "outputs": [
    {
     "name": "stdout",
     "output_type": "stream",
     "text": [
      "전체 샘플수 : 87587\n"
     ]
    }
   ],
   "source": [
    "data = data[data['text'].apply(lambda x: len(x.split()) <= text_max_len)]\n",
    "data = data[data['headlines'].apply(lambda x: len(x.split()) <= headlines_max_len)]\n",
    "\n",
    "print(f\"전체 샘플수 : {len(data)}\")"
   ]
  },
  {
   "cell_type": "code",
   "execution_count": 345,
   "id": "indonesian-attraction",
   "metadata": {},
   "outputs": [
    {
     "data": {
      "text/html": [
       "<div>\n",
       "<style scoped>\n",
       "    .dataframe tbody tr th:only-of-type {\n",
       "        vertical-align: middle;\n",
       "    }\n",
       "\n",
       "    .dataframe tbody tr th {\n",
       "        vertical-align: top;\n",
       "    }\n",
       "\n",
       "    .dataframe thead th {\n",
       "        text-align: right;\n",
       "    }\n",
       "</style>\n",
       "<table border=\"1\" class=\"dataframe\">\n",
       "  <thead>\n",
       "    <tr style=\"text-align: right;\">\n",
       "      <th></th>\n",
       "      <th>headlines</th>\n",
       "      <th>text</th>\n",
       "      <th>decoder_input</th>\n",
       "      <th>decoder_target</th>\n",
       "    </tr>\n",
       "  </thead>\n",
       "  <tbody>\n",
       "    <tr>\n",
       "      <th>0</th>\n",
       "      <td>upgrad learner switches career ml al salary hike</td>\n",
       "      <td>saurav kant alumnus upgrad iiit pg program mac...</td>\n",
       "      <td>sostoken upgrad learner switches career ml al ...</td>\n",
       "      <td>upgrad learner switches career ml al salary hi...</td>\n",
       "    </tr>\n",
       "    <tr>\n",
       "      <th>4</th>\n",
       "      <td>known hirani yrs metoo claims true sonam</td>\n",
       "      <td>speaking sexual harassment allegations rajkuma...</td>\n",
       "      <td>sostoken known hirani yrs metoo claims true sonam</td>\n",
       "      <td>known hirani yrs metoo claims true sonam eostoken</td>\n",
       "    </tr>\n",
       "    <tr>\n",
       "      <th>6</th>\n",
       "      <td>india get lowest odi total new zealand</td>\n",
       "      <td>india recorded lowest odi total new zealand ge...</td>\n",
       "      <td>sostoken india get lowest odi total new zealand</td>\n",
       "      <td>india get lowest odi total new zealand eostoken</td>\n",
       "    </tr>\n",
       "    <tr>\n",
       "      <th>7</th>\n",
       "      <td>govt directs alok verma join work day retirement</td>\n",
       "      <td>weeks ex cbi director alok verma told departme...</td>\n",
       "      <td>sostoken govt directs alok verma join work day...</td>\n",
       "      <td>govt directs alok verma join work day retireme...</td>\n",
       "    </tr>\n",
       "    <tr>\n",
       "      <th>9</th>\n",
       "      <td>cong wins ramgarh bypoll rajasthan takes total...</td>\n",
       "      <td>congress candidate shafia zubair ramgarh assem...</td>\n",
       "      <td>sostoken cong wins ramgarh bypoll rajasthan ta...</td>\n",
       "      <td>cong wins ramgarh bypoll rajasthan takes total...</td>\n",
       "    </tr>\n",
       "  </tbody>\n",
       "</table>\n",
       "</div>"
      ],
      "text/plain": [
       "                                           headlines  \\\n",
       "0   upgrad learner switches career ml al salary hike   \n",
       "4           known hirani yrs metoo claims true sonam   \n",
       "6             india get lowest odi total new zealand   \n",
       "7   govt directs alok verma join work day retirement   \n",
       "9  cong wins ramgarh bypoll rajasthan takes total...   \n",
       "\n",
       "                                                text  \\\n",
       "0  saurav kant alumnus upgrad iiit pg program mac...   \n",
       "4  speaking sexual harassment allegations rajkuma...   \n",
       "6  india recorded lowest odi total new zealand ge...   \n",
       "7  weeks ex cbi director alok verma told departme...   \n",
       "9  congress candidate shafia zubair ramgarh assem...   \n",
       "\n",
       "                                       decoder_input  \\\n",
       "0  sostoken upgrad learner switches career ml al ...   \n",
       "4  sostoken known hirani yrs metoo claims true sonam   \n",
       "6    sostoken india get lowest odi total new zealand   \n",
       "7  sostoken govt directs alok verma join work day...   \n",
       "9  sostoken cong wins ramgarh bypoll rajasthan ta...   \n",
       "\n",
       "                                      decoder_target  \n",
       "0  upgrad learner switches career ml al salary hi...  \n",
       "4  known hirani yrs metoo claims true sonam eostoken  \n",
       "6    india get lowest odi total new zealand eostoken  \n",
       "7  govt directs alok verma join work day retireme...  \n",
       "9  cong wins ramgarh bypoll rajasthan takes total...  "
      ]
     },
     "execution_count": 345,
     "metadata": {},
     "output_type": "execute_result"
    }
   ],
   "source": [
    "data['decoder_input'] = data['headlines'].apply(lambda x : 'sostoken ' + x) \n",
    "data['decoder_target'] = data['headlines'].apply(lambda x : x + ' eostoken')\n",
    "data.head()"
   ]
  },
  {
   "cell_type": "code",
   "execution_count": 346,
   "id": "opened-spirituality",
   "metadata": {},
   "outputs": [],
   "source": [
    "encoder_input = np.array(data['text'])\n",
    "decoder_input = np.array(data['decoder_input'])\n",
    "decoder_target = np.array(data['decoder_target'])"
   ]
  },
  {
   "cell_type": "code",
   "execution_count": 347,
   "id": "liquid-drunk",
   "metadata": {},
   "outputs": [
    {
     "name": "stdout",
     "output_type": "stream",
     "text": [
      "[44648 17471 33531 ...  9926 67386 84649]\n"
     ]
    }
   ],
   "source": [
    "indices = np.arange(encoder_input.shape[0])\n",
    "\n",
    "rng = np.random.default_rng()\n",
    "rng.shuffle(indices)\n",
    "\n",
    "print(indices)"
   ]
  },
  {
   "cell_type": "code",
   "execution_count": 348,
   "id": "coastal-spiritual",
   "metadata": {},
   "outputs": [],
   "source": [
    "encoder_input = encoder_input[indices]\n",
    "decoder_input = decoder_input[indices]\n",
    "decoder_target = decoder_target[indices]"
   ]
  },
  {
   "cell_type": "code",
   "execution_count": 349,
   "id": "practical-chance",
   "metadata": {},
   "outputs": [
    {
     "name": "stdout",
     "output_type": "stream",
     "text": [
      "테스트 데이터의 수:  17517\n"
     ]
    }
   ],
   "source": [
    "n_of_val = int(len(encoder_input) * 0.2)\n",
    "print('테스트 데이터의 수: ',  n_of_val)"
   ]
  },
  {
   "cell_type": "code",
   "execution_count": 350,
   "id": "other-horror",
   "metadata": {},
   "outputs": [
    {
     "name": "stdout",
     "output_type": "stream",
     "text": [
      "훈련 데이터의 개수 : 70070\n",
      "훈련 레이블의 개수 : 70070\n",
      "테스트 데이터의 개수 : 17517\n",
      "테스트 레이블의 개수 : 17517\n"
     ]
    }
   ],
   "source": [
    "encoder_input_train = encoder_input[:-n_of_val]\n",
    "decoder_input_train = decoder_input[:-n_of_val]\n",
    "decoder_target_train = decoder_target[:-n_of_val]\n",
    "\n",
    "encoder_input_test = encoder_input[-n_of_val:]\n",
    "decoder_input_test = decoder_input[-n_of_val:]\n",
    "decoder_target_test = decoder_target[-n_of_val:]\n",
    "\n",
    "print('훈련 데이터의 개수 :', len(encoder_input_train))\n",
    "print('훈련 레이블의 개수 :', len(decoder_input_train))\n",
    "print('테스트 데이터의 개수 :', len(encoder_input_test))\n",
    "print('테스트 레이블의 개수 :', len(decoder_input_test))"
   ]
  },
  {
   "cell_type": "code",
   "execution_count": 351,
   "id": "growing-savings",
   "metadata": {},
   "outputs": [],
   "source": [
    "src_tokenizer = Tokenizer()\n",
    "src_tokenizer.fit_on_texts(encoder_input_train)"
   ]
  },
  {
   "cell_type": "code",
   "execution_count": 352,
   "id": "white-freight",
   "metadata": {},
   "outputs": [
    {
     "name": "stdout",
     "output_type": "stream",
     "text": [
      "단어 집합(vocabulary)의 크기:  65981\n",
      "등장빈도가 8번 이하인 희귀 단어의 수: 47658\n",
      "단어 집합에서 희귀 단어를 제외시킬 경우의 단어 집합의 크기: 18323\n",
      "단어 집합에서 희귀 단어의 비율:  72.22988436064928\n",
      "전체 등장 빈도에서 희귀 단어 등장 빈도 비율: 4.546670539004945\n"
     ]
    }
   ],
   "source": [
    "threshold = 9\n",
    "total_cnt = len(src_tokenizer.word_index) # 단어의 수\n",
    "rare_cnt = 0\n",
    "total_freq = 0\n",
    "rare_freq = 0\n",
    "\n",
    "for key, value in src_tokenizer.word_counts.items():\n",
    "    total_freq = total_freq + value\n",
    "    \n",
    "    if (value < threshold):\n",
    "        rare_cnt = rare_cnt + 1\n",
    "        rare_freq = rare_freq + value\n",
    "\n",
    "print(\"단어 집합(vocabulary)의 크기: \", total_cnt)\n",
    "print(f\"등장빈도가 {threshold-1}번 이하인 희귀 단어의 수: {rare_cnt}\")\n",
    "print(f\"단어 집합에서 희귀 단어를 제외시킬 경우의 단어 집합의 크기: {total_cnt - rare_cnt}\")\n",
    "print(\"단어 집합에서 희귀 단어의 비율: \", (rare_cnt / total_cnt) * 100)\n",
    "print(\"전체 등장 빈도에서 희귀 단어 등장 빈도 비율:\", (rare_freq / total_freq) * 100)"
   ]
  },
  {
   "cell_type": "code",
   "execution_count": 353,
   "id": "offshore-abortion",
   "metadata": {},
   "outputs": [],
   "source": [
    "src_vocab = 18500 ## 희귀 단어를 제외한 단어 집합의 크기\n",
    "src_tokenizer = Tokenizer(num_words=src_vocab)\n",
    "src_tokenizer.fit_on_texts(encoder_input_train)"
   ]
  },
  {
   "cell_type": "code",
   "execution_count": 354,
   "id": "resident-border",
   "metadata": {},
   "outputs": [
    {
     "name": "stdout",
     "output_type": "stream",
     "text": [
      "[[101, 188, 860, 1172, 518, 2817, 529, 4132, 4212, 742, 509, 306, 15763, 4497, 1513, 11750, 148, 4987, 12129, 614, 15764, 50, 144, 409, 23, 1813, 371, 437, 13, 278, 1662, 2421, 45, 227, 405, 3976, 352, 29, 4, 1173], [30, 26, 63, 2889, 3019, 2351, 12130, 60, 20, 3616, 339, 27, 4173, 3168, 700, 1322, 5355, 910, 4305, 759, 29, 8062, 5668, 563, 5668, 171, 1284, 204, 1769, 3564, 2922, 111, 15053, 621, 2731, 243], [484, 329, 107, 7133, 6376, 109, 83, 44, 4079, 627, 159, 1255, 266, 4, 15, 1330, 31, 3226, 2352, 9575, 781, 386, 571, 9576, 10788, 1174, 92, 411, 2693, 1814, 6376, 976, 1637, 571, 202, 529, 1579, 6802, 386, 571, 4]]\n"
     ]
    }
   ],
   "source": [
    "encoder_input_train = src_tokenizer.texts_to_sequences(encoder_input_train)\n",
    "encoder_input_test = src_tokenizer.texts_to_sequences(encoder_input_test)\n",
    "\n",
    "print(encoder_input_train[:3])"
   ]
  },
  {
   "cell_type": "code",
   "execution_count": 355,
   "id": "radical-glucose",
   "metadata": {},
   "outputs": [],
   "source": [
    "tar_tokenizer = Tokenizer()\n",
    "tar_tokenizer.fit_on_texts(decoder_input_train)"
   ]
  },
  {
   "cell_type": "code",
   "execution_count": 356,
   "id": "sized-guard",
   "metadata": {},
   "outputs": [
    {
     "name": "stdout",
     "output_type": "stream",
     "text": [
      "단어 집합(vocabulary)의 크기:  28406\n",
      "등장빈도가 8번 이하인 희귀 단어의 수: 20847\n",
      "단어 집합에서 희귀 단어를 제외시킬 경우의 단어 집합의 크기: 7559\n",
      "단어 집합에서 희귀 단어의 비율:  73.38942476941492\n",
      "전체 등장 빈도에서 희귀 단어 등장 빈도 비율: 9.143013248567588\n"
     ]
    }
   ],
   "source": [
    "threshold = 9\n",
    "total_cnt = len(tar_tokenizer.word_index)\n",
    "rare_cnt = 0\n",
    "total_freq = 0\n",
    "rare_freq = 0\n",
    "\n",
    "for key, value in tar_tokenizer.word_counts.items():\n",
    "    total_freq = total_freq + value\n",
    "    \n",
    "    if (value < threshold):\n",
    "        rare_cnt = rare_cnt + 1\n",
    "        rare_freq = rare_freq + value\n",
    "\n",
    "        \n",
    "print(\"단어 집합(vocabulary)의 크기: \", total_cnt)\n",
    "print(f\"등장빈도가 {threshold-1}번 이하인 희귀 단어의 수: {rare_cnt}\")\n",
    "print(f\"단어 집합에서 희귀 단어를 제외시킬 경우의 단어 집합의 크기: {total_cnt - rare_cnt}\")\n",
    "print(\"단어 집합에서 희귀 단어의 비율: \", (rare_cnt / total_cnt) * 100)\n",
    "print(\"전체 등장 빈도에서 희귀 단어 등장 빈도 비율:\", (rare_freq / total_freq) * 100)"
   ]
  },
  {
   "cell_type": "code",
   "execution_count": 357,
   "id": "novel-reverse",
   "metadata": {},
   "outputs": [
    {
     "name": "stdout",
     "output_type": "stream",
     "text": [
      "input\n",
      "input  [[1, 27, 1277, 1748, 1070, 1026, 262, 2527, 13], [1, 2147, 199, 7, 1037], [1, 5286, 1014, 201, 4033, 64, 436, 1393], [1, 773, 1510, 565, 1071, 547, 177, 2295], [1, 46, 12, 95, 135, 1251, 231]]\n",
      "target\n",
      "target  [[27, 1277, 1748, 1070, 1026, 262, 2527, 13, 2], [2147, 199, 7, 1037, 2], [5286, 1014, 201, 4033, 64, 436, 1393, 2], [773, 1510, 565, 1071, 547, 177, 2295, 2], [46, 12, 95, 135, 1251, 231, 2]]\n"
     ]
    }
   ],
   "source": [
    "tar_vocab = 7500\n",
    "tar_tokenizer = Tokenizer(num_words = tar_vocab)\n",
    "tar_tokenizer.fit_on_texts(decoder_input_train)\n",
    "tar_tokenizer.fit_on_texts(decoder_target_train)\n",
    "\n",
    "decoder_input_train = tar_tokenizer.texts_to_sequences(decoder_input_train)\n",
    "decoder_target_train = tar_tokenizer.texts_to_sequences(decoder_target_train)\n",
    "decoder_input_test = tar_tokenizer.texts_to_sequences(decoder_input_test)\n",
    "decoder_target_test = tar_tokenizer.texts_to_sequences(decoder_target_test)\n",
    "\n",
    "print('input')\n",
    "print('input ', decoder_input_train[:5])\n",
    "print('target')\n",
    "print('target ', decoder_target_train[:5])"
   ]
  },
  {
   "cell_type": "code",
   "execution_count": 358,
   "id": "young-alpha",
   "metadata": {},
   "outputs": [
    {
     "name": "stdout",
     "output_type": "stream",
     "text": [
      "삭제할 훈련 데이터의 갯수:  5\n",
      "삭제할 테스트 데이터의 갯수:  1\n",
      "훈련 데이터의 갯수:  70065\n",
      "훈련 레이블의 갯수:  70065\n",
      "테스트 데이터의 갯수:  17516\n",
      "테스트 레이블의 갯수:  17516\n"
     ]
    },
    {
     "name": "stderr",
     "output_type": "stream",
     "text": [
      "/opt/conda/lib/python3.7/site-packages/numpy/core/_asarray.py:83: VisibleDeprecationWarning: Creating an ndarray from ragged nested sequences (which is a list-or-tuple of lists-or-tuples-or ndarrays with different lengths or shapes) is deprecated. If you meant to do this, you must specify 'dtype=object' when creating the ndarray\n",
      "  return array(a, dtype, copy=False, order=order)\n"
     ]
    }
   ],
   "source": [
    "drop_train = [index for index, sentence in enumerate(decoder_input_train) if len(sentence) == 1]\n",
    "drop_test = [index for index, sentence in enumerate(decoder_input_test) if len(sentence) == 1]\n",
    "\n",
    "print('삭제할 훈련 데이터의 갯수: ', len(drop_train))\n",
    "print('삭제할 테스트 데이터의 갯수: ', len(drop_test))\n",
    "\n",
    "encoder_input_train = np.delete(encoder_input_train, drop_train, axis=0)\n",
    "decoder_input_train = np.delete(decoder_input_train, drop_train, axis=0)\n",
    "decoder_target_train = np.delete(decoder_target_train, drop_train, axis=0)\n",
    "\n",
    "encoder_input_test = np.delete(encoder_input_test, drop_test, axis=0)\n",
    "decoder_input_test = np.delete(decoder_input_test, drop_test, axis=0)\n",
    "decoder_target_test = np.delete(decoder_target_test, drop_test, axis=0)\n",
    "\n",
    "print('훈련 데이터의 갯수: ', len(encoder_input_train))\n",
    "print('훈련 레이블의 갯수: ', len(decoder_input_train))\n",
    "print('테스트 데이터의 갯수: ', len(encoder_input_test))\n",
    "print('테스트 레이블의 갯수: ', len(decoder_input_test))"
   ]
  },
  {
   "cell_type": "code",
   "execution_count": 359,
   "id": "established-debut",
   "metadata": {},
   "outputs": [],
   "source": [
    "encoder_input_train = pad_sequences(encoder_input_train, maxlen=text_max_len, padding='post')\n",
    "encoder_input_test = pad_sequences(encoder_input_test, maxlen=text_max_len, padding='post')\n",
    "decoder_input_train = pad_sequences(decoder_input_train, maxlen=headlines_max_len, padding='post')\n",
    "decoder_target_train = pad_sequences(decoder_target_train, maxlen=headlines_max_len, padding='post')\n",
    "decoder_input_test = pad_sequences(decoder_input_test, maxlen=headlines_max_len, padding='post')\n",
    "decoder_target_test = pad_sequences(decoder_target_test, maxlen=headlines_max_len, padding='post')"
   ]
  },
  {
   "cell_type": "markdown",
   "id": "stone-welding",
   "metadata": {},
   "source": [
    "## Building models(Baseline)\n",
    "노드의 전처리방법, 모델의 구조를 그대로 사용하여 성능의 Baseline을 잡아보겠습니다."
   ]
  },
  {
   "cell_type": "code",
   "execution_count": 360,
   "id": "empirical-quarter",
   "metadata": {},
   "outputs": [
    {
     "name": "stdout",
     "output_type": "stream",
     "text": [
      "WARNING:tensorflow:Layer lstm_16 will not use cuDNN kernel since it doesn't meet the cuDNN kernel criteria. It will use generic GPU kernel as fallback when running on GPU\n",
      "WARNING:tensorflow:Layer lstm_17 will not use cuDNN kernel since it doesn't meet the cuDNN kernel criteria. It will use generic GPU kernel as fallback when running on GPU\n",
      "WARNING:tensorflow:Layer lstm_18 will not use cuDNN kernel since it doesn't meet the cuDNN kernel criteria. It will use generic GPU kernel as fallback when running on GPU\n"
     ]
    }
   ],
   "source": [
    "from tensorflow.keras.layers import Input, LSTM, Embedding, Dense, Concatenate\n",
    "from tensorflow.keras.models import Model\n",
    "from tensorflow.keras.callbacks import EarlyStopping, ModelCheckpoint\n",
    "\n",
    "embedding_dim = 128\n",
    "hidden_size = 256\n",
    "\n",
    "encoder_inputs = Input(shape=(text_max_len, ))\n",
    "enc_emb = Embedding(src_vocab, embedding_dim)(encoder_inputs)\n",
    "\n",
    "encoder_lstm1 = LSTM(hidden_size, return_sequences=True, return_state=True, dropout=0.4, recurrent_dropout=0.4)\n",
    "encoder_output1, state_h1, state_c1 = encoder_lstm1(enc_emb)\n",
    "\n",
    "encoder_lstm2 = LSTM(hidden_size, return_sequences=True, return_state=True, dropout=0.4, recurrent_dropout=0.4)\n",
    "encoder_output2, state_h2, state_c2 = encoder_lstm2(encoder_output1)\n",
    "\n",
    "encoder_lstm3 = LSTM(hidden_size, return_sequences=True, return_state=True, dropout=0.4, recurrent_dropout=0.4)\n",
    "encoder_outputs, state_h, state_c = encoder_lstm3(encoder_output2)"
   ]
  },
  {
   "cell_type": "code",
   "execution_count": 361,
   "id": "republican-satin",
   "metadata": {},
   "outputs": [
    {
     "name": "stdout",
     "output_type": "stream",
     "text": [
      "WARNING:tensorflow:Layer lstm_19 will not use cuDNN kernel since it doesn't meet the cuDNN kernel criteria. It will use generic GPU kernel as fallback when running on GPU\n"
     ]
    }
   ],
   "source": [
    "decoder_inputs = Input(shape=(None, ))\n",
    "\n",
    "dec_emb_layer = Embedding(tar_vocab, embedding_dim)\n",
    "dec_emb = dec_emb_layer(decoder_inputs)\n",
    "\n",
    "decoder_lstm = LSTM(hidden_size, return_sequences=True, return_state=True, dropout=0.4, recurrent_dropout=0.2)\n",
    "decoder_outputs, _, _ = decoder_lstm(dec_emb, initial_state=[state_h, state_c])"
   ]
  },
  {
   "cell_type": "code",
   "execution_count": 362,
   "id": "agreed-surface",
   "metadata": {},
   "outputs": [
    {
     "name": "stdout",
     "output_type": "stream",
     "text": [
      "Model: \"model_23\"\n",
      "__________________________________________________________________________________________________\n",
      "Layer (type)                    Output Shape         Param #     Connected to                     \n",
      "==================================================================================================\n",
      "input_41 (InputLayer)           [(None, 45)]         0                                            \n",
      "__________________________________________________________________________________________________\n",
      "embedding_8 (Embedding)         (None, 45, 128)      2368000     input_41[0][0]                   \n",
      "__________________________________________________________________________________________________\n",
      "lstm_16 (LSTM)                  [(None, 45, 256), (N 394240      embedding_8[0][0]                \n",
      "__________________________________________________________________________________________________\n",
      "input_42 (InputLayer)           [(None, None)]       0                                            \n",
      "__________________________________________________________________________________________________\n",
      "lstm_17 (LSTM)                  [(None, 45, 256), (N 525312      lstm_16[0][0]                    \n",
      "__________________________________________________________________________________________________\n",
      "embedding_9 (Embedding)         (None, None, 128)    960000      input_42[0][0]                   \n",
      "__________________________________________________________________________________________________\n",
      "lstm_18 (LSTM)                  [(None, 45, 256), (N 525312      lstm_17[0][0]                    \n",
      "__________________________________________________________________________________________________\n",
      "lstm_19 (LSTM)                  [(None, None, 256),  394240      embedding_9[0][0]                \n",
      "                                                                 lstm_18[0][1]                    \n",
      "                                                                 lstm_18[0][2]                    \n",
      "__________________________________________________________________________________________________\n",
      "dense_8 (Dense)                 (None, None, 7500)   1927500     lstm_19[0][0]                    \n",
      "==================================================================================================\n",
      "Total params: 7,094,604\n",
      "Trainable params: 7,094,604\n",
      "Non-trainable params: 0\n",
      "__________________________________________________________________________________________________\n"
     ]
    }
   ],
   "source": [
    "decoder_softmax_layer = Dense(tar_vocab, activation='softmax')\n",
    "decoder_softmax_outputs = decoder_softmax_layer(decoder_outputs)\n",
    "\n",
    "model = Model([encoder_inputs, decoder_inputs], decoder_softmax_outputs)\n",
    "model.summary()"
   ]
  },
  {
   "cell_type": "code",
   "execution_count": 363,
   "id": "durable-delaware",
   "metadata": {},
   "outputs": [],
   "source": [
    "urllib.request.urlretrieve(\"https://raw.githubusercontent.com/thushv89/attention_keras/master/src/layers/attention.py\", filename=\"attention.py\")\n",
    "from attention import AttentionLayer"
   ]
  },
  {
   "cell_type": "code",
   "execution_count": 364,
   "id": "played-point",
   "metadata": {},
   "outputs": [
    {
     "name": "stdout",
     "output_type": "stream",
     "text": [
      "Model: \"model_24\"\n",
      "__________________________________________________________________________________________________\n",
      "Layer (type)                    Output Shape         Param #     Connected to                     \n",
      "==================================================================================================\n",
      "input_41 (InputLayer)           [(None, 45)]         0                                            \n",
      "__________________________________________________________________________________________________\n",
      "embedding_8 (Embedding)         (None, 45, 128)      2368000     input_41[0][0]                   \n",
      "__________________________________________________________________________________________________\n",
      "lstm_16 (LSTM)                  [(None, 45, 256), (N 394240      embedding_8[0][0]                \n",
      "__________________________________________________________________________________________________\n",
      "input_42 (InputLayer)           [(None, None)]       0                                            \n",
      "__________________________________________________________________________________________________\n",
      "lstm_17 (LSTM)                  [(None, 45, 256), (N 525312      lstm_16[0][0]                    \n",
      "__________________________________________________________________________________________________\n",
      "embedding_9 (Embedding)         (None, None, 128)    960000      input_42[0][0]                   \n",
      "__________________________________________________________________________________________________\n",
      "lstm_18 (LSTM)                  [(None, 45, 256), (N 525312      lstm_17[0][0]                    \n",
      "__________________________________________________________________________________________________\n",
      "lstm_19 (LSTM)                  [(None, None, 256),  394240      embedding_9[0][0]                \n",
      "                                                                 lstm_18[0][1]                    \n",
      "                                                                 lstm_18[0][2]                    \n",
      "__________________________________________________________________________________________________\n",
      "attention_layer (AttentionLayer ((None, None, 256),  131328      lstm_18[0][0]                    \n",
      "                                                                 lstm_19[0][0]                    \n",
      "__________________________________________________________________________________________________\n",
      "concat_layer (Concatenate)      (None, None, 512)    0           lstm_19[0][0]                    \n",
      "                                                                 attention_layer[0][0]            \n",
      "__________________________________________________________________________________________________\n",
      "dense_9 (Dense)                 (None, None, 7500)   3847500     concat_layer[0][0]               \n",
      "==================================================================================================\n",
      "Total params: 9,145,932\n",
      "Trainable params: 9,145,932\n",
      "Non-trainable params: 0\n",
      "__________________________________________________________________________________________________\n"
     ]
    }
   ],
   "source": [
    "attn_layer = AttentionLayer(name='attention_layer')\n",
    "\n",
    "attn_out, attn_states = attn_layer([encoder_outputs, decoder_outputs])\n",
    "\n",
    "decoder_concat_input = Concatenate(axis=-1, name='concat_layer')([decoder_outputs, attn_out])\n",
    "\n",
    "decoder_softmax_layer = Dense(tar_vocab, activation='softmax')\n",
    "decoder_softmax_outputs = decoder_softmax_layer(decoder_concat_input)\n",
    "\n",
    "model = Model([encoder_inputs, decoder_inputs], decoder_softmax_outputs)\n",
    "model.summary()"
   ]
  },
  {
   "cell_type": "code",
   "execution_count": 365,
   "id": "legal-donna",
   "metadata": {},
   "outputs": [
    {
     "name": "stdout",
     "output_type": "stream",
     "text": [
      "Epoch 1/50\n",
      "274/274 [==============================] - 209s 722ms/step - loss: 6.5918 - val_loss: 5.8943\n",
      "Epoch 2/50\n",
      "274/274 [==============================] - 198s 722ms/step - loss: 5.8090 - val_loss: 5.5215\n",
      "Epoch 3/50\n",
      "274/274 [==============================] - 199s 725ms/step - loss: 5.4182 - val_loss: 5.2295\n",
      "Epoch 4/50\n",
      "274/274 [==============================] - 199s 728ms/step - loss: 5.1099 - val_loss: 5.0123\n",
      "Epoch 5/50\n",
      "274/274 [==============================] - 199s 725ms/step - loss: 4.8564 - val_loss: 4.8540\n",
      "Epoch 6/50\n",
      "274/274 [==============================] - 198s 723ms/step - loss: 4.6414 - val_loss: 4.7263\n",
      "Epoch 7/50\n",
      "274/274 [==============================] - 200s 731ms/step - loss: 4.4558 - val_loss: 4.6276\n",
      "Epoch 8/50\n",
      "274/274 [==============================] - 198s 723ms/step - loss: 4.3032 - val_loss: 4.5389\n",
      "Epoch 9/50\n",
      "274/274 [==============================] - 198s 724ms/step - loss: 4.1585 - val_loss: 4.4768\n",
      "Epoch 10/50\n",
      "274/274 [==============================] - 197s 721ms/step - loss: 4.0379 - val_loss: 4.4196\n",
      "Epoch 11/50\n",
      "274/274 [==============================] - 199s 726ms/step - loss: 3.9239 - val_loss: 4.3758\n",
      "Epoch 12/50\n",
      "274/274 [==============================] - 199s 726ms/step - loss: 3.8226 - val_loss: 4.3348\n",
      "Epoch 13/50\n",
      "274/274 [==============================] - 199s 728ms/step - loss: 3.7193 - val_loss: 4.3039\n",
      "Epoch 14/50\n",
      "274/274 [==============================] - 199s 725ms/step - loss: 3.6303 - val_loss: 4.2710\n",
      "Epoch 15/50\n",
      "274/274 [==============================] - 199s 728ms/step - loss: 3.5479 - val_loss: 4.2483\n",
      "Epoch 16/50\n",
      "274/274 [==============================] - 200s 730ms/step - loss: 3.4689 - val_loss: 4.2298\n",
      "Epoch 17/50\n",
      "274/274 [==============================] - 199s 726ms/step - loss: 3.3977 - val_loss: 4.2151\n",
      "Epoch 18/50\n",
      "274/274 [==============================] - 199s 726ms/step - loss: 3.3341 - val_loss: 4.2003\n",
      "Epoch 19/50\n",
      "274/274 [==============================] - 200s 730ms/step - loss: 3.2644 - val_loss: 4.1951\n",
      "Epoch 20/50\n",
      "274/274 [==============================] - 199s 726ms/step - loss: 3.2039 - val_loss: 4.1776\n",
      "Epoch 21/50\n",
      "274/274 [==============================] - 199s 728ms/step - loss: 3.1480 - val_loss: 4.1776\n",
      "Epoch 22/50\n",
      "274/274 [==============================] - 198s 725ms/step - loss: 3.0944 - val_loss: 4.1656\n",
      "Epoch 23/50\n",
      "274/274 [==============================] - 200s 729ms/step - loss: 3.0408 - val_loss: 4.1615\n",
      "Epoch 24/50\n",
      "274/274 [==============================] - 199s 726ms/step - loss: 2.9867 - val_loss: 4.1599\n",
      "Epoch 25/50\n",
      "274/274 [==============================] - 199s 727ms/step - loss: 2.9466 - val_loss: 4.1645\n",
      "Epoch 26/50\n",
      "274/274 [==============================] - 199s 725ms/step - loss: 2.8985 - val_loss: 4.1606\n",
      "Epoch 00026: early stopping\n"
     ]
    }
   ],
   "source": [
    "model.compile(optimizer='rmsprop', loss='sparse_categorical_crossentropy')\n",
    "es = EarlyStopping(monitor='val_loss', patience=2, verbose=1)\n",
    "history = model.fit(x=[encoder_input_train, decoder_input_train], y=decoder_target_train, \\\n",
    "          validation_data=([encoder_input_test, decoder_input_test], decoder_target_test), \\\n",
    "          batch_size=256, callbacks=[es], epochs=50)"
   ]
  },
  {
   "cell_type": "code",
   "execution_count": 366,
   "id": "requested-rally",
   "metadata": {},
   "outputs": [
    {
     "data": {
      "image/png": "[encoded data removed]",
      "text/plain": [
       "<Figure size 432x288 with 1 Axes>"
      ]
     },
     "metadata": {
      "needs_background": "light"
     },
     "output_type": "display_data"
    }
   ],
   "source": [
    "plt.plot(history.history['loss'], label='train')\n",
    "plt.plot(history.history['val_loss'], label='test')\n",
    "plt.title('LOSS')\n",
    "plt.legend()\n",
    "plt.show()"
   ]
  },
  {
   "cell_type": "markdown",
   "id": "southwest-regression",
   "metadata": {},
   "source": [
    "**val_loss가 약 4.1606정도에서 멈췄습니다.**"
   ]
  },
  {
   "cell_type": "markdown",
   "id": "electric-design",
   "metadata": {},
   "source": [
    "## Inference Model"
   ]
  },
  {
   "cell_type": "code",
   "execution_count": 367,
   "id": "front-handbook",
   "metadata": {},
   "outputs": [],
   "source": [
    "src_index_to_word = src_tokenizer.index_word\n",
    "tar_word_to_index = tar_tokenizer.word_index\n",
    "tar_index_to_word = tar_tokenizer.index_word"
   ]
  },
  {
   "cell_type": "code",
   "execution_count": 368,
   "id": "brilliant-infrared",
   "metadata": {},
   "outputs": [],
   "source": [
    "# 인코더 설계\n",
    "encoder_model = Model(inputs=encoder_inputs, outputs=[encoder_outputs, state_h, state_c])\n",
    "\n",
    "# 이전 시점의 상태들을 저장하는 텐서\n",
    "decoder_state_input_h = Input(shape=(hidden_size,))\n",
    "decoder_state_input_c = Input(shape=(hidden_size,))\n",
    "\n",
    "dec_emb2 = dec_emb_layer(decoder_inputs)\n",
    "\n",
    "# 문장의 다음 단어를 예측하기 위해서 초기 상태(initial_state)를 이전 시점의 상태로 사용. 이는 뒤의 함수 decode_sequence()에 구현\n",
    "# 훈련 과정에서와 달리 LSTM의 리턴하는 은닉 상태와 셀 상태인 state_h와 state_c를 버리지 않음.\n",
    "decoder_outputs2, state_h2, state_c2 = decoder_lstm(dec_emb2, initial_state=[decoder_state_input_h, decoder_state_input_c])"
   ]
  },
  {
   "cell_type": "code",
   "execution_count": 369,
   "id": "behind-index",
   "metadata": {},
   "outputs": [],
   "source": [
    "# 어텐션 함수\n",
    "decoder_hidden_state_input = Input(shape=(text_max_len, hidden_size))\n",
    "attn_out_inf, attn_states_inf = attn_layer([decoder_hidden_state_input, decoder_outputs2])\n",
    "decoder_inf_concat = Concatenate(axis=-1, name='concat')([decoder_outputs2, attn_out_inf])\n",
    "\n",
    "# 디코더의 출력층\n",
    "decoder_outputs2 = decoder_softmax_layer(decoder_inf_concat) \n",
    "\n",
    "# 최종 디코더 모델\n",
    "decoder_model = Model(\n",
    "    [decoder_inputs] + [decoder_hidden_state_input,decoder_state_input_h, decoder_state_input_c],\n",
    "    [decoder_outputs2] + [state_h2, state_c2])"
   ]
  },
  {
   "cell_type": "code",
   "execution_count": 370,
   "id": "dried-working",
   "metadata": {},
   "outputs": [
    {
     "name": "stdout",
     "output_type": "stream",
     "text": [
      "Model: \"model_26\"\n",
      "__________________________________________________________________________________________________\n",
      "Layer (type)                    Output Shape         Param #     Connected to                     \n",
      "==================================================================================================\n",
      "input_42 (InputLayer)           [(None, None)]       0                                            \n",
      "__________________________________________________________________________________________________\n",
      "embedding_9 (Embedding)         (None, None, 128)    960000      input_42[0][0]                   \n",
      "__________________________________________________________________________________________________\n",
      "input_43 (InputLayer)           [(None, 256)]        0                                            \n",
      "__________________________________________________________________________________________________\n",
      "input_44 (InputLayer)           [(None, 256)]        0                                            \n",
      "__________________________________________________________________________________________________\n",
      "lstm_19 (LSTM)                  [(None, None, 256),  394240      embedding_9[1][0]                \n",
      "                                                                 input_43[0][0]                   \n",
      "                                                                 input_44[0][0]                   \n",
      "__________________________________________________________________________________________________\n",
      "input_45 (InputLayer)           [(None, 45, 256)]    0                                            \n",
      "__________________________________________________________________________________________________\n",
      "attention_layer (AttentionLayer ((None, None, 256),  131328      input_45[0][0]                   \n",
      "                                                                 lstm_19[1][0]                    \n",
      "__________________________________________________________________________________________________\n",
      "concat (Concatenate)            (None, None, 512)    0           lstm_19[1][0]                    \n",
      "                                                                 attention_layer[1][0]            \n",
      "__________________________________________________________________________________________________\n",
      "dense_9 (Dense)                 (None, None, 7500)   3847500     concat[0][0]                     \n",
      "==================================================================================================\n",
      "Total params: 5,333,068\n",
      "Trainable params: 5,333,068\n",
      "Non-trainable params: 0\n",
      "__________________________________________________________________________________________________\n"
     ]
    }
   ],
   "source": [
    "decoder_model.summary()"
   ]
  },
  {
   "cell_type": "code",
   "execution_count": 371,
   "id": "pleasant-index",
   "metadata": {},
   "outputs": [],
   "source": [
    "def decode_sequence(input_seq):\n",
    "    \n",
    "    e_out, e_h, e_c = encoder_model.predict(input_seq)\n",
    "    \n",
    "    target_seq = np.zeros((1,1))\n",
    "    target_seq[0, 0] = tar_word_to_index['sostoken']\n",
    "    \n",
    "    stop_condition = False\n",
    "    decoded_sentence = ''\n",
    "    while not stop_condition:\n",
    "        output_tokens, h, c = decoder_model.predict([target_seq] + [e_out, e_h, e_c])\n",
    "        sampled_token_index = np.argmax(output_tokens[0, -1, :])\n",
    "        sampled_token = tar_index_to_word[sampled_token_index]\n",
    "        \n",
    "        if (sampled_token != 'eostoken'):\n",
    "            decoded_sentence += ' ' + sampled_token\n",
    "            \n",
    "        if (sampled_token == 'eostoken' or len(decoded_sentence.split()) >= (headlines_max_len-1)):\n",
    "            stop_condition = True\n",
    "        \n",
    "        target_seq = np.zeros((1, 1))\n",
    "        target_seq[0, 0] = sampled_token_index\n",
    "        \n",
    "        e_h, e_c = h, c\n",
    "        \n",
    "    return decoded_sentence"
   ]
  },
  {
   "cell_type": "code",
   "execution_count": 372,
   "id": "adequate-given",
   "metadata": {},
   "outputs": [],
   "source": [
    "def seq2text(input_seq):\n",
    "    temp = ''\n",
    "    \n",
    "    for i in input_seq:\n",
    "        if (i!=0):\n",
    "            temp = temp + src_index_to_word[i] + ' '\n",
    "    \n",
    "    return temp\n",
    "\n",
    "def seq2summary(input_seq):\n",
    "    temp = ''\n",
    "    for i in input_seq:\n",
    "        if ((i!=0 and i!=tar_word_to_index['sostoken']) and i!=tar_word_to_index['eostoken']):\n",
    "            temp = temp + tar_index_to_word[i] + ' '\n",
    "            \n",
    "    return temp"
   ]
  },
  {
   "cell_type": "code",
   "execution_count": 373,
   "id": "lasting-fairy",
   "metadata": {
    "scrolled": true
   },
   "outputs": [
    {
     "name": "stdout",
     "output_type": "stream",
     "text": [
      "원문 : parliamentary panel headed congress leader chidambaram wednesday informed crpf personnel posted chhattisgarh naxal hit areas facing difficulties getting daily meals panel recommended mechanism developed ensuring regular supply food jawans panel also expressed anguish conditions jawans country \n",
      "실제 요약 : garh crpf jawans face problem getting food chidambaram \n",
      "예측 요약 :  andhra govt seeks permission suicide\n",
      "\n",
      "\n",
      "원문 : austrian man sued daughter taking long complete undergraduate studies took complete degree usually takes eight supreme court decided father case ruling obliged pay months fees \n",
      "실제 요약 : man sues daughter taking long graduate \n",
      "예측 요약 :  man gets life old degree\n",
      "\n",
      "\n",
      "원문 : cricketers kl rahul hardik pandya suspended remarks women koffee karan harbhajan singh said would want travel bus wife daughter put everyone reputation stake never created kind culture team added \n",
      "실제 요약 : travel hardik rahul bus family harbhajan \n",
      "예측 요약 :  pandya rahul wear women\n",
      "\n",
      "\n",
      "원문 : actor tom known films like pearl harbour accused touching year old co star genitals sets film born killers reportedly sent home actress parents complained producers former actress said hired lawyer take action parents \n",
      "실제 요약 : actor accused touching yr old genitals \n",
      "예측 요약 :  actor sexually assaulted year old film\n",
      "\n",
      "\n",
      "원문 : south african pacer dale steyn included india former opening pair sachin tendulkar virender sehwag time best test xi steyn include list picked wickets test matches far notably steyn included six south african players extended list players \n",
      "실제 요약 : steyn names sachin sehwag time best test xi \n",
      "예측 요약 :  sachin sehwag best player represent india odi\n",
      "\n",
      "\n",
      "원문 : year old fashion designer found dead house mumbai sunita singh discovered lying dead floor bathroom year old son police officials said prima facie suspect slipped bathroom suffered injuries head son questioned police \n",
      "실제 요약 : yr old fashion designer found dead house mumbai \n",
      "예측 요약 :  model dies shooting\n",
      "\n",
      "\n",
      "원문 : uae begun three month visa amnesty program allows illegal foreign workers legalise status country return home residents permits fined leave country voluntarily amnesty also grants seeking employment six month visa find job \n",
      "실제 요약 : uae begins visa amnesty program illegal foreign workers \n",
      "예측 요약 :  uae indians asked pay leave visas\n",
      "\n",
      "\n",
      "원문 : durga one two women entered kerala sabarimala became first temple ban women menstrual age beaten mother law upon return home sustained head injury currently undergoing treatment hospital mother law favour durga entering sabarimala friend said \n",
      "실제 요약 : st woman enter sabarimala beaten mother law hospitalised \n",
      "예측 요약 :  women entered sabarimala temple women\n",
      "\n",
      "\n",
      "원문 : facebook owned messaging service whatsapp started rolling update allows group admins block people sending messages inside group chats admins block participants messaging group selecting admins group settings feature messages would appear normal participants however admins would able post messages \n",
      "실제 요약 : whatsapp group restrict people messaging \n",
      "예측 요약 :  whatsapp rolls back whatsapp group chats reports\n",
      "\n",
      "\n",
      "원문 : flipkart co founder binny bansal backed venture capital firm capital led million funding round bengaluru based food startup cook impact fund existing investor also participated latest funding round founded startup uses technology extend shelf life food without \n",
      "실제 요약 : binny bansal backed firm leads million funding cook \n",
      "예측 요약 :  flipkart co founders backed startup raises million\n",
      "\n",
      "\n",
      "원문 : indian equity benchmark sensex wiped gains fell points thursday close following sell offs across global markets broader nifty index ended points lower net basis foreign funds sold billion worth domestic stocks debt far year \n",
      "실제 요약 : sensex falls points gains \n",
      "예측 요약 :  sensex closes points nifty\n",
      "\n",
      "\n",
      "원문 : sri lanka prime minister ranil wickremesinghe said government struggling pay record foreign debt billion year wickremesinghe blamed political crisis last year triggered ouster dealing death blow economy struggling recover sri lanka lost billion foreign reserves \n",
      "실제 요약 : sri lanka pay foreign debt billion pm \n",
      "예측 요약 :  sri lanka pm bn amid bn crisis\n",
      "\n",
      "\n",
      "원문 : technology major apple hired former nasa engineer jeff work augmented reality products joined nasa helped create software controlling mars exploration ground last year apple ceo tim cook said augmented reality soon become almost like eating three meals day \n",
      "실제 요약 : apple hires ex nasa engineer reality project \n",
      "예측 요약 :  tesla hires elon musk\n",
      "\n",
      "\n",
      "원문 : pakistan acting law information minister syed ali zafar represent country last rites former pm atal bihari vajpayee friday foreign dignitaries like bhutan king nepal foreign minister pk sri lanka acting foreign minister also expected attend funeral \n",
      "실제 요약 : pakistan minister attend funeral former pm vajpayee \n",
      "예측 요약 :  pak pm vajpayee sushma swaraj\n",
      "\n",
      "\n",
      "원문 : us based startup toys launched updated version paper airplane features device controlled smartphone startup also offers folding papers made different users connect device bluetooth control via app take flight tilt wrist turns speed \n",
      "실제 요약 : startup makes phone controlled paper plane priced \n",
      "예측 요약 :  startup makes smart smart device\n",
      "\n",
      "\n",
      "원문 : least five members family killed fire broke residential building himachal pradesh mandi district monday initial reports suggest cylinder blast responsible fire broke wedding party returned home late night deceased included parents groom sister \n",
      "실제 요약 : five family killed fire building himachal \n",
      "예측 요약 :  killed injured accident mumbai\n",
      "\n",
      "\n"
     ]
    }
   ],
   "source": [
    "for i in range(44, 60):\n",
    "    print(\"원문 :\", seq2text(encoder_input_test[i]))\n",
    "    print(\"실제 요약 :\", seq2summary(decoder_input_test[i]))\n",
    "    print(\"예측 요약 :\", decode_sequence(encoder_input_test[i].reshape(1, text_max_len)))\n",
    "    print(\"\\n\")"
   ]
  },
  {
   "cell_type": "markdown",
   "id": "alpine-terrain",
   "metadata": {},
   "source": [
    "## 전처리를 다르게 해보기(1)"
   ]
  },
  {
   "cell_type": "code",
   "execution_count": 6,
   "id": "european-greensboro",
   "metadata": {},
   "outputs": [],
   "source": [
    "data = original_data.copy()"
   ]
  },
  {
   "cell_type": "markdown",
   "id": "accessible-mission",
   "metadata": {},
   "source": [
    "### (1) `dropna`, `drop_duplicates` - 기존과 똑같음."
   ]
  },
  {
   "cell_type": "code",
   "execution_count": 7,
   "id": "legitimate-female",
   "metadata": {},
   "outputs": [
    {
     "name": "stdout",
     "output_type": "stream",
     "text": [
      "전체 샘플 수: 98401\n",
      "text열에서 중복을 배제한 유일한 샘플의 수: 98360\n",
      "headlines열에서 중복을 배제한 유일한 샘플의 수: 98280\n"
     ]
    }
   ],
   "source": [
    "print(f\"전체 샘플 수: {len(data)}\")\n",
    "print(f\"text열에서 중복을 배제한 유일한 샘플의 수: {data['text'].nunique()}\")\n",
    "print(f\"headlines열에서 중복을 배제한 유일한 샘플의 수: {data['headlines'].nunique()}\")"
   ]
  },
  {
   "cell_type": "markdown",
   "id": "genetic-reputation",
   "metadata": {},
   "source": [
    "요약은 중복된 경우가 충분히 나올 수 있으므로 text열에서 중복이 되는 샘플을 확인 후 지워주겠습니다."
   ]
  },
  {
   "cell_type": "code",
   "execution_count": 8,
   "id": "otherwise-spotlight",
   "metadata": {},
   "outputs": [
    {
     "data": {
      "text/plain": [
       "78519    A TechCrunch report has claimed that IndiaÃ¢Â...\n",
       "80355    As many as 54,250 fluorescent-yellow tennis ba...\n",
       "84724    Australia won the 1999 Cricket World Cup after...\n",
       "52021    Australia's Anthony Stuart took a hat-trick in...\n",
       "70392    Before India-England 2011 World Cup match, for...\n",
       "44594    Berger Paints has launched Berger Express Pain...\n",
       "81352    Born on July 10, 1856, Serbian inventor Nikola...\n",
       "63533    Born on October 30, 1909, Padma Bhushan-awarde...\n",
       "78521    CARS24 has enabled car owners to sell their ca...\n",
       "53865    Cricket legend Don Bradman reversed the Austra...\n",
       "55208    During an El ClÃÂ¡sico match in 2002, Barcelo...\n",
       "53731    England captain Mike Denness left himself out ...\n",
       "59705    England was beaten at home for the first time ...\n",
       "74095    English astronomer Arthur Eddington used 1919'...\n",
       "60885    Fijian cricketer Ilikena Lasarusa Talebulamain...\n",
       "61445    Former Australian fast bowler Glenn McGrath, w...\n",
       "54078    Former Australian leg-spinner Shane Warne was ...\n",
       "71887    Former England players David Gower and John Mo...\n",
       "70249    Former Pakistan captain Inzamam-ul-Haq attacke...\n",
       "51012    Former Pakistani cricketer Hanif Mohammad batt...\n",
       "58769    Former Services' medium-pacer Joginder Rao pic...\n",
       "53578    Former Windies' captain Brian Lara named his f...\n",
       "78244    Former Windies' cricketer Garry Sobers, the fi...\n",
       "62639    Former batsman Sachin Tendulkar became the fir...\n",
       "53892    German Formula One legend Michael Schumacher, ...\n",
       "62785    India conceded an ODI against Pakistan on Nove...\n",
       "84195    June 21 marks the beginning of summer in Earth...\n",
       "75349    Legendary Australian batsman Donald Bradman ha...\n",
       "86430    Legendary Australian spinner Shane Warne bowle...\n",
       "55374    National Mathematics Day is celebrated on Dece...\n",
       "78522    Reebok has launched FlexweaveÃ¢ÂÂan innovati...\n",
       "20754    Safeguard yourself against life's unpleasant s...\n",
       "69673    The New Zealand-Zimbabwe Test, which started o...\n",
       "60724    The Test in which Sachin Tendulkar made his in...\n",
       "61055    The first wicket and first catch in Test crick...\n",
       "58715    The first-ever official international football...\n",
       "62575    Virat Kohli dismissed England's Kevin Pieterse...\n",
       "57402    Virender Sehwag was captaining India when he h...\n",
       "64468    WeWork is a platform for creators, which provi...\n",
       "58934    Windies' Gus Logie was adjudged Man of the Mat...\n",
       "62063    Zimbabwe played an ODI against New Zealand in ...\n",
       "Name: text, dtype: object"
      ]
     },
     "execution_count": 8,
     "metadata": {},
     "output_type": "execute_result"
    }
   ],
   "source": [
    "data[data.duplicated('text')].sort_values(by='text')['text']"
   ]
  },
  {
   "cell_type": "code",
   "execution_count": 9,
   "id": "guided-wagon",
   "metadata": {},
   "outputs": [
    {
     "name": "stdout",
     "output_type": "stream",
     "text": [
      "전체 샘플 수: 98360\n"
     ]
    }
   ],
   "source": [
    "data.drop_duplicates(subset=['text'], inplace=True)\n",
    "print(f\"전체 샘플 수: {len(data)}\")"
   ]
  },
  {
   "cell_type": "markdown",
   "id": "upset-traveler",
   "metadata": {},
   "source": [
    "중복은 제거했지만 null값을 확인해보고 제외해주겠습니다."
   ]
  },
  {
   "cell_type": "code",
   "execution_count": 10,
   "id": "blocked-occupation",
   "metadata": {
    "scrolled": true
   },
   "outputs": [
    {
     "name": "stdout",
     "output_type": "stream",
     "text": [
      "headlines    0\n",
      "text         0\n",
      "dtype: int64\n"
     ]
    }
   ],
   "source": [
    "print(data.isnull().sum())"
   ]
  },
  {
   "cell_type": "markdown",
   "id": "rolled-commons",
   "metadata": {},
   "source": [
    "확인결과 null값이 없으므로 추가적인 삭제는 해주지 않아도 될 것 같습니다."
   ]
  },
  {
   "cell_type": "markdown",
   "id": "coupled-wound",
   "metadata": {},
   "source": [
    "### (2) Text normalization\n",
    "전처리과정에서 동일한 의미를 가지지만 축약형으로 표현이 된 단어들을 풀어줘 같은 단어로 인식이 되게끔 text normalization(텍스트 정규화)을 진행하겠습니다. \n",
    "\n",
    "우선은 노드에서 사용된 정규화 사전을 그대로 사용하겠습니다.\n",
    "\n",
    "텍스트 정규화에도 stemmization, lemmatization과 같은 다양한 방법이 있습니다. 해당 방법은 사용하지는 않았으나 참고를 위해 링크를 남겨두겠습니다. [링크](https://towardsdatascience.com/text-normalization-for-natural-language-processing-nlp-70a314bfa646)"
   ]
  },
  {
   "cell_type": "code",
   "execution_count": 11,
   "id": "median-ancient",
   "metadata": {},
   "outputs": [
    {
     "name": "stdout",
     "output_type": "stream",
     "text": [
      "정규화 사전의 수:  120\n"
     ]
    }
   ],
   "source": [
    "contractions = {\"ain't\": \"is not\", \"aren't\": \"are not\",\"can't\": \"cannot\", \"'cause\": \"because\", \"could've\": \"could have\", \"couldn't\": \"could not\",\n",
    "                           \"didn't\": \"did not\",  \"doesn't\": \"does not\", \"don't\": \"do not\", \"hadn't\": \"had not\", \"hasn't\": \"has not\", \"haven't\": \"have not\",\n",
    "                           \"he'd\": \"he would\",\"he'll\": \"he will\", \"he's\": \"he is\", \"how'd\": \"how did\", \"how'd'y\": \"how do you\", \"how'll\": \"how will\", \"how's\": \"how is\",\n",
    "                           \"I'd\": \"I would\", \"I'd've\": \"I would have\", \"I'll\": \"I will\", \"I'll've\": \"I will have\",\"I'm\": \"I am\", \"I've\": \"I have\", \"i'd\": \"i would\",\n",
    "                           \"i'd've\": \"i would have\", \"i'll\": \"i will\",  \"i'll've\": \"i will have\",\"i'm\": \"i am\", \"i've\": \"i have\", \"isn't\": \"is not\", \"it'd\": \"it would\",\n",
    "                           \"it'd've\": \"it would have\", \"it'll\": \"it will\", \"it'll've\": \"it will have\",\"it's\": \"it is\", \"let's\": \"let us\", \"ma'am\": \"madam\",\n",
    "                           \"mayn't\": \"may not\", \"might've\": \"might have\",\"mightn't\": \"might not\",\"mightn't've\": \"might not have\", \"must've\": \"must have\",\n",
    "                           \"mustn't\": \"must not\", \"mustn't've\": \"must not have\", \"needn't\": \"need not\", \"needn't've\": \"need not have\",\"o'clock\": \"of the clock\",\n",
    "                           \"oughtn't\": \"ought not\", \"oughtn't've\": \"ought not have\", \"shan't\": \"shall not\", \"sha'n't\": \"shall not\", \"shan't've\": \"shall not have\",\n",
    "                           \"she'd\": \"she would\", \"she'd've\": \"she would have\", \"she'll\": \"she will\", \"she'll've\": \"she will have\", \"she's\": \"she is\",\n",
    "                           \"should've\": \"should have\", \"shouldn't\": \"should not\", \"shouldn't've\": \"should not have\", \"so've\": \"so have\",\"so's\": \"so as\",\n",
    "                           \"this's\": \"this is\",\"that'd\": \"that would\", \"that'd've\": \"that would have\", \"that's\": \"that is\", \"there'd\": \"there would\",\n",
    "                           \"there'd've\": \"there would have\", \"there's\": \"there is\", \"here's\": \"here is\",\"they'd\": \"they would\", \"they'd've\": \"they would have\",\n",
    "                           \"they'll\": \"they will\", \"they'll've\": \"they will have\", \"they're\": \"they are\", \"they've\": \"they have\", \"to've\": \"to have\",\n",
    "                           \"wasn't\": \"was not\", \"we'd\": \"we would\", \"we'd've\": \"we would have\", \"we'll\": \"we will\", \"we'll've\": \"we will have\", \"we're\": \"we are\",\n",
    "                           \"we've\": \"we have\", \"weren't\": \"were not\", \"what'll\": \"what will\", \"what'll've\": \"what will have\", \"what're\": \"what are\",\n",
    "                           \"what's\": \"what is\", \"what've\": \"what have\", \"when's\": \"when is\", \"when've\": \"when have\", \"where'd\": \"where did\", \"where's\": \"where is\",\n",
    "                           \"where've\": \"where have\", \"who'll\": \"who will\", \"who'll've\": \"who will have\", \"who's\": \"who is\", \"who've\": \"who have\",\n",
    "                           \"why's\": \"why is\", \"why've\": \"why have\", \"will've\": \"will have\", \"won't\": \"will not\", \"won't've\": \"will not have\",\n",
    "                           \"would've\": \"would have\", \"wouldn't\": \"would not\", \"wouldn't've\": \"would not have\", \"y'all\": \"you all\",\n",
    "                           \"y'all'd\": \"you all would\",\"y'all'd've\": \"you all would have\",\"y'all're\": \"you all are\",\"y'all've\": \"you all have\",\n",
    "                           \"you'd\": \"you would\", \"you'd've\": \"you would have\", \"you'll\": \"you will\", \"you'll've\": \"you will have\",\n",
    "                           \"you're\": \"you are\", \"you've\": \"you have\"}\n",
    "\n",
    "print(\"정규화 사전의 수: \", len(contractions))"
   ]
  },
  {
   "cell_type": "markdown",
   "id": "sixth-contract",
   "metadata": {},
   "source": [
    "### Remove stopwords\n",
    "학습에 도움이 되지 않는다고 판단이 되는 stopwords들을 제거해주겠습니다. 이번에도 nltk에서 제공하는 불용어 리스트를 참조해 불용어를 제거해보겠습니다."
   ]
  },
  {
   "cell_type": "markdown",
   "id": "instrumental-latino",
   "metadata": {},
   "source": [
    "위에서 불용어 처리를 하면서 예로 들었던 \"When he was not there, she shouldn't have been there.\" 라는 문장이 기억나시나요? 그가 거기 없었을 때, 그녀는 거기 있었으면 안됐다. 라는 뜻의 이 문장은 불용어 처리를 통해 완전히 사라지게 됩니다. \n",
    "\n",
    "불용어는 문맥상 의미가 없다고 판단되어 지워지는 단어인데 얼핏 보기에도 'no', 'nor', 'not' 는 의미가 중요해보입니다.\n",
    "\n",
    "전반적인 전처리의 순서가 \n",
    "1. 소문자\n",
    "2. HTML 태그제거\n",
    "3. 괄호로 닫힌 문자열제거\n",
    "4. \"\" 제거\n",
    "5. contractions(축약어) 제거\n",
    "6. 소유격제거\n",
    "7. 영어 외 문자 제거\n",
    "8. 3개 이상의 m을 mm으로 바꿔주는 과정\n",
    "9. 불용어 제거\n",
    "\n",
    "로 마지막에 불용어 제거를 하므로 원래의 불용어에서 'no', 'nor', 'not' 등만 제외하고 새로운 리스트를 만들어보겠습니다.\n"
   ]
  },
  {
   "cell_type": "code",
   "execution_count": 12,
   "id": "twelve-flood",
   "metadata": {},
   "outputs": [
    {
     "name": "stdout",
     "output_type": "stream",
     "text": [
      "불용어 갯수: 179\n",
      "['i', 'me', 'my', 'myself', 'we', 'our', 'ours', 'ourselves', 'you', \"you're\", \"you've\", \"you'll\", \"you'd\", 'your', 'yours', 'yourself', 'yourselves', 'he', 'him', 'his', 'himself', 'she', \"she's\", 'her', 'hers', 'herself', 'it', \"it's\", 'its', 'itself', 'they', 'them', 'their', 'theirs', 'themselves', 'what', 'which', 'who', 'whom', 'this', 'that', \"that'll\", 'these', 'those', 'am', 'is', 'are', 'was', 'were', 'be', 'been', 'being', 'have', 'has', 'had', 'having', 'do', 'does', 'did', 'doing', 'a', 'an', 'the', 'and', 'but', 'if', 'or', 'because', 'as', 'until', 'while', 'of', 'at', 'by', 'for', 'with', 'about', 'against', 'between', 'into', 'through', 'during', 'before', 'after', 'above', 'below', 'to', 'from', 'up', 'down', 'in', 'out', 'on', 'off', 'over', 'under', 'again', 'further', 'then', 'once', 'here', 'there', 'when', 'where', 'why', 'how', 'all', 'any', 'both', 'each', 'few', 'more', 'most', 'other', 'some', 'such', 'no', 'nor', 'not', 'only', 'own', 'same', 'so', 'than', 'too', 'very', 's', 't', 'can', 'will', 'just', 'don', \"don't\", 'should', \"should've\", 'now', 'd', 'll', 'm', 'o', 're', 've', 'y', 'ain', 'aren', \"aren't\", 'couldn', \"couldn't\", 'didn', \"didn't\", 'doesn', \"doesn't\", 'hadn', \"hadn't\", 'hasn', \"hasn't\", 'haven', \"haven't\", 'isn', \"isn't\", 'ma', 'mightn', \"mightn't\", 'mustn', \"mustn't\", 'needn', \"needn't\", 'shan', \"shan't\", 'shouldn', \"shouldn't\", 'wasn', \"wasn't\", 'weren', \"weren't\", 'won', \"won't\", 'wouldn', \"wouldn't\"]\n"
     ]
    }
   ],
   "source": [
    "print(f\"불용어 갯수: {len(stopwords.words('english'))}\")\n",
    "print(stopwords.words('english'))"
   ]
  },
  {
   "cell_type": "code",
   "execution_count": 13,
   "id": "respected-obligation",
   "metadata": {},
   "outputs": [
    {
     "name": "stdout",
     "output_type": "stream",
     "text": [
      "수정한 불용어 갯수: 176\n"
     ]
    }
   ],
   "source": [
    "stopwords_list = stopwords.words('english')\n",
    "stopwords_list.remove('no')\n",
    "stopwords_list.remove('nor')\n",
    "stopwords_list.remove('not')\n",
    "\n",
    "print(f\"수정한 불용어 갯수: {len(stopwords_list)}\")"
   ]
  },
  {
   "cell_type": "markdown",
   "id": "weekly-morris",
   "metadata": {},
   "source": [
    "3개가 제외된 값이 맞으므로 의도대로 삭제된 것을 볼 수 있습니다."
   ]
  },
  {
   "cell_type": "markdown",
   "id": "bored-accuracy",
   "metadata": {},
   "source": [
    "기존의 전처리에서는 마지막에 정규표현식으로 'ummmmmm' -> 'umm' 과 같은 식으로 바꿔주는 부분이 있었습니다. 영어에서는 어떤 문자든 세개 이상 반복되면 하이픈을 붙여주고 있습니다. 예를 들어 bee-eater, shell-less 와 같은식으로 구분해서 표기를 하는 방식을 사용하고 있습니다.\n",
    "\n",
    "이런식의 표기에서 특수문자를 공백으로 별개의 단어로 구분을 해준다면 bee-eater, shell-less와 같은 단어는 살아남고 오히려 같은 알파벳(character)가 3번 이상 나오면 아얘 삭제를 하는 방향으로 진행해보겠습니다.\n",
    "\n",
    "또한 mm, Zz와 같이 단독적으로 존재하는 2번 이상의 알파벳 단어를 삭제했습니다. 5mm와 같은 경우는 의미가 있으므로 삭제되지 않습니다.\n",
    "\n",
    "간단한 예제로 확인해보겠습니다."
   ]
  },
  {
   "cell_type": "code",
   "execution_count": 14,
   "id": "random-pierce",
   "metadata": {},
   "outputs": [
    {
     "name": "stdout",
     "output_type": "stream",
     "text": [
      "cross section\n",
      "maybe that is 5mm size bee eater\n",
      "upgrad learner switches to career in ml al with 90 salary hike\n"
     ]
    }
   ],
   "source": [
    "sentence = 'cross-section'\n",
    "sentence = sentence.lower()\n",
    "sentence = BeautifulSoup(sentence, 'lxml').text\n",
    "sentence = re.sub(r'\\([^)]*\\)', '', sentence) # 괄호로 닫힌 문자열 제거\n",
    "sentence = re.sub('\"', '', sentence)\n",
    "sentence = ' '.join([contractions[t] if t in contractions else t for t in sentence.split(\" \")])\n",
    "sentence = re.sub(r\"'s\\b\", \"\", sentence)\n",
    "sentence = re.sub(\"[^a-zA-Z0-9]\", \" \", sentence)\n",
    "sentence = re.sub(\"(.)\\\\1{2,}\", '', sentence)\n",
    "sentence = re.sub(\"\\s(.)\\\\1{1,}\", ' ', sentence)\n",
    "sentence = re.sub(\"(^| ).( |$)\", ' ', sentence)\n",
    "sentence = re.sub(' +', ' ', sentence)\n",
    "sentence = sentence.strip()\n",
    "print(sentence)\n",
    "\n",
    "sentence = 'Ummmm, maybe, Ummmm, that is 5mm size bee-eater. zzz'\n",
    "sentence = sentence.lower()\n",
    "sentence = BeautifulSoup(sentence, 'lxml').text\n",
    "sentence = re.sub(r'\\([^)]*\\)', '', sentence) # 괄호로 닫힌 문자열 제거\n",
    "sentence = re.sub('\"', '', sentence)\n",
    "sentence = ' '.join([contractions[t] if t in contractions else t for t in sentence.split(\" \")])\n",
    "sentence = re.sub(r\"'s\\b\", \"\", sentence)\n",
    "sentence = re.sub(\"[^a-zA-Z0-9]\", \" \", sentence) # 추가\n",
    "sentence = re.sub(\"(.)\\\\1{2,}\", ' ', sentence)\n",
    "sentence = re.sub(\"\\s(.)\\\\1{1,}\", ' ', sentence) # 추가\n",
    "sentence = re.sub(\"(^| ).( |$)\", ' ', sentence)\n",
    "sentence = re.sub(' +', ' ', sentence)\n",
    "sentence = sentence.strip()\n",
    "print(sentence)\n",
    "\n",
    "sentence = original_data['headlines'][0]\n",
    "sentence = sentence.lower()\n",
    "sentence = BeautifulSoup(sentence, 'lxml').text\n",
    "sentence = re.sub(r'\\([^)]*\\)', '', sentence) # 괄호로 닫힌 문자열 제거\n",
    "sentence = re.sub('\"', '', sentence)\n",
    "sentence = ' '.join([contractions[t] if t in contractions else t for t in sentence.split(\" \")])\n",
    "sentence = re.sub(r\"'s\\b\", \"\", sentence)\n",
    "sentence = re.sub(\"[^a-zA-Z0-9]\", \" \", sentence) # 추가\n",
    "sentence = re.sub(\"(.)\\\\1{2,}\", ' ', sentence)\n",
    "sentence = re.sub(\"\\s(.)\\\\1{1,}\", ' ', sentence) # 추가\n",
    "sentence = re.sub(\"(^| ).( |$)\", ' ', sentence)\n",
    "sentence = re.sub(' +', ' ', sentence)\n",
    "sentence = sentence.strip()\n",
    "print(sentence)"
   ]
  },
  {
   "cell_type": "code",
   "execution_count": 16,
   "id": "meaning-acoustic",
   "metadata": {},
   "outputs": [],
   "source": [
    "def preprocess_sentence(sentence, remove_stopwords=True):\n",
    "    sentence = sentence.lower()\n",
    "    sentence = BeautifulSoup(sentence, 'lxml').text\n",
    "    sentence = re.sub(r'\\([^)]*\\)', '', sentence) # 괄호로 닫힌 문자열 제거\n",
    "    sentence = re.sub('\"', '', sentence)\n",
    "    sentence = ' '.join([contractions[t] if t in contractions else t for t in sentence.split(\" \")])\n",
    "    sentence = re.sub(r\"'s\\b\", \"\", sentence)\n",
    "    sentence = re.sub(\"[^a-zA-Z0-9]\", \" \", sentence) # 추가\n",
    "    sentence = re.sub(\"(.)\\\\1{2,}\", ' ', sentence)\n",
    "    sentence = re.sub(\"\\s(.)\\\\1{1,}\", ' ', sentence) # 추가\n",
    "    sentence = re.sub(\"(^| ).( |$)\", ' ', sentence)\n",
    "    sentence = re.sub(' +', ' ', sentence)\n",
    "    sentence = sentence.strip()\n",
    "    \n",
    "    if remove_stopwords:\n",
    "        tokens = ' '.join(word for word in sentence.split() if not word in stopwords_list if len(word) > 1)\n",
    "        \n",
    "    else:\n",
    "        tokens = ' '.join(word for word in sentence.split() if len(word) > 1)\n",
    "    \n",
    "    return tokens\n"
   ]
  },
  {
   "cell_type": "code",
   "execution_count": 17,
   "id": "returning-sleeve",
   "metadata": {},
   "outputs": [
    {
     "name": "stdout",
     "output_type": "stream",
     "text": [
      "When removing stopwords: not not\n",
      "When not removing stopwords: when he was not there she should not have been there\n"
     ]
    }
   ],
   "source": [
    "sample_text = \"When he was not there, she shouldn't have been there.\"\n",
    "print(f\"When removing stopwords: {preprocess_sentence(sample_text, True)}\")\n",
    "print(f\"When not removing stopwords: {preprocess_sentence(sample_text, False)}\")"
   ]
  },
  {
   "cell_type": "markdown",
   "id": "outstanding-crash",
   "metadata": {},
   "source": [
    "전처리의 속도를 올리기 위해 multi-processing을 이용하겠습니다."
   ]
  },
  {
   "cell_type": "code",
   "execution_count": 18,
   "id": "sound-absence",
   "metadata": {},
   "outputs": [],
   "source": [
    "import multiprocessing as mp\n",
    "from multiprocessing import Pool\n",
    "import numpy as np\n",
    "import time\n",
    "from functools import partial\n",
    "\n",
    "start = time.time()\n",
    "\n",
    "def appendTexts(sentences, remove_stopwords):\n",
    "    texts = []\n",
    "    for s in sentences:\n",
    "        texts += preprocess_sentence(s, remove_stopwords),\n",
    "    return texts\n",
    "\n",
    "def preprocess_data(data, remove_stopwords=True):\n",
    "    start_time = time.time()\n",
    "    num_cores = mp.cpu_count()\n",
    "    \n",
    "    text_data_split = np.array_split(data, num_cores)\n",
    "    pool = Pool(num_cores)\n",
    "    \n",
    "    processed_data = np.concatenate(pool.map(partial(appendTexts, remove_stopwords=remove_stopwords), text_data_split))\n",
    "    pool.close()\n",
    "    pool.join()\n",
    "    \n",
    "    print(time.time() - start_time, \" seconds\")\n",
    "    return processed_data"
   ]
  },
  {
   "cell_type": "code",
   "execution_count": 19,
   "id": "abroad-edgar",
   "metadata": {},
   "outputs": [
    {
     "name": "stdout",
     "output_type": "stream",
     "text": [
      "10.465738773345947  seconds\n",
      "['saurav kant alumnus upgrad pg program machine learning artificial intelligence sr systems engineer infosys almost years work experience program upgrad 360 degree career support helped transition data scientist tech mahindra 90 salary hike upgrad online power learning powered lakh careers'\n",
      " 'kunal shah credit card bill payment platform cred gave users chance win free food swiggy one year pranav kaushik delhi techie bagged reward spending cred coins users get one cred coin per rupee bill paid used avail rewards brands like ixigo bookmyshow ubereats cult fit'\n",
      " 'new zealand defeated india wickets fourth odi hamilton thursday win first match five match odi series india lost international match rohit sharma captaincy 12 consecutive victories dating back march 2018 match witnessed india getting 92 seventh lowest total odi cricket history'\n",
      " ...\n",
      " 'according reports new version science fiction film matrix development michael jordan reportedly play lead role film screenwriter zak penn talks write script film reports added actor keanu reeves starred original film followed two sequels'\n",
      " 'new music video shows rapper snoop dogg aiming toy gun clown character parodying us president donald trump video also shows tv airing news conference headline ronald klump wants deport doggs airing live clown house video remixed version song lavender'\n",
      " 'madhesi morcha alliance seven political parties withdrawn support pm pushpa kamal dahal led nepal government failed meet seven day ultimatum fulfil demands including endorsement revised constitution amendment bill morcha 36 seats parliament despite withdrawal support no immediate threat government']\n"
     ]
    }
   ],
   "source": [
    "clean_text = preprocess_data(data['text'])\n",
    "print(clean_text)"
   ]
  },
  {
   "cell_type": "code",
   "execution_count": 20,
   "id": "handed-scope",
   "metadata": {},
   "outputs": [
    {
     "name": "stdout",
     "output_type": "stream",
     "text": [
      "6.903073072433472  seconds\n",
      "['upgrad learner switches career ml al 90 salary hike'\n",
      " 'delhi techie wins free food swiggy one year cred'\n",
      " 'new zealand end rohit sharma led india 12 match winning streak' ...\n",
      " 'matrix film get reboot reports'\n",
      " 'snoop dogg aims gun clown dressed trump new video'\n",
      " 'madhesi morcha withdraws support nepalese government']\n"
     ]
    }
   ],
   "source": [
    "clean_headlines = preprocess_data(data['headlines'])\n",
    "print(clean_headlines)"
   ]
  },
  {
   "cell_type": "code",
   "execution_count": 21,
   "id": "green-junior",
   "metadata": {},
   "outputs": [
    {
     "data": {
      "text/plain": [
       "98360"
      ]
     },
     "execution_count": 21,
     "metadata": {},
     "output_type": "execute_result"
    }
   ],
   "source": [
    "len(clean_text)"
   ]
  },
  {
   "cell_type": "code",
   "execution_count": 22,
   "id": "future-induction",
   "metadata": {},
   "outputs": [],
   "source": [
    "data['text'] = clean_text\n",
    "data['headlines'] = clean_headlines"
   ]
  },
  {
   "cell_type": "code",
   "execution_count": 23,
   "id": "behind-merchant",
   "metadata": {},
   "outputs": [
    {
     "data": {
      "text/plain": [
       "headlines    0\n",
       "text         0\n",
       "dtype: int64"
      ]
     },
     "execution_count": 23,
     "metadata": {},
     "output_type": "execute_result"
    }
   ],
   "source": [
    "data.replace('', np.nan, inplace=True)\n",
    "data.isnull().sum()"
   ]
  },
  {
   "cell_type": "markdown",
   "id": "lightweight-royal",
   "metadata": {},
   "source": [
    "공백을 nan으로 바꿔준 후 버리는 과정을 진행하려고 했지만 공백이 없어서 nan값이 없어서 별도로 진행해주지 않았습니다."
   ]
  },
  {
   "cell_type": "markdown",
   "id": "round-referral",
   "metadata": {},
   "source": [
    "### max length of samples"
   ]
  },
  {
   "cell_type": "code",
   "execution_count": 24,
   "id": "engaged-mileage",
   "metadata": {},
   "outputs": [
    {
     "name": "stdout",
     "output_type": "stream",
     "text": [
      "텍스트의 최소 길이: 1\n",
      "텍스트의 최대 길이: 59\n",
      "텍스트의 평균 길이: 36.472509150061\n",
      "요약의 최소 길이: 1\n",
      "요약의 최대 길이: 13\n",
      "요약의 평균 길이: 7.439792598617324\n"
     ]
    }
   ],
   "source": [
    "import matplotlib.pyplot as plt\n",
    "text_len = [len(s.split()) for s in data['text']]\n",
    "headlines_len = [len(s.split()) for s in data['headlines']]\n",
    "\n",
    "print(f\"텍스트의 최소 길이: {np.min(text_len)}\")\n",
    "print(f\"텍스트의 최대 길이: {np.max(text_len)}\")\n",
    "print(f\"텍스트의 평균 길이: {np.mean(text_len)}\")\n",
    "print(f\"요약의 최소 길이: {np.min(headlines_len)}\")\n",
    "print(f\"요약의 최대 길이: {np.max(headlines_len)}\")\n",
    "print(f\"요약의 평균 길이: {np.mean(headlines_len)}\")"
   ]
  },
  {
   "cell_type": "code",
   "execution_count": 25,
   "id": "sensitive-devil",
   "metadata": {
    "scrolled": true
   },
   "outputs": [
    {
     "data": {
      "text/plain": [
       "Text(0.5, 1.0, 'Text')"
      ]
     },
     "execution_count": 25,
     "metadata": {},
     "output_type": "execute_result"
    },
    {
     "data": {
      "image/png": "[encoded data removed]",
      "text/plain": [
       "<Figure size 432x288 with 2 Axes>"
      ]
     },
     "metadata": {
      "needs_background": "light"
     },
     "output_type": "display_data"
    },
    {
     "data": {
      "image/png": "[encoded data removed]",
      "text/plain": [
       "<Figure size 432x288 with 1 Axes>"
      ]
     },
     "metadata": {
      "needs_background": "light"
     },
     "output_type": "display_data"
    },
    {
     "data": {
      "image/png": "[encoded data removed]",
      "text/plain": [
       "<Figure size 432x288 with 1 Axes>"
      ]
     },
     "metadata": {
      "needs_background": "light"
     },
     "output_type": "display_data"
    }
   ],
   "source": [
    "fig, axes = plt.subplots(nrows=1, ncols=2)\n",
    "axs = axes.ravel()\n",
    "\n",
    "axs[0].boxplot(headlines_len)\n",
    "axs[0].set_title(\"Length of headlines.\")\n",
    "\n",
    "axs[1].boxplot(text_len)\n",
    "axs[1].set_title(\"Length of text.\")\n",
    "\n",
    "fig.tight_layout()\n",
    "\n",
    "fig2, ax2 = plt.subplots()\n",
    "ax2.hist(headlines_len, bins=40)\n",
    "ax2.set_xlabel(\"Length of samples\")\n",
    "ax2.set_ylabel(\"Number of samples\")\n",
    "ax2.set_title(\"Headlines\")\n",
    "\n",
    "fig3, ax3 = plt.subplots()\n",
    "ax3.hist(text_len, bins=40)\n",
    "ax3.set_xlabel(\"Length of samples\")\n",
    "ax3.set_ylabel(\"Number of samples\")\n",
    "ax3.set_title(\"Text\")"
   ]
  },
  {
   "cell_type": "markdown",
   "id": "facial-evening",
   "metadata": {},
   "source": [
    "텍스트의 최대 길이는 45, 요약(headlines)의 최대길이는 8로 설정해서 문제를 풀어보겠습니다."
   ]
  },
  {
   "cell_type": "code",
   "execution_count": 29,
   "id": "naval-trainer",
   "metadata": {},
   "outputs": [],
   "source": [
    "text_max_len = 45\n",
    "headlines_max_len = 10"
   ]
  },
  {
   "cell_type": "code",
   "execution_count": 30,
   "id": "sapphire-vacation",
   "metadata": {},
   "outputs": [],
   "source": [
    "def below_threshold_len(max_len, nested_list):\n",
    "    cnt = 0\n",
    "    for s in nested_list:\n",
    "        if(len(s.split()) <= max_len):\n",
    "            cnt = cnt+1\n",
    "            \n",
    "    print(f\"전체 샘플 중 길이가 {max_len} 이하인 샘플의 비율: {cnt/len(nested_list):.2%}\")"
   ]
  },
  {
   "cell_type": "code",
   "execution_count": 31,
   "id": "weird-designation",
   "metadata": {},
   "outputs": [
    {
     "name": "stdout",
     "output_type": "stream",
     "text": [
      "전체 샘플 중 길이가 45 이하인 샘플의 비율: 99.00%\n",
      "전체 샘플 중 길이가 10 이하인 샘플의 비율: 99.33%\n"
     ]
    }
   ],
   "source": [
    "below_threshold_len(text_max_len, data['text'])\n",
    "below_threshold_len(headlines_max_len,  data['headlines'])"
   ]
  },
  {
   "cell_type": "code",
   "execution_count": 32,
   "id": "cooperative-genome",
   "metadata": {},
   "outputs": [
    {
     "name": "stdout",
     "output_type": "stream",
     "text": [
      "전체 샘플수 : 96762\n"
     ]
    }
   ],
   "source": [
    "data = data[data['text'].apply(lambda x: len(x.split()) <= text_max_len)]\n",
    "data = data[data['headlines'].apply(lambda x: len(x.split()) <= headlines_max_len)]\n",
    "\n",
    "print(f\"전체 샘플수 : {len(data)}\")"
   ]
  },
  {
   "cell_type": "code",
   "execution_count": 33,
   "id": "japanese-wonder",
   "metadata": {},
   "outputs": [
    {
     "data": {
      "text/html": [
       "<div>\n",
       "<style scoped>\n",
       "    .dataframe tbody tr th:only-of-type {\n",
       "        vertical-align: middle;\n",
       "    }\n",
       "\n",
       "    .dataframe tbody tr th {\n",
       "        vertical-align: top;\n",
       "    }\n",
       "\n",
       "    .dataframe thead th {\n",
       "        text-align: right;\n",
       "    }\n",
       "</style>\n",
       "<table border=\"1\" class=\"dataframe\">\n",
       "  <thead>\n",
       "    <tr style=\"text-align: right;\">\n",
       "      <th></th>\n",
       "      <th>headlines</th>\n",
       "      <th>text</th>\n",
       "      <th>decoder_input</th>\n",
       "      <th>decoder_target</th>\n",
       "    </tr>\n",
       "  </thead>\n",
       "  <tbody>\n",
       "    <tr>\n",
       "      <th>0</th>\n",
       "      <td>upgrad learner switches career ml al 90 salary...</td>\n",
       "      <td>saurav kant alumnus upgrad pg program machine ...</td>\n",
       "      <td>sostoken upgrad learner switches career ml al ...</td>\n",
       "      <td>upgrad learner switches career ml al 90 salary...</td>\n",
       "    </tr>\n",
       "    <tr>\n",
       "      <th>1</th>\n",
       "      <td>delhi techie wins free food swiggy one year cred</td>\n",
       "      <td>kunal shah credit card bill payment platform c...</td>\n",
       "      <td>sostoken delhi techie wins free food swiggy on...</td>\n",
       "      <td>delhi techie wins free food swiggy one year cr...</td>\n",
       "    </tr>\n",
       "    <tr>\n",
       "      <th>3</th>\n",
       "      <td>aegon life iterm insurance plan helps customer...</td>\n",
       "      <td>aegon life iterm insurance plan customers enjo...</td>\n",
       "      <td>sostoken aegon life iterm insurance plan helps...</td>\n",
       "      <td>aegon life iterm insurance plan helps customer...</td>\n",
       "    </tr>\n",
       "    <tr>\n",
       "      <th>4</th>\n",
       "      <td>known hirani yrs metoo claims not true sonam</td>\n",
       "      <td>speaking sexual harassment allegations rajkuma...</td>\n",
       "      <td>sostoken known hirani yrs metoo claims not tru...</td>\n",
       "      <td>known hirani yrs metoo claims not true sonam e...</td>\n",
       "    </tr>\n",
       "    <tr>\n",
       "      <th>5</th>\n",
       "      <td>rahat fateh ali khan denies getting notice smu...</td>\n",
       "      <td>pakistani singer rahat fateh ali khan denied r...</td>\n",
       "      <td>sostoken rahat fateh ali khan denies getting n...</td>\n",
       "      <td>rahat fateh ali khan denies getting notice smu...</td>\n",
       "    </tr>\n",
       "  </tbody>\n",
       "</table>\n",
       "</div>"
      ],
      "text/plain": [
       "                                           headlines  \\\n",
       "0  upgrad learner switches career ml al 90 salary...   \n",
       "1   delhi techie wins free food swiggy one year cred   \n",
       "3  aegon life iterm insurance plan helps customer...   \n",
       "4       known hirani yrs metoo claims not true sonam   \n",
       "5  rahat fateh ali khan denies getting notice smu...   \n",
       "\n",
       "                                                text  \\\n",
       "0  saurav kant alumnus upgrad pg program machine ...   \n",
       "1  kunal shah credit card bill payment platform c...   \n",
       "3  aegon life iterm insurance plan customers enjo...   \n",
       "4  speaking sexual harassment allegations rajkuma...   \n",
       "5  pakistani singer rahat fateh ali khan denied r...   \n",
       "\n",
       "                                       decoder_input  \\\n",
       "0  sostoken upgrad learner switches career ml al ...   \n",
       "1  sostoken delhi techie wins free food swiggy on...   \n",
       "3  sostoken aegon life iterm insurance plan helps...   \n",
       "4  sostoken known hirani yrs metoo claims not tru...   \n",
       "5  sostoken rahat fateh ali khan denies getting n...   \n",
       "\n",
       "                                      decoder_target  \n",
       "0  upgrad learner switches career ml al 90 salary...  \n",
       "1  delhi techie wins free food swiggy one year cr...  \n",
       "3  aegon life iterm insurance plan helps customer...  \n",
       "4  known hirani yrs metoo claims not true sonam e...  \n",
       "5  rahat fateh ali khan denies getting notice smu...  "
      ]
     },
     "execution_count": 33,
     "metadata": {},
     "output_type": "execute_result"
    }
   ],
   "source": [
    "data['decoder_input'] = data['headlines'].apply(lambda x : 'sostoken ' + x) \n",
    "data['decoder_target'] = data['headlines'].apply(lambda x : x + ' eostoken')\n",
    "data.head()"
   ]
  },
  {
   "cell_type": "code",
   "execution_count": 34,
   "id": "measured-farming",
   "metadata": {},
   "outputs": [],
   "source": [
    "encoder_input = np.array(data['text'])\n",
    "decoder_input = np.array(data['decoder_input'])\n",
    "decoder_target = np.array(data['decoder_target'])"
   ]
  },
  {
   "cell_type": "code",
   "execution_count": 35,
   "id": "developing-plastic",
   "metadata": {},
   "outputs": [
    {
     "name": "stdout",
     "output_type": "stream",
     "text": [
      "[18682 30259 15881 ...  4586 31618 51807]\n"
     ]
    }
   ],
   "source": [
    "indices = np.arange(encoder_input.shape[0])\n",
    "\n",
    "rng = np.random.default_rng()\n",
    "rng.shuffle(indices)\n",
    "\n",
    "print(indices)"
   ]
  },
  {
   "cell_type": "code",
   "execution_count": 36,
   "id": "oriented-feeding",
   "metadata": {},
   "outputs": [],
   "source": [
    "encoder_input = encoder_input[indices]\n",
    "decoder_input = decoder_input[indices]\n",
    "decoder_target = decoder_target[indices]"
   ]
  },
  {
   "cell_type": "code",
   "execution_count": 37,
   "id": "matched-breakfast",
   "metadata": {},
   "outputs": [
    {
     "name": "stdout",
     "output_type": "stream",
     "text": [
      "테스트 데이터의 수:  19352\n"
     ]
    }
   ],
   "source": [
    "n_of_val = int(len(encoder_input) * 0.2)\n",
    "print('테스트 데이터의 수: ',  n_of_val)"
   ]
  },
  {
   "cell_type": "code",
   "execution_count": 38,
   "id": "automated-listing",
   "metadata": {},
   "outputs": [
    {
     "name": "stdout",
     "output_type": "stream",
     "text": [
      "훈련 데이터의 개수 : 77410\n",
      "훈련 레이블의 개수 : 77410\n",
      "테스트 데이터의 개수 : 19352\n",
      "테스트 레이블의 개수 : 19352\n"
     ]
    }
   ],
   "source": [
    "encoder_input_train = encoder_input[:-n_of_val]\n",
    "decoder_input_train = decoder_input[:-n_of_val]\n",
    "decoder_target_train = decoder_target[:-n_of_val]\n",
    "\n",
    "encoder_input_test = encoder_input[-n_of_val:]\n",
    "decoder_input_test = decoder_input[-n_of_val:]\n",
    "decoder_target_test = decoder_target[-n_of_val:]\n",
    "\n",
    "print('훈련 데이터의 개수 :', len(encoder_input_train))\n",
    "print('훈련 레이블의 개수 :', len(decoder_input_train))\n",
    "print('테스트 데이터의 개수 :', len(encoder_input_test))\n",
    "print('테스트 레이블의 개수 :', len(decoder_input_test))"
   ]
  },
  {
   "cell_type": "code",
   "execution_count": 39,
   "id": "scheduled-western",
   "metadata": {},
   "outputs": [],
   "source": [
    "src_tokenizer = Tokenizer()\n",
    "src_tokenizer.fit_on_texts(encoder_input_train)"
   ]
  },
  {
   "cell_type": "code",
   "execution_count": 41,
   "id": "national-homework",
   "metadata": {},
   "outputs": [
    {
     "name": "stdout",
     "output_type": "stream",
     "text": [
      "단어 집합(vocabulary)의 크기:  70742\n",
      "등장빈도가 8번 이하인 희귀 단어의 수: 50892\n",
      "단어 집합에서 희귀 단어를 제외시킬 경우의 단어 집합의 크기: 19850\n",
      "단어 집합에서 희귀 단어의 비율:  71.94029006813491\n",
      "전체 등장 빈도에서 희귀 단어 등장 빈도 비율: 4.226912827455185\n"
     ]
    }
   ],
   "source": [
    "threshold = 9\n",
    "total_cnt = len(src_tokenizer.word_index) # 단어의 수\n",
    "rare_cnt = 0\n",
    "total_freq = 0\n",
    "rare_freq = 0\n",
    "\n",
    "for key, value in src_tokenizer.word_counts.items():\n",
    "    total_freq = total_freq + value\n",
    "    \n",
    "    if (value < threshold):\n",
    "        rare_cnt = rare_cnt + 1\n",
    "        rare_freq = rare_freq + value\n",
    "\n",
    "print(\"단어 집합(vocabulary)의 크기: \", total_cnt)\n",
    "print(f\"등장빈도가 {threshold-1}번 이하인 희귀 단어의 수: {rare_cnt}\")\n",
    "print(f\"단어 집합에서 희귀 단어를 제외시킬 경우의 단어 집합의 크기: {total_cnt - rare_cnt}\")\n",
    "print(\"단어 집합에서 희귀 단어의 비율: \", (rare_cnt / total_cnt) * 100)\n",
    "print(\"전체 등장 빈도에서 희귀 단어 등장 빈도 비율:\", (rare_freq / total_freq) * 100)"
   ]
  },
  {
   "cell_type": "code",
   "execution_count": 42,
   "id": "technological-argentina",
   "metadata": {},
   "outputs": [],
   "source": [
    "src_vocab = 19800 ## 희귀 단어를 제외한 단어 집합의 크기\n",
    "src_tokenizer = Tokenizer(num_words=src_vocab)\n",
    "src_tokenizer.fit_on_texts(encoder_input_train)"
   ]
  },
  {
   "cell_type": "code",
   "execution_count": 43,
   "id": "novel-creation",
   "metadata": {},
   "outputs": [
    {
     "name": "stdout",
     "output_type": "stream",
     "text": [
      "[[1810, 715, 1, 931, 1178, 413, 6876, 145, 677, 332, 690, 396, 2, 396, 531, 18, 293, 2, 34, 145, 1333, 1038, 1884, 531, 2097, 4, 241, 12804, 4654, 3491, 1810, 1], [183, 36, 7653, 290, 297, 185, 36, 92, 3967, 50, 2479, 1, 1133, 195, 136, 596, 28, 1166, 249, 195, 3783, 92, 15011, 482, 494, 432, 522, 9623, 1090, 2479, 4], [6, 3862, 151, 2417, 3763, 1090, 126, 463, 1206, 9, 22, 444, 2675, 4478, 1, 5017, 818, 5843, 11, 118, 677, 4, 6, 44, 5843, 17, 7758, 4212, 982, 16240, 10641, 1669, 3763, 5063, 748, 1556]]\n"
     ]
    }
   ],
   "source": [
    "encoder_input_train = src_tokenizer.texts_to_sequences(encoder_input_train)\n",
    "encoder_input_test = src_tokenizer.texts_to_sequences(encoder_input_test)\n",
    "\n",
    "print(encoder_input_train[:3])"
   ]
  },
  {
   "cell_type": "code",
   "execution_count": 44,
   "id": "taken-ivory",
   "metadata": {},
   "outputs": [],
   "source": [
    "tar_tokenizer = Tokenizer()\n",
    "tar_tokenizer.fit_on_texts(decoder_input_train)"
   ]
  },
  {
   "cell_type": "code",
   "execution_count": 45,
   "id": "spanish-polyester",
   "metadata": {},
   "outputs": [
    {
     "name": "stdout",
     "output_type": "stream",
     "text": [
      "단어 집합(vocabulary)의 크기:  31230\n",
      "등장빈도가 8번 이하인 희귀 단어의 수: 22991\n",
      "단어 집합에서 희귀 단어를 제외시킬 경우의 단어 집합의 크기: 8239\n",
      "단어 집합에서 희귀 단어의 비율:  73.61831572206212\n",
      "전체 등장 빈도에서 희귀 단어 등장 빈도 비율: 8.446924250361397\n"
     ]
    }
   ],
   "source": [
    "threshold = 9\n",
    "total_cnt = len(tar_tokenizer.word_index)\n",
    "rare_cnt = 0\n",
    "total_freq = 0\n",
    "rare_freq = 0\n",
    "\n",
    "for key, value in tar_tokenizer.word_counts.items():\n",
    "    total_freq = total_freq + value\n",
    "    \n",
    "    if (value < threshold):\n",
    "        rare_cnt = rare_cnt + 1\n",
    "        rare_freq = rare_freq + value\n",
    "\n",
    "        \n",
    "print(\"단어 집합(vocabulary)의 크기: \", total_cnt)\n",
    "print(f\"등장빈도가 {threshold-1}번 이하인 희귀 단어의 수: {rare_cnt}\")\n",
    "print(f\"단어 집합에서 희귀 단어를 제외시킬 경우의 단어 집합의 크기: {total_cnt - rare_cnt}\")\n",
    "print(\"단어 집합에서 희귀 단어의 비율: \", (rare_cnt / total_cnt) * 100)\n",
    "print(\"전체 등장 빈도에서 희귀 단어 등장 빈도 비율:\", (rare_freq / total_freq) * 100)"
   ]
  },
  {
   "cell_type": "code",
   "execution_count": 46,
   "id": "minimal-logging",
   "metadata": {},
   "outputs": [
    {
     "name": "stdout",
     "output_type": "stream",
     "text": [
      "input\n",
      "input  [[1, 222, 2288, 338, 171, 1407], [1, 47, 642, 27, 887, 96, 1230], [1, 5394, 5395, 1668, 2591, 98, 5], [1, 1336, 5895, 164, 3126, 4214, 289], [1, 2178, 1599, 23, 60, 63, 413, 265, 35]]\n",
      "target\n",
      "target  [[222, 2288, 338, 171, 1407, 2], [47, 642, 27, 887, 96, 1230, 2], [5394, 5395, 1668, 2591, 98, 5, 2], [1336, 5895, 164, 3126, 4214, 289, 2], [2178, 1599, 23, 60, 63, 413, 265, 35, 2]]\n"
     ]
    }
   ],
   "source": [
    "tar_vocab = 8200\n",
    "tar_tokenizer = Tokenizer(num_words = tar_vocab)\n",
    "tar_tokenizer.fit_on_texts(decoder_input_train)\n",
    "tar_tokenizer.fit_on_texts(decoder_target_train)\n",
    "\n",
    "decoder_input_train = tar_tokenizer.texts_to_sequences(decoder_input_train)\n",
    "decoder_target_train = tar_tokenizer.texts_to_sequences(decoder_target_train)\n",
    "decoder_input_test = tar_tokenizer.texts_to_sequences(decoder_input_test)\n",
    "decoder_target_test = tar_tokenizer.texts_to_sequences(decoder_target_test)\n",
    "\n",
    "print('input')\n",
    "print('input ', decoder_input_train[:5])\n",
    "print('target')\n",
    "print('target ', decoder_target_train[:5])"
   ]
  },
  {
   "cell_type": "code",
   "execution_count": 47,
   "id": "novel-regulation",
   "metadata": {},
   "outputs": [
    {
     "name": "stdout",
     "output_type": "stream",
     "text": [
      "삭제할 훈련 데이터의 갯수:  3\n",
      "삭제할 테스트 데이터의 갯수:  1\n",
      "훈련 데이터의 갯수:  77407\n",
      "훈련 레이블의 갯수:  77407\n",
      "테스트 데이터의 갯수:  19351\n",
      "테스트 레이블의 갯수:  19351\n"
     ]
    },
    {
     "name": "stderr",
     "output_type": "stream",
     "text": [
      "/opt/conda/lib/python3.7/site-packages/numpy/core/_asarray.py:83: VisibleDeprecationWarning: Creating an ndarray from ragged nested sequences (which is a list-or-tuple of lists-or-tuples-or ndarrays with different lengths or shapes) is deprecated. If you meant to do this, you must specify 'dtype=object' when creating the ndarray\n",
      "  return array(a, dtype, copy=False, order=order)\n"
     ]
    }
   ],
   "source": [
    "drop_train = [index for index, sentence in enumerate(decoder_input_train) if len(sentence) == 1]\n",
    "drop_test = [index for index, sentence in enumerate(decoder_input_test) if len(sentence) == 1]\n",
    "\n",
    "print('삭제할 훈련 데이터의 갯수: ', len(drop_train))\n",
    "print('삭제할 테스트 데이터의 갯수: ', len(drop_test))\n",
    "\n",
    "encoder_input_train = np.delete(encoder_input_train, drop_train, axis=0)\n",
    "decoder_input_train = np.delete(decoder_input_train, drop_train, axis=0)\n",
    "decoder_target_train = np.delete(decoder_target_train, drop_train, axis=0)\n",
    "\n",
    "encoder_input_test = np.delete(encoder_input_test, drop_test, axis=0)\n",
    "decoder_input_test = np.delete(decoder_input_test, drop_test, axis=0)\n",
    "decoder_target_test = np.delete(decoder_target_test, drop_test, axis=0)\n",
    "\n",
    "print('훈련 데이터의 갯수: ', len(encoder_input_train))\n",
    "print('훈련 레이블의 갯수: ', len(decoder_input_train))\n",
    "print('테스트 데이터의 갯수: ', len(encoder_input_test))\n",
    "print('테스트 레이블의 갯수: ', len(decoder_input_test))"
   ]
  },
  {
   "cell_type": "markdown",
   "id": "atomic-company",
   "metadata": {},
   "source": [
    "의미가 덜 희석되는 pre-padding을 진행해보겠습니다."
   ]
  },
  {
   "cell_type": "code",
   "execution_count": 48,
   "id": "marine-figure",
   "metadata": {},
   "outputs": [],
   "source": [
    "encoder_input_train = pad_sequences(encoder_input_train, maxlen=text_max_len, padding='pre')\n",
    "encoder_input_test = pad_sequences(encoder_input_test, maxlen=text_max_len, padding='pre')\n",
    "decoder_input_train = pad_sequences(decoder_input_train, maxlen=headlines_max_len, padding='pre')\n",
    "decoder_target_train = pad_sequences(decoder_target_train, maxlen=headlines_max_len, padding='pre')\n",
    "decoder_input_test = pad_sequences(decoder_input_test, maxlen=headlines_max_len, padding='pre')\n",
    "decoder_target_test = pad_sequences(decoder_target_test, maxlen=headlines_max_len, padding='pre')\n",
    "\n",
    "\n"
   ]
  },
  {
   "cell_type": "code",
   "execution_count": 49,
   "id": "cosmetic-international",
   "metadata": {},
   "outputs": [
    {
     "name": "stdout",
     "output_type": "stream",
     "text": [
      "WARNING:tensorflow:Layer lstm will not use cuDNN kernel since it doesn't meet the cuDNN kernel criteria. It will use generic GPU kernel as fallback when running on GPU\n",
      "WARNING:tensorflow:Layer lstm_1 will not use cuDNN kernel since it doesn't meet the cuDNN kernel criteria. It will use generic GPU kernel as fallback when running on GPU\n",
      "WARNING:tensorflow:Layer lstm_2 will not use cuDNN kernel since it doesn't meet the cuDNN kernel criteria. It will use generic GPU kernel as fallback when running on GPU\n"
     ]
    }
   ],
   "source": [
    "from tensorflow.keras.layers import Input, LSTM, Embedding, Dense, Concatenate\n",
    "from tensorflow.keras.models import Model\n",
    "from tensorflow.keras.callbacks import EarlyStopping, ModelCheckpoint\n",
    "\n",
    "embedding_dim = 128\n",
    "hidden_size = 256\n",
    "\n",
    "encoder_inputs = Input(shape=(text_max_len, ))\n",
    "enc_emb = Embedding(src_vocab, embedding_dim)(encoder_inputs)\n",
    "\n",
    "encoder_lstm1 = LSTM(hidden_size, return_sequences=True, return_state=True, dropout=0.4, recurrent_dropout=0.4)\n",
    "encoder_output1, state_h1, state_c1 = encoder_lstm1(enc_emb)\n",
    "\n",
    "encoder_lstm2 = LSTM(hidden_size, return_sequences=True, return_state=True, dropout=0.4, recurrent_dropout=0.4)\n",
    "encoder_output2, state_h2, state_c2 = encoder_lstm2(encoder_output1)\n",
    "\n",
    "encoder_lstm3 = LSTM(hidden_size, return_sequences=True, return_state=True, dropout=0.4, recurrent_dropout=0.4)\n",
    "encoder_outputs, state_h, state_c = encoder_lstm3(encoder_output2)"
   ]
  },
  {
   "cell_type": "code",
   "execution_count": 50,
   "id": "helpful-crossing",
   "metadata": {},
   "outputs": [
    {
     "name": "stdout",
     "output_type": "stream",
     "text": [
      "WARNING:tensorflow:Layer lstm_3 will not use cuDNN kernel since it doesn't meet the cuDNN kernel criteria. It will use generic GPU kernel as fallback when running on GPU\n"
     ]
    }
   ],
   "source": [
    "decoder_inputs = Input(shape=(None, ))\n",
    "\n",
    "dec_emb_layer = Embedding(tar_vocab, embedding_dim)\n",
    "dec_emb = dec_emb_layer(decoder_inputs)\n",
    "\n",
    "decoder_lstm = LSTM(hidden_size, return_sequences=True, return_state=True, dropout=0.4, recurrent_dropout=0.2)\n",
    "decoder_outputs, _, _ = decoder_lstm(dec_emb, initial_state=[state_h, state_c])"
   ]
  },
  {
   "cell_type": "code",
   "execution_count": 51,
   "id": "statewide-resort",
   "metadata": {},
   "outputs": [
    {
     "name": "stdout",
     "output_type": "stream",
     "text": [
      "Model: \"model\"\n",
      "__________________________________________________________________________________________________\n",
      "Layer (type)                    Output Shape         Param #     Connected to                     \n",
      "==================================================================================================\n",
      "input_1 (InputLayer)            [(None, 45)]         0                                            \n",
      "__________________________________________________________________________________________________\n",
      "embedding (Embedding)           (None, 45, 128)      2534400     input_1[0][0]                    \n",
      "__________________________________________________________________________________________________\n",
      "lstm (LSTM)                     [(None, 45, 256), (N 394240      embedding[0][0]                  \n",
      "__________________________________________________________________________________________________\n",
      "input_2 (InputLayer)            [(None, None)]       0                                            \n",
      "__________________________________________________________________________________________________\n",
      "lstm_1 (LSTM)                   [(None, 45, 256), (N 525312      lstm[0][0]                       \n",
      "__________________________________________________________________________________________________\n",
      "embedding_1 (Embedding)         (None, None, 128)    1049600     input_2[0][0]                    \n",
      "__________________________________________________________________________________________________\n",
      "lstm_2 (LSTM)                   [(None, 45, 256), (N 525312      lstm_1[0][0]                     \n",
      "__________________________________________________________________________________________________\n",
      "lstm_3 (LSTM)                   [(None, None, 256),  394240      embedding_1[0][0]                \n",
      "                                                                 lstm_2[0][1]                     \n",
      "                                                                 lstm_2[0][2]                     \n",
      "__________________________________________________________________________________________________\n",
      "dense (Dense)                   (None, None, 8200)   2107400     lstm_3[0][0]                     \n",
      "==================================================================================================\n",
      "Total params: 7,530,504\n",
      "Trainable params: 7,530,504\n",
      "Non-trainable params: 0\n",
      "__________________________________________________________________________________________________\n"
     ]
    }
   ],
   "source": [
    "decoder_softmax_layer = Dense(tar_vocab, activation='softmax')\n",
    "decoder_softmax_outputs = decoder_softmax_layer(decoder_outputs)\n",
    "\n",
    "model = Model([encoder_inputs, decoder_inputs], decoder_softmax_outputs)\n",
    "model.summary()"
   ]
  },
  {
   "cell_type": "code",
   "execution_count": 52,
   "id": "third-parliament",
   "metadata": {},
   "outputs": [],
   "source": [
    "urllib.request.urlretrieve(\"https://raw.githubusercontent.com/thushv89/attention_keras/master/src/layers/attention.py\", filename=\"attention.py\")\n",
    "from attention import AttentionLayer"
   ]
  },
  {
   "cell_type": "code",
   "execution_count": 53,
   "id": "impossible-closure",
   "metadata": {},
   "outputs": [
    {
     "name": "stdout",
     "output_type": "stream",
     "text": [
      "Model: \"model_1\"\n",
      "__________________________________________________________________________________________________\n",
      "Layer (type)                    Output Shape         Param #     Connected to                     \n",
      "==================================================================================================\n",
      "input_1 (InputLayer)            [(None, 45)]         0                                            \n",
      "__________________________________________________________________________________________________\n",
      "embedding (Embedding)           (None, 45, 128)      2534400     input_1[0][0]                    \n",
      "__________________________________________________________________________________________________\n",
      "lstm (LSTM)                     [(None, 45, 256), (N 394240      embedding[0][0]                  \n",
      "__________________________________________________________________________________________________\n",
      "input_2 (InputLayer)            [(None, None)]       0                                            \n",
      "__________________________________________________________________________________________________\n",
      "lstm_1 (LSTM)                   [(None, 45, 256), (N 525312      lstm[0][0]                       \n",
      "__________________________________________________________________________________________________\n",
      "embedding_1 (Embedding)         (None, None, 128)    1049600     input_2[0][0]                    \n",
      "__________________________________________________________________________________________________\n",
      "lstm_2 (LSTM)                   [(None, 45, 256), (N 525312      lstm_1[0][0]                     \n",
      "__________________________________________________________________________________________________\n",
      "lstm_3 (LSTM)                   [(None, None, 256),  394240      embedding_1[0][0]                \n",
      "                                                                 lstm_2[0][1]                     \n",
      "                                                                 lstm_2[0][2]                     \n",
      "__________________________________________________________________________________________________\n",
      "attention_layer (AttentionLayer ((None, None, 256),  131328      lstm_2[0][0]                     \n",
      "                                                                 lstm_3[0][0]                     \n",
      "__________________________________________________________________________________________________\n",
      "concat_layer (Concatenate)      (None, None, 512)    0           lstm_3[0][0]                     \n",
      "                                                                 attention_layer[0][0]            \n",
      "__________________________________________________________________________________________________\n",
      "dense_1 (Dense)                 (None, None, 8200)   4206600     concat_layer[0][0]               \n",
      "==================================================================================================\n",
      "Total params: 9,761,032\n",
      "Trainable params: 9,761,032\n",
      "Non-trainable params: 0\n",
      "__________________________________________________________________________________________________\n"
     ]
    }
   ],
   "source": [
    "attn_layer = AttentionLayer(name='attention_layer')\n",
    "\n",
    "attn_out, attn_states = attn_layer([encoder_outputs, decoder_outputs])\n",
    "\n",
    "decoder_concat_input = Concatenate(axis=-1, name='concat_layer')([decoder_outputs, attn_out])\n",
    "\n",
    "decoder_softmax_layer = Dense(tar_vocab, activation='softmax')\n",
    "decoder_softmax_outputs = decoder_softmax_layer(decoder_concat_input)\n",
    "\n",
    "model = Model([encoder_inputs, decoder_inputs], decoder_softmax_outputs)\n",
    "model.summary()"
   ]
  },
  {
   "cell_type": "code",
   "execution_count": 54,
   "id": "turned-maria",
   "metadata": {},
   "outputs": [
    {
     "name": "stdout",
     "output_type": "stream",
     "text": [
      "Epoch 1/50\n",
      "303/303 [==============================] - 245s 770ms/step - loss: 5.8794 - val_loss: 5.2263\n",
      "Epoch 2/50\n",
      "303/303 [==============================] - 234s 771ms/step - loss: 5.3124 - val_loss: 5.1340\n",
      "Epoch 3/50\n",
      "303/303 [==============================] - 234s 773ms/step - loss: 5.1934 - val_loss: 5.0413\n",
      "Epoch 4/50\n",
      "303/303 [==============================] - 233s 771ms/step - loss: 5.0794 - val_loss: 4.8806\n",
      "Epoch 5/50\n",
      "303/303 [==============================] - 234s 774ms/step - loss: 4.8741 - val_loss: 4.6885\n",
      "Epoch 6/50\n",
      "303/303 [==============================] - 232s 765ms/step - loss: 4.6378 - val_loss: 4.4517\n",
      "Epoch 7/50\n",
      "303/303 [==============================] - 228s 754ms/step - loss: 4.3822 - val_loss: 4.2867\n",
      "Epoch 8/50\n",
      "303/303 [==============================] - 227s 749ms/step - loss: 4.1790 - val_loss: 4.1350\n",
      "Epoch 9/50\n",
      "303/303 [==============================] - 226s 747ms/step - loss: 3.9932 - val_loss: 4.0208\n",
      "Epoch 10/50\n",
      "303/303 [==============================] - 228s 752ms/step - loss: 3.8433 - val_loss: 3.9134\n",
      "Epoch 11/50\n",
      "303/303 [==============================] - 227s 750ms/step - loss: 3.6814 - val_loss: 3.8402\n",
      "Epoch 12/50\n",
      "303/303 [==============================] - 227s 748ms/step - loss: 3.5597 - val_loss: 3.7712\n",
      "Epoch 13/50\n",
      "303/303 [==============================] - 226s 745ms/step - loss: 3.4465 - val_loss: 3.7106\n",
      "Epoch 14/50\n",
      "303/303 [==============================] - 228s 752ms/step - loss: 3.3415 - val_loss: 3.6780\n",
      "Epoch 15/50\n",
      "303/303 [==============================] - 228s 753ms/step - loss: 3.2435 - val_loss: 3.6234\n",
      "Epoch 16/50\n",
      "303/303 [==============================] - 227s 750ms/step - loss: 3.1581 - val_loss: 3.5921\n",
      "Epoch 17/50\n",
      "303/303 [==============================] - 227s 748ms/step - loss: 3.0785 - val_loss: 3.5684\n",
      "Epoch 18/50\n",
      "303/303 [==============================] - 227s 749ms/step - loss: 3.0170 - val_loss: 3.5472\n",
      "Epoch 19/50\n",
      "303/303 [==============================] - 225s 744ms/step - loss: 2.9468 - val_loss: 3.5333\n",
      "Epoch 20/50\n",
      "303/303 [==============================] - 224s 741ms/step - loss: 2.8832 - val_loss: 3.5267\n",
      "Epoch 21/50\n",
      "303/303 [==============================] - 224s 740ms/step - loss: 2.8203 - val_loss: 3.4967\n",
      "Epoch 22/50\n",
      "303/303 [==============================] - 225s 742ms/step - loss: 2.7707 - val_loss: 3.4907\n",
      "Epoch 23/50\n",
      "303/303 [==============================] - 225s 743ms/step - loss: 2.7208 - val_loss: 3.4728\n",
      "Epoch 24/50\n",
      "303/303 [==============================] - 225s 742ms/step - loss: 2.6676 - val_loss: 3.4733\n",
      "Epoch 25/50\n",
      "303/303 [==============================] - 224s 741ms/step - loss: 2.6225 - val_loss: 3.4710\n",
      "Epoch 26/50\n",
      "303/303 [==============================] - 224s 740ms/step - loss: 2.5800 - val_loss: 3.4663\n",
      "Epoch 27/50\n",
      "303/303 [==============================] - 224s 741ms/step - loss: 2.5388 - val_loss: 3.4620\n",
      "Epoch 28/50\n",
      "303/303 [==============================] - 224s 740ms/step - loss: 2.5115 - val_loss: 3.4555\n",
      "Epoch 29/50\n",
      "303/303 [==============================] - 223s 737ms/step - loss: 2.4692 - val_loss: 3.4516\n",
      "Epoch 30/50\n",
      "303/303 [==============================] - 225s 742ms/step - loss: 2.4302 - val_loss: 3.4420\n",
      "Epoch 31/50\n",
      "303/303 [==============================] - 224s 740ms/step - loss: 2.4015 - val_loss: 3.4529\n",
      "Epoch 32/50\n",
      "303/303 [==============================] - 224s 739ms/step - loss: 2.3746 - val_loss: 3.4546\n",
      "Epoch 00032: early stopping\n"
     ]
    }
   ],
   "source": [
    "model.compile(optimizer='rmsprop', loss='sparse_categorical_crossentropy')\n",
    "es = EarlyStopping(monitor='val_loss', patience=2, verbose=1)\n",
    "history = model.fit(x=[encoder_input_train, decoder_input_train], y=decoder_target_train, \\\n",
    "          validation_data=([encoder_input_test, decoder_input_test], decoder_target_test), \\\n",
    "          batch_size=256, callbacks=[es], epochs=50)"
   ]
  },
  {
   "cell_type": "code",
   "execution_count": 56,
   "id": "following-married",
   "metadata": {},
   "outputs": [
    {
     "data": {
      "image/png": "[encoded data removed]",
      "text/plain": [
       "<Figure size 432x288 with 1 Axes>"
      ]
     },
     "metadata": {
      "needs_background": "light"
     },
     "output_type": "display_data"
    }
   ],
   "source": [
    "plt.plot(history.history['loss'], label='train')\n",
    "plt.plot(history.history['val_loss'], label='test')\n",
    "plt.title('LOSS')\n",
    "plt.legend()\n",
    "plt.show()"
   ]
  },
  {
   "cell_type": "markdown",
   "id": "following-times",
   "metadata": {},
   "source": [
    "***val_loss가 약 3.4546정도에서 멈췄습니다.***"
   ]
  },
  {
   "cell_type": "markdown",
   "id": "precious-wallet",
   "metadata": {},
   "source": [
    "#### About preprocessing\n",
    "\n",
    "간단한 전처리만 추가 해줬는데 생각보다 val_loss가 많이 줄어든 것을 확인할 수 있었습니다. 전처리를 잘하는 것이 얼마나 중요한 지 알 수 있었습니다. 전처리는 어떠한 문제를 푸느냐에 따라서 다양한 방식을 선택할 수 있습니다. 선택하느냐에 따라서 다양한 결과가 나올 수 있을 것 같습니다.\n",
    "\n",
    "전처리를 할 때 처리하고 싶은 문장이 어떤 문장인 지 확인하기 위해서 가지고 있는 데이터셋을 잘 둘러보는 것이 중요하다는 생각이 들었습니다. 임의로 생각한 어떤 문장을 예쁘게 처리하더라고 실제로 문장안에서는 흔히 등장하지 않는 경우가 종종 있을 것 같습니다. 이번 전처리 과정에서도 사실 '5mm'과 같은 단어는 그대로 두고 '5pp'와 같은 문장은 지워주고 싶었습니다. 알파벳이 두번 연속으로 등장할 때, 'mm'을 제외하면 모두 의미가 없는 단어라고 생각했기 때문입니다. 이 부분에 대해서는 별도로 처리는 하지 않았지만 만약 실제로 데이터에서 흔히 등장하지 않는다면 처리가 필요없을 수도 있을거라는 생각이 들기도 했습니다.\n",
    "\n",
    "또한 세번 등장하는 알파벳을 지웠는데, 아무래도 뉴스다 보니 기관이름 등이 등장할 수 있겠네요. 예를들어 'WWW(World Wide Web)'이 등장할 수도 있는데 여기서는 그대로 지워버립니다. 하지만 통상적으로는 World Wide Web(WWW)와 같은식으로 표기를 할 것이기 때문에 깊이 나눠서 처리를 해주지는 않았습니다.\n",
    "\n",
    "이처럼 다양한 전처리를 해볼 수 있고, 이런 전처리를 통해 성능이 어떻게 변하는 지 살펴보는 것도 유의미한 실험이 되지 않을까 생각이 듭니다. 중요한 건 모든 문제에 적용할 수 있는 마스터 키 같은 전처리는 없다는 것입니다."
   ]
  },
  {
   "cell_type": "markdown",
   "id": "assisted-intellectual",
   "metadata": {},
   "source": [
    "## Inference Model"
   ]
  },
  {
   "cell_type": "code",
   "execution_count": 57,
   "id": "civic-stream",
   "metadata": {},
   "outputs": [],
   "source": [
    "src_index_to_word = src_tokenizer.index_word\n",
    "tar_word_to_index = tar_tokenizer.word_index\n",
    "tar_index_to_word = tar_tokenizer.index_word"
   ]
  },
  {
   "cell_type": "code",
   "execution_count": 58,
   "id": "preliminary-shoot",
   "metadata": {},
   "outputs": [],
   "source": [
    "# 인코더 설계\n",
    "encoder_model = Model(inputs=encoder_inputs, outputs=[encoder_outputs, state_h, state_c])\n",
    "\n",
    "# 이전 시점의 상태들을 저장하는 텐서\n",
    "decoder_state_input_h = Input(shape=(hidden_size,))\n",
    "decoder_state_input_c = Input(shape=(hidden_size,))\n",
    "\n",
    "dec_emb2 = dec_emb_layer(decoder_inputs)\n",
    "\n",
    "# 문장의 다음 단어를 예측하기 위해서 초기 상태(initial_state)를 이전 시점의 상태로 사용. 이는 뒤의 함수 decode_sequence()에 구현\n",
    "# 훈련 과정에서와 달리 LSTM의 리턴하는 은닉 상태와 셀 상태인 state_h와 state_c를 버리지 않음.\n",
    "decoder_outputs2, state_h2, state_c2 = decoder_lstm(dec_emb2, initial_state=[decoder_state_input_h, decoder_state_input_c])"
   ]
  },
  {
   "cell_type": "code",
   "execution_count": 59,
   "id": "optimum-shadow",
   "metadata": {},
   "outputs": [],
   "source": [
    "# 어텐션 함수\n",
    "decoder_hidden_state_input = Input(shape=(text_max_len, hidden_size))\n",
    "attn_out_inf, attn_states_inf = attn_layer([decoder_hidden_state_input, decoder_outputs2])\n",
    "decoder_inf_concat = Concatenate(axis=-1, name='concat')([decoder_outputs2, attn_out_inf])\n",
    "\n",
    "# 디코더의 출력층\n",
    "decoder_outputs2 = decoder_softmax_layer(decoder_inf_concat) \n",
    "\n",
    "# 최종 디코더 모델\n",
    "decoder_model = Model(\n",
    "    [decoder_inputs] + [decoder_hidden_state_input,decoder_state_input_h, decoder_state_input_c],\n",
    "    [decoder_outputs2] + [state_h2, state_c2])"
   ]
  },
  {
   "cell_type": "code",
   "execution_count": 60,
   "id": "curious-shade",
   "metadata": {},
   "outputs": [],
   "source": [
    "def decode_sequence(input_seq):\n",
    "    \n",
    "    e_out, e_h, e_c = encoder_model.predict(input_seq)\n",
    "    \n",
    "    target_seq = np.zeros((1,1))\n",
    "    target_seq[0, 0] = tar_word_to_index['sostoken']\n",
    "    \n",
    "    stop_condition = False\n",
    "    decoded_sentence = ''\n",
    "    while not stop_condition:\n",
    "        output_tokens, h, c = decoder_model.predict([target_seq] + [e_out, e_h, e_c])\n",
    "        sampled_token_index = np.argmax(output_tokens[0, -1, :])\n",
    "        sampled_token = tar_index_to_word[sampled_token_index]\n",
    "        \n",
    "        if (sampled_token != 'eostoken'):\n",
    "            decoded_sentence += ' ' + sampled_token\n",
    "            \n",
    "        if (sampled_token == 'eostoken' or len(decoded_sentence.split()) >= (headlines_max_len-1)):\n",
    "            stop_condition = True\n",
    "        \n",
    "        target_seq = np.zeros((1, 1))\n",
    "        target_seq[0, 0] = sampled_token_index\n",
    "        \n",
    "        e_h, e_c = h, c\n",
    "        \n",
    "    return decoded_sentence"
   ]
  },
  {
   "cell_type": "code",
   "execution_count": 61,
   "id": "typical-instruction",
   "metadata": {},
   "outputs": [],
   "source": [
    "def seq2text(input_seq):\n",
    "    temp = ''\n",
    "    \n",
    "    for i in input_seq:\n",
    "        if (i!=0):\n",
    "            temp = temp + src_index_to_word[i] + ' '\n",
    "    \n",
    "    return temp\n",
    "\n",
    "def seq2summary(input_seq):\n",
    "    temp = ''\n",
    "    for i in input_seq:\n",
    "        if ((i!=0 and i!=tar_word_to_index['sostoken']) and i!=tar_word_to_index['eostoken']):\n",
    "            temp = temp + tar_index_to_word[i] + ' '\n",
    "            \n",
    "    return temp"
   ]
  },
  {
   "cell_type": "code",
   "execution_count": 62,
   "id": "likely-newton",
   "metadata": {
    "scrolled": true
   },
   "outputs": [
    {
     "name": "stdout",
     "output_type": "stream",
     "text": [
      "원문 : rebel jd leader sharad yadav tuesday moved delhi high court disqualification rajya sabha yadav claimed not given chance authorities order passed earlier vice president venkaiah naidu said yadav voluntarily left party speaking publicly thus disqualification \n",
      "실제 요약 : sharad yadav moves hc rajya sabha disqualification \n",
      "예측 요약 :  sharad yadav rejects sharad yadav plea not leave india\n",
      "\n",
      "\n",
      "원문 : british academic matthew sentenced life spying uae immediate effect 31 year old denied spying said country security strategy part phd studies durham university pardon part mass 700 prisoners mark uae national day \n",
      "실제 요약 : uae british sentenced life spying \n",
      "예측 요약 :  uae man uae spying uae get death sentence dubai\n",
      "\n",
      "\n",
      "원문 : president ram nath kovind gave acceptance speech parliament sworn 14th president feel privileged walk path dr radhakrishnan dr abdul kalam pranab da said also thanked present responsibility president india \n",
      "실제 요약 : walk path kalam pranab da kovind \n",
      "예측 요약 :  president kovind prez kovind kovind extend president kovind kovind\n",
      "\n",
      "\n",
      "원문 : admitted used drone spy bundesliga rivals training ahead draw last wednesday reported drone flight police executive frank apologised coach julian said not mind spying concerned players safety \n",
      "실제 요약 : team flies drone rivals training ground spy ahead game \n",
      "예측 요약 :  uae police uses drone drone crashes near driver apologises\n",
      "\n",
      "\n",
      "원문 : pakistan cricketer shoaib malik came talked former indian captain ms dhoni sides training session dubai ahead upcoming asia cup 2018 tournament malik came shook hands dhoni talking india stand captain rohit sharma standing nearby india pakistan set face september 19 \n",
      "실제 요약 : shoaib malik comes meet ms dhoni training session \n",
      "예측 요약 :  ms dhoni helped india wc squad wi tour sehwag\n",
      "\n",
      "\n",
      "원문 : year old american suffering disease become first person undergo gene editing inside body scientists inserted dna cutting tool billions copies corrective gene expected become part dna experiment successful would eliminate patient need expensive weekly treatment replace missing \n",
      "실제 요약 : dna editing inside human body first time ever \n",
      "예측 요약 :  man study 1st ever human human cells human cells\n",
      "\n",
      "\n",
      "원문 : sports social engagement platform indian startup among 10 startups chosen 2018 lead sports accelerator program founded piyush kumar akshat goel 2016 sports social gaming platform connects sports fans live matches also offers match prediction games sports social feed across eight sports \n",
      "실제 요약 : indian startup among 10 chosen sports accelerator program \n",
      "예측 요약 :  indian origin startup wins india team india 19 year\n",
      "\n",
      "\n",
      "원문 : aimim chief asaduddin owaisi tuesday sought case art living founder sri sri ravi shankar saying india not turn syria ram temple issue not neutral hell bent inciting violence country owaisi said meanwhile sri sri said comment misinterpreted \n",
      "실제 요약 : owaisi seeks case sri sri syria remark \n",
      "예측 요약 :  sri sri lankan court rejects mediate ayodhya dispute dispute\n",
      "\n",
      "\n",
      "원문 : mayor philippines city antonio paraded suspected drug dealers public shot dead monday flag raising ceremony government officials police officials said special task group formed investigate killing notably name surfaced list officials allegedly linked narcotics released president rodrigo duterte \n",
      "실제 요약 : philippine mayor shamed drug suspects shot dead \n",
      "예측 요약 :  bombs suspect injures 30 injured amritsar blast near kashmir\n",
      "\n",
      "\n",
      "원문 : million followers actress deepika padukone followed account award first ever instagram awards held country followed account category priyanka chopra came second million followers alia bhatt stood third 20 million followers meanwhile cricketer virat kohli engaged account award instagram india \n",
      "실제 요약 : deepika wins followed account instagram india awards \n",
      "예측 요약 :  deepika padukone named best indian woman awards 2017 report\n",
      "\n",
      "\n",
      "원문 : sequoia capital india said tuesday closed sixth fund million investments across southeast asia made 200 bets startups meanwhile managing director abhay pandey decided quit years company comes managing directors bharadwaj gautam resigned float joint fund partners \n",
      "실제 요약 : sequoia raises 6th india vc fund another md resigns \n",
      "예측 요약 :  hong kong based firms raise funds 100 mn report\n",
      "\n",
      "\n",
      "원문 : 57 year old bihar police inspector suspended allegedly sharing morphed image pm narendra modi shaking hands mumbai terror attack mastermind hafiz saeed whatsapp picture reportedly accompanied caption dekho kaun hai cop claimed message sent grandson without knowledge \n",
      "실제 요약 : cop suspended sharing morphed pic pm modi saeed \n",
      "예측 요약 :  video shows pm modi dating video shows hafiz saeed\n",
      "\n",
      "\n",
      "원문 : yellow circles appeared walls france castle part contemporary art project however locals slammed artwork one saying shocking beauty surrounding site outrageous castle former roman dating back fourth century \n",
      "실제 요약 : 4th century french covered yellow \n",
      "예측 요약 :  french city fined 27 lakh per week ranbir awareness\n",
      "\n",
      "\n",
      "원문 : least 13 people killed 25 others injured suicide explosion entrance afghanistan rural rehabilitation development ministry kabul government officials said explosion happened employees ministry leaving office islamic state claimed responsibility attack \n",
      "실제 요약 : isis attack targeting afghan ministry kills 13 injures 25 \n",
      "예측 요약 :  suicide afghanistan kills 12 injures suicide attack afghanistan kills\n",
      "\n",
      "\n",
      "원문 : reddit post man resting portable airport gone viral man tied one end pillar end table reddit user commented someone spent hours sydney airport today wish taken one \n",
      "실제 요약 : man brings rest airport post goes viral \n",
      "예측 요약 :  man flies plane onto man flies plane gets back\n",
      "\n",
      "\n",
      "원문 : 500 people including coast guard personnel saturday took part annual cleaning drive three mumbai beaches mark international coastal cleanup day campaign organised dadar juhu beach coast guard educated citizens marine pollution ways could keep beaches seas clean \n",
      "실제 요약 : coast guard celebrates int day mumbai \n",
      "예측 요약 :  27 km long drive along mumbai till till date\n",
      "\n",
      "\n"
     ]
    }
   ],
   "source": [
    "for i in range(44, 60):\n",
    "    print(\"원문 :\", seq2text(encoder_input_test[i]))\n",
    "    print(\"실제 요약 :\", seq2summary(decoder_input_test[i]))\n",
    "    print(\"예측 요약 :\", decode_sequence(encoder_input_test[i].reshape(1, text_max_len)))\n",
    "    print(\"\\n\")"
   ]
  },
  {
   "cell_type": "markdown",
   "id": "athletic-doctor",
   "metadata": {},
   "source": [
    "#### Text degeneration problem\n",
    "어느정도 val_loss를 낮췄음에도 불구하고 예측 요약에서 계속 똑같은 단어가 반복해서 등장합니다. 이러한 문제를 Text degeneration이라 하고 [논문](https://arxiv.org/pdf/1904.09751.pdf)을 통해 자세한 내용을 확인할 수 있습니다. \n",
    "\n",
    "여기서는 간단한 방법을 몇가지 생각해봤는데, 첫번째는 top-3 정답을 뽑아낸다음 하나씩 출력하는 것이였습니다. 이에 대해서 구현을 하려고 했으나 시간이 부족해 현재는 진행하지 못한 상황입니다. 두번째로는 안형준님이 올려주신 정답을 참고해 작성한 penalty를 부여하는 방식입니다. 해당 방식은 이미 등장한 단어에 일정한 penalty를 부여해 최대값이 되기 힘들도록 만드는 방식으로 자세한 내용은 [이 곳](https://aiffel.agit.io/g/300307140/wall/324648437)에서 찾아볼 수 있습니다."
   ]
  },
  {
   "cell_type": "code",
   "execution_count": 65,
   "id": "suspected-radar",
   "metadata": {},
   "outputs": [],
   "source": [
    "def decode_sequence_penalty(input_seq):\n",
    "\n",
    "    e_out, e_h, e_c = encoder_model.predict(input_seq)\n",
    "\n",
    "    target_seq = np.zeros((1,1))\n",
    "    target_seq[0, 0] = tar_word_to_index['sostoken']\n",
    "\n",
    "    token_bag = set()\n",
    "\n",
    "    stop_condition = False\n",
    "    decoded_sentence = ''\n",
    "    while not stop_condition:\n",
    "\n",
    "        output_tokens, h, c = decoder_model.predict([target_seq] + [e_out, e_h, e_c])\n",
    "        sampled_token_index = np.argmax(output_tokens[0, -1, :])\n",
    "\n",
    "        if sampled_token_index in token_bag:\n",
    "            output_tokens[0, -1, sampled_token_index] *= 0.15\n",
    "            sampled_token_index = np.argmax(output_tokens[0, -1, :])\n",
    "        \n",
    "\n",
    "        sampled_token = tar_index_to_word[sampled_token_index]\n",
    "        \n",
    "        token_bag.add(sampled_token_index)\n",
    "\n",
    "        if (sampled_token!='eostoken'):\n",
    "            decoded_sentence += ' '+sampled_token\n",
    "\n",
    "        if (sampled_token == 'eostoken'  or len(decoded_sentence.split()) >= (headlines_max_len-1)):\n",
    "            stop_condition = True\n",
    "\n",
    "        target_seq = np.zeros((1,1))\n",
    "        target_seq[0, 0] = sampled_token_index\n",
    "\n",
    "        e_h, e_c = h, c\n",
    "\n",
    "    return decoded_sentence"
   ]
  },
  {
   "cell_type": "code",
   "execution_count": 66,
   "id": "systematic-trust",
   "metadata": {},
   "outputs": [
    {
     "name": "stdout",
     "output_type": "stream",
     "text": [
      "원문 : rebel jd leader sharad yadav tuesday moved delhi high court disqualification rajya sabha yadav claimed not given chance authorities order passed earlier vice president venkaiah naidu said yadav voluntarily left party speaking publicly thus disqualification \n",
      "실제 요약 : sharad yadav moves hc rajya sabha disqualification \n",
      "예측 요약 :  sharad yadav rejects plea seeking leave india not disqualification\n",
      "\n",
      "\n",
      "원문 : british academic matthew sentenced life spying uae immediate effect 31 year old denied spying said country security strategy part phd studies durham university pardon part mass 700 prisoners mark uae national day \n",
      "실제 요약 : uae british sentenced life spying \n",
      "예측 요약 :  uae man jailed spying uae not give spy scandal\n",
      "\n",
      "\n",
      "원문 : president ram nath kovind gave acceptance speech parliament sworn 14th president feel privileged walk path dr radhakrishnan dr abdul kalam pranab da said also thanked present responsibility president india \n",
      "실제 요약 : walk path kalam pranab da kovind \n",
      "예측 요약 :  president kovind prez kovind extend prez kovind winter olympics\n",
      "\n",
      "\n",
      "원문 : admitted used drone spy bundesliga rivals training ahead draw last wednesday reported drone flight police executive frank apologised coach julian said not mind spying concerned players safety \n",
      "실제 요약 : team flies drone rivals training ground spy ahead game \n",
      "예측 요약 :  uae police uses drone drone crashes near driver apologises\n",
      "\n",
      "\n",
      "원문 : pakistan cricketer shoaib malik came talked former indian captain ms dhoni sides training session dubai ahead upcoming asia cup 2018 tournament malik came shook hands dhoni talking india stand captain rohit sharma standing nearby india pakistan set face september 19 \n",
      "실제 요약 : shoaib malik comes meet ms dhoni training session \n",
      "예측 요약 :  ms dhoni helped india wc squad wi tour sehwag\n",
      "\n",
      "\n",
      "원문 : year old american suffering disease become first person undergo gene editing inside body scientists inserted dna cutting tool billions copies corrective gene expected become part dna experiment successful would eliminate patient need expensive weekly treatment replace missing \n",
      "실제 요약 : dna editing inside human body first time ever \n",
      "예측 요약 :  man study 1st ever human cells cancer fossil reveals\n",
      "\n",
      "\n",
      "원문 : sports social engagement platform indian startup among 10 startups chosen 2018 lead sports accelerator program founded piyush kumar akshat goel 2016 sports social gaming platform connects sports fans live matches also offers match prediction games sports social feed across eight sports \n",
      "실제 요약 : indian startup among 10 chosen sports accelerator program \n",
      "예측 요약 :  indian origin startup wins india team india 19 year\n",
      "\n",
      "\n",
      "원문 : aimim chief asaduddin owaisi tuesday sought case art living founder sri sri ravi shankar saying india not turn syria ram temple issue not neutral hell bent inciting violence country owaisi said meanwhile sri sri said comment misinterpreted \n",
      "실제 요약 : owaisi seeks case sri sri syria remark \n",
      "예측 요약 :  sri lankan court rejects mediate india plea muslim riots\n",
      "\n",
      "\n",
      "원문 : mayor philippines city antonio paraded suspected drug dealers public shot dead monday flag raising ceremony government officials police officials said special task group formed investigate killing notably name surfaced list officials allegedly linked narcotics released president rodrigo duterte \n",
      "실제 요약 : philippine mayor shamed drug suspects shot dead \n",
      "예측 요약 :  bombs suspect injures 30 injured amritsar blast near kashmir\n",
      "\n",
      "\n",
      "원문 : million followers actress deepika padukone followed account award first ever instagram awards held country followed account category priyanka chopra came second million followers alia bhatt stood third 20 million followers meanwhile cricketer virat kohli engaged account award instagram india \n",
      "실제 요약 : deepika wins followed account instagram india awards \n",
      "예측 요약 :  deepika padukone named best indian woman awards 2017 report\n",
      "\n",
      "\n",
      "원문 : sequoia capital india said tuesday closed sixth fund million investments across southeast asia made 200 bets startups meanwhile managing director abhay pandey decided quit years company comes managing directors bharadwaj gautam resigned float joint fund partners \n",
      "실제 요약 : sequoia raises 6th india vc fund another md resigns \n",
      "예측 요약 :  hong kong based firms raise funds 100 mn report\n",
      "\n",
      "\n",
      "원문 : 57 year old bihar police inspector suspended allegedly sharing morphed image pm narendra modi shaking hands mumbai terror attack mastermind hafiz saeed whatsapp picture reportedly accompanied caption dekho kaun hai cop claimed message sent grandson without knowledge \n",
      "실제 요약 : cop suspended sharing morphed pic pm modi saeed \n",
      "예측 요약 :  video shows pm modi dating song hafiz saeed tweet\n",
      "\n",
      "\n",
      "원문 : yellow circles appeared walls france castle part contemporary art project however locals slammed artwork one saying shocking beauty surrounding site outrageous castle former roman dating back fourth century \n",
      "실제 요약 : 4th century french covered yellow \n",
      "예측 요약 :  french city fined 27 lakh per week ranbir awareness\n",
      "\n",
      "\n",
      "원문 : least 13 people killed 25 others injured suicide explosion entrance afghanistan rural rehabilitation development ministry kabul government officials said explosion happened employees ministry leaving office islamic state claimed responsibility attack \n",
      "실제 요약 : isis attack targeting afghan ministry kills 13 injures 25 \n",
      "예측 요약 :  suicide afghanistan kills 12 injures 17 lakh suicide bombing\n",
      "\n",
      "\n",
      "원문 : reddit post man resting portable airport gone viral man tied one end pillar end table reddit user commented someone spent hours sydney airport today wish taken one \n",
      "실제 요약 : man brings rest airport post goes viral \n",
      "예측 요약 :  man flies plane onto airport gets back man plane\n",
      "\n",
      "\n",
      "원문 : 500 people including coast guard personnel saturday took part annual cleaning drive three mumbai beaches mark international coastal cleanup day campaign organised dadar juhu beach coast guard educated citizens marine pollution ways could keep beaches seas clean \n",
      "실제 요약 : coast guard celebrates int day mumbai \n",
      "예측 요약 :  27 km long drive along mumbai till due heavy\n",
      "\n",
      "\n"
     ]
    }
   ],
   "source": [
    "for i in range(44, 60):\n",
    "    print(\"원문 :\", seq2text(encoder_input_test[i]))\n",
    "    print(\"실제 요약 :\", seq2summary(decoder_input_test[i]))\n",
    "    print(\"예측 요약 :\", decode_sequence_penalty(encoder_input_test[i].reshape(1, text_max_len)))\n",
    "    print(\"\\n\")"
   ]
  },
  {
   "cell_type": "markdown",
   "id": "interior-bahrain",
   "metadata": {},
   "source": [
    "## 추출적 요약\n",
    "간단하게 추출적 요약을 해보면서 마무리 하겠습니다."
   ]
  },
  {
   "cell_type": "code",
   "execution_count": 85,
   "id": "scenic-metabolism",
   "metadata": {},
   "outputs": [],
   "source": [
    "import requests\n",
    "from summa.summarizer import summarize"
   ]
  },
  {
   "cell_type": "code",
   "execution_count": 97,
   "id": "computational-spray",
   "metadata": {},
   "outputs": [],
   "source": [
    "data = original_data"
   ]
  },
  {
   "cell_type": "code",
   "execution_count": 124,
   "id": "raised-railway",
   "metadata": {},
   "outputs": [
    {
     "name": "stdout",
     "output_type": "stream",
     "text": [
      "Saurav Kant, an alumnus of upGrad and IIIT-B's PG Program in Machine learning and Artificial Intelligence, was a Sr Systems Engineer at Infosys with almost 5 years of work experience. The program and upGrad's 360-degree career support helped him transition to a Data Scientist at Tech Mahindra with 90% salary hike. upGrad's Online Power Learning has powered 3 lakh+ careers.\n",
      "----------\n",
      "Summary: \n",
      "The program and upGrad's 360-degree career support helped him transition to a Data Scientist at Tech Mahindra with 90% salary hike.\n",
      "upGrad's Online Power Learning has powered 3 lakh+ careers.\n"
     ]
    }
   ],
   "source": [
    "print(text)\n",
    "print('----------')\n",
    "print('Summary: ')\n",
    "print(summarize(text, ratio=0.8))"
   ]
  },
  {
   "cell_type": "code",
   "execution_count": 128,
   "id": "roman-ability",
   "metadata": {},
   "outputs": [],
   "source": [
    "data['EXheadlines'] = data['text'].apply(lambda x: summarize(x, ratio=0.8))"
   ]
  },
  {
   "cell_type": "code",
   "execution_count": 129,
   "id": "hairy-porcelain",
   "metadata": {},
   "outputs": [
    {
     "data": {
      "text/html": [
       "<div>\n",
       "<style scoped>\n",
       "    .dataframe tbody tr th:only-of-type {\n",
       "        vertical-align: middle;\n",
       "    }\n",
       "\n",
       "    .dataframe tbody tr th {\n",
       "        vertical-align: top;\n",
       "    }\n",
       "\n",
       "    .dataframe thead th {\n",
       "        text-align: right;\n",
       "    }\n",
       "</style>\n",
       "<table border=\"1\" class=\"dataframe\">\n",
       "  <thead>\n",
       "    <tr style=\"text-align: right;\">\n",
       "      <th></th>\n",
       "      <th>headlines</th>\n",
       "      <th>text</th>\n",
       "      <th>EXheadlines</th>\n",
       "    </tr>\n",
       "  </thead>\n",
       "  <tbody>\n",
       "    <tr>\n",
       "      <th>0</th>\n",
       "      <td>upGrad learner switches to career in ML &amp; Al w...</td>\n",
       "      <td>Saurav Kant, an alumnus of upGrad and IIIT-B's...</td>\n",
       "      <td>The program and upGrad's 360-degree career sup...</td>\n",
       "    </tr>\n",
       "    <tr>\n",
       "      <th>1</th>\n",
       "      <td>Delhi techie wins free food from Swiggy for on...</td>\n",
       "      <td>Kunal Shah's credit card bill payment platform...</td>\n",
       "      <td>Pranav Kaushik, a Delhi techie, bagged this re...</td>\n",
       "    </tr>\n",
       "    <tr>\n",
       "      <th>2</th>\n",
       "      <td>New Zealand end Rohit Sharma-led India's 12-ma...</td>\n",
       "      <td>New Zealand defeated India by 8 wickets in the...</td>\n",
       "      <td>New Zealand defeated India by 8 wickets in the...</td>\n",
       "    </tr>\n",
       "    <tr>\n",
       "      <th>3</th>\n",
       "      <td>Aegon life iTerm insurance plan helps customer...</td>\n",
       "      <td>With Aegon Life iTerm Insurance plan, customer...</td>\n",
       "      <td>The plan provides life cover up to the age of ...</td>\n",
       "    </tr>\n",
       "    <tr>\n",
       "      <th>4</th>\n",
       "      <td>Have known Hirani for yrs, what if MeToo claim...</td>\n",
       "      <td>Speaking about the sexual harassment allegatio...</td>\n",
       "      <td>Speaking about the sexual harassment allegatio...</td>\n",
       "    </tr>\n",
       "  </tbody>\n",
       "</table>\n",
       "</div>"
      ],
      "text/plain": [
       "                                           headlines  \\\n",
       "0  upGrad learner switches to career in ML & Al w...   \n",
       "1  Delhi techie wins free food from Swiggy for on...   \n",
       "2  New Zealand end Rohit Sharma-led India's 12-ma...   \n",
       "3  Aegon life iTerm insurance plan helps customer...   \n",
       "4  Have known Hirani for yrs, what if MeToo claim...   \n",
       "\n",
       "                                                text  \\\n",
       "0  Saurav Kant, an alumnus of upGrad and IIIT-B's...   \n",
       "1  Kunal Shah's credit card bill payment platform...   \n",
       "2  New Zealand defeated India by 8 wickets in the...   \n",
       "3  With Aegon Life iTerm Insurance plan, customer...   \n",
       "4  Speaking about the sexual harassment allegatio...   \n",
       "\n",
       "                                         EXheadlines  \n",
       "0  The program and upGrad's 360-degree career sup...  \n",
       "1  Pranav Kaushik, a Delhi techie, bagged this re...  \n",
       "2  New Zealand defeated India by 8 wickets in the...  \n",
       "3  The plan provides life cover up to the age of ...  \n",
       "4  Speaking about the sexual harassment allegatio...  "
      ]
     },
     "execution_count": 129,
     "metadata": {},
     "output_type": "execute_result"
    }
   ],
   "source": [
    "data.head()"
   ]
  },
  {
   "cell_type": "markdown",
   "id": "molecular-collar",
   "metadata": {},
   "source": [
    "## 소감\n",
    "\n",
    "군데군데 짤막한 생각과 소감을 남겨 간단하게 소감을 쓰며 마무리 하겠습니다.\n",
    "\n",
    "정규표현식을 열심히 써가며 전처리를 하고 성능이 좋아져서 기분은 좋았습니다. attention을 다르게 연결하는 방법, transformer를 사용하는 방법등 다양한 방법을 사용해 성능을 체크해보고 싶었지만 게을러 해보지 못해 아쉽습니다. 조금 더 부지런하게 차근차근 다 해봐야겠습니다.\n",
    "\n",
    "자연어처리는 항상 학습시간이 오래 걸려서 더욱 힘드네요."
   ]
  },
  {
   "cell_type": "code",
   "execution_count": null,
   "id": "opposite-distribution",
   "metadata": {},
   "outputs": [],
   "source": []
  }
 ],
 "metadata": {
  "kernelspec": {
   "display_name": "Python 3",
   "language": "python",
   "name": "python3"
  },
  "language_info": {
   "codemirror_mode": {
    "name": "ipython",
    "version": 3
   },
   "file_extension": ".py",
   "mimetype": "text/x-python",
   "name": "python",
   "nbconvert_exporter": "python",
   "pygments_lexer": "ipython3",
   "version": "3.7.9"
  }
 },
 "nbformat": 4,
 "nbformat_minor": 5
}
