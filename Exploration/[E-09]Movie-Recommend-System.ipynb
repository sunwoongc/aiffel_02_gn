{
 "cells": [
  {
   "cell_type": "code",
   "execution_count": 1,
   "id": "coral-mason",
   "metadata": {},
   "outputs": [
    {
     "name": "stdout",
     "output_type": "stream",
     "text": [
      "ln: failed to create symbolic link '/aiffel/aiffel/recommendata_iu/data/ml-1m/movies.dat': File exists\r\n",
      "ln: failed to create symbolic link '/aiffel/aiffel/recommendata_iu/data/ml-1m/ratings.dat': File exists\r\n",
      "ln: failed to create symbolic link '/aiffel/aiffel/recommendata_iu/data/ml-1m/README': File exists\r\n",
      "ln: failed to create symbolic link '/aiffel/aiffel/recommendata_iu/data/ml-1m/users.dat': File exists\r\n"
     ]
    }
   ],
   "source": [
    "!mkdir -p ~/aiffel/recommendata_iu/data/ml-1m\n",
    "!ln -s ~/data/ml-1m/* ~/aiffel/recommendata_iu/data/ml-1m"
   ]
  },
  {
   "cell_type": "markdown",
   "id": "willing-aside",
   "metadata": {},
   "source": [
    "## 1. 데이터 준비하기"
   ]
  },
  {
   "cell_type": "code",
   "execution_count": 2,
   "id": "daily-optics",
   "metadata": {},
   "outputs": [],
   "source": [
    "import os\n",
    "import pandas as pd\n",
    "import seaborn as sns\n",
    "import matplotlib.pyplot as plt"
   ]
  },
  {
   "cell_type": "code",
   "execution_count": 3,
   "id": "private-first",
   "metadata": {},
   "outputs": [
    {
     "data": {
      "text/html": [
       "<div>\n",
       "<style scoped>\n",
       "    .dataframe tbody tr th:only-of-type {\n",
       "        vertical-align: middle;\n",
       "    }\n",
       "\n",
       "    .dataframe tbody tr th {\n",
       "        vertical-align: top;\n",
       "    }\n",
       "\n",
       "    .dataframe thead th {\n",
       "        text-align: right;\n",
       "    }\n",
       "</style>\n",
       "<table border=\"1\" class=\"dataframe\">\n",
       "  <thead>\n",
       "    <tr style=\"text-align: right;\">\n",
       "      <th></th>\n",
       "      <th>user_id</th>\n",
       "      <th>movie_id</th>\n",
       "      <th>rating</th>\n",
       "      <th>timestamp</th>\n",
       "    </tr>\n",
       "  </thead>\n",
       "  <tbody>\n",
       "    <tr>\n",
       "      <th>0</th>\n",
       "      <td>1</td>\n",
       "      <td>1193</td>\n",
       "      <td>5</td>\n",
       "      <td>978300760</td>\n",
       "    </tr>\n",
       "    <tr>\n",
       "      <th>1</th>\n",
       "      <td>1</td>\n",
       "      <td>661</td>\n",
       "      <td>3</td>\n",
       "      <td>978302109</td>\n",
       "    </tr>\n",
       "    <tr>\n",
       "      <th>2</th>\n",
       "      <td>1</td>\n",
       "      <td>914</td>\n",
       "      <td>3</td>\n",
       "      <td>978301968</td>\n",
       "    </tr>\n",
       "    <tr>\n",
       "      <th>3</th>\n",
       "      <td>1</td>\n",
       "      <td>3408</td>\n",
       "      <td>4</td>\n",
       "      <td>978300275</td>\n",
       "    </tr>\n",
       "    <tr>\n",
       "      <th>4</th>\n",
       "      <td>1</td>\n",
       "      <td>2355</td>\n",
       "      <td>5</td>\n",
       "      <td>978824291</td>\n",
       "    </tr>\n",
       "  </tbody>\n",
       "</table>\n",
       "</div>"
      ],
      "text/plain": [
       "   user_id  movie_id  rating  timestamp\n",
       "0        1      1193       5  978300760\n",
       "1        1       661       3  978302109\n",
       "2        1       914       3  978301968\n",
       "3        1      3408       4  978300275\n",
       "4        1      2355       5  978824291"
      ]
     },
     "execution_count": 3,
     "metadata": {},
     "output_type": "execute_result"
    }
   ],
   "source": [
    "rating_file_path=os.getenv('HOME') + '/aiffel/recommendata_iu/data/ml-1m/ratings.dat'\n",
    "ratings_cols = ['user_id', 'movie_id', 'rating', 'timestamp']\n",
    "ratings = pd.read_csv(rating_file_path, sep='::', names=ratings_cols, engine='python', encoding = \"ISO-8859-1\")\n",
    "orginal_data_size = len(ratings)\n",
    "\n",
    "ratings.head()"
   ]
  },
  {
   "cell_type": "code",
   "execution_count": 4,
   "id": "liable-satellite",
   "metadata": {},
   "outputs": [],
   "source": [
    "ratings = ratings.loc[ratings['rating'] >= 3]\n",
    "filtered_data_size = len(ratings)"
   ]
  },
  {
   "cell_type": "code",
   "execution_count": 5,
   "id": "brilliant-means",
   "metadata": {},
   "outputs": [
    {
     "name": "stdout",
     "output_type": "stream",
     "text": [
      "orginal_data_size: 1000209, filtered_data_size: 836478\n",
      "Ratio of Remaining Data is 83.63%\n"
     ]
    }
   ],
   "source": [
    "print(f'orginal_data_size: {orginal_data_size}, filtered_data_size: {filtered_data_size}')\n",
    "print(f'Ratio of Remaining Data is {filtered_data_size / orginal_data_size:.2%}')"
   ]
  },
  {
   "cell_type": "markdown",
   "id": "bridal-czech",
   "metadata": {},
   "source": [
    "대표적인 explicit 데이터인 별점을 implicit 데이터로 간주하기 위해 시청횟수로 해석하고 이에 따른 변화를 구현해줍니다."
   ]
  },
  {
   "cell_type": "code",
   "execution_count": 6,
   "id": "mighty-tokyo",
   "metadata": {},
   "outputs": [],
   "source": [
    "ratings.rename(columns={'rating':'count'}, inplace=True)"
   ]
  },
  {
   "cell_type": "code",
   "execution_count": 7,
   "id": "associate-greek",
   "metadata": {},
   "outputs": [
    {
     "data": {
      "text/plain": [
       "0          5\n",
       "1          3\n",
       "2          3\n",
       "3          4\n",
       "4          5\n",
       "          ..\n",
       "1000203    3\n",
       "1000205    5\n",
       "1000206    5\n",
       "1000207    4\n",
       "1000208    4\n",
       "Name: count, Length: 836478, dtype: int64"
      ]
     },
     "execution_count": 7,
     "metadata": {},
     "output_type": "execute_result"
    }
   ],
   "source": [
    "ratings['count']"
   ]
  },
  {
   "cell_type": "markdown",
   "id": "loaded-factory",
   "metadata": {},
   "source": [
    "시간에 대한 컬럼인 'timestamp' 컬럼은 필요하지 않으므로 삭제합니다."
   ]
  },
  {
   "cell_type": "code",
   "execution_count": 8,
   "id": "banned-education",
   "metadata": {},
   "outputs": [],
   "source": [
    "del ratings['timestamp']"
   ]
  },
  {
   "cell_type": "code",
   "execution_count": 9,
   "id": "aboriginal-banana",
   "metadata": {},
   "outputs": [
    {
     "data": {
      "text/html": [
       "<div>\n",
       "<style scoped>\n",
       "    .dataframe tbody tr th:only-of-type {\n",
       "        vertical-align: middle;\n",
       "    }\n",
       "\n",
       "    .dataframe tbody tr th {\n",
       "        vertical-align: top;\n",
       "    }\n",
       "\n",
       "    .dataframe thead th {\n",
       "        text-align: right;\n",
       "    }\n",
       "</style>\n",
       "<table border=\"1\" class=\"dataframe\">\n",
       "  <thead>\n",
       "    <tr style=\"text-align: right;\">\n",
       "      <th></th>\n",
       "      <th>user_id</th>\n",
       "      <th>movie_id</th>\n",
       "      <th>count</th>\n",
       "    </tr>\n",
       "  </thead>\n",
       "  <tbody>\n",
       "    <tr>\n",
       "      <th>0</th>\n",
       "      <td>1</td>\n",
       "      <td>1193</td>\n",
       "      <td>5</td>\n",
       "    </tr>\n",
       "    <tr>\n",
       "      <th>1</th>\n",
       "      <td>1</td>\n",
       "      <td>661</td>\n",
       "      <td>3</td>\n",
       "    </tr>\n",
       "    <tr>\n",
       "      <th>2</th>\n",
       "      <td>1</td>\n",
       "      <td>914</td>\n",
       "      <td>3</td>\n",
       "    </tr>\n",
       "    <tr>\n",
       "      <th>3</th>\n",
       "      <td>1</td>\n",
       "      <td>3408</td>\n",
       "      <td>4</td>\n",
       "    </tr>\n",
       "    <tr>\n",
       "      <th>4</th>\n",
       "      <td>1</td>\n",
       "      <td>2355</td>\n",
       "      <td>5</td>\n",
       "    </tr>\n",
       "  </tbody>\n",
       "</table>\n",
       "</div>"
      ],
      "text/plain": [
       "   user_id  movie_id  count\n",
       "0        1      1193      5\n",
       "1        1       661      3\n",
       "2        1       914      3\n",
       "3        1      3408      4\n",
       "4        1      2355      5"
      ]
     },
     "execution_count": 9,
     "metadata": {},
     "output_type": "execute_result"
    }
   ],
   "source": [
    "ratings.head()"
   ]
  },
  {
   "cell_type": "markdown",
   "id": "every-window",
   "metadata": {},
   "source": [
    "동일한 'movie_id'를 기준으로 제목과 장르가 기록된 데이터도 가져옵니다."
   ]
  },
  {
   "cell_type": "code",
   "execution_count": 10,
   "id": "korean-controversy",
   "metadata": {},
   "outputs": [
    {
     "data": {
      "text/html": [
       "<div>\n",
       "<style scoped>\n",
       "    .dataframe tbody tr th:only-of-type {\n",
       "        vertical-align: middle;\n",
       "    }\n",
       "\n",
       "    .dataframe tbody tr th {\n",
       "        vertical-align: top;\n",
       "    }\n",
       "\n",
       "    .dataframe thead th {\n",
       "        text-align: right;\n",
       "    }\n",
       "</style>\n",
       "<table border=\"1\" class=\"dataframe\">\n",
       "  <thead>\n",
       "    <tr style=\"text-align: right;\">\n",
       "      <th></th>\n",
       "      <th>movie_id</th>\n",
       "      <th>title</th>\n",
       "      <th>genre</th>\n",
       "    </tr>\n",
       "  </thead>\n",
       "  <tbody>\n",
       "    <tr>\n",
       "      <th>0</th>\n",
       "      <td>1</td>\n",
       "      <td>Toy Story (1995)</td>\n",
       "      <td>Animation|Children's|Comedy</td>\n",
       "    </tr>\n",
       "    <tr>\n",
       "      <th>1</th>\n",
       "      <td>2</td>\n",
       "      <td>Jumanji (1995)</td>\n",
       "      <td>Adventure|Children's|Fantasy</td>\n",
       "    </tr>\n",
       "    <tr>\n",
       "      <th>2</th>\n",
       "      <td>3</td>\n",
       "      <td>Grumpier Old Men (1995)</td>\n",
       "      <td>Comedy|Romance</td>\n",
       "    </tr>\n",
       "    <tr>\n",
       "      <th>3</th>\n",
       "      <td>4</td>\n",
       "      <td>Waiting to Exhale (1995)</td>\n",
       "      <td>Comedy|Drama</td>\n",
       "    </tr>\n",
       "    <tr>\n",
       "      <th>4</th>\n",
       "      <td>5</td>\n",
       "      <td>Father of the Bride Part II (1995)</td>\n",
       "      <td>Comedy</td>\n",
       "    </tr>\n",
       "  </tbody>\n",
       "</table>\n",
       "</div>"
      ],
      "text/plain": [
       "   movie_id                               title                         genre\n",
       "0         1                    Toy Story (1995)   Animation|Children's|Comedy\n",
       "1         2                      Jumanji (1995)  Adventure|Children's|Fantasy\n",
       "2         3             Grumpier Old Men (1995)                Comedy|Romance\n",
       "3         4            Waiting to Exhale (1995)                  Comedy|Drama\n",
       "4         5  Father of the Bride Part II (1995)                        Comedy"
      ]
     },
     "execution_count": 10,
     "metadata": {},
     "output_type": "execute_result"
    }
   ],
   "source": [
    "movie_file_path=os.getenv('HOME') + '/aiffel/recommendata_iu/data/ml-1m/movies.dat'\n",
    "cols = ['movie_id', 'title', 'genre']\n",
    "movies = pd.read_csv(movie_file_path, sep='::', names=cols, engine='python', encoding='ISO-8859-1')\n",
    "movies.head()"
   ]
  },
  {
   "cell_type": "markdown",
   "id": "compatible-cliff",
   "metadata": {},
   "source": [
    "## Exploring the data\n",
    "\n",
    "간단하게 데이터를 분석해보겠습니다.\n",
    "1. How many users are there?\n",
    "2. How many movies are there?\n",
    "3. How many genres are there?\n",
    "4. What is the most watched movie?\n",
    "5. Who watched the movie the most?\n",
    "6. What is the favorite movie?\n",
    "7. What is the mean ratings per genre?"
   ]
  },
  {
   "cell_type": "markdown",
   "id": "random-exclusion",
   "metadata": {},
   "source": [
    "### (1) Users, Movies, Genres"
   ]
  },
  {
   "cell_type": "code",
   "execution_count": 11,
   "id": "ordered-magnitude",
   "metadata": {},
   "outputs": [
    {
     "name": "stdout",
     "output_type": "stream",
     "text": [
      "There are 6039 users.\n"
     ]
    }
   ],
   "source": [
    "print(f\"There are {ratings['user_id'].nunique()} users.\")"
   ]
  },
  {
   "cell_type": "code",
   "execution_count": 12,
   "id": "apart-producer",
   "metadata": {},
   "outputs": [
    {
     "name": "stdout",
     "output_type": "stream",
     "text": [
      "There are 3628 movies.\n"
     ]
    }
   ],
   "source": [
    "print(f\"There are {ratings['movie_id'].nunique()} movies.\")"
   ]
  },
  {
   "cell_type": "code",
   "execution_count": 13,
   "id": "regular-cornell",
   "metadata": {},
   "outputs": [
    {
     "name": "stdout",
     "output_type": "stream",
     "text": [
      "There are 301 genres. (without refined classification)\n"
     ]
    }
   ],
   "source": [
    "print(f\"There are {movies['genre'].nunique()} genres. (without refined classification)\")"
   ]
  },
  {
   "cell_type": "markdown",
   "id": "mineral-designer",
   "metadata": {},
   "source": [
    "### (2) The most watched movie, user who watched the most."
   ]
  },
  {
   "cell_type": "code",
   "execution_count": 14,
   "id": "pacific-planner",
   "metadata": {},
   "outputs": [],
   "source": [
    "movie_count = ratings.groupby('movie_id')['user_id'].count()\n",
    "movie_count = movie_count.sort_values(ascending=False)\n",
    "movie_count = pd.DataFrame({'movie_id': movie_count.index, 'count':movie_count.to_numpy()})"
   ]
  },
  {
   "cell_type": "code",
   "execution_count": 15,
   "id": "rolled-mississippi",
   "metadata": {},
   "outputs": [
    {
     "data": {
      "text/html": [
       "<div>\n",
       "<style scoped>\n",
       "    .dataframe tbody tr th:only-of-type {\n",
       "        vertical-align: middle;\n",
       "    }\n",
       "\n",
       "    .dataframe tbody tr th {\n",
       "        vertical-align: top;\n",
       "    }\n",
       "\n",
       "    .dataframe thead th {\n",
       "        text-align: right;\n",
       "    }\n",
       "</style>\n",
       "<table border=\"1\" class=\"dataframe\">\n",
       "  <thead>\n",
       "    <tr style=\"text-align: right;\">\n",
       "      <th></th>\n",
       "      <th>movie_id</th>\n",
       "      <th>title</th>\n",
       "      <th>genre</th>\n",
       "    </tr>\n",
       "  </thead>\n",
       "  <tbody>\n",
       "    <tr>\n",
       "      <th>2789</th>\n",
       "      <td>2858</td>\n",
       "      <td>American Beauty (1999)</td>\n",
       "      <td>Comedy|Drama</td>\n",
       "    </tr>\n",
       "  </tbody>\n",
       "</table>\n",
       "</div>"
      ],
      "text/plain": [
       "      movie_id                   title         genre\n",
       "2789      2858  American Beauty (1999)  Comedy|Drama"
      ]
     },
     "metadata": {},
     "output_type": "display_data"
    },
    {
     "name": "stdout",
     "output_type": "stream",
     "text": [
      ">>> The most watched movie is American Beauty (1999)\n",
      "for 3211 times.\n"
     ]
    }
   ],
   "source": [
    "most_movie_id = movie_count['movie_id'].iloc[0]\n",
    "most_movie_count = movie_count['count'].iloc[0]\n",
    "\n",
    "df_temp = movies.loc[movies[\"movie_id\"] == most_movie_id]\n",
    "\n",
    "display(df_temp)\n",
    "\n",
    "print(f\">>> The most watched movie is {df_temp['title'].iloc[0]}\")\n",
    "print(f\"for {most_movie_count} times.\")"
   ]
  },
  {
   "cell_type": "code",
   "execution_count": 17,
   "id": "irish-commander",
   "metadata": {},
   "outputs": [
    {
     "data": {
      "text/plain": [
       "1       119\n",
       "2        88\n",
       "3        63\n",
       "4        51\n",
       "8        42\n",
       "       ... \n",
       "1029      1\n",
       "741       1\n",
       "2498      1\n",
       "1027      1\n",
       "2019      1\n",
       "Name: count, Length: 836, dtype: int64"
      ]
     },
     "execution_count": 17,
     "metadata": {},
     "output_type": "execute_result"
    }
   ],
   "source": [
    "mv_count = movie_count['count'].value_counts().sort_values(ascending=False)\n",
    "mv_count"
   ]
  },
  {
   "cell_type": "code",
   "execution_count": 18,
   "id": "competitive-delicious",
   "metadata": {},
   "outputs": [],
   "source": [
    "## HOW TO MAKE seaborn palette to colormap ##\n",
    "\n",
    "# import matplotlib as mpl\n",
    "# from matplotlib.colors import ListedColormap\n",
    "# colors = sns.color_palette(\"Blues\", n_colors=2000)\n",
    "# my_cmap = ListedColormap(colors.as_hex())"
   ]
  },
  {
   "cell_type": "code",
   "execution_count": 20,
   "id": "organizational-cooler",
   "metadata": {},
   "outputs": [
    {
     "data": {
      "text/plain": [
       "Text(0.5, 0, 'How many times each movie was watched')"
      ]
     },
     "execution_count": 20,
     "metadata": {},
     "output_type": "execute_result"
    },
    {
     "data": {
      "image/png": "[encoded data removed]",
      "text/plain": [
       "<Figure size 576x432 with 1 Axes>"
      ]
     },
     "metadata": {
      "needs_background": "light"
     },
     "output_type": "display_data"
    }
   ],
   "source": [
    "from matplotlib import cm\n",
    "\n",
    "fig, ax = plt.subplots(figsize=(8, 6))\n",
    "sns.histplot(data=movie_count['count'], ax=ax, kde=True)\n",
    "\n",
    "heights = [p.get_height() for p in ax.patches] ## 각 값(막대의 높이) 구하기\n",
    "h_min, h_max = min(heights), max(heights)\n",
    "cmap_ = 'YlOrBr'\n",
    "cmap = cm.get_cmap(cmap_)\n",
    "\n",
    "for p in ax.patches:\n",
    "    h_norm = (p.get_height() - h_min) / (h_max - h_min)\n",
    "    p.set_facecolor(cmap(h_norm))\n",
    "    \n",
    "ax.set_xlabel(\"How many times each movie was watched\")"
   ]
  },
  {
   "cell_type": "code",
   "execution_count": 21,
   "id": "focal-thousand",
   "metadata": {
    "scrolled": true
   },
   "outputs": [
    {
     "data": {
      "text/html": [
       "<div>\n",
       "<style scoped>\n",
       "    .dataframe tbody tr th:only-of-type {\n",
       "        vertical-align: middle;\n",
       "    }\n",
       "\n",
       "    .dataframe tbody tr th {\n",
       "        vertical-align: top;\n",
       "    }\n",
       "\n",
       "    .dataframe thead th {\n",
       "        text-align: right;\n",
       "    }\n",
       "</style>\n",
       "<table border=\"1\" class=\"dataframe\">\n",
       "  <thead>\n",
       "    <tr style=\"text-align: right;\">\n",
       "      <th></th>\n",
       "      <th>user_id</th>\n",
       "      <th>count</th>\n",
       "    </tr>\n",
       "  </thead>\n",
       "  <tbody>\n",
       "    <tr>\n",
       "      <th>0</th>\n",
       "      <td>4169</td>\n",
       "      <td>1968</td>\n",
       "    </tr>\n",
       "    <tr>\n",
       "      <th>1</th>\n",
       "      <td>4277</td>\n",
       "      <td>1715</td>\n",
       "    </tr>\n",
       "    <tr>\n",
       "      <th>2</th>\n",
       "      <td>1680</td>\n",
       "      <td>1515</td>\n",
       "    </tr>\n",
       "    <tr>\n",
       "      <th>3</th>\n",
       "      <td>3618</td>\n",
       "      <td>1146</td>\n",
       "    </tr>\n",
       "    <tr>\n",
       "      <th>4</th>\n",
       "      <td>1015</td>\n",
       "      <td>1145</td>\n",
       "    </tr>\n",
       "    <tr>\n",
       "      <th>...</th>\n",
       "      <td>...</td>\n",
       "      <td>...</td>\n",
       "    </tr>\n",
       "    <tr>\n",
       "      <th>6034</th>\n",
       "      <td>4636</td>\n",
       "      <td>9</td>\n",
       "    </tr>\n",
       "    <tr>\n",
       "      <th>6035</th>\n",
       "      <td>1102</td>\n",
       "      <td>9</td>\n",
       "    </tr>\n",
       "    <tr>\n",
       "      <th>6036</th>\n",
       "      <td>4056</td>\n",
       "      <td>9</td>\n",
       "    </tr>\n",
       "    <tr>\n",
       "      <th>6037</th>\n",
       "      <td>4349</td>\n",
       "      <td>7</td>\n",
       "    </tr>\n",
       "    <tr>\n",
       "      <th>6038</th>\n",
       "      <td>4486</td>\n",
       "      <td>1</td>\n",
       "    </tr>\n",
       "  </tbody>\n",
       "</table>\n",
       "<p>6039 rows × 2 columns</p>\n",
       "</div>"
      ],
      "text/plain": [
       "      user_id  count\n",
       "0        4169   1968\n",
       "1        4277   1715\n",
       "2        1680   1515\n",
       "3        3618   1146\n",
       "4        1015   1145\n",
       "...       ...    ...\n",
       "6034     4636      9\n",
       "6035     1102      9\n",
       "6036     4056      9\n",
       "6037     4349      7\n",
       "6038     4486      1\n",
       "\n",
       "[6039 rows x 2 columns]"
      ]
     },
     "metadata": {},
     "output_type": "display_data"
    },
    {
     "name": "stdout",
     "output_type": "stream",
     "text": [
      ">>> User id 4169 watched 1968 movies.\n"
     ]
    }
   ],
   "source": [
    "user_count = ratings.groupby('user_id')['movie_id'].count()\n",
    "user_count = user_count.sort_values(ascending=False)\n",
    "user_count = pd.DataFrame({'user_id': user_count.index, 'count':user_count.to_numpy()})\n",
    "\n",
    "display(user_count)\n",
    "\n",
    "print(f\">>> User id {user_count.loc[0, 'user_id']} watched {user_count.loc[0, 'count']} movies.\")"
   ]
  },
  {
   "cell_type": "code",
   "execution_count": 22,
   "id": "hawaiian-trout",
   "metadata": {},
   "outputs": [],
   "source": [
    "us_count = user_count['count'].value_counts().sort_values(ascending=False)"
   ]
  },
  {
   "cell_type": "code",
   "execution_count": 23,
   "id": "domestic-semester",
   "metadata": {},
   "outputs": [],
   "source": [
    "import matplotlib as mpl\n",
    "from matplotlib.colors import ListedColormap\n",
    "colors = sns.color_palette(\"Greens\", n_colors=2000)\n",
    "my_cmap = ListedColormap(colors.as_hex())\n"
   ]
  },
  {
   "cell_type": "code",
   "execution_count": 24,
   "id": "integrated-chicago",
   "metadata": {},
   "outputs": [
    {
     "data": {
      "text/plain": [
       "Text(0.5, 0, 'How many times each user watched')"
      ]
     },
     "execution_count": 24,
     "metadata": {},
     "output_type": "execute_result"
    },
    {
     "data": {
      "image/png": "[encoded data removed]",
      "text/plain": [
       "<Figure size 576x432 with 1 Axes>"
      ]
     },
     "metadata": {
      "needs_background": "light"
     },
     "output_type": "display_data"
    }
   ],
   "source": [
    "fig, ax = plt.subplots(figsize=(8, 6))\n",
    "sns.histplot(data=user_count['count'], ax=ax, kde=True)\n",
    "\n",
    "heights = [p.get_height() for p in ax.patches] ## 각 값(막대의 높이) 구하기\n",
    "h_min, h_max = min(heights), max(heights)\n",
    "cmap_ = 'YlOrBr'\n",
    "cmap = cm.get_cmap(cmap_)\n",
    "\n",
    "for p in ax.patches:\n",
    "    h_norm = (p.get_height() - h_min) / (h_max - h_min)\n",
    "    p.set_facecolor(cmap(h_norm))\n",
    "ax.set_xlabel(\"How many times each user watched\")"
   ]
  },
  {
   "cell_type": "markdown",
   "id": "affecting-harvard",
   "metadata": {},
   "source": [
    "### Favorite movie, rating per genre."
   ]
  },
  {
   "cell_type": "code",
   "execution_count": 25,
   "id": "weekly-phoenix",
   "metadata": {},
   "outputs": [
    {
     "data": {
      "text/html": [
       "<div>\n",
       "<style scoped>\n",
       "    .dataframe tbody tr th:only-of-type {\n",
       "        vertical-align: middle;\n",
       "    }\n",
       "\n",
       "    .dataframe tbody tr th {\n",
       "        vertical-align: top;\n",
       "    }\n",
       "\n",
       "    .dataframe thead th {\n",
       "        text-align: right;\n",
       "    }\n",
       "</style>\n",
       "<table border=\"1\" class=\"dataframe\">\n",
       "  <thead>\n",
       "    <tr style=\"text-align: right;\">\n",
       "      <th></th>\n",
       "      <th>movie_id</th>\n",
       "      <th>count</th>\n",
       "    </tr>\n",
       "  </thead>\n",
       "  <tbody>\n",
       "    <tr>\n",
       "      <th>0</th>\n",
       "      <td>1830</td>\n",
       "      <td>5.0</td>\n",
       "    </tr>\n",
       "    <tr>\n",
       "      <th>1</th>\n",
       "      <td>3607</td>\n",
       "      <td>5.0</td>\n",
       "    </tr>\n",
       "    <tr>\n",
       "      <th>2</th>\n",
       "      <td>3800</td>\n",
       "      <td>5.0</td>\n",
       "    </tr>\n",
       "    <tr>\n",
       "      <th>3</th>\n",
       "      <td>3280</td>\n",
       "      <td>5.0</td>\n",
       "    </tr>\n",
       "    <tr>\n",
       "      <th>4</th>\n",
       "      <td>989</td>\n",
       "      <td>5.0</td>\n",
       "    </tr>\n",
       "    <tr>\n",
       "      <th>...</th>\n",
       "      <td>...</td>\n",
       "      <td>...</td>\n",
       "    </tr>\n",
       "    <tr>\n",
       "      <th>3623</th>\n",
       "      <td>821</td>\n",
       "      <td>3.0</td>\n",
       "    </tr>\n",
       "    <tr>\n",
       "      <th>3624</th>\n",
       "      <td>3876</td>\n",
       "      <td>3.0</td>\n",
       "    </tr>\n",
       "    <tr>\n",
       "      <th>3625</th>\n",
       "      <td>2214</td>\n",
       "      <td>3.0</td>\n",
       "    </tr>\n",
       "    <tr>\n",
       "      <th>3626</th>\n",
       "      <td>1532</td>\n",
       "      <td>3.0</td>\n",
       "    </tr>\n",
       "    <tr>\n",
       "      <th>3627</th>\n",
       "      <td>3373</td>\n",
       "      <td>3.0</td>\n",
       "    </tr>\n",
       "  </tbody>\n",
       "</table>\n",
       "<p>3628 rows × 2 columns</p>\n",
       "</div>"
      ],
      "text/plain": [
       "      movie_id  count\n",
       "0         1830    5.0\n",
       "1         3607    5.0\n",
       "2         3800    5.0\n",
       "3         3280    5.0\n",
       "4          989    5.0\n",
       "...        ...    ...\n",
       "3623       821    3.0\n",
       "3624      3876    3.0\n",
       "3625      2214    3.0\n",
       "3626      1532    3.0\n",
       "3627      3373    3.0\n",
       "\n",
       "[3628 rows x 2 columns]"
      ]
     },
     "metadata": {},
     "output_type": "display_data"
    },
    {
     "name": "stdout",
     "output_type": "stream",
     "text": [
      ">>> Movie id Follow the Bitch (1998) is watched 5.0 score for average.\n"
     ]
    }
   ],
   "source": [
    "avg_watch = ratings.groupby('movie_id')['count'].mean()\n",
    "avg_watch = avg_watch.sort_values(ascending=False)\n",
    "avg_watch = pd.DataFrame({'movie_id': avg_watch.index, 'count':avg_watch.to_numpy()})\n",
    "\n",
    "display(avg_watch)\n",
    "\n",
    "most_avg_id = avg_watch.loc[0, 'movie_id']\n",
    "most_avg_title = movies.loc[movies[\"movie_id\"] == most_avg_id]['title'].iloc[0]\n",
    "\n",
    "print(f\">>> Movie id {most_avg_title} is watched {avg_watch.loc[0, 'count']} score for average.\")\n"
   ]
  },
  {
   "cell_type": "markdown",
   "id": "ideal-fusion",
   "metadata": {},
   "source": [
    "실제로는 해당영화는 1번만 봤다고 나온 영화이기 때문에 실제 가장 좋아하는 영화라고 보기 어렵습니다. 따라서 실제 본 횟수를 'count', 평점의 의미를 가진 count를 'rating_count'로 바꿔보겠습니다. (기존에 rating이였지만 앞쪽에서 count로 변경한 부분.)"
   ]
  },
  {
   "cell_type": "code",
   "execution_count": 26,
   "id": "electoral-separate",
   "metadata": {},
   "outputs": [],
   "source": [
    "avg_watch = avg_watch.rename(columns={\"count\": \"rating_count\"})"
   ]
  },
  {
   "cell_type": "markdown",
   "id": "featured-celebration",
   "metadata": {},
   "source": [
    "그리고 실제 본 횟수와 rating이였던 count를 모두 가지고 있는 데이터를 만들고, 이 데이터를 통해 250번 이상 실제로 본 영화중에 rating_count가 가장 높은 영화를 뽑아보겠습니다."
   ]
  },
  {
   "cell_type": "code",
   "execution_count": 27,
   "id": "younger-virgin",
   "metadata": {},
   "outputs": [
    {
     "data": {
      "text/html": [
       "<div>\n",
       "<style scoped>\n",
       "    .dataframe tbody tr th:only-of-type {\n",
       "        vertical-align: middle;\n",
       "    }\n",
       "\n",
       "    .dataframe tbody tr th {\n",
       "        vertical-align: top;\n",
       "    }\n",
       "\n",
       "    .dataframe thead th {\n",
       "        text-align: right;\n",
       "    }\n",
       "</style>\n",
       "<table border=\"1\" class=\"dataframe\">\n",
       "  <thead>\n",
       "    <tr style=\"text-align: right;\">\n",
       "      <th></th>\n",
       "      <th>movie_id</th>\n",
       "      <th>count</th>\n",
       "      <th>rating_count</th>\n",
       "    </tr>\n",
       "  </thead>\n",
       "  <tbody>\n",
       "    <tr>\n",
       "      <th>0</th>\n",
       "      <td>2858</td>\n",
       "      <td>3211</td>\n",
       "      <td>4.499844</td>\n",
       "    </tr>\n",
       "    <tr>\n",
       "      <th>1</th>\n",
       "      <td>260</td>\n",
       "      <td>2910</td>\n",
       "      <td>4.528522</td>\n",
       "    </tr>\n",
       "    <tr>\n",
       "      <th>2</th>\n",
       "      <td>1196</td>\n",
       "      <td>2885</td>\n",
       "      <td>4.384055</td>\n",
       "    </tr>\n",
       "    <tr>\n",
       "      <th>3</th>\n",
       "      <td>1210</td>\n",
       "      <td>2716</td>\n",
       "      <td>4.161635</td>\n",
       "    </tr>\n",
       "    <tr>\n",
       "      <th>4</th>\n",
       "      <td>2028</td>\n",
       "      <td>2561</td>\n",
       "      <td>4.431082</td>\n",
       "    </tr>\n",
       "  </tbody>\n",
       "</table>\n",
       "</div>"
      ],
      "text/plain": [
       "   movie_id  count  rating_count\n",
       "0      2858   3211      4.499844\n",
       "1       260   2910      4.528522\n",
       "2      1196   2885      4.384055\n",
       "3      1210   2716      4.161635\n",
       "4      2028   2561      4.431082"
      ]
     },
     "execution_count": 27,
     "metadata": {},
     "output_type": "execute_result"
    }
   ],
   "source": [
    "total_df = pd.merge(movie_count, avg_watch, how='inner', on='movie_id')\n",
    "total_df.head()"
   ]
  },
  {
   "cell_type": "code",
   "execution_count": 28,
   "id": "exterior-fifteen",
   "metadata": {
    "scrolled": true
   },
   "outputs": [
    {
     "data": {
      "text/html": [
       "<div>\n",
       "<style scoped>\n",
       "    .dataframe tbody tr th:only-of-type {\n",
       "        vertical-align: middle;\n",
       "    }\n",
       "\n",
       "    .dataframe tbody tr th {\n",
       "        vertical-align: top;\n",
       "    }\n",
       "\n",
       "    .dataframe thead th {\n",
       "        text-align: right;\n",
       "    }\n",
       "</style>\n",
       "<table border=\"1\" class=\"dataframe\">\n",
       "  <thead>\n",
       "    <tr style=\"text-align: right;\">\n",
       "      <th></th>\n",
       "      <th>movie_id</th>\n",
       "      <th>count</th>\n",
       "      <th>rating_count</th>\n",
       "      <th>genre</th>\n",
       "      <th>title</th>\n",
       "    </tr>\n",
       "  </thead>\n",
       "  <tbody>\n",
       "    <tr>\n",
       "      <th>0</th>\n",
       "      <td>2858</td>\n",
       "      <td>3211</td>\n",
       "      <td>4.499844</td>\n",
       "      <td>Comedy|Drama</td>\n",
       "      <td>American Beauty (1999)</td>\n",
       "    </tr>\n",
       "    <tr>\n",
       "      <th>1</th>\n",
       "      <td>260</td>\n",
       "      <td>2910</td>\n",
       "      <td>4.528522</td>\n",
       "      <td>Action|Adventure|Fantasy|Sci-Fi</td>\n",
       "      <td>Star Wars: Episode IV - A New Hope (1977)</td>\n",
       "    </tr>\n",
       "    <tr>\n",
       "      <th>2</th>\n",
       "      <td>1196</td>\n",
       "      <td>2885</td>\n",
       "      <td>4.384055</td>\n",
       "      <td>Action|Adventure|Drama|Sci-Fi|War</td>\n",
       "      <td>Star Wars: Episode V - The Empire Strikes Back...</td>\n",
       "    </tr>\n",
       "    <tr>\n",
       "      <th>3</th>\n",
       "      <td>1210</td>\n",
       "      <td>2716</td>\n",
       "      <td>4.161635</td>\n",
       "      <td>Action|Adventure|Romance|Sci-Fi|War</td>\n",
       "      <td>Star Wars: Episode VI - Return of the Jedi (1983)</td>\n",
       "    </tr>\n",
       "    <tr>\n",
       "      <th>4</th>\n",
       "      <td>2028</td>\n",
       "      <td>2561</td>\n",
       "      <td>4.431082</td>\n",
       "      <td>Action|Drama|War</td>\n",
       "      <td>Saving Private Ryan (1998)</td>\n",
       "    </tr>\n",
       "  </tbody>\n",
       "</table>\n",
       "</div>"
      ],
      "text/plain": [
       "   movie_id  count  rating_count                                genre  \\\n",
       "0      2858   3211      4.499844                         Comedy|Drama   \n",
       "1       260   2910      4.528522      Action|Adventure|Fantasy|Sci-Fi   \n",
       "2      1196   2885      4.384055    Action|Adventure|Drama|Sci-Fi|War   \n",
       "3      1210   2716      4.161635  Action|Adventure|Romance|Sci-Fi|War   \n",
       "4      2028   2561      4.431082                     Action|Drama|War   \n",
       "\n",
       "                                               title  \n",
       "0                             American Beauty (1999)  \n",
       "1          Star Wars: Episode IV - A New Hope (1977)  \n",
       "2  Star Wars: Episode V - The Empire Strikes Back...  \n",
       "3  Star Wars: Episode VI - Return of the Jedi (1983)  \n",
       "4                         Saving Private Ryan (1998)  "
      ]
     },
     "execution_count": 28,
     "metadata": {},
     "output_type": "execute_result"
    }
   ],
   "source": [
    "temp_df = movies[['movie_id', 'genre', 'title']]\n",
    "total_df = pd.merge(total_df, temp_df, on='movie_id')\n",
    "\n",
    "total_df.head()"
   ]
  },
  {
   "cell_type": "code",
   "execution_count": 29,
   "id": "velvet-creature",
   "metadata": {},
   "outputs": [
    {
     "data": {
      "text/html": [
       "<div>\n",
       "<style scoped>\n",
       "    .dataframe tbody tr th:only-of-type {\n",
       "        vertical-align: middle;\n",
       "    }\n",
       "\n",
       "    .dataframe tbody tr th {\n",
       "        vertical-align: top;\n",
       "    }\n",
       "\n",
       "    .dataframe thead th {\n",
       "        text-align: right;\n",
       "    }\n",
       "</style>\n",
       "<table border=\"1\" class=\"dataframe\">\n",
       "  <thead>\n",
       "    <tr style=\"text-align: right;\">\n",
       "      <th></th>\n",
       "      <th>movie_id</th>\n",
       "      <th>rating_count</th>\n",
       "    </tr>\n",
       "  </thead>\n",
       "  <tbody>\n",
       "    <tr>\n",
       "      <th>0</th>\n",
       "      <td>2019</td>\n",
       "      <td>4.629690</td>\n",
       "    </tr>\n",
       "    <tr>\n",
       "      <th>1</th>\n",
       "      <td>858</td>\n",
       "      <td>4.598523</td>\n",
       "    </tr>\n",
       "    <tr>\n",
       "      <th>2</th>\n",
       "      <td>318</td>\n",
       "      <td>4.596627</td>\n",
       "    </tr>\n",
       "    <tr>\n",
       "      <th>3</th>\n",
       "      <td>50</td>\n",
       "      <td>4.577982</td>\n",
       "    </tr>\n",
       "    <tr>\n",
       "      <th>4</th>\n",
       "      <td>527</td>\n",
       "      <td>4.571112</td>\n",
       "    </tr>\n",
       "    <tr>\n",
       "      <th>...</th>\n",
       "      <td>...</td>\n",
       "      <td>...</td>\n",
       "    </tr>\n",
       "    <tr>\n",
       "      <th>1005</th>\n",
       "      <td>2054</td>\n",
       "      <td>3.420624</td>\n",
       "    </tr>\n",
       "    <tr>\n",
       "      <th>1006</th>\n",
       "      <td>2616</td>\n",
       "      <td>3.370968</td>\n",
       "    </tr>\n",
       "    <tr>\n",
       "      <th>1007</th>\n",
       "      <td>673</td>\n",
       "      <td>3.362229</td>\n",
       "    </tr>\n",
       "    <tr>\n",
       "      <th>1008</th>\n",
       "      <td>2701</td>\n",
       "      <td>3.360119</td>\n",
       "    </tr>\n",
       "    <tr>\n",
       "      <th>1009</th>\n",
       "      <td>2421</td>\n",
       "      <td>3.335640</td>\n",
       "    </tr>\n",
       "  </tbody>\n",
       "</table>\n",
       "<p>1010 rows × 2 columns</p>\n",
       "</div>"
      ],
      "text/plain": [
       "      movie_id  rating_count\n",
       "0         2019      4.629690\n",
       "1          858      4.598523\n",
       "2          318      4.596627\n",
       "3           50      4.577982\n",
       "4          527      4.571112\n",
       "...        ...           ...\n",
       "1005      2054      3.420624\n",
       "1006      2616      3.370968\n",
       "1007       673      3.362229\n",
       "1008      2701      3.360119\n",
       "1009      2421      3.335640\n",
       "\n",
       "[1010 rows x 2 columns]"
      ]
     },
     "metadata": {},
     "output_type": "display_data"
    },
    {
     "name": "stdout",
     "output_type": "stream",
     "text": [
      ">>> Movie id Seven Samurai (The Magnificent Seven) (Shichinin no samurai) (1954) is watched 4.630 rating_count for average.\n"
     ]
    }
   ],
   "source": [
    "temp_df = total_df.loc[total_df['count'] >= 250]\n",
    "\n",
    "avg_watch = temp_df.groupby('movie_id')['rating_count'].mean()\n",
    "avg_watch = avg_watch.sort_values(ascending=False)\n",
    "avg_watch = pd.DataFrame({'movie_id': avg_watch.index, 'rating_count':avg_watch.to_numpy()})\n",
    "\n",
    "display(avg_watch)\n",
    "\n",
    "most_avg_id = avg_watch.loc[0, 'movie_id']\n",
    "most_avg_title = movies.loc[movies[\"movie_id\"] == most_avg_id]['title'].iloc[0]\n",
    "\n",
    "print(f\">>> Movie id {most_avg_title} is watched {avg_watch.loc[0, 'rating_count']:.3f} rating_count for average.\")\n",
    "\n"
   ]
  },
  {
   "cell_type": "markdown",
   "id": "urban-delta",
   "metadata": {},
   "source": [
    "이제 가장 높은 rating_count를 받은 장르에 대해 뽑아보겠습니다. 장르가 여러개인 영화를 별도로 분류하지 않았습니다. \n",
    "\n",
    "장르를 나누기 위해서는 Comedy|Drama|Western의 경우 각각 개별적인 장르에 똑같은 rating_count를 가진 형태로 만들어줄 수도 있지만, 실제로는 서부 드라마 형식을 띈 코미디를 좋아하는 것이지 각각 세 가지 요소를 개별적으로 좋아하는 것은 아니기 때문에 의미가 희석될 수도 있을 것 같고 구현에 시간이 꽤 오래 걸릴 것 같아 이번 과정에서는 하지 않았습니다."
   ]
  },
  {
   "cell_type": "code",
   "execution_count": 30,
   "id": "progressive-comedy",
   "metadata": {},
   "outputs": [
    {
     "data": {
      "text/html": [
       "<div>\n",
       "<style scoped>\n",
       "    .dataframe tbody tr th:only-of-type {\n",
       "        vertical-align: middle;\n",
       "    }\n",
       "\n",
       "    .dataframe tbody tr th {\n",
       "        vertical-align: top;\n",
       "    }\n",
       "\n",
       "    .dataframe thead th {\n",
       "        text-align: right;\n",
       "    }\n",
       "</style>\n",
       "<table border=\"1\" class=\"dataframe\">\n",
       "  <thead>\n",
       "    <tr style=\"text-align: right;\">\n",
       "      <th></th>\n",
       "      <th>genre</th>\n",
       "      <th>avg count</th>\n",
       "    </tr>\n",
       "  </thead>\n",
       "  <tbody>\n",
       "    <tr>\n",
       "      <th>0</th>\n",
       "      <td>Comedy|Drama|Western</td>\n",
       "      <td>4.549936</td>\n",
       "    </tr>\n",
       "    <tr>\n",
       "      <th>1</th>\n",
       "      <td>Sci-Fi|War</td>\n",
       "      <td>4.539334</td>\n",
       "    </tr>\n",
       "    <tr>\n",
       "      <th>2</th>\n",
       "      <td>Film-Noir|Mystery</td>\n",
       "      <td>4.407452</td>\n",
       "    </tr>\n",
       "    <tr>\n",
       "      <th>3</th>\n",
       "      <td>Action|Adventure|Drama|Sci-Fi|War</td>\n",
       "      <td>4.384055</td>\n",
       "    </tr>\n",
       "    <tr>\n",
       "      <th>4</th>\n",
       "      <td>Film-Noir|Sci-Fi</td>\n",
       "      <td>4.383856</td>\n",
       "    </tr>\n",
       "  </tbody>\n",
       "</table>\n",
       "</div>"
      ],
      "text/plain": [
       "                               genre  avg count\n",
       "0               Comedy|Drama|Western   4.549936\n",
       "1                         Sci-Fi|War   4.539334\n",
       "2                  Film-Noir|Mystery   4.407452\n",
       "3  Action|Adventure|Drama|Sci-Fi|War   4.384055\n",
       "4                   Film-Noir|Sci-Fi   4.383856"
      ]
     },
     "metadata": {},
     "output_type": "display_data"
    },
    {
     "name": "stdout",
     "output_type": "stream",
     "text": [
      ">>> Genre Comedy|Drama|Western get 4.550 for average.\n"
     ]
    }
   ],
   "source": [
    "genre_count = total_df.groupby('genre')['rating_count'].mean()\n",
    "genre_count = genre_count.sort_values(ascending=False)\n",
    "genre_count = pd.DataFrame({'genre': genre_count.index, 'avg count':genre_count.to_numpy()})\n",
    "\n",
    "display(genre_count.head())\n",
    "\n",
    "\n",
    "print(f\">>> Genre {genre_count.loc[0, 'genre']} get {genre_count.loc[0, 'avg count']:.3f} for average.\")"
   ]
  },
  {
   "cell_type": "markdown",
   "id": "civic-spiritual",
   "metadata": {},
   "source": [
    "## Initial user profile setting for model validation"
   ]
  },
  {
   "cell_type": "code",
   "execution_count": 31,
   "id": "forward-outside",
   "metadata": {},
   "outputs": [],
   "source": [
    "total_df = total_df[['movie_id', 'title', 'genre', 'rating_count', 'count']]"
   ]
  },
  {
   "cell_type": "markdown",
   "id": "global-position",
   "metadata": {},
   "source": [
    "Since it is more intuitive to show 'title' than 'movie_id', I choose to make new dataframe.\n",
    "\n",
    "'movie_id'보다는 'title'을 직접 사용하는 것이 조금 더 직관적이기 때문에 새로운 데이터를 만들어주겠습니다."
   ]
  },
  {
   "cell_type": "code",
   "execution_count": 32,
   "id": "educated-richmond",
   "metadata": {},
   "outputs": [
    {
     "data": {
      "text/html": [
       "<div>\n",
       "<style scoped>\n",
       "    .dataframe tbody tr th:only-of-type {\n",
       "        vertical-align: middle;\n",
       "    }\n",
       "\n",
       "    .dataframe tbody tr th {\n",
       "        vertical-align: top;\n",
       "    }\n",
       "\n",
       "    .dataframe thead th {\n",
       "        text-align: right;\n",
       "    }\n",
       "</style>\n",
       "<table border=\"1\" class=\"dataframe\">\n",
       "  <thead>\n",
       "    <tr style=\"text-align: right;\">\n",
       "      <th></th>\n",
       "      <th>user_id</th>\n",
       "      <th>title</th>\n",
       "      <th>count</th>\n",
       "    </tr>\n",
       "  </thead>\n",
       "  <tbody>\n",
       "    <tr>\n",
       "      <th>0</th>\n",
       "      <td>1</td>\n",
       "      <td>One Flew Over the Cuckoo's Nest (1975)</td>\n",
       "      <td>5</td>\n",
       "    </tr>\n",
       "    <tr>\n",
       "      <th>1</th>\n",
       "      <td>2</td>\n",
       "      <td>One Flew Over the Cuckoo's Nest (1975)</td>\n",
       "      <td>5</td>\n",
       "    </tr>\n",
       "    <tr>\n",
       "      <th>2</th>\n",
       "      <td>12</td>\n",
       "      <td>One Flew Over the Cuckoo's Nest (1975)</td>\n",
       "      <td>4</td>\n",
       "    </tr>\n",
       "    <tr>\n",
       "      <th>3</th>\n",
       "      <td>15</td>\n",
       "      <td>One Flew Over the Cuckoo's Nest (1975)</td>\n",
       "      <td>4</td>\n",
       "    </tr>\n",
       "    <tr>\n",
       "      <th>4</th>\n",
       "      <td>17</td>\n",
       "      <td>One Flew Over the Cuckoo's Nest (1975)</td>\n",
       "      <td>5</td>\n",
       "    </tr>\n",
       "    <tr>\n",
       "      <th>...</th>\n",
       "      <td>...</td>\n",
       "      <td>...</td>\n",
       "      <td>...</td>\n",
       "    </tr>\n",
       "    <tr>\n",
       "      <th>836473</th>\n",
       "      <td>5851</td>\n",
       "      <td>One Little Indian (1973)</td>\n",
       "      <td>5</td>\n",
       "    </tr>\n",
       "    <tr>\n",
       "      <th>836474</th>\n",
       "      <td>5854</td>\n",
       "      <td>Slaughterhouse (1987)</td>\n",
       "      <td>4</td>\n",
       "    </tr>\n",
       "    <tr>\n",
       "      <th>836475</th>\n",
       "      <td>5854</td>\n",
       "      <td>Promise, The (Versprechen, Das) (1994)</td>\n",
       "      <td>3</td>\n",
       "    </tr>\n",
       "    <tr>\n",
       "      <th>836476</th>\n",
       "      <td>5938</td>\n",
       "      <td>Five Wives, Three Secretaries and Me (1998)</td>\n",
       "      <td>4</td>\n",
       "    </tr>\n",
       "    <tr>\n",
       "      <th>836477</th>\n",
       "      <td>5948</td>\n",
       "      <td>Identification of a Woman (Identificazione di ...</td>\n",
       "      <td>5</td>\n",
       "    </tr>\n",
       "  </tbody>\n",
       "</table>\n",
       "<p>836478 rows × 3 columns</p>\n",
       "</div>"
      ],
      "text/plain": [
       "        user_id                                              title  count\n",
       "0             1             One Flew Over the Cuckoo's Nest (1975)      5\n",
       "1             2             One Flew Over the Cuckoo's Nest (1975)      5\n",
       "2            12             One Flew Over the Cuckoo's Nest (1975)      4\n",
       "3            15             One Flew Over the Cuckoo's Nest (1975)      4\n",
       "4            17             One Flew Over the Cuckoo's Nest (1975)      5\n",
       "...         ...                                                ...    ...\n",
       "836473     5851                           One Little Indian (1973)      5\n",
       "836474     5854                              Slaughterhouse (1987)      4\n",
       "836475     5854             Promise, The (Versprechen, Das) (1994)      3\n",
       "836476     5938        Five Wives, Three Secretaries and Me (1998)      4\n",
       "836477     5948  Identification of a Woman (Identificazione di ...      5\n",
       "\n",
       "[836478 rows x 3 columns]"
      ]
     },
     "execution_count": 32,
     "metadata": {},
     "output_type": "execute_result"
    }
   ],
   "source": [
    "data = pd.merge(ratings, total_df, on='movie_id') \n",
    "data = data[['user_id', 'title', 'count_x']]\n",
    "data.rename(columns={'count_x': 'count'}, inplace=True)\n",
    "data"
   ]
  },
  {
   "cell_type": "markdown",
   "id": "imposed-addition",
   "metadata": {},
   "source": [
    "Keep the years in the paratheses.\n",
    "\n",
    "영화제목안의 괄호는 그대로 살려뒀습니다. 추후에 인덱싱을 해줄 것이기도 하고 같은 영화제목이 있다면 연도로 표기해주는 것이 맞는 것 같아 그대로 뒀습니다.\n",
    "\n",
    "제가 좋아하는 영화를 5개 꼽아 정보로 넣어주겠습니다."
   ]
  },
  {
   "cell_type": "code",
   "execution_count": 33,
   "id": "necessary-consent",
   "metadata": {
    "scrolled": true
   },
   "outputs": [
    {
     "data": {
      "text/html": [
       "<div>\n",
       "<style scoped>\n",
       "    .dataframe tbody tr th:only-of-type {\n",
       "        vertical-align: middle;\n",
       "    }\n",
       "\n",
       "    .dataframe tbody tr th {\n",
       "        vertical-align: top;\n",
       "    }\n",
       "\n",
       "    .dataframe thead th {\n",
       "        text-align: right;\n",
       "    }\n",
       "</style>\n",
       "<table border=\"1\" class=\"dataframe\">\n",
       "  <thead>\n",
       "    <tr style=\"text-align: right;\">\n",
       "      <th></th>\n",
       "      <th>user_id</th>\n",
       "      <th>title</th>\n",
       "      <th>count</th>\n",
       "    </tr>\n",
       "  </thead>\n",
       "  <tbody>\n",
       "    <tr>\n",
       "      <th>836473</th>\n",
       "      <td>5851</td>\n",
       "      <td>One Little Indian (1973)</td>\n",
       "      <td>5</td>\n",
       "    </tr>\n",
       "    <tr>\n",
       "      <th>836474</th>\n",
       "      <td>5854</td>\n",
       "      <td>Slaughterhouse (1987)</td>\n",
       "      <td>4</td>\n",
       "    </tr>\n",
       "    <tr>\n",
       "      <th>836475</th>\n",
       "      <td>5854</td>\n",
       "      <td>Promise, The (Versprechen, Das) (1994)</td>\n",
       "      <td>3</td>\n",
       "    </tr>\n",
       "    <tr>\n",
       "      <th>836476</th>\n",
       "      <td>5938</td>\n",
       "      <td>Five Wives, Three Secretaries and Me (1998)</td>\n",
       "      <td>4</td>\n",
       "    </tr>\n",
       "    <tr>\n",
       "      <th>836477</th>\n",
       "      <td>5948</td>\n",
       "      <td>Identification of a Woman (Identificazione di ...</td>\n",
       "      <td>5</td>\n",
       "    </tr>\n",
       "    <tr>\n",
       "      <th>0</th>\n",
       "      <td>sunwoong</td>\n",
       "      <td>American Beauty (1999)</td>\n",
       "      <td>5</td>\n",
       "    </tr>\n",
       "    <tr>\n",
       "      <th>1</th>\n",
       "      <td>sunwoong</td>\n",
       "      <td>Men in Black (1997)</td>\n",
       "      <td>5</td>\n",
       "    </tr>\n",
       "    <tr>\n",
       "      <th>2</th>\n",
       "      <td>sunwoong</td>\n",
       "      <td>Groundhog Day (1993)</td>\n",
       "      <td>4</td>\n",
       "    </tr>\n",
       "    <tr>\n",
       "      <th>3</th>\n",
       "      <td>sunwoong</td>\n",
       "      <td>Toy Story (1995)</td>\n",
       "      <td>4</td>\n",
       "    </tr>\n",
       "    <tr>\n",
       "      <th>4</th>\n",
       "      <td>sunwoong</td>\n",
       "      <td>Fight Club (1999)</td>\n",
       "      <td>4</td>\n",
       "    </tr>\n",
       "  </tbody>\n",
       "</table>\n",
       "</div>"
      ],
      "text/plain": [
       "         user_id                                              title  count\n",
       "836473      5851                           One Little Indian (1973)      5\n",
       "836474      5854                              Slaughterhouse (1987)      4\n",
       "836475      5854             Promise, The (Versprechen, Das) (1994)      3\n",
       "836476      5938        Five Wives, Three Secretaries and Me (1998)      4\n",
       "836477      5948  Identification of a Woman (Identificazione di ...      5\n",
       "0       sunwoong                             American Beauty (1999)      5\n",
       "1       sunwoong                                Men in Black (1997)      5\n",
       "2       sunwoong                               Groundhog Day (1993)      4\n",
       "3       sunwoong                                   Toy Story (1995)      4\n",
       "4       sunwoong                                  Fight Club (1999)      4"
      ]
     },
     "execution_count": 33,
     "metadata": {},
     "output_type": "execute_result"
    }
   ],
   "source": [
    "my_favorite = ['American Beauty (1999)', 'Men in Black (1997)', 'Groundhog Day (1993)', 'Toy Story (1995)', 'Fight Club (1999)']\n",
    "\n",
    "my_watchlist = pd.DataFrame({'user_id': ['sunwoong']*5, 'title':my_favorite, 'count':[5, 5, 4, 4, 4]})\n",
    "\n",
    "if not data.isin({'user_id':['sunwoong']})['user_id'].any():\n",
    "    data = data.append(my_watchlist)\n",
    "\n",
    "data.tail(10)"
   ]
  },
  {
   "cell_type": "markdown",
   "id": "potential-deadline",
   "metadata": {},
   "source": [
    "## Preprocessing"
   ]
  },
  {
   "cell_type": "markdown",
   "id": "employed-developer",
   "metadata": {},
   "source": [
    "### Indexing"
   ]
  },
  {
   "cell_type": "code",
   "execution_count": 34,
   "id": "cross-stewart",
   "metadata": {},
   "outputs": [],
   "source": [
    "user_unique = data['user_id'].unique()\n",
    "title_unique = data['title'].unique()\n",
    "\n",
    "user_to_idx = {v: k for k, v in enumerate(user_unique)}\n",
    "title_to_idx = {v: k for k, v in enumerate(title_unique)}\n",
    "\n",
    "idx_to_user = {v: k for k, v in user_to_idx.items()}\n",
    "idx_to_title = {v: k for k, v in title_to_idx.items()}"
   ]
  },
  {
   "cell_type": "code",
   "execution_count": 35,
   "id": "embedded-frontier",
   "metadata": {},
   "outputs": [
    {
     "name": "stdout",
     "output_type": "stream",
     "text": [
      "6040\n",
      "3628\n"
     ]
    }
   ],
   "source": [
    "print(len(user_unique))\n",
    "print(len(title_unique))"
   ]
  },
  {
   "cell_type": "code",
   "execution_count": 36,
   "id": "french-locking",
   "metadata": {},
   "outputs": [
    {
     "name": "stdout",
     "output_type": "stream",
     "text": [
      "6039\n",
      "99\n"
     ]
    }
   ],
   "source": [
    "print(user_to_idx['sunwoong'])\n",
    "print(title_to_idx['American Beauty (1999)'])"
   ]
  },
  {
   "cell_type": "code",
   "execution_count": 37,
   "id": "satellite-optics",
   "metadata": {},
   "outputs": [
    {
     "name": "stdout",
     "output_type": "stream",
     "text": [
      "user_id column indexing OK!!\n"
     ]
    }
   ],
   "source": [
    "temp_user_data = data['user_id'].map(user_to_idx.get).dropna()\n",
    "if len(temp_user_data) == len(data):\n",
    "    print('user_id column indexing OK!!')\n",
    "    data['user_id'] = temp_user_data\n",
    "else:\n",
    "    print('user id column indexing Fail!!')"
   ]
  },
  {
   "cell_type": "code",
   "execution_count": 38,
   "id": "adjusted-penny",
   "metadata": {},
   "outputs": [
    {
     "name": "stdout",
     "output_type": "stream",
     "text": [
      "title column indexing OK!!\n"
     ]
    }
   ],
   "source": [
    "temp_title_data = data['title'].map(title_to_idx.get).dropna()\n",
    "if len(temp_user_data) == len(data):\n",
    "    print('title column indexing OK!!')\n",
    "    data['title'] = temp_title_data\n",
    "else:\n",
    "    print('title id column indexing Fail!!')"
   ]
  },
  {
   "cell_type": "code",
   "execution_count": 39,
   "id": "timely-latitude",
   "metadata": {},
   "outputs": [
    {
     "data": {
      "text/html": [
       "<div>\n",
       "<style scoped>\n",
       "    .dataframe tbody tr th:only-of-type {\n",
       "        vertical-align: middle;\n",
       "    }\n",
       "\n",
       "    .dataframe tbody tr th {\n",
       "        vertical-align: top;\n",
       "    }\n",
       "\n",
       "    .dataframe thead th {\n",
       "        text-align: right;\n",
       "    }\n",
       "</style>\n",
       "<table border=\"1\" class=\"dataframe\">\n",
       "  <thead>\n",
       "    <tr style=\"text-align: right;\">\n",
       "      <th></th>\n",
       "      <th>user_id</th>\n",
       "      <th>title</th>\n",
       "      <th>count</th>\n",
       "    </tr>\n",
       "  </thead>\n",
       "  <tbody>\n",
       "    <tr>\n",
       "      <th>0</th>\n",
       "      <td>0</td>\n",
       "      <td>0</td>\n",
       "      <td>5</td>\n",
       "    </tr>\n",
       "    <tr>\n",
       "      <th>1</th>\n",
       "      <td>1</td>\n",
       "      <td>0</td>\n",
       "      <td>5</td>\n",
       "    </tr>\n",
       "    <tr>\n",
       "      <th>2</th>\n",
       "      <td>2</td>\n",
       "      <td>0</td>\n",
       "      <td>4</td>\n",
       "    </tr>\n",
       "    <tr>\n",
       "      <th>3</th>\n",
       "      <td>3</td>\n",
       "      <td>0</td>\n",
       "      <td>4</td>\n",
       "    </tr>\n",
       "    <tr>\n",
       "      <th>4</th>\n",
       "      <td>4</td>\n",
       "      <td>0</td>\n",
       "      <td>5</td>\n",
       "    </tr>\n",
       "    <tr>\n",
       "      <th>...</th>\n",
       "      <td>...</td>\n",
       "      <td>...</td>\n",
       "      <td>...</td>\n",
       "    </tr>\n",
       "    <tr>\n",
       "      <th>0</th>\n",
       "      <td>6039</td>\n",
       "      <td>99</td>\n",
       "      <td>5</td>\n",
       "    </tr>\n",
       "    <tr>\n",
       "      <th>1</th>\n",
       "      <td>6039</td>\n",
       "      <td>175</td>\n",
       "      <td>5</td>\n",
       "    </tr>\n",
       "    <tr>\n",
       "      <th>2</th>\n",
       "      <td>6039</td>\n",
       "      <td>110</td>\n",
       "      <td>4</td>\n",
       "    </tr>\n",
       "    <tr>\n",
       "      <th>3</th>\n",
       "      <td>6039</td>\n",
       "      <td>40</td>\n",
       "      <td>4</td>\n",
       "    </tr>\n",
       "    <tr>\n",
       "      <th>4</th>\n",
       "      <td>6039</td>\n",
       "      <td>273</td>\n",
       "      <td>4</td>\n",
       "    </tr>\n",
       "  </tbody>\n",
       "</table>\n",
       "<p>836483 rows × 3 columns</p>\n",
       "</div>"
      ],
      "text/plain": [
       "    user_id  title  count\n",
       "0         0      0      5\n",
       "1         1      0      5\n",
       "2         2      0      4\n",
       "3         3      0      4\n",
       "4         4      0      5\n",
       "..      ...    ...    ...\n",
       "0      6039     99      5\n",
       "1      6039    175      5\n",
       "2      6039    110      4\n",
       "3      6039     40      4\n",
       "4      6039    273      4\n",
       "\n",
       "[836483 rows x 3 columns]"
      ]
     },
     "execution_count": 39,
     "metadata": {},
     "output_type": "execute_result"
    }
   ],
   "source": [
    "data"
   ]
  },
  {
   "cell_type": "code",
   "execution_count": 40,
   "id": "capital-longitude",
   "metadata": {},
   "outputs": [
    {
     "data": {
      "text/plain": [
       "<6040x3628 sparse matrix of type '<class 'numpy.longlong'>'\n",
       "\twith 836483 stored elements in Compressed Sparse Row format>"
      ]
     },
     "execution_count": 40,
     "metadata": {},
     "output_type": "execute_result"
    }
   ],
   "source": [
    "from scipy.sparse import csr_matrix\n",
    "import numpy as np\n",
    "\n",
    "num_user = data['user_id'].nunique()\n",
    "num_title = data['title'].nunique()\n",
    "\n",
    "csr_data = csr_matrix((data['count'], (data['user_id'], data['title'])), shape= (num_user, num_title))\n",
    "csr_data"
   ]
  },
  {
   "cell_type": "code",
   "execution_count": 41,
   "id": "considered-persian",
   "metadata": {},
   "outputs": [],
   "source": [
    "from implicit.als import AlternatingLeastSquares\n",
    "\n",
    "os.environ['OPENBLAS_NUM_THREADS']='1'\n",
    "os.environ['KMP_DUPLICATE_LIB_OK']='True'\n",
    "os.environ['MKL_NUM_THREADS']='1'"
   ]
  },
  {
   "cell_type": "code",
   "execution_count": 42,
   "id": "portuguese-watershed",
   "metadata": {},
   "outputs": [],
   "source": [
    "als_model = AlternatingLeastSquares(factors=200, regularization=0.01, use_gpu=False, iterations=50, dtype=np.float32)"
   ]
  },
  {
   "cell_type": "code",
   "execution_count": 43,
   "id": "ordered-harvest",
   "metadata": {},
   "outputs": [
    {
     "data": {
      "text/plain": [
       "<3628x6040 sparse matrix of type '<class 'numpy.longlong'>'\n",
       "\twith 836483 stored elements in Compressed Sparse Column format>"
      ]
     },
     "execution_count": 43,
     "metadata": {},
     "output_type": "execute_result"
    }
   ],
   "source": [
    "csr_data_transpose = csr_data.T\n",
    "csr_data_transpose"
   ]
  },
  {
   "cell_type": "code",
   "execution_count": 44,
   "id": "australian-procurement",
   "metadata": {},
   "outputs": [
    {
     "data": {
      "application/vnd.jupyter.widget-view+json": {
       "model_id": "a847a83ad62c4bf59d7f5ec17ce9c0d7",
       "version_major": 2,
       "version_minor": 0
      },
      "text/plain": [
       "  0%|          | 0/50 [00:00<?, ?it/s]"
      ]
     },
     "metadata": {},
     "output_type": "display_data"
    }
   ],
   "source": [
    "als_model.fit(csr_data_transpose)"
   ]
  },
  {
   "cell_type": "markdown",
   "id": "willing-disco",
   "metadata": {},
   "source": [
    "제가 미리 좋아한다고 넣어둔 아메리칸 뷰티를 얼마나 추천해줄 지 확인해보겠습니다."
   ]
  },
  {
   "cell_type": "code",
   "execution_count": 45,
   "id": "commercial-principal",
   "metadata": {},
   "outputs": [],
   "source": [
    "sunwoong, American_Beauty = user_to_idx['sunwoong'], title_to_idx['American Beauty (1999)']\n",
    "sunwoong_vector, American_Beauty_vector = als_model.user_factors[sunwoong], als_model.item_factors[American_Beauty]"
   ]
  },
  {
   "cell_type": "code",
   "execution_count": 46,
   "id": "alleged-poetry",
   "metadata": {},
   "outputs": [
    {
     "data": {
      "text/plain": [
       "0.85337526"
      ]
     },
     "execution_count": 46,
     "metadata": {},
     "output_type": "execute_result"
    }
   ],
   "source": [
    "np.dot(sunwoong_vector, American_Beauty_vector)"
   ]
  },
  {
   "cell_type": "markdown",
   "id": "impressed-characteristic",
   "metadata": {},
   "source": [
    "블레이드 러너의 경우 그다지 추천하지 않는 영화로 나왔습니다."
   ]
  },
  {
   "cell_type": "code",
   "execution_count": 47,
   "id": "opening-wednesday",
   "metadata": {},
   "outputs": [
    {
     "data": {
      "text/plain": [
       "-0.03942136"
      ]
     },
     "execution_count": 47,
     "metadata": {},
     "output_type": "execute_result"
    }
   ],
   "source": [
    "Blade_Runner = title_to_idx['Blade Runner (1982)']\n",
    "Blade_Runner_vector = als_model.item_factors[Blade_Runner]\n",
    "np.dot(sunwoong_vector, Blade_Runner_vector)"
   ]
  },
  {
   "cell_type": "markdown",
   "id": "talented-gather",
   "metadata": {},
   "source": [
    "이번엔 비슷한 영화를 찾아주는 함수를 만들어보겠습니다."
   ]
  },
  {
   "cell_type": "code",
   "execution_count": 48,
   "id": "clear-guidance",
   "metadata": {},
   "outputs": [],
   "source": [
    "def get_similar_title(movie_title: str):\n",
    "    title_id = title_to_idx[movie_title]\n",
    "    similar_title = als_model.similar_items(title_id)\n",
    "    similar_title = [idx_to_title[i[0]] for i in similar_title]\n",
    "    return similar_title"
   ]
  },
  {
   "cell_type": "code",
   "execution_count": 49,
   "id": "strategic-injury",
   "metadata": {},
   "outputs": [
    {
     "data": {
      "text/plain": [
       "['Blade Runner (1982)',\n",
       " 'Aliens (1986)',\n",
       " 'Brazil (1985)',\n",
       " 'Terminator, The (1984)',\n",
       " 'Chinatown (1974)',\n",
       " 'Running Free (2000)',\n",
       " 'Alien (1979)',\n",
       " 'Time Bandits (1981)',\n",
       " 'Mina Tannenbaum (1994)',\n",
       " 'Jeanne and the Perfect Guy (Jeanne et le garçon formidable) (1998)']"
      ]
     },
     "execution_count": 49,
     "metadata": {},
     "output_type": "execute_result"
    }
   ],
   "source": [
    "get_similar_title('Blade Runner (1982)')"
   ]
  },
  {
   "cell_type": "code",
   "execution_count": 50,
   "id": "younger-exclusive",
   "metadata": {
    "scrolled": true
   },
   "outputs": [
    {
     "data": {
      "text/plain": [
       "['Jaws (1975)',\n",
       " 'Alien (1979)',\n",
       " 'Jaws 2 (1978)',\n",
       " 'Exorcist, The (1973)',\n",
       " 'Rocky (1976)',\n",
       " 'Carrie (1976)',\n",
       " 'Shining, The (1980)',\n",
       " 'Butch Cassidy and the Sundance Kid (1969)',\n",
       " 'Halloween (1978)',\n",
       " 'Goldfinger (1964)']"
      ]
     },
     "execution_count": 50,
     "metadata": {},
     "output_type": "execute_result"
    }
   ],
   "source": [
    "get_similar_title('Jaws (1975)')"
   ]
  },
  {
   "cell_type": "code",
   "execution_count": 51,
   "id": "crucial-vietnamese",
   "metadata": {},
   "outputs": [
    {
     "data": {
      "text/plain": [
       "['Titanic (1997)',\n",
       " 'Gay Deceivers, The (1969)',\n",
       " 'Held Up (2000)',\n",
       " 'Walking Dead, The (1995)',\n",
       " 'Snow Day (2000)',\n",
       " 'Aiqing wansui (1994)',\n",
       " 'Paris, France (1993)',\n",
       " 'Soft Toilet Seats (1999)',\n",
       " 'Killer Shrews, The (1959)',\n",
       " 'Simon Sez (1999)']"
      ]
     },
     "execution_count": 51,
     "metadata": {},
     "output_type": "execute_result"
    }
   ],
   "source": [
    "get_similar_title('Titanic (1997)')"
   ]
  },
  {
   "cell_type": "markdown",
   "id": "sufficient-sender",
   "metadata": {},
   "source": [
    "최종적으로 저에게 추천해주는 영화들을 살펴보겠습니다."
   ]
  },
  {
   "cell_type": "code",
   "execution_count": 52,
   "id": "intellectual-production",
   "metadata": {},
   "outputs": [
    {
     "data": {
      "text/plain": [
       "['Toy Story 2 (1999)',\n",
       " 'Being John Malkovich (1999)',\n",
       " 'Terminator 2: Judgment Day (1991)',\n",
       " 'Jurassic Park (1993)',\n",
       " 'Galaxy Quest (1999)',\n",
       " 'Forrest Gump (1994)',\n",
       " 'Matrix, The (1999)',\n",
       " 'Shakespeare in Love (1998)',\n",
       " 'Babe (1995)',\n",
       " \"Bug's Life, A (1998)\",\n",
       " 'Election (1999)',\n",
       " 'Austin Powers: International Man of Mystery (1997)',\n",
       " 'Nightmare Before Christmas, The (1993)',\n",
       " 'Get Shorty (1995)',\n",
       " \"There's Something About Mary (1998)\",\n",
       " \"One Flew Over the Cuckoo's Nest (1975)\",\n",
       " 'Back to the Future (1985)',\n",
       " 'Strictly Ballroom (1992)',\n",
       " 'Insider, The (1999)',\n",
       " 'Total Recall (1990)']"
      ]
     },
     "execution_count": 52,
     "metadata": {},
     "output_type": "execute_result"
    }
   ],
   "source": [
    "user = user_to_idx['sunwoong']\n",
    "# recommend에서는 user*item CSR Matrix를 받습니다.\n",
    "movie_recommended = als_model.recommend(user, csr_data, N=20, filter_already_liked_items=True)\n",
    "[idx_to_title[i[0]] for i in movie_recommended]"
   ]
  },
  {
   "cell_type": "markdown",
   "id": "demanding-philip",
   "metadata": {},
   "source": [
    "## Recommendation by genre.\n",
    "\n",
    "영화를 title 별로 추천받지 않고 장르별로 추천을 받을 수도 있겠다는 생각이 들어 장르별로 추천을 받을 수 있도록 구현해봤습니다. 데이터 구성만 바꿨을 뿐, 위 과정과 동일합니다.\n",
    "\n",
    "여기서도 장르가 여러개인 영화를 나눠주지는 않았습니다."
   ]
  },
  {
   "cell_type": "code",
   "execution_count": 53,
   "id": "economic-terror",
   "metadata": {},
   "outputs": [
    {
     "data": {
      "text/html": [
       "<div>\n",
       "<style scoped>\n",
       "    .dataframe tbody tr th:only-of-type {\n",
       "        vertical-align: middle;\n",
       "    }\n",
       "\n",
       "    .dataframe tbody tr th {\n",
       "        vertical-align: top;\n",
       "    }\n",
       "\n",
       "    .dataframe thead th {\n",
       "        text-align: right;\n",
       "    }\n",
       "</style>\n",
       "<table border=\"1\" class=\"dataframe\">\n",
       "  <thead>\n",
       "    <tr style=\"text-align: right;\">\n",
       "      <th></th>\n",
       "      <th>user_id</th>\n",
       "      <th>genre</th>\n",
       "      <th>count</th>\n",
       "    </tr>\n",
       "  </thead>\n",
       "  <tbody>\n",
       "    <tr>\n",
       "      <th>0</th>\n",
       "      <td>1</td>\n",
       "      <td>Drama</td>\n",
       "      <td>5</td>\n",
       "    </tr>\n",
       "    <tr>\n",
       "      <th>1</th>\n",
       "      <td>2</td>\n",
       "      <td>Drama</td>\n",
       "      <td>5</td>\n",
       "    </tr>\n",
       "    <tr>\n",
       "      <th>2</th>\n",
       "      <td>12</td>\n",
       "      <td>Drama</td>\n",
       "      <td>4</td>\n",
       "    </tr>\n",
       "    <tr>\n",
       "      <th>3</th>\n",
       "      <td>15</td>\n",
       "      <td>Drama</td>\n",
       "      <td>4</td>\n",
       "    </tr>\n",
       "    <tr>\n",
       "      <th>4</th>\n",
       "      <td>17</td>\n",
       "      <td>Drama</td>\n",
       "      <td>5</td>\n",
       "    </tr>\n",
       "    <tr>\n",
       "      <th>...</th>\n",
       "      <td>...</td>\n",
       "      <td>...</td>\n",
       "      <td>...</td>\n",
       "    </tr>\n",
       "    <tr>\n",
       "      <th>836473</th>\n",
       "      <td>5851</td>\n",
       "      <td>Comedy|Drama|Western</td>\n",
       "      <td>5</td>\n",
       "    </tr>\n",
       "    <tr>\n",
       "      <th>836474</th>\n",
       "      <td>5854</td>\n",
       "      <td>Horror</td>\n",
       "      <td>4</td>\n",
       "    </tr>\n",
       "    <tr>\n",
       "      <th>836475</th>\n",
       "      <td>5854</td>\n",
       "      <td>Romance</td>\n",
       "      <td>3</td>\n",
       "    </tr>\n",
       "    <tr>\n",
       "      <th>836476</th>\n",
       "      <td>5938</td>\n",
       "      <td>Documentary</td>\n",
       "      <td>4</td>\n",
       "    </tr>\n",
       "    <tr>\n",
       "      <th>836477</th>\n",
       "      <td>5948</td>\n",
       "      <td>Drama</td>\n",
       "      <td>5</td>\n",
       "    </tr>\n",
       "  </tbody>\n",
       "</table>\n",
       "<p>836478 rows × 3 columns</p>\n",
       "</div>"
      ],
      "text/plain": [
       "        user_id                 genre  count\n",
       "0             1                 Drama      5\n",
       "1             2                 Drama      5\n",
       "2            12                 Drama      4\n",
       "3            15                 Drama      4\n",
       "4            17                 Drama      5\n",
       "...         ...                   ...    ...\n",
       "836473     5851  Comedy|Drama|Western      5\n",
       "836474     5854                Horror      4\n",
       "836475     5854               Romance      3\n",
       "836476     5938           Documentary      4\n",
       "836477     5948                 Drama      5\n",
       "\n",
       "[836478 rows x 3 columns]"
      ]
     },
     "execution_count": 53,
     "metadata": {},
     "output_type": "execute_result"
    }
   ],
   "source": [
    "data = pd.merge(ratings, total_df, on='movie_id') \n",
    "data = data[['user_id', 'genre', 'count_x']]\n",
    "data.rename(columns={'count_x': 'count'}, inplace=True)\n",
    "data"
   ]
  },
  {
   "cell_type": "code",
   "execution_count": 54,
   "id": "wrong-offer",
   "metadata": {
    "scrolled": true
   },
   "outputs": [
    {
     "data": {
      "text/html": [
       "<div>\n",
       "<style scoped>\n",
       "    .dataframe tbody tr th:only-of-type {\n",
       "        vertical-align: middle;\n",
       "    }\n",
       "\n",
       "    .dataframe tbody tr th {\n",
       "        vertical-align: top;\n",
       "    }\n",
       "\n",
       "    .dataframe thead th {\n",
       "        text-align: right;\n",
       "    }\n",
       "</style>\n",
       "<table border=\"1\" class=\"dataframe\">\n",
       "  <thead>\n",
       "    <tr style=\"text-align: right;\">\n",
       "      <th></th>\n",
       "      <th>user_id</th>\n",
       "      <th>genre</th>\n",
       "      <th>count</th>\n",
       "    </tr>\n",
       "  </thead>\n",
       "  <tbody>\n",
       "    <tr>\n",
       "      <th>836473</th>\n",
       "      <td>5851</td>\n",
       "      <td>Comedy|Drama|Western</td>\n",
       "      <td>5</td>\n",
       "    </tr>\n",
       "    <tr>\n",
       "      <th>836474</th>\n",
       "      <td>5854</td>\n",
       "      <td>Horror</td>\n",
       "      <td>4</td>\n",
       "    </tr>\n",
       "    <tr>\n",
       "      <th>836475</th>\n",
       "      <td>5854</td>\n",
       "      <td>Romance</td>\n",
       "      <td>3</td>\n",
       "    </tr>\n",
       "    <tr>\n",
       "      <th>836476</th>\n",
       "      <td>5938</td>\n",
       "      <td>Documentary</td>\n",
       "      <td>4</td>\n",
       "    </tr>\n",
       "    <tr>\n",
       "      <th>836477</th>\n",
       "      <td>5948</td>\n",
       "      <td>Drama</td>\n",
       "      <td>5</td>\n",
       "    </tr>\n",
       "    <tr>\n",
       "      <th>0</th>\n",
       "      <td>sunwoong</td>\n",
       "      <td>Action|Comedy</td>\n",
       "      <td>4</td>\n",
       "    </tr>\n",
       "    <tr>\n",
       "      <th>1</th>\n",
       "      <td>sunwoong</td>\n",
       "      <td>Drama|Thriller</td>\n",
       "      <td>5</td>\n",
       "    </tr>\n",
       "    <tr>\n",
       "      <th>2</th>\n",
       "      <td>sunwoong</td>\n",
       "      <td>Comedy|Drama|Thriller</td>\n",
       "      <td>3</td>\n",
       "    </tr>\n",
       "    <tr>\n",
       "      <th>3</th>\n",
       "      <td>sunwoong</td>\n",
       "      <td>Comedy</td>\n",
       "      <td>3</td>\n",
       "    </tr>\n",
       "    <tr>\n",
       "      <th>4</th>\n",
       "      <td>sunwoong</td>\n",
       "      <td>Crime|Thriller</td>\n",
       "      <td>5</td>\n",
       "    </tr>\n",
       "  </tbody>\n",
       "</table>\n",
       "</div>"
      ],
      "text/plain": [
       "         user_id                  genre  count\n",
       "836473      5851   Comedy|Drama|Western      5\n",
       "836474      5854                 Horror      4\n",
       "836475      5854                Romance      3\n",
       "836476      5938            Documentary      4\n",
       "836477      5948                  Drama      5\n",
       "0       sunwoong          Action|Comedy      4\n",
       "1       sunwoong         Drama|Thriller      5\n",
       "2       sunwoong  Comedy|Drama|Thriller      3\n",
       "3       sunwoong                 Comedy      3\n",
       "4       sunwoong         Crime|Thriller      5"
      ]
     },
     "execution_count": 54,
     "metadata": {},
     "output_type": "execute_result"
    }
   ],
   "source": [
    "my_favorite = ['Action|Comedy', 'Drama|Thriller', 'Comedy|Drama|Thriller', 'Comedy', 'Crime|Thriller']\n",
    "\n",
    "my_watchlist = pd.DataFrame({'user_id': ['sunwoong']*5, 'genre':my_favorite, 'count':[4, 5, 3, 3, 5]})\n",
    "\n",
    "if not data.isin({'user_id':['sunwoong']})['user_id'].any():\n",
    "    data = data.append(my_watchlist)\n",
    "\n",
    "data.tail(10)"
   ]
  },
  {
   "cell_type": "markdown",
   "id": "breathing-lodging",
   "metadata": {},
   "source": [
    "## Preprocessing"
   ]
  },
  {
   "cell_type": "markdown",
   "id": "tender-pacific",
   "metadata": {},
   "source": [
    "### Indexing"
   ]
  },
  {
   "cell_type": "code",
   "execution_count": 55,
   "id": "super-princess",
   "metadata": {},
   "outputs": [],
   "source": [
    "user_unique = data['user_id'].unique()\n",
    "genre_unique = data['genre'].unique()\n",
    "\n",
    "user_to_idx = {v: k for k, v in enumerate(user_unique)}\n",
    "genre_to_idx = {v: k for k, v in enumerate(genre_unique)}\n",
    "\n",
    "idx_to_user = {v: k for k, v in user_to_idx.items()}\n",
    "idx_to_genre = {v: k for k, v in genre_to_idx.items()}"
   ]
  },
  {
   "cell_type": "code",
   "execution_count": 56,
   "id": "appointed-peninsula",
   "metadata": {},
   "outputs": [
    {
     "name": "stdout",
     "output_type": "stream",
     "text": [
      "6040\n",
      "301\n"
     ]
    }
   ],
   "source": [
    "print(len(user_unique))\n",
    "print(len(genre_unique))"
   ]
  },
  {
   "cell_type": "code",
   "execution_count": 57,
   "id": "persistent-noise",
   "metadata": {},
   "outputs": [
    {
     "name": "stdout",
     "output_type": "stream",
     "text": [
      "6039\n",
      "71\n"
     ]
    }
   ],
   "source": [
    "print(user_to_idx['sunwoong'])\n",
    "print(genre_to_idx['Action|Comedy'])"
   ]
  },
  {
   "cell_type": "code",
   "execution_count": 58,
   "id": "occupational-bones",
   "metadata": {},
   "outputs": [
    {
     "name": "stdout",
     "output_type": "stream",
     "text": [
      "user_id column indexing OK!!\n"
     ]
    }
   ],
   "source": [
    "temp_user_data = data['user_id'].map(user_to_idx.get).dropna()\n",
    "if len(temp_user_data) == len(data):\n",
    "    print('user_id column indexing OK!!')\n",
    "    data['user_id'] = temp_user_data\n",
    "else:\n",
    "    print('user id column indexing Fail!!')"
   ]
  },
  {
   "cell_type": "code",
   "execution_count": 59,
   "id": "blind-ranch",
   "metadata": {},
   "outputs": [
    {
     "name": "stdout",
     "output_type": "stream",
     "text": [
      "genre column indexing OK!!\n"
     ]
    }
   ],
   "source": [
    "temp_genre_data = data['genre'].map(genre_to_idx.get).dropna()\n",
    "if len(temp_user_data) == len(data):\n",
    "    print('genre column indexing OK!!')\n",
    "    data['genre'] = temp_genre_data\n",
    "else:\n",
    "    print('genre id column indexing Fail!!')"
   ]
  },
  {
   "cell_type": "code",
   "execution_count": 60,
   "id": "distinguished-mention",
   "metadata": {},
   "outputs": [
    {
     "data": {
      "text/plain": [
       "<6040x301 sparse matrix of type '<class 'numpy.longlong'>'\n",
       "\twith 313152 stored elements in Compressed Sparse Row format>"
      ]
     },
     "execution_count": 60,
     "metadata": {},
     "output_type": "execute_result"
    }
   ],
   "source": [
    "from scipy.sparse import csr_matrix\n",
    "import numpy as np\n",
    "\n",
    "num_user = data['user_id'].nunique()\n",
    "num_genre = data['genre'].nunique()\n",
    "\n",
    "csr_data = csr_matrix((data['count'], (data['user_id'], data['genre'])), shape= (num_user, num_genre))\n",
    "csr_data"
   ]
  },
  {
   "cell_type": "code",
   "execution_count": 61,
   "id": "quality-quilt",
   "metadata": {},
   "outputs": [],
   "source": [
    "from implicit.als import AlternatingLeastSquares\n",
    "\n",
    "os.environ['OPENBLAS_NUM_THREADS']='1'\n",
    "os.environ['KMP_DUPLICATE_LIB_OK']='True'\n",
    "os.environ['MKL_NUM_THREADS']='1'"
   ]
  },
  {
   "cell_type": "code",
   "execution_count": 62,
   "id": "dynamic-costa",
   "metadata": {},
   "outputs": [],
   "source": [
    "als_model = AlternatingLeastSquares(factors=200, regularization=0.01, use_gpu=False, iterations=75, dtype=np.float32)"
   ]
  },
  {
   "cell_type": "code",
   "execution_count": 63,
   "id": "starting-triple",
   "metadata": {},
   "outputs": [
    {
     "data": {
      "text/plain": [
       "<301x6040 sparse matrix of type '<class 'numpy.longlong'>'\n",
       "\twith 313152 stored elements in Compressed Sparse Column format>"
      ]
     },
     "execution_count": 63,
     "metadata": {},
     "output_type": "execute_result"
    }
   ],
   "source": [
    "csr_data_transpose = csr_data.T\n",
    "csr_data_transpose"
   ]
  },
  {
   "cell_type": "code",
   "execution_count": 64,
   "id": "satisfactory-regression",
   "metadata": {},
   "outputs": [
    {
     "data": {
      "application/vnd.jupyter.widget-view+json": {
       "model_id": "20e6865350544054886c362c8c9a1328",
       "version_major": 2,
       "version_minor": 0
      },
      "text/plain": [
       "  0%|          | 0/75 [00:00<?, ?it/s]"
      ]
     },
     "metadata": {},
     "output_type": "display_data"
    }
   ],
   "source": [
    "als_model.fit(csr_data_transpose)"
   ]
  },
  {
   "cell_type": "code",
   "execution_count": 65,
   "id": "useful-december",
   "metadata": {},
   "outputs": [],
   "source": [
    "sunwoong, crime_drama = user_to_idx['sunwoong'], genre_to_idx['Crime|Drama']\n",
    "sunwoong_vector, crime_drama_vector = als_model.user_factors[sunwoong], als_model.item_factors[crime_drama]"
   ]
  },
  {
   "cell_type": "markdown",
   "id": "racial-christian",
   "metadata": {},
   "source": [
    "범죄드라마 장르, 그리고 스릴러를 얼마나 추천할 지 확인해보겠습니다."
   ]
  },
  {
   "cell_type": "code",
   "execution_count": 66,
   "id": "regional-membrane",
   "metadata": {},
   "outputs": [
    {
     "data": {
      "text/plain": [
       "-0.009363241"
      ]
     },
     "execution_count": 66,
     "metadata": {},
     "output_type": "execute_result"
    }
   ],
   "source": [
    "np.dot(sunwoong_vector, crime_drama_vector)"
   ]
  },
  {
   "cell_type": "code",
   "execution_count": 67,
   "id": "oriental-guarantee",
   "metadata": {},
   "outputs": [
    {
     "data": {
      "text/plain": [
       "0.023057714"
      ]
     },
     "execution_count": 67,
     "metadata": {},
     "output_type": "execute_result"
    }
   ],
   "source": [
    "Thriller = genre_to_idx['Thriller']\n",
    "Thriller_vector = als_model.item_factors[Thriller]\n",
    "np.dot(sunwoong_vector, Thriller_vector)"
   ]
  },
  {
   "cell_type": "code",
   "execution_count": 68,
   "id": "statewide-farming",
   "metadata": {},
   "outputs": [],
   "source": [
    "def get_similar_genre(movie_genre: str):\n",
    "    genre_id = genre_to_idx[movie_genre]\n",
    "    similar_genre = als_model.similar_items(genre_id)\n",
    "    similar_genre = [idx_to_genre[i[0]] for i in similar_genre]\n",
    "    return similar_genre"
   ]
  },
  {
   "cell_type": "code",
   "execution_count": 69,
   "id": "endangered-system",
   "metadata": {},
   "outputs": [
    {
     "data": {
      "text/plain": [
       "['Drama|Thriller',\n",
       " 'Drama',\n",
       " 'Comedy',\n",
       " 'Comedy|Drama',\n",
       " 'Drama|Romance',\n",
       " 'Thriller',\n",
       " 'Drama|War',\n",
       " 'Action|Thriller',\n",
       " 'Crime|Drama',\n",
       " 'Comedy|Romance']"
      ]
     },
     "execution_count": 69,
     "metadata": {},
     "output_type": "execute_result"
    }
   ],
   "source": [
    "get_similar_genre('Drama|Thriller')"
   ]
  },
  {
   "cell_type": "markdown",
   "id": "moderate-apparel",
   "metadata": {},
   "source": [
    "어떤 이유인지 추가적으로 살펴봐야겠지만, 'Comedy'가 꽤 높이 랭크해있습니다. 단순하게 생각해보면 그 뒤로는 Drama와 Thriller중 한 장르는 들어가는 것들이 나와 꽤 믿을 수 있을 것 같지만 'Comedy'가 높은 위치에 랭크해있는 것은 의외였습니다.\n",
    "\n",
    "Drama|Thriller를 좋아하는 사람들의 많은 비율이 Drama를 좋아하고, Drama를 좋아하는 사람들 중 많은 비율로 Comedy를 좋아하기 때문이 아닐까 싶습니다."
   ]
  },
  {
   "cell_type": "code",
   "execution_count": 70,
   "id": "sound-public",
   "metadata": {},
   "outputs": [
    {
     "data": {
      "text/plain": [
       "['Drama',\n",
       " 'Comedy',\n",
       " 'Comedy|Drama',\n",
       " 'Comedy|Romance',\n",
       " 'Drama|Romance',\n",
       " 'Drama|Thriller',\n",
       " 'Thriller',\n",
       " 'Action|Thriller',\n",
       " 'Action|Drama|War',\n",
       " 'Drama|War']"
      ]
     },
     "execution_count": 70,
     "metadata": {},
     "output_type": "execute_result"
    }
   ],
   "source": [
    "get_similar_genre('Drama')"
   ]
  },
  {
   "cell_type": "code",
   "execution_count": 71,
   "id": "consolidated-creator",
   "metadata": {
    "scrolled": true
   },
   "outputs": [
    {
     "data": {
      "text/plain": [
       "['Horror',\n",
       " 'Thriller',\n",
       " 'Horror|Thriller',\n",
       " 'Comedy',\n",
       " 'Drama',\n",
       " 'Action|Thriller',\n",
       " 'Comedy|Drama',\n",
       " 'Comedy|Romance',\n",
       " 'Comedy|Horror|Sci-Fi',\n",
       " 'Crime|Thriller']"
      ]
     },
     "execution_count": 71,
     "metadata": {},
     "output_type": "execute_result"
    }
   ],
   "source": [
    "get_similar_genre('Horror')"
   ]
  },
  {
   "cell_type": "markdown",
   "id": "compressed-staff",
   "metadata": {},
   "source": [
    "마지막으로 장르별로 추천을 받아보겠습니다."
   ]
  },
  {
   "cell_type": "code",
   "execution_count": 72,
   "id": "damaged-space",
   "metadata": {},
   "outputs": [
    {
     "data": {
      "text/plain": [
       "['Comedy|Crime|Horror',\n",
       " 'Adventure|Comedy|Romance',\n",
       " 'Action|Adventure|Comedy',\n",
       " 'Comedy|Horror|Thriller',\n",
       " 'Romance|Thriller',\n",
       " 'Mystery',\n",
       " 'Adventure|Fantasy',\n",
       " 'Action|Adventure|Romance|War',\n",
       " 'Crime|Drama|Mystery|Thriller',\n",
       " 'Adventure|Thriller',\n",
       " 'Action|Adventure|Animation',\n",
       " 'War',\n",
       " 'Drama|Mystery|Romance',\n",
       " 'Action|Drama|Western',\n",
       " 'Action|Comedy|Drama',\n",
       " 'Crime|Film-Noir|Mystery',\n",
       " 'Horror|Mystery|Thriller',\n",
       " 'Action|Comedy|Musical|Sci-Fi',\n",
       " 'Comedy|Thriller',\n",
       " 'Drama|Fantasy|Romance|Thriller']"
      ]
     },
     "execution_count": 72,
     "metadata": {},
     "output_type": "execute_result"
    }
   ],
   "source": [
    "user = user_to_idx['sunwoong']\n",
    "# recommend에서는 user*item CSR Matrix를 받습니다.\n",
    "genre_recommended = als_model.recommend(user, csr_data, N=20, filter_already_liked_items=True)\n",
    "[idx_to_genre[i[0]] for i in genre_recommended]"
   ]
  },
  {
   "cell_type": "markdown",
   "id": "sealed-impact",
   "metadata": {},
   "source": [
    "## 소감\n",
    "\n",
    "우선 추천시스템 자체의 적용은 아주 재밌고 좋았습니다. 수희 퍼실님이 진행하셨던 상영회에서 네이버의 추천시스템을 봤다고 합니다. 해당 영상에서 이 정도 수준의 추천시스템은 기초적인 수준이라고 얘기를 했다고 전달해주셨습니다. \n",
    "\n",
    "원리 자체도 Feature들 간의 내적으로 추천을 해주는 방식이였습니다. 그래도 꽤나 좋은 추천을 받을 수 있었는데, 실제로 추천시스템의 구현은 어떤식으로 이뤄지고 어떠한 방식이 있는 지 좀 더 살펴보고 싶어졌습니다.\n",
    "\n",
    "추가적으로 시각화 과정에서 바의 높이에 따라 색을 입히고 싶었는데 예전에 알았던 내용인데 다시 해보려니 오래 걸렸습니다. 이런 걸 미리미리 정리를 해놔야 시간낭비없이 쓸 수 있을 것 같습니다.\n",
    "\n",
    "이번 주말에는 추천해준 영화나 장르로 영화나 한편 봐야겠어요."
   ]
  },
  {
   "cell_type": "code",
   "execution_count": null,
   "id": "developing-techno",
   "metadata": {},
   "outputs": [],
   "source": []
  }
 ],
 "metadata": {
  "kernelspec": {
   "display_name": "Python 3",
   "language": "python",
   "name": "python3"
  },
  "language_info": {
   "codemirror_mode": {
    "name": "ipython",
    "version": 3
   },
   "file_extension": ".py",
   "mimetype": "text/x-python",
   "name": "python",
   "nbconvert_exporter": "python",
   "pygments_lexer": "ipython3",
   "version": "3.7.9"
  }
 },
 "nbformat": 4,
 "nbformat_minor": 5
}
