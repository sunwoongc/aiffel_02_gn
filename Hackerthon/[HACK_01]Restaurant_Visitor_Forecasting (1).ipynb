{
  "nbformat": 4,
  "nbformat_minor": 0,
  "metadata": {
    "colab": {
      "name": "[HACK-01]Restaurant-Visitor-Forecasting.ipynb",
      "private_outputs": true,
      "provenance": []
    },
    "kernelspec": {
      "name": "python3",
      "display_name": "Python 3"
    },
    "language_info": {
      "name": "python"
    },
    "accelerator": "GPU"
  },
  "cells": [
    {
      "cell_type": "markdown",
      "metadata": {
        "id": "qTFdlX9Z1BJS"
      },
      "source": [
        "# AIFFEL Hackerthon 1 - Visitor prediction\n",
        "\n",
        "[colab](https://colab.research.google.com/drive/1smPns4wZvFKdrd9qsm7YYqI7nasYJn73?usp=sharing)"
      ]
    },
    {
      "cell_type": "markdown",
      "metadata": {
        "id": "x_tb3ozzzBGQ"
      },
      "source": [
        "## 0. Kaggle에서 데이터 다운로드 받기"
      ]
    },
    {
      "cell_type": "code",
      "metadata": {
        "id": "7jq7LSzLLyA8"
      },
      "source": [
        "!pip install kaggle\n",
        "from google.colab import files\n",
        "files.upload()"
      ],
      "execution_count": null,
      "outputs": []
    },
    {
      "cell_type": "code",
      "metadata": {
        "id": "SkI0v82TLyA8"
      },
      "source": [
        "ls -1ha kaggle.json"
      ],
      "execution_count": null,
      "outputs": []
    },
    {
      "cell_type": "code",
      "metadata": {
        "id": "NeYbfNGXLyA8"
      },
      "source": [
        "!mkdir -p ~/.kaggle\n",
        "!cp kaggle.json ~/.kaggle/\n",
        "# Permission Warning 이 일어나지 않도록 \n",
        "!chmod 600 ~/.kaggle/kaggle.json\n",
        "# 본인이 참가한 모든 대회 보기 \n",
        "!kaggle competitions list"
      ],
      "execution_count": null,
      "outputs": []
    },
    {
      "cell_type": "code",
      "metadata": {
        "id": "YhC_Fmx6LyA9"
      },
      "source": [
        "!kaggle competitions download -c recruit-restaurant-visitor-forecasting"
      ],
      "execution_count": null,
      "outputs": []
    },
    {
      "cell_type": "markdown",
      "metadata": {
        "id": "a92JpzsP086t"
      },
      "source": [
        "## 1. 모듈 임포트, 데이터 준비하기"
      ]
    },
    {
      "cell_type": "code",
      "metadata": {
        "id": "NNuAK-I5zZv6"
      },
      "source": [
        "import pandas as pd\n",
        "import numpy as np\n",
        "import matplotlib.pyplot as plt\n",
        "import seaborn as sns"
      ],
      "execution_count": null,
      "outputs": []
    },
    {
      "cell_type": "code",
      "metadata": {
        "id": "qK2xJdBky8ZD"
      },
      "source": [
        "air_reserve = pd.read_csv(\"air_reserve.csv.zip\")\n",
        "hpg_reserve = pd.read_csv(\"hpg_reserve.csv.zip\")\n",
        "air_store_info = pd.read_csv(\"air_store_info.csv.zip\")\n",
        "hpg_store_info = pd.read_csv(\"hpg_store_info.csv.zip\")\n",
        "air_visit_data = pd.read_csv(\"air_visit_data.csv.zip\")  \n",
        "store_id_relation = pd.read_csv(\"store_id_relation.csv.zip\")\n",
        "date_info = pd.read_csv(\"date_info.csv.zip\")\n",
        "sample_submission = pd.read_csv(\"sample_submission.csv.zip\")"
      ],
      "execution_count": null,
      "outputs": []
    },
    {
      "cell_type": "code",
      "metadata": {
        "id": "Fi-GBk1tzjof"
      },
      "source": [
        "### 원본 저장하기 ###\n",
        "air_reserve_orig = air_reserve.copy()\n",
        "hpg_reserve_orig = hpg_reserve.copy()\n",
        "air_store_info_orig = air_store_info.copy()\n",
        "hpg_store_info_orig = hpg_store_info.copy()\n",
        "air_visit_data_orig = air_visit_data.copy() ## EDA\n",
        "store_id_relation_orig = store_id_relation.copy() ## mapping -> merge\n",
        "date_info_orig = date_info.copy() ## holiday => reserve\n",
        "sample_submission_orig = sample_submission.copy()"
      ],
      "execution_count": null,
      "outputs": []
    },
    {
      "cell_type": "markdown",
      "metadata": {
        "id": "_57j9FrZF7re"
      },
      "source": [
        "## 2. EDA\n",
        "\n",
        "`air_reserve` 부터 `date_info`까지 하나씩 EDA를 해보겠습니다. (`sample_submission`의 경우 제출용 파일임으로 생략하겠습니다.)"
      ]
    },
    {
      "cell_type": "markdown",
      "metadata": {
        "id": "f0AhxYBKb-w1"
      },
      "source": [
        "### 2-1. Analysis of `air_reserve`\n",
        "주의할 것은 `air_reserve`는 예약을 하고 방문한 사람의 데이터만 가지고 있습니다. 따라서 `air_visit_data`를 고려해보면, 같은 매장에 예약을 하지않고 방문하는 인원도 있을 수 있고, 또 예약을 애초에 받지 않는 매장도 있을 수 있습니다. 그리고 예약을 하고 온 인원도 포함되있을 것 같습니다. 이 내용은 아래에 별도로 정리를 해두었습니다.\n",
        "\n",
        "따라서 `air_reserve` 데이터는 __예약한 인원 수__에 대한 데이터로 보는 것이 좋습니다. 실제 방문객에 대한 데이터로 사용하기는 어려울 수 있다는 의미입니다.\n",
        "\n",
        "_reserve_visitors - the number of visitors for that reservation_"
      ]
    },
    {
      "cell_type": "code",
      "metadata": {
        "id": "q-_YuMOdFWKx"
      },
      "source": [
        "air_reserve.head()"
      ],
      "execution_count": null,
      "outputs": []
    },
    {
      "cell_type": "code",
      "metadata": {
        "id": "sZHK1yKGI0K3"
      },
      "source": [
        "air_reserve.describe()"
      ],
      "execution_count": null,
      "outputs": []
    },
    {
      "cell_type": "code",
      "metadata": {
        "id": "ogZrk0s6I1-t"
      },
      "source": [
        "air_reserve.isnull().sum()"
      ],
      "execution_count": null,
      "outputs": []
    },
    {
      "cell_type": "code",
      "metadata": {
        "id": "cD1udzu7I32C"
      },
      "source": [
        "air_reserve.dtypes"
      ],
      "execution_count": null,
      "outputs": []
    },
    {
      "cell_type": "markdown",
      "metadata": {
        "id": "xq_09An3JhdJ"
      },
      "source": [
        "예약시간, 방문시간과 방문객 사이의 관계를 한번 알아보겠습니다.\n",
        "\n",
        "우선 visit_datetime과 reserve_datetime에 해당하는 컬럼의 자료형을 object에서 datetime 으로 바꿔주겠습니다."
      ]
    },
    {
      "cell_type": "code",
      "metadata": {
        "id": "ifQEt3oSJXnt"
      },
      "source": [
        "air_reserve['visit_datetime'] = pd.to_datetime(air_reserve['visit_datetime'])\n",
        "air_reserve['reserve_datetime'] = pd.to_datetime(air_reserve['reserve_datetime'])"
      ],
      "execution_count": null,
      "outputs": []
    },
    {
      "cell_type": "markdown",
      "metadata": {
        "id": "nTcmiF-ngRV_"
      },
      "source": [
        "그래프를 그리기 위해 날짜별로 인원수 합을 구해보겠습니다."
      ]
    },
    {
      "cell_type": "code",
      "metadata": {
        "id": "fX-R2Dzag9xr"
      },
      "source": [
        "visit_time_visitors = pd.pivot_table(air_reserve, index='visit_datetime', values='reserve_visitors', aggfunc='sum').reset_index()\n",
        "reserve_time_visitors = pd.pivot_table(air_reserve, index='reserve_datetime', values='reserve_visitors', aggfunc='sum').reset_index()\n",
        "\n",
        "print(f\"visit_time_visitors has {len(visit_time_visitors)} rows.\")\n",
        "print(f\"reserve_time_visitors has {len(reserve_time_visitors)} rows.\")\n",
        "\n",
        "display(visit_time_visitors.head())\n",
        "display(reserve_time_visitors.head())"
      ],
      "execution_count": null,
      "outputs": []
    },
    {
      "cell_type": "markdown",
      "metadata": {
        "id": "XTVW3DzemNou"
      },
      "source": [
        "그래프를 그리려고 보니 각각 4975, 7513개의 그래프를 모두 막대그래프로 표현하는데는 무리가 있을 것 같습니다. 우선 25개 정도의 row를 대상으로 그래프를 그려보겠습니다."
      ]
    },
    {
      "cell_type": "code",
      "metadata": {
        "id": "0DYTTTqAlNyI"
      },
      "source": [
        "import matplotlib.dates as mdates\n",
        "fig, ax = plt.subplots()\n",
        "sns.barplot(x=visit_time_visitors[\"visit_datetime\"].iloc[0:25], y=visit_time_visitors[\"reserve_visitors\"].iloc[0:25], ax=ax)\n",
        "x_tick_labels = [t.get_text()[:19] for t in ax.get_xticklabels()]\n",
        "ax.set_xticklabels(x_tick_labels, rotation=90)\n"
      ],
      "execution_count": null,
      "outputs": []
    },
    {
      "cell_type": "markdown",
      "metadata": {
        "id": "Hjdbo6TkHc5B"
      },
      "source": [
        "위와 같은 결과가 나옵니다. 2016년 1월 2일 17시가 가장 예약객이 많은 시간인 건 알 수 있지만, 그다지 유믜미한 정보를 찾을 수 있는 시각화는 아닙니다. 따라서 다음의 세부적인 경우로 나누어 데이터를 살펴보겠습니다.\n",
        "\n",
        "#### 예약객 정보\n",
        "\n",
        "\n",
        "1. 요일별 예약객 정보: 주말이나 공휴일\n",
        "2. 월별 예약객 정보: 계절이랑 비슷할 것\n",
        "3. 계절별 예약객 정보: 제철음식, 음식장르와 관련이 있을 것 같음\n",
        "4. 시간대별: 저녁시간, 점심시간, ..."
      ]
    },
    {
      "cell_type": "markdown",
      "metadata": {
        "id": "GgNtptRIxCJD"
      },
      "source": [
        "##### 1. 요일별 예약객 정보"
      ]
    },
    {
      "cell_type": "code",
      "metadata": {
        "id": "5fnHP2QVmHoZ"
      },
      "source": [
        "visit_datetime_day = air_reserve['visit_datetime'].dt.day_name()\n",
        "reserve_datetime_day = air_reserve['reserve_datetime'].dt.day_name()"
      ],
      "execution_count": null,
      "outputs": []
    },
    {
      "cell_type": "code",
      "metadata": {
        "id": "eBCu86FLxnuE"
      },
      "source": [
        "air_reserve['visit_datetime_day'] = visit_datetime_day\n",
        "air_reserve['reserve_datetime_day'] = reserve_datetime_day"
      ],
      "execution_count": null,
      "outputs": []
    },
    {
      "cell_type": "code",
      "metadata": {
        "id": "NjrsvSg5xH7h"
      },
      "source": [
        "days = ['Monday', 'Tuesday', 'Wednesday', 'Thursday', 'Friday', 'Saturday', 'Sunday']\n",
        "visit_day_visitors = pd.pivot_table(air_reserve, index='visit_datetime_day', values='reserve_visitors', aggfunc='sum').reindex(days).reset_index()\n",
        "reserve_day_visitors = pd.pivot_table(air_reserve, index='reserve_datetime_day', values='reserve_visitors', aggfunc='sum').reindex(days).reset_index()\n",
        "\n",
        "print(f\"visit_day_visitors has {len(visit_day_visitors)} rows.\")\n",
        "print(f\"reserve_day_visitors has {len(reserve_day_visitors)} rows.\")\n",
        "\n",
        "\n",
        "display(visit_day_visitors)\n",
        "display(reserve_day_visitors)"
      ],
      "execution_count": null,
      "outputs": []
    },
    {
      "cell_type": "code",
      "metadata": {
        "id": "YP29si_px76A"
      },
      "source": [
        "colors = sns.color_palette(\"pastel\", 7)\n",
        "\n",
        "fig, axes = plt.subplots(nrows=2, ncols=1, figsize=(15, 8))\n",
        "axs = axes.ravel()\n",
        "sns.barplot(data=visit_day_visitors, x=\"visit_datetime_day\", y=\"reserve_visitors\", ax=axs[0], palette=colors)\n",
        "\n",
        "axs[0].set_ylabel(\"Visitors\", fontsize=12, fontweight='light')\n",
        "axs[0].set_xticks([])\n",
        "axs[0].set_xlabel(\"\")\n",
        "axs[0].set_title(\"Visit day / Visitors\")\n",
        "for p in axs[0].patches:\n",
        "    left, bottom, width, height = p.get_bbox().bounds\n",
        "    axs[0].annotate(int(height), (left+width/2, height+1000), ha = 'center', color = 'k', style='italic')\n",
        "\n",
        "axs[0].patches[4].set_linewidth('2')\n",
        "axs[0].patches[4].set_edgecolor('darkorange')\n",
        "axs[0].patches[5].set_linewidth('2')\n",
        "axs[0].patches[5].set_edgecolor('darkorange')\n",
        "\n",
        "axs[0].spines['top'].set_visible(False)\n",
        "axs[0].spines['right'].set_visible(False)\n",
        "\n",
        "sns.barplot(data=reserve_day_visitors, x=\"reserve_datetime_day\", y=\"reserve_visitors\", ax=axs[1], palette=colors)\n",
        "axs[1].set_ylabel(\"Visitors\", fontsize=12, fontweight='light')\n",
        "x_tick_labels = [t.get_text() for t in axs[1].get_xticklabels()]\n",
        "axs[1].set_xticklabels(x_tick_labels, rotation=30)\n",
        "axs[1].set_xlabel(\"\")\n",
        "axs[1].set_title(\"Reserve day / Visitors\")\n",
        "for p in axs[1].patches:\n",
        "    left, bottom, width, height = p.get_bbox().bounds\n",
        "    axs[1].annotate(int(height), (left+width/2, height+1000), ha = 'center', color = 'k', style='italic')\n",
        "\n",
        "axs[1].spines['top'].set_visible(False)\n",
        "axs[1].spines['right'].set_visible(False)"
      ],
      "execution_count": null,
      "outputs": []
    },
    {
      "cell_type": "markdown",
      "metadata": {
        "id": "inxhru7s6CNz"
      },
      "source": [
        "위에서 볼 수 있듯이 예약하는 날짜와 방문객은 별로 상관이 없어 보입니다. 반면에 방문하는 날짜는 일반적으로 금요일, 토요일에 많이 올려있는 모습을 볼 수 있습니다."
      ]
    },
    {
      "cell_type": "markdown",
      "metadata": {
        "id": "ez5Ud_6m7tCR"
      },
      "source": [
        "##### 2. 월별 예약객 정보"
      ]
    },
    {
      "cell_type": "code",
      "metadata": {
        "id": "Eoe-k5yJ7sRS"
      },
      "source": [
        "visit_datetime_month = air_reserve['visit_datetime'].dt.month_name()\n",
        "reserve_datetime_month = air_reserve['reserve_datetime'].dt.month_name()\n",
        "air_reserve['visit_datetime_month'] = visit_datetime_month\n",
        "air_reserve['reserve_datetime_month'] = reserve_datetime_month"
      ],
      "execution_count": null,
      "outputs": []
    },
    {
      "cell_type": "code",
      "metadata": {
        "id": "4D9yOS5E7aC9"
      },
      "source": [
        "months = ['January', 'February', 'March', 'April', 'May', 'June', 'July', 'August', 'September', 'October', 'November', 'December']\n",
        "visit_month_visitors = pd.pivot_table(air_reserve, index='visit_datetime_month', values='reserve_visitors', aggfunc='sum').reindex(months).reset_index()\n",
        "reserve_month_visitors = pd.pivot_table(air_reserve, index='reserve_datetime_month', values='reserve_visitors', aggfunc='sum').reindex(months).reset_index()\n",
        "\n",
        "print(f\"visit_month_visitors has {len(visit_month_visitors)} rows.\")\n",
        "print(f\"reserve_month_visitors has {len(reserve_month_visitors)} rows.\")\n",
        "\n",
        "\n",
        "display(visit_month_visitors)\n",
        "display(reserve_month_visitors)"
      ],
      "execution_count": null,
      "outputs": []
    },
    {
      "cell_type": "code",
      "metadata": {
        "id": "Vs9hPePx8Atv"
      },
      "source": [
        "colors = sns.color_palette(\"pastel\", 7)\n",
        "\n",
        "fig, axes = plt.subplots(nrows=2, ncols=1, figsize=(15, 8))\n",
        "axs = axes.ravel()\n",
        "sns.barplot(data=visit_month_visitors, x=\"visit_datetime_month\", y=\"reserve_visitors\", ax=axs[0], palette=colors, zorder=2)\n",
        "axs[0].set_ylabel(\"Visitors\", fontsize=12, fontweight='light')\n",
        "axs[0].set_xticks([])\n",
        "axs[0].set_xlabel(\"\")\n",
        "axs[0].set_title(\"Visit Month / Visitors\")\n",
        "for p in axs[0].patches:\n",
        "    left, bottom, width, height = p.get_bbox().bounds\n",
        "    axs[0].annotate(int(height), (left+width/2, height+500), ha = 'center', color = 'k', style='italic')\n",
        "\n",
        "axs[0].axhline(y = 13500, color = 'dodgerblue', ls = '--', zorder = 1)\n",
        "axs[0].spines['top'].set_visible(False)\n",
        "axs[0].spines['right'].set_visible(False)\n",
        "\n",
        "\n",
        "sns.barplot(data=reserve_month_visitors, x=\"reserve_datetime_month\", y=\"reserve_visitors\", ax=axs[1], palette=colors, zorder=2)\n",
        "axs[1].set_ylabel(\"Visitors\", fontsize=12, fontweight='light')\n",
        "x_tick_labels = [t.get_text() for t in axs[1].get_xticklabels()]\n",
        "axs[1].set_xticklabels(x_tick_labels, rotation=30)\n",
        "axs[1].set_xlabel(\"\")\n",
        "axs[1].set_title(\"Reserve Month / Visitors\")\n",
        "for p in axs[1].patches:\n",
        "    left, bottom, width, height = p.get_bbox().bounds\n",
        "    axs[1].annotate(int(height), (left+width/2, height+500), ha = 'center', color = 'k', style='italic')\n",
        "\n",
        "axs[1].axhline(y = 20200, color = 'dodgerblue', ls = '--', zorder = 1)\n",
        "axs[1].spines['top'].set_visible(False)\n",
        "axs[1].spines['right'].set_visible(False)"
      ],
      "execution_count": null,
      "outputs": []
    },
    {
      "cell_type": "markdown",
      "metadata": {
        "id": "7zOoufgYB4oT"
      },
      "source": [
        "월별 예약객/방문객을 구별해보면 유달리 5월부터 9월 사이에 상당히 적은 인원이 예약/방문을 하고 있으며 10월에도 비교적 적은 수를 보이고 있습니다. 무슨 이유가 있는 지 확실히 알 수는 없지만 air 서비스를 사용할 수 없었다거나 무슨 이유가 있을 것 같습니다."
      ]
    },
    {
      "cell_type": "markdown",
      "metadata": {
        "id": "RYYT5zu0suX8"
      },
      "source": [
        "##### 3. 계절별 예약 방문객 정보"
      ]
    },
    {
      "cell_type": "markdown",
      "metadata": {
        "id": "-FInJDyGs5aa"
      },
      "source": [
        "`np.where`을 사용해 계절을 표현하는 컬럼을 만들어줍니다."
      ]
    },
    {
      "cell_type": "code",
      "metadata": {
        "id": "0XfVbJBptex7"
      },
      "source": [
        "air_reserve['visit_datetime_season'] = \"\"\n",
        "air_reserve['reserve_datetime_season'] = \"\""
      ],
      "execution_count": null,
      "outputs": []
    },
    {
      "cell_type": "code",
      "metadata": {
        "id": "24Ilq_KHtUXj"
      },
      "source": [
        "air_reserve['visit_datetime_season'] = np.where(air_reserve['visit_datetime_month'].isin([\"March\", \"April\", \"May\"]), 'Spring', air_reserve['visit_datetime_season'])\n",
        "air_reserve['visit_datetime_season'] = np.where(air_reserve['visit_datetime_month'].isin([\"June\", \"July\", \"August\"]), 'Summer', air_reserve['visit_datetime_season'])\n",
        "air_reserve['visit_datetime_season'] = np.where(air_reserve['visit_datetime_month'].isin([\"September\", \"October\", \"November\"]), 'Fall', air_reserve['visit_datetime_season'])\n",
        "air_reserve['visit_datetime_season'] = np.where(air_reserve['visit_datetime_month'].isin([\"December\", \"January\", \"February\"]), 'Winter', air_reserve['visit_datetime_season'])"
      ],
      "execution_count": null,
      "outputs": []
    },
    {
      "cell_type": "code",
      "metadata": {
        "id": "y5XvNklApbLy"
      },
      "source": [
        "air_reserve['reserve_datetime_season'] = np.where(air_reserve['reserve_datetime_month'].isin([\"March\", \"April\", \"May\"]), 'Spring', air_reserve['reserve_datetime_season'])\n",
        "air_reserve['reserve_datetime_season'] = np.where(air_reserve['reserve_datetime_month'].isin([\"June\", \"July\", \"August\"]), 'Summer', air_reserve['reserve_datetime_season'])\n",
        "air_reserve['reserve_datetime_season'] = np.where(air_reserve['reserve_datetime_month'].isin([\"September\", \"October\", \"November\"]), 'Fall', air_reserve['reserve_datetime_season'])\n",
        "air_reserve['reserve_datetime_season'] = np.where(air_reserve['reserve_datetime_month'].isin([\"December\", \"January\", \"February\"]), 'Winter', air_reserve['reserve_datetime_season'])"
      ],
      "execution_count": null,
      "outputs": []
    },
    {
      "cell_type": "code",
      "metadata": {
        "id": "rHeSdc8EqUCK"
      },
      "source": [
        "seasons = ['Spring', 'Summer', 'Fall', 'Winter']\n",
        "visit_season_visitors = pd.pivot_table(air_reserve, index='visit_datetime_season', values='reserve_visitors', aggfunc='sum').reindex(seasons).reset_index()\n",
        "reserve_season_visitors = pd.pivot_table(air_reserve, index='reserve_datetime_season', values='reserve_visitors', aggfunc='sum').reindex(seasons).reset_index()\n",
        "\n",
        "print(f\"visit_season_visitors has {len(visit_season_visitors)} rows.\")\n",
        "print(f\"reserve_season_visitors has {len(reserve_season_visitors)} rows.\")\n",
        "\n",
        "\n",
        "display(visit_season_visitors)\n",
        "display(reserve_season_visitors)"
      ],
      "execution_count": null,
      "outputs": []
    },
    {
      "cell_type": "code",
      "metadata": {
        "id": "per72rJItptX"
      },
      "source": [
        "colors = sns.color_palette(\"pastel\", 7)\n",
        "\n",
        "fig, axes = plt.subplots(nrows=2, ncols=1, figsize=(15, 8))\n",
        "axs = axes.ravel()\n",
        "sns.barplot(data=visit_season_visitors, x=\"visit_datetime_season\", y=\"reserve_visitors\", ax=axs[0], palette=colors, zorder=2)\n",
        "axs[0].set_ylabel(\"Visitors\", fontsize=12, fontweight='light')\n",
        "axs[0].set_xticks([])\n",
        "axs[0].set_xlabel(\"\")\n",
        "axs[0].set_title(\"Visit Month / Visitors\")\n",
        "for p in axs[0].patches:\n",
        "    left, bottom, width, height = p.get_bbox().bounds\n",
        "    axs[0].annotate(int(height), (left+width/2, height+500), ha = 'center', color = 'k', style='italic')\n",
        "\n",
        "axs[0].axhline(y = 9200, color = 'dodgerblue', ls = '--', zorder = 1)\n",
        "axs[0].spines['top'].set_visible(False)\n",
        "axs[0].spines['right'].set_visible(False)\n",
        "\n",
        "\n",
        "sns.barplot(data=reserve_season_visitors, x=\"reserve_datetime_season\", y=\"reserve_visitors\", ax=axs[1], palette=colors, zorder=2)\n",
        "axs[1].set_ylabel(\"Visitors\", fontsize=12, fontweight='light')\n",
        "x_tick_labels = [t.get_text() for t in axs[1].get_xticklabels()]\n",
        "axs[1].set_xticklabels(x_tick_labels, rotation=30)\n",
        "axs[1].set_xlabel(\"\")\n",
        "axs[1].set_title(\"Reserve Month / Visitors\")\n",
        "for p in axs[1].patches:\n",
        "    left, bottom, width, height = p.get_bbox().bounds\n",
        "    axs[1].annotate(int(height), (left+width/2, height+500), ha = 'center', color = 'k', style='italic')\n",
        "\n",
        "axs[1].axhline(y = 11000, color = 'dodgerblue', ls = '--', zorder = 1)\n",
        "axs[1].spines['top'].set_visible(False)\n",
        "axs[1].spines['right'].set_visible(False)"
      ],
      "execution_count": null,
      "outputs": []
    },
    {
      "cell_type": "markdown",
      "metadata": {
        "id": "95wWcj0IYuZj"
      },
      "source": [
        "월별 정보와 비슷한 모습을 보입니다. 전체적으로 합쳐져서 여름에는 다른 계절에 비해 확연히 예약건수도 줄어들고 예약할 때 방문객 수도 현저히 적습니다."
      ]
    },
    {
      "cell_type": "markdown",
      "metadata": {
        "id": "NNE6S7iRuYyk"
      },
      "source": [
        "##### 4. 시간대별 예약 방문객 정보\n",
        "\n",
        "다른 데이터보다 가장 유의미할 것으로 생각이 듭니다. 왜냐하면 예약방문객, 심지어 예약할 떄 방문할 인원에 대한 정보이기 때문에 실제로 방문을 한 사람이 아니기 때문에 상황에 따라 크게 의미가 없는 데이터로 볼 수 있습니다.\n",
        "\n",
        "따라서 언제 예약을 하는 지에 대한 정보가 더욱 유의미 할 수 있습니다.\n",
        "예약할 때의 인원수보다 예약 건수 자체로 세는 것이 더욱 의미있을 수 있습니다."
      ]
    },
    {
      "cell_type": "code",
      "metadata": {
        "id": "6m4X8o8MuYKd"
      },
      "source": [
        "air_reserve[\"reserve_datetime_hour\"] = air_reserve[\"reserve_datetime\"].dt.hour\n",
        "air_reserve[\"visit_datetime_hour\"] = air_reserve[\"visit_datetime\"].dt.hour"
      ],
      "execution_count": null,
      "outputs": []
    },
    {
      "cell_type": "code",
      "metadata": {
        "id": "ewcYYEufvJ4k"
      },
      "source": [
        "visit_hour_visitors = pd.pivot_table(air_reserve, index='visit_datetime_hour', values='reserve_visitors', aggfunc='sum').reset_index()\n",
        "reserve_hour_visitors = pd.pivot_table(air_reserve, index='reserve_datetime_hour', values='reserve_visitors', aggfunc='sum').reset_index()\n",
        "\n",
        "print(f\"visit_hour_visitors has {len(visit_hour_visitors)} rows.\")\n",
        "print(f\"reserve_hour_visitors has {len(reserve_hour_visitors)} rows.\")\n",
        "\n",
        "\n",
        "display(visit_hour_visitors)\n",
        "display(reserve_hour_visitors)"
      ],
      "execution_count": null,
      "outputs": []
    },
    {
      "cell_type": "code",
      "metadata": {
        "id": "-F2cF5pkvJ7g"
      },
      "source": [
        "colors = sns.color_palette(\"pastel\", 7)\n",
        "\n",
        "fig, axes = plt.subplots(nrows=2, ncols=1, figsize=(15, 8))\n",
        "axs = axes.ravel()\n",
        "sns.barplot(data=visit_hour_visitors, x=\"visit_datetime_hour\", y=\"reserve_visitors\", ax=axs[0], palette=colors, zorder=1)\n",
        "axs[0].set_ylabel(\"Visitors\", fontsize=12, fontweight='light')\n",
        "axs[0].set_xticks([])\n",
        "axs[0].set_xlabel(\"\")\n",
        "axs[0].set_title(\"Visit Date time(hr) / Visitors\")\n",
        "for p in axs[0].patches:\n",
        "    left, bottom, width, height = p.get_bbox().bounds\n",
        "    axs[0].annotate(int(height), (left+width/2, height+1500), ha = 'center', color = 'k', style='italic')\n",
        "\n",
        "axs[0].spines['top'].set_visible(False)\n",
        "axs[0].spines['right'].set_visible(False)\n",
        "\n",
        "sns.lineplot(data=visit_hour_visitors, x=\"visit_datetime_hour\", y=\"reserve_visitors\", ax=axs[0], color='darkgrey', zorder=2)\n",
        "\n",
        "\n",
        "\n",
        "sns.barplot(data=reserve_hour_visitors, x=\"reserve_datetime_hour\", y=\"reserve_visitors\", ax=axs[1], palette=colors, zorder=1)\n",
        "axs[1].set_ylabel(\"Visitors\", fontsize=12, fontweight='light')\n",
        "x_tick_labels = [t.get_text() for t in axs[1].get_xticklabels()]\n",
        "axs[1].set_xticklabels(x_tick_labels, rotation=30)\n",
        "axs[1].set_xlabel(\"\")\n",
        "axs[1].set_title(\"Reserve Date time(hr) / Visitors\")\n",
        "\n",
        "sns.lineplot(data=reserve_hour_visitors, x=\"reserve_datetime_hour\", y=\"reserve_visitors\", ax=axs[1], color='darkgrey', zorder=2)\n",
        "\n",
        "for p in axs[1].patches:\n",
        "    left, bottom, width, height = p.get_bbox().bounds\n",
        "    axs[1].annotate(int(height), (left+width/2, height+1500), ha = 'center', color = 'k', style='italic')\n",
        "\n",
        "\n",
        "axs[1].spines['top'].set_visible(False)\n",
        "axs[1].spines['right'].set_visible(False)"
      ],
      "execution_count": null,
      "outputs": []
    },
    {
      "cell_type": "markdown",
      "metadata": {
        "id": "jtX7K9g0EGLA"
      },
      "source": [
        "보통 예약할 때의 시간(`reserve_datetime`)은 17, 18시에 몰려있고 예약할 때의 방문시간(`visit_datetime`)은 18, 19시에 몰려있는 경향이 있습니다."
      ]
    },
    {
      "cell_type": "markdown",
      "metadata": {
        "id": "fzhucssNGc5x"
      },
      "source": [
        "지금까지 데이터를 살펴보니 방문예정객수(`reserve_visitors`)를 살펴보기 보다는 예약 건수로 살펴보는 것이 더욱 의미가 있을 것 같습니다.\n",
        "\n",
        "요일별, 월별, 계절, 시간대별로 예약 수 분석을 해보겠습니다.\n",
        "\n",
        "#### 예약수 정보\n",
        "\n",
        "\n",
        "1. 요일별 예약객 정보: 주말이나 공휴일\n",
        "2. 월별 예약객 정보: 계절이랑 비슷할 것\n",
        "3. 계절별 예약객 정보: 제철음식, 음식장르와 관련이 있을 것 같음\n",
        "4. 시간대별: 저녁시간, 점심시간, ..."
      ]
    },
    {
      "cell_type": "code",
      "metadata": {
        "id": "kvS3UqCAF-iN"
      },
      "source": [
        "air_reserve[\"reserve_count\"] = 1\n",
        "total_reserve = pd.pivot_table(air_reserve, index='visit_datetime', values='reserve_count', aggfunc='sum').reset_index()\n",
        "total_reserve.head(10)"
      ],
      "execution_count": null,
      "outputs": []
    },
    {
      "cell_type": "markdown",
      "metadata": {
        "id": "iHb3KCTgH3nX"
      },
      "source": [
        "##### 1. 요일별 예약 수 정보"
      ]
    },
    {
      "cell_type": "code",
      "metadata": {
        "id": "r2KFGsn7Gt-G"
      },
      "source": [
        "days = ['Monday', 'Tuesday', 'Wednesday', 'Thursday', 'Friday', 'Saturday', 'Sunday']\n",
        "visit_day_reserve_count = pd.pivot_table(air_reserve, index='visit_datetime_day', values='reserve_count', aggfunc='sum').reindex(days).reset_index()\n",
        "reserve_day_reserve_count = pd.pivot_table(air_reserve, index='reserve_datetime_day', values='reserve_count', aggfunc='sum').reindex(days).reset_index()\n",
        "\n",
        "print(f\"visit_day_reserve_count has {len(visit_day_reserve_count)} rows.\")\n",
        "print(f\"reserve_day_reserve_count has {len(reserve_day_reserve_count)} rows.\")\n",
        "\n",
        "\n",
        "display(visit_day_reserve_count)\n",
        "display(reserve_day_reserve_count)"
      ],
      "execution_count": null,
      "outputs": []
    },
    {
      "cell_type": "code",
      "metadata": {
        "id": "QjbPCIzeG_ni"
      },
      "source": [
        "colors = sns.color_palette(\"pastel\", 7)\n",
        "\n",
        "fig, axes = plt.subplots(nrows=2, ncols=1, figsize=(15, 8))\n",
        "axs = axes.ravel()\n",
        "sns.barplot(data=visit_day_reserve_count, x=\"visit_datetime_day\", y=\"reserve_count\", ax=axs[0], palette=colors)\n",
        "\n",
        "axs[0].set_ylabel(\"Visitors\", fontsize=12, fontweight='light')\n",
        "axs[0].set_xticks([])\n",
        "axs[0].set_xlabel(\"\")\n",
        "axs[0].set_title(\"Visit day / Reservations\") # 해당요일에 방문하겠다고 한 예약수 \n",
        "for p in axs[0].patches:\n",
        "    left, bottom, width, height = p.get_bbox().bounds\n",
        "    axs[0].annotate(int(height), (left+width/2, height+1000), ha = 'center', color = 'k', style='italic')\n",
        "\n",
        "axs[0].patches[4].set_linewidth('2')\n",
        "axs[0].patches[4].set_edgecolor('darkorange')\n",
        "axs[0].patches[5].set_linewidth('2')\n",
        "axs[0].patches[5].set_edgecolor('darkorange')\n",
        "\n",
        "axs[0].spines['top'].set_visible(False)\n",
        "axs[0].spines['right'].set_visible(False)\n",
        "\n",
        "sns.barplot(data=reserve_day_reserve_count, x=\"reserve_datetime_day\", y=\"reserve_count\", ax=axs[1], palette=colors)\n",
        "axs[1].set_ylabel(\"Visitors\", fontsize=12, fontweight='light')\n",
        "x_tick_labels = [t.get_text() for t in axs[1].get_xticklabels()]\n",
        "axs[1].set_xticklabels(x_tick_labels, rotation=30)\n",
        "axs[1].set_xlabel(\"\")\n",
        "axs[1].set_title(\"Reserve day / Reservations\") # 예약이 온 요일\n",
        "for p in axs[1].patches:\n",
        "    left, bottom, width, height = p.get_bbox().bounds\n",
        "    axs[1].annotate(int(height), (left+width/2, height+1000), ha = 'center', color = 'k', style='italic')\n",
        "\n",
        "axs[1].spines['top'].set_visible(False)\n",
        "axs[1].spines['right'].set_visible(False)"
      ],
      "execution_count": null,
      "outputs": []
    },
    {
      "cell_type": "markdown",
      "metadata": {
        "id": "WTCpO4CgHK4h"
      },
      "source": [
        "##### 월별 예약 수 정보\n",
        "\n"
      ]
    },
    {
      "cell_type": "code",
      "metadata": {
        "id": "8-s5iuY2IDe_"
      },
      "source": [
        "months = ['January', 'February', 'March', 'April', 'May', 'June', 'July', 'August', 'September', 'October', 'November', 'December']\n",
        "visit_month_reserve_count = pd.pivot_table(air_reserve, index='visit_datetime_month', values='reserve_count', aggfunc='sum').reindex(months).reset_index()\n",
        "reserve_month_reserve_count = pd.pivot_table(air_reserve, index='reserve_datetime_month', values='reserve_count', aggfunc='sum').reindex(months).reset_index()\n",
        "\n",
        "print(f\"visit_month_reserve_count has {len(visit_month_reserve_count)} rows.\")\n",
        "print(f\"reserve_month_reserve_count has {len(reserve_month_reserve_count)} rows.\")\n",
        "\n",
        "\n",
        "display(visit_month_reserve_count)\n",
        "display(reserve_month_reserve_count)"
      ],
      "execution_count": null,
      "outputs": []
    },
    {
      "cell_type": "code",
      "metadata": {
        "id": "7mzpgiDyIPyr"
      },
      "source": [
        "colors = sns.color_palette(\"pastel\", 7)\n",
        "\n",
        "fig, axes = plt.subplots(nrows=2, ncols=1, figsize=(15, 8))\n",
        "axs = axes.ravel()\n",
        "sns.barplot(data=visit_month_reserve_count, x=\"visit_datetime_month\", y=\"reserve_count\", ax=axs[0], palette=colors, zorder=2)\n",
        "axs[0].set_ylabel(\"Visitors\", fontsize=12, fontweight='light')\n",
        "axs[0].set_xticks([])\n",
        "axs[0].set_xlabel(\"\")\n",
        "axs[0].set_title(\"Visit Month / Reservations\")\n",
        "for p in axs[0].patches:\n",
        "    left, bottom, width, height = p.get_bbox().bounds\n",
        "    axs[0].annotate(int(height), (left+width/2, height+500), ha = 'center', color = 'k', style='italic')\n",
        "\n",
        "axs[0].axhline(y = 2800, color = 'dodgerblue', ls = '--', zorder = 1)\n",
        "axs[0].spines['top'].set_visible(False)\n",
        "axs[0].spines['right'].set_visible(False)\n",
        "\n",
        "\n",
        "sns.barplot(data=reserve_month_reserve_count, x=\"reserve_datetime_month\", y=\"reserve_count\", ax=axs[1], palette=colors, zorder=2)\n",
        "axs[1].set_ylabel(\"Visitors\", fontsize=12, fontweight='light')\n",
        "x_tick_labels = [t.get_text() for t in axs[1].get_xticklabels()]\n",
        "axs[1].set_xticklabels(x_tick_labels, rotation=30)\n",
        "axs[1].set_xlabel(\"\")\n",
        "axs[1].set_title(\"Reserve Month / Reservations\")\n",
        "for p in axs[1].patches:\n",
        "    left, bottom, width, height = p.get_bbox().bounds\n",
        "    axs[1].annotate(int(height), (left+width/2, height+500), ha = 'center', color = 'k', style='italic')\n",
        "\n",
        "axs[1].axhline(y = 3500, color = 'dodgerblue', ls = '--', zorder = 1)\n",
        "axs[1].spines['top'].set_visible(False)\n",
        "axs[1].spines['right'].set_visible(False)"
      ],
      "execution_count": null,
      "outputs": []
    },
    {
      "cell_type": "markdown",
      "metadata": {
        "id": "PstBosPfKu9L"
      },
      "source": [
        "##### 3. 계절별 예약 수 정보"
      ]
    },
    {
      "cell_type": "code",
      "metadata": {
        "id": "8nCjxd-iKxjk"
      },
      "source": [
        "seasons = ['Spring', 'Summer', 'Fall', 'Winter']\n",
        "visit_season_visitors_reserve_count = pd.pivot_table(air_reserve, index='visit_datetime_season', values='reserve_count', aggfunc='sum').reindex(seasons).reset_index()\n",
        "reserve_season_visitors_reserve_count = pd.pivot_table(air_reserve, index='reserve_datetime_season', values='reserve_count', aggfunc='sum').reindex(seasons).reset_index()\n",
        "\n",
        "print(f\"visit_season_visitors_reserve_count has {len(visit_season_visitors_reserve_count)} rows.\")\n",
        "print(f\"reserve_season_visitors_reserve_count has {len(reserve_season_visitors_reserve_count)} rows.\")\n",
        "\n",
        "\n",
        "display(visit_season_visitors_reserve_count)\n",
        "display(reserve_season_visitors_reserve_count)"
      ],
      "execution_count": null,
      "outputs": []
    },
    {
      "cell_type": "code",
      "metadata": {
        "id": "qvBTi_EOKxjl"
      },
      "source": [
        "colors = sns.color_palette(\"pastel\", 7)\n",
        "\n",
        "fig, axes = plt.subplots(nrows=2, ncols=1, figsize=(15, 8))\n",
        "axs = axes.ravel()\n",
        "sns.barplot(data=visit_season_visitors_reserve_count, x=\"visit_datetime_season\", y=\"reserve_count\", ax=axs[0], palette=colors, zorder=2)\n",
        "axs[0].set_ylabel(\"Visitors\", fontsize=12, fontweight='light')\n",
        "axs[0].set_xticks([])\n",
        "axs[0].set_xlabel(\"\")\n",
        "axs[0].set_title(\"Visit Month / Reservations\")\n",
        "for p in axs[0].patches:\n",
        "    left, bottom, width, height = p.get_bbox().bounds\n",
        "    axs[0].annotate(int(height), (left+width/2, height+500), ha = 'center', color = 'k', style='italic')\n",
        "\n",
        "axs[0].axhline(y = 2100, color = 'dodgerblue', ls = '--', zorder = 1)\n",
        "axs[0].spines['top'].set_visible(False)\n",
        "axs[0].spines['right'].set_visible(False)\n",
        "\n",
        "\n",
        "sns.barplot(data=reserve_season_visitors_reserve_count, x=\"reserve_datetime_season\", y=\"reserve_count\", ax=axs[1], palette=colors, zorder=2)\n",
        "axs[1].set_ylabel(\"Visitors\", fontsize=12, fontweight='light')\n",
        "x_tick_labels = [t.get_text() for t in axs[1].get_xticklabels()]\n",
        "axs[1].set_xticklabels(x_tick_labels, rotation=30)\n",
        "axs[1].set_xlabel(\"\")\n",
        "axs[1].set_title(\"Reserve Month / Reservavtions\")\n",
        "for p in axs[1].patches:\n",
        "    left, bottom, width, height = p.get_bbox().bounds\n",
        "    axs[1].annotate(int(height), (left+width/2, height+500), ha = 'center', color = 'k', style='italic')\n",
        "\n",
        "axs[1].axhline(y = 2300, color = 'dodgerblue', ls = '--', zorder = 1)\n",
        "axs[1].spines['top'].set_visible(False)\n",
        "axs[1].spines['right'].set_visible(False)"
      ],
      "execution_count": null,
      "outputs": []
    },
    {
      "cell_type": "markdown",
      "metadata": {
        "id": "PL308KReIZJo"
      },
      "source": [
        "##### 4. 시간대별 예약 수 정보"
      ]
    },
    {
      "cell_type": "code",
      "metadata": {
        "id": "M5GEPKHcIcWH"
      },
      "source": [
        "visit_hour_reserve_count = pd.pivot_table(air_reserve, index='visit_datetime_hour', values='reserve_count', aggfunc='sum').reset_index()\n",
        "reserve_hour_reserve_count = pd.pivot_table(air_reserve, index='reserve_datetime_hour', values='reserve_count', aggfunc='sum').reset_index()\n",
        "\n",
        "print(f\"visit_hour_visitors has {len(visit_hour_visitors)} rows.\")\n",
        "print(f\"reserve_hour_visitors has {len(reserve_hour_visitors)} rows.\")\n",
        "\n",
        "\n",
        "display(visit_hour_reserve_count)\n",
        "display(reserve_hour_reserve_count)"
      ],
      "execution_count": null,
      "outputs": []
    },
    {
      "cell_type": "code",
      "metadata": {
        "id": "R5bi_bHKImZc"
      },
      "source": [
        "colors = sns.color_palette(\"pastel\", 7)\n",
        "\n",
        "fig, axes = plt.subplots(nrows=2, ncols=1, figsize=(15, 8))\n",
        "axs = axes.ravel()\n",
        "sns.barplot(data=visit_hour_reserve_count, x=\"visit_datetime_hour\", y=\"reserve_count\", ax=axs[0], palette=colors, zorder=1)\n",
        "axs[0].set_ylabel(\"Visitors\", fontsize=12, fontweight='light')\n",
        "axs[0].set_xticks([])\n",
        "axs[0].set_xlabel(\"\")\n",
        "axs[0].set_title(\"Visit Date time(hr) / Reservations\")\n",
        "for p in axs[0].patches:\n",
        "    left, bottom, width, height = p.get_bbox().bounds\n",
        "    axs[0].annotate(int(height), (left+width/2, height), ha = 'center', color = 'k', style='italic')\n",
        "\n",
        "axs[0].spines['top'].set_visible(False)\n",
        "axs[0].spines['right'].set_visible(False)\n",
        "\n",
        "sns.lineplot(data=visit_hour_reserve_count, x=\"visit_datetime_hour\", y=\"reserve_count\", ax=axs[0], color='slategray', zorder=2)\n",
        "\n",
        "\n",
        "\n",
        "sns.barplot(data=reserve_hour_reserve_count, x=\"reserve_datetime_hour\", y=\"reserve_count\", ax=axs[1], palette=colors, zorder=1)\n",
        "axs[1].set_ylabel(\"Visitors\", fontsize=12, fontweight='light')\n",
        "x_tick_labels = [t.get_text() for t in axs[1].get_xticklabels()]\n",
        "axs[1].set_xticklabels(x_tick_labels, rotation=30)\n",
        "axs[1].set_xlabel(\"\")\n",
        "axs[1].set_title(\"Reserve Date time(hr) / Reservations\")\n",
        "\n",
        "sns.lineplot(data=reserve_hour_reserve_count, x=\"reserve_datetime_hour\", y=\"reserve_count\", ax=axs[1], color='slategray', zorder=2)\n",
        "\n",
        "for p in axs[1].patches:\n",
        "    left, bottom, width, height = p.get_bbox().bounds\n",
        "    axs[1].annotate(int(height), (left+width/2, height), ha = 'center', color = 'k', style='italic')\n",
        "\n",
        "\n",
        "axs[1].spines['top'].set_visible(False)\n",
        "axs[1].spines['right'].set_visible(False)"
      ],
      "execution_count": null,
      "outputs": []
    },
    {
      "cell_type": "markdown",
      "metadata": {
        "id": "O6U8nW3_MJih"
      },
      "source": [
        "### 2-2 Analysis of `hpg_reserve`\n"
      ]
    },
    {
      "cell_type": "code",
      "metadata": {
        "id": "d_xWXHYYMj_D"
      },
      "source": [
        "hpg_reserve.head()"
      ],
      "execution_count": null,
      "outputs": []
    },
    {
      "cell_type": "code",
      "metadata": {
        "id": "0MXMnH5kMj_E"
      },
      "source": [
        "hpg_reserve.describe()"
      ],
      "execution_count": null,
      "outputs": []
    },
    {
      "cell_type": "code",
      "metadata": {
        "id": "VqjtV26DMj_E"
      },
      "source": [
        "hpg_reserve.isnull().sum()"
      ],
      "execution_count": null,
      "outputs": []
    },
    {
      "cell_type": "code",
      "metadata": {
        "id": "FzT7A2wHMj_E"
      },
      "source": [
        "hpg_reserve.dtypes"
      ],
      "execution_count": null,
      "outputs": []
    },
    {
      "cell_type": "code",
      "metadata": {
        "id": "WI4VA-uAMj_F"
      },
      "source": [
        "hpg_reserve['visit_datetime'] = pd.to_datetime(hpg_reserve['visit_datetime'])\n",
        "hpg_reserve['reserve_datetime'] = pd.to_datetime(hpg_reserve['reserve_datetime'])"
      ],
      "execution_count": null,
      "outputs": []
    },
    {
      "cell_type": "code",
      "metadata": {
        "id": "gR2YEZZqNaSb"
      },
      "source": [
        "hpg_reserve[\"reserve_count\"] = 1\n",
        "total_reserve = pd.pivot_table(hpg_reserve, index='visit_datetime', values='reserve_count', aggfunc='sum').reset_index()\n",
        "total_reserve.head(10)"
      ],
      "execution_count": null,
      "outputs": []
    },
    {
      "cell_type": "markdown",
      "metadata": {
        "id": "7ZYMHs3qPtuH"
      },
      "source": [
        "#### 예약 수 정보\n",
        "\n",
        "\n",
        "위를 통해 결과적으로 예약 수 정보를 보는 것이 더 중요하다고 판단했으므로 예약 수 정보에 대한 것만 다뤄보겠습니다."
      ]
    },
    {
      "cell_type": "markdown",
      "metadata": {
        "id": "-yNuxIc-M5Gz"
      },
      "source": [
        "##### 요일별 예약 수 정보"
      ]
    },
    {
      "cell_type": "code",
      "metadata": {
        "id": "s37zyiKqM9K1"
      },
      "source": [
        "visit_datetime_day = hpg_reserve['visit_datetime'].dt.day_name()\n",
        "reserve_datetime_day = hpg_reserve['reserve_datetime'].dt.day_name()"
      ],
      "execution_count": null,
      "outputs": []
    },
    {
      "cell_type": "code",
      "metadata": {
        "id": "ETtLAk2DM9K1"
      },
      "source": [
        "hpg_reserve['visit_datetime_day'] = visit_datetime_day\n",
        "hpg_reserve['reserve_datetime_day'] = reserve_datetime_day"
      ],
      "execution_count": null,
      "outputs": []
    },
    {
      "cell_type": "code",
      "metadata": {
        "id": "W4wXkHvtM9K1"
      },
      "source": [
        "days = ['Monday', 'Tuesday', 'Wednesday', 'Thursday', 'Friday', 'Saturday', 'Sunday']\n",
        "visit_day_reserve_count = pd.pivot_table(hpg_reserve, index='visit_datetime_day', values='reserve_count', aggfunc='sum').reindex(days).reset_index()\n",
        "reserve_day_reserve_count = pd.pivot_table(hpg_reserve, index='reserve_datetime_day', values='reserve_count', aggfunc='sum').reindex(days).reset_index()\n",
        "\n",
        "print(f\"visit_day_reserve_count has {len(visit_day_reserve_count)} rows.\")\n",
        "print(f\"reserve_day_reserve_count has {len(reserve_day_reserve_count)} rows.\")\n",
        "\n",
        "\n",
        "display(visit_day_reserve_count)\n",
        "display(reserve_day_reserve_count)"
      ],
      "execution_count": null,
      "outputs": []
    },
    {
      "cell_type": "code",
      "metadata": {
        "id": "f1YJ3FJuN3NJ"
      },
      "source": [
        "colors = sns.color_palette(\"pastel\", 7)\n",
        "\n",
        "fig, axes = plt.subplots(nrows=2, ncols=1, figsize=(15, 8))\n",
        "axs = axes.ravel()\n",
        "sns.barplot(data=visit_day_reserve_count, x=\"visit_datetime_day\", y=\"reserve_count\", ax=axs[0], palette=colors)\n",
        "\n",
        "axs[0].set_ylabel(\"Visitors\", fontsize=12, fontweight='light')\n",
        "axs[0].set_xticks([])\n",
        "axs[0].set_xlabel(\"\")\n",
        "axs[0].set_title(\"Visit day / Reservations\") # 해당요일에 방문하겠다고 한 예약수 \n",
        "for p in axs[0].patches:\n",
        "    left, bottom, width, height = p.get_bbox().bounds\n",
        "    axs[0].annotate(int(height), (left+width/2, height), ha = 'center', color = 'k', style='italic')\n",
        "\n",
        "axs[0].patches[4].set_linewidth('2')\n",
        "axs[0].patches[4].set_edgecolor('darkorange')\n",
        "axs[0].patches[5].set_linewidth('2')\n",
        "axs[0].patches[5].set_edgecolor('darkorange')\n",
        "\n",
        "axs[0].spines['top'].set_visible(False)\n",
        "axs[0].spines['right'].set_visible(False)\n",
        "\n",
        "sns.barplot(data=reserve_day_reserve_count, x=\"reserve_datetime_day\", y=\"reserve_count\", ax=axs[1], palette=colors)\n",
        "axs[1].set_ylabel(\"Visitors\", fontsize=12, fontweight='light')\n",
        "x_tick_labels = [t.get_text() for t in axs[1].get_xticklabels()]\n",
        "axs[1].set_xticklabels(x_tick_labels, rotation=30)\n",
        "axs[1].set_xlabel(\"\")\n",
        "axs[1].set_title(\"Reserve day / Reservations\") # 예약이 온 요일\n",
        "for p in axs[1].patches:\n",
        "    left, bottom, width, height = p.get_bbox().bounds\n",
        "    axs[1].annotate(int(height), (left+width/2, height), ha = 'center', color = 'k', style='italic')\n",
        "\n",
        "axs[1].spines['top'].set_visible(False)\n",
        "axs[1].spines['right'].set_visible(False)"
      ],
      "execution_count": null,
      "outputs": []
    },
    {
      "cell_type": "markdown",
      "metadata": {
        "id": "-7QNf2W6OoBf"
      },
      "source": [
        "##### 월별 예약 수 정보\n",
        "\n"
      ]
    },
    {
      "cell_type": "code",
      "metadata": {
        "id": "80KdebnCOv8H"
      },
      "source": [
        "visit_datetime_month = hpg_reserve['visit_datetime'].dt.month_name()\n",
        "reserve_datetime_month = hpg_reserve['reserve_datetime'].dt.month_name()\n",
        "hpg_reserve['visit_datetime_month'] = visit_datetime_month\n",
        "hpg_reserve['reserve_datetime_month'] = reserve_datetime_month"
      ],
      "execution_count": null,
      "outputs": []
    },
    {
      "cell_type": "code",
      "metadata": {
        "id": "D41dxO05OoBf"
      },
      "source": [
        "months = ['January', 'February', 'March', 'April', 'May', 'June', 'July', 'August', 'September', 'October', 'November', 'December']\n",
        "visit_month_reserve_count = pd.pivot_table(hpg_reserve, index='visit_datetime_month', values='reserve_count', aggfunc='sum').reindex(months).reset_index()\n",
        "reserve_month_reserve_count = pd.pivot_table(hpg_reserve, index='reserve_datetime_month', values='reserve_count', aggfunc='sum').reindex(months).reset_index()\n",
        "\n",
        "print(f\"visit_month_reserve_count has {len(visit_month_reserve_count)} rows.\")\n",
        "print(f\"reserve_month_reserve_count has {len(reserve_month_reserve_count)} rows.\")\n",
        "\n",
        "\n",
        "display(visit_month_reserve_count)\n",
        "display(reserve_month_reserve_count)"
      ],
      "execution_count": null,
      "outputs": []
    },
    {
      "cell_type": "code",
      "metadata": {
        "id": "L4IC2vT-OoBf"
      },
      "source": [
        "colors = sns.color_palette(\"pastel\", 7)\n",
        "\n",
        "fig, axes = plt.subplots(nrows=2, ncols=1, figsize=(15, 8))\n",
        "axs = axes.ravel()\n",
        "sns.barplot(data=visit_month_reserve_count, x=\"visit_datetime_month\", y=\"reserve_count\", ax=axs[0], palette=colors, zorder=2)\n",
        "axs[0].set_ylabel(\"Visitors\", fontsize=12, fontweight='light')\n",
        "axs[0].set_xticks([])\n",
        "axs[0].set_xlabel(\"\")\n",
        "axs[0].set_title(\"Visit Month / Reservations\")\n",
        "for p in axs[0].patches:\n",
        "    left, bottom, width, height = p.get_bbox().bounds\n",
        "    axs[0].annotate(int(height), (left+width/2, height+500), ha = 'center', color = 'k', style='italic')\n",
        "axs[0].spines['top'].set_visible(False)\n",
        "axs[0].spines['right'].set_visible(False)\n",
        "\n",
        "\n",
        "sns.barplot(data=reserve_month_reserve_count, x=\"reserve_datetime_month\", y=\"reserve_count\", ax=axs[1], palette=colors, zorder=2)\n",
        "axs[1].set_ylabel(\"Visitors\", fontsize=12, fontweight='light')\n",
        "x_tick_labels = [t.get_text() for t in axs[1].get_xticklabels()]\n",
        "axs[1].set_xticklabels(x_tick_labels, rotation=30)\n",
        "axs[1].set_xlabel(\"\")\n",
        "axs[1].set_title(\"Reserve Month / Reservations\")\n",
        "for p in axs[1].patches:\n",
        "    left, bottom, width, height = p.get_bbox().bounds\n",
        "    axs[1].annotate(int(height), (left+width/2, height+500), ha = 'center', color = 'k', style='italic')\n",
        "\n",
        "axs[1].spines['top'].set_visible(False)\n",
        "axs[1].spines['right'].set_visible(False)"
      ],
      "execution_count": null,
      "outputs": []
    },
    {
      "cell_type": "markdown",
      "metadata": {
        "id": "qxkg2dCYPB1V"
      },
      "source": [
        "##### 3. 계절별 예약 수 정보"
      ]
    },
    {
      "cell_type": "code",
      "metadata": {
        "id": "gUHLTGKcPEn-"
      },
      "source": [
        "hpg_reserve['visit_datetime_season'] = \"\"\n",
        "hpg_reserve['reserve_datetime_season'] = \"\""
      ],
      "execution_count": null,
      "outputs": []
    },
    {
      "cell_type": "code",
      "metadata": {
        "id": "KHS31v0iPEn_"
      },
      "source": [
        "hpg_reserve['visit_datetime_season'] = np.where(hpg_reserve['visit_datetime_month'].isin([\"March\", \"April\", \"May\"]), 'Spring', hpg_reserve['visit_datetime_season'])\n",
        "hpg_reserve['visit_datetime_season'] = np.where(hpg_reserve['visit_datetime_month'].isin([\"June\", \"July\", \"August\"]), 'Summer', hpg_reserve['visit_datetime_season'])\n",
        "hpg_reserve['visit_datetime_season'] = np.where(hpg_reserve['visit_datetime_month'].isin([\"September\", \"October\", \"November\"]), 'Fall', hpg_reserve['visit_datetime_season'])\n",
        "hpg_reserve['visit_datetime_season'] = np.where(hpg_reserve['visit_datetime_month'].isin([\"December\", \"January\", \"February\"]), 'Winter', hpg_reserve['visit_datetime_season'])"
      ],
      "execution_count": null,
      "outputs": []
    },
    {
      "cell_type": "code",
      "metadata": {
        "id": "6YYtw2QAPEn_"
      },
      "source": [
        "hpg_reserve['reserve_datetime_season'] = np.where(hpg_reserve['reserve_datetime_month'].isin([\"March\", \"April\", \"May\"]), 'Spring', hpg_reserve['reserve_datetime_season'])\n",
        "hpg_reserve['reserve_datetime_season'] = np.where(hpg_reserve['reserve_datetime_month'].isin([\"June\", \"July\", \"August\"]), 'Summer', hpg_reserve['reserve_datetime_season'])\n",
        "hpg_reserve['reserve_datetime_season'] = np.where(hpg_reserve['reserve_datetime_month'].isin([\"September\", \"October\", \"November\"]), 'Fall', hpg_reserve['reserve_datetime_season'])\n",
        "hpg_reserve['reserve_datetime_season'] = np.where(hpg_reserve['reserve_datetime_month'].isin([\"December\", \"January\", \"February\"]), 'Winter', hpg_reserve['reserve_datetime_season'])"
      ],
      "execution_count": null,
      "outputs": []
    },
    {
      "cell_type": "code",
      "metadata": {
        "id": "nfrDEXvbPB1W"
      },
      "source": [
        "seasons = ['Spring', 'Summer', 'Fall', 'Winter']\n",
        "visit_season_visitors_reserve_count = pd.pivot_table(hpg_reserve, index='visit_datetime_season', values='reserve_count', aggfunc='sum').reindex(seasons).reset_index()\n",
        "reserve_season_visitors_reserve_count = pd.pivot_table(hpg_reserve, index='reserve_datetime_season', values='reserve_count', aggfunc='sum').reindex(seasons).reset_index()\n",
        "\n",
        "print(f\"visit_season_visitors_reserve_count has {len(visit_season_visitors_reserve_count)} rows.\")\n",
        "print(f\"reserve_season_visitors_reserve_count has {len(reserve_season_visitors_reserve_count)} rows.\")\n",
        "\n",
        "\n",
        "display(visit_season_visitors_reserve_count)\n",
        "display(reserve_season_visitors_reserve_count)"
      ],
      "execution_count": null,
      "outputs": []
    },
    {
      "cell_type": "code",
      "metadata": {
        "id": "4yX1B7AbPB1W"
      },
      "source": [
        "colors = sns.color_palette(\"pastel\", 7)\n",
        "\n",
        "fig, axes = plt.subplots(nrows=2, ncols=1, figsize=(15, 8))\n",
        "axs = axes.ravel()\n",
        "sns.barplot(data=visit_season_visitors_reserve_count, x=\"visit_datetime_season\", y=\"reserve_count\", ax=axs[0], palette=colors, zorder=2)\n",
        "axs[0].set_ylabel(\"Visitors\", fontsize=12, fontweight='light')\n",
        "axs[0].set_xticks([])\n",
        "axs[0].set_xlabel(\"\")\n",
        "axs[0].set_title(\"Visit Month / Reservations\")\n",
        "for p in axs[0].patches:\n",
        "    left, bottom, width, height = p.get_bbox().bounds\n",
        "    axs[0].annotate(int(height), (left+width/2, height+500), ha = 'center', color = 'k', style='italic')\n",
        "\n",
        "\n",
        "axs[0].spines['top'].set_visible(False)\n",
        "axs[0].spines['right'].set_visible(False)\n",
        "\n",
        "\n",
        "sns.barplot(data=reserve_season_visitors_reserve_count, x=\"reserve_datetime_season\", y=\"reserve_count\", ax=axs[1], palette=colors, zorder=2)\n",
        "axs[1].set_ylabel(\"Visitors\", fontsize=12, fontweight='light')\n",
        "x_tick_labels = [t.get_text() for t in axs[1].get_xticklabels()]\n",
        "axs[1].set_xticklabels(x_tick_labels, rotation=30)\n",
        "axs[1].set_xlabel(\"\")\n",
        "axs[1].set_title(\"Reserve Month / Reservavtions\")\n",
        "for p in axs[1].patches:\n",
        "    left, bottom, width, height = p.get_bbox().bounds\n",
        "    axs[1].annotate(int(height), (left+width/2, height+500), ha = 'center', color = 'k', style='italic')\n",
        "\n",
        "axs[1].spines['top'].set_visible(False)\n",
        "axs[1].spines['right'].set_visible(False)"
      ],
      "execution_count": null,
      "outputs": []
    },
    {
      "cell_type": "markdown",
      "metadata": {
        "id": "GjgzbsR4Pa5d"
      },
      "source": [
        "##### 4. 시간대별 예약 수 정보"
      ]
    },
    {
      "cell_type": "code",
      "metadata": {
        "id": "A0KMI6aSPd2X"
      },
      "source": [
        "hpg_reserve[\"reserve_datetime_hour\"] = hpg_reserve[\"reserve_datetime\"].dt.hour\n",
        "hpg_reserve[\"visit_datetime_hour\"] = hpg_reserve[\"visit_datetime\"].dt.hour"
      ],
      "execution_count": null,
      "outputs": []
    },
    {
      "cell_type": "code",
      "metadata": {
        "id": "Xruv-kyXPa5d"
      },
      "source": [
        "visit_hour_reserve_count = pd.pivot_table(hpg_reserve, index='visit_datetime_hour', values='reserve_count', aggfunc='sum').reset_index()\n",
        "reserve_hour_reserve_count = pd.pivot_table(hpg_reserve, index='reserve_datetime_hour', values='reserve_count', aggfunc='sum').reset_index()\n",
        "\n",
        "print(f\"visit_hour_visitors has {len(visit_hour_visitors)} rows.\")\n",
        "print(f\"reserve_hour_visitors has {len(reserve_hour_visitors)} rows.\")\n",
        "\n",
        "\n",
        "display(visit_hour_reserve_count)\n",
        "display(reserve_hour_reserve_count)"
      ],
      "execution_count": null,
      "outputs": []
    },
    {
      "cell_type": "code",
      "metadata": {
        "id": "i-pi_do9Pa5d"
      },
      "source": [
        "colors = sns.color_palette(\"pastel\", 7)\n",
        "\n",
        "fig, axes = plt.subplots(nrows=2, ncols=1, figsize=(15, 8))\n",
        "axs = axes.ravel()\n",
        "sns.barplot(data=visit_hour_reserve_count, x=\"visit_datetime_hour\", y=\"reserve_count\", ax=axs[0], palette=colors, zorder=1)\n",
        "axs[0].set_ylabel(\"Visitors\", fontsize=12, fontweight='light')\n",
        "axs[0].set_xticks([])\n",
        "axs[0].set_xlabel(\"\")\n",
        "axs[0].set_title(\"Visit Date time(hr) / Reservations\")\n",
        "for p in axs[0].patches:\n",
        "    left, bottom, width, height = p.get_bbox().bounds\n",
        "    axs[0].annotate(int(height), (left+width/2, height), ha = 'center', color = 'k', style='italic')\n",
        "\n",
        "axs[0].spines['top'].set_visible(False)\n",
        "axs[0].spines['right'].set_visible(False)\n",
        "\n",
        "sns.lineplot(data=visit_hour_reserve_count, x=\"visit_datetime_hour\", y=\"reserve_count\", ax=axs[0], color='slategray', zorder=2)\n",
        "\n",
        "\n",
        "\n",
        "sns.barplot(data=reserve_hour_reserve_count, x=\"reserve_datetime_hour\", y=\"reserve_count\", ax=axs[1], palette=colors, zorder=1)\n",
        "axs[1].set_ylabel(\"Visitors\", fontsize=12, fontweight='light')\n",
        "x_tick_labels = [t.get_text() for t in axs[1].get_xticklabels()]\n",
        "axs[1].set_xticklabels(x_tick_labels, rotation=30)\n",
        "axs[1].set_xlabel(\"\")\n",
        "axs[1].set_title(\"Reserve Date time(hr) / Reservations\")\n",
        "\n",
        "sns.lineplot(data=reserve_hour_reserve_count, x=\"reserve_datetime_hour\", y=\"reserve_count\", ax=axs[1], color='slategray', zorder=2)\n",
        "\n",
        "for p in axs[1].patches:\n",
        "    left, bottom, width, height = p.get_bbox().bounds\n",
        "    axs[1].annotate(int(height), (left+width/2, height), ha = 'center', color = 'k', style='italic')\n",
        "\n",
        "\n",
        "axs[1].spines['top'].set_visible(False)\n",
        "axs[1].spines['right'].set_visible(False)"
      ],
      "execution_count": null,
      "outputs": []
    },
    {
      "cell_type": "markdown",
      "metadata": {
        "id": "RsvhLAOrYuhQ"
      },
      "source": [
        "##### * `air_reserve` vs `air_visit_data`"
      ]
    },
    {
      "cell_type": "code",
      "metadata": {
        "id": "MUu_nd6pM_2Y"
      },
      "source": [
        "reserve_id = air_reserve[\"air_store_id\"].to_numpy()\n",
        "visit_id = air_visit_data[\"air_store_id\"].to_numpy()\n",
        "print(f\"air_reserve_data의 id 갯수: {len(np.unique(air_reserve['air_store_id'].to_numpy()))}\")\n",
        "print(f\"air_visit_data의 id 갯수: {len(np.unique(air_visit_data['air_store_id'].to_numpy()))}\")"
      ],
      "execution_count": null,
      "outputs": []
    },
    {
      "cell_type": "code",
      "metadata": {
        "id": "1Tzzr8pKN5zp"
      },
      "source": [
        "print(f\"{len(set(visit_id) - set(reserve_id))}개의 매장은 정보가 없습니다.\") ## 515개의 정보가 없다고 보는 것이 좋을 것 같다.\n",
        "print(f\"len(set(reserve_id) - set(visit_id)) = {len(set(reserve_id) - set(visit_id))}인 것을 보면 air_visit_data는 air_reserve의 모든 매장을 포함합니다.\")\n",
        "print(f\"16. 01. 03의 총 방문객: {air_visit_data[air_visit_data['visit_date'] == '2016-01-13']['visitors'].sum()}\") ## visit_data의 합\n",
        "print(f\"16. 01. 03의 예약 방문객: {air_reserve.iloc[599:681, 3].sum()}\") ## reserve의 합"
      ],
      "execution_count": null,
      "outputs": []
    },
    {
      "cell_type": "markdown",
      "metadata": {
        "id": "YL5Ze1AhVfpz"
      },
      "source": [
        "515개의 예약정보가 없는 매장이 있을 수 있으므로 `air_reserve`에 정보가 있는 매장에 대한 visit_data를 따로 뽑아내겠습니다."
      ]
    },
    {
      "cell_type": "code",
      "metadata": {
        "id": "3XxZe74LQVu2"
      },
      "source": [
        "air_reserved_visit_data = air_visit_data[air_visit_data[\"air_store_id\"].isin(reserve_id)]"
      ],
      "execution_count": null,
      "outputs": []
    },
    {
      "cell_type": "code",
      "metadata": {
        "id": "7PIiKvmbLRyU"
      },
      "source": [
        "air_reserved_visit_data[air_reserved_visit_data['visit_date'] == '2016-01-13']['visitors'].sum()"
      ],
      "execution_count": null,
      "outputs": []
    },
    {
      "cell_type": "markdown",
      "metadata": {
        "id": "MK2POa8yup0m"
      },
      "source": [
        "두 데이터는 비슷한 분포를 보이지만 그 갯수에서 확연한 차이를 보입니다. 평균적으로 `hpg`에 등록되어있는 데이터들이 훨씬 많은 방문객 수, 예약 수를 보이고 있습니다. 따라서 추후에 데이터를 합치더라도 어떤 서비스에서 온 데이터인지 명시하는 것이 중요할 것으로 예상됩니다.\n",
        "\n",
        "또한 EDA 중에 노쇼 고객이 있을 것을 염두에 두고 미리 `air_reserve`와 `air_visit_data`를 이용해 구하려고 했지만 노쇼한 인원을 파악하는 것은 불가능해 보입니다. 이유는 `air_reserve`에서 센 방문예정객 수가 `air_visit_data`에서 센 실제 방문객 수보다 많다면 노쇼라고 할 수 있지만 적다고 해서 노쇼를 하지 않았다고는 할 수 없기 떄문입니다. 하지만 이러한 $\\frac{\\text{실제 방문객}}{\\text{방문 예정객}}$의 비율을 이용한다면 유동인구 파악, 또는 위도/경도의 정보와 함께 번화가와 그렇지 시외지역간의 비율차이를 이용해 유의미한 분석을 할 수 있을 것 같습니다.\n",
        "\n",
        "무엇보다 이런 분석은 예약 데이터만을 모아놓은 데이터셋을 바라보고 가정적으로 생각을 하고 있는 부분이기 때문에 `store_info`에 대한 분석을 필요로 합니다. 따라서 이어지는 과정에서 `store_info`에 관한 EDA를 이어가겠습니다."
      ]
    },
    {
      "cell_type": "markdown",
      "metadata": {
        "id": "YL5oeKW6ujhB"
      },
      "source": [
        "### 2-3 Analysis of `air_store_info`\n"
      ]
    },
    {
      "cell_type": "code",
      "metadata": {
        "id": "grm24sG6ujAt"
      },
      "source": [
        "air_store_info.head()"
      ],
      "execution_count": null,
      "outputs": []
    },
    {
      "cell_type": "code",
      "metadata": {
        "id": "bEtVDr0GxiKc"
      },
      "source": [
        "air_store_info.describe()"
      ],
      "execution_count": null,
      "outputs": []
    },
    {
      "cell_type": "code",
      "metadata": {
        "id": "VakOCK8nxiiD"
      },
      "source": [
        "air_store_info.isnull().sum()"
      ],
      "execution_count": null,
      "outputs": []
    },
    {
      "cell_type": "markdown",
      "metadata": {
        "id": "K_e2d6ZYxzNz"
      },
      "source": [
        "기본적으로 살펴보니 결측치나 기타 이상은 없는 것 같습니다. id는 단지 고유적인 값일 뿐이니 장르(음식 종류)이름부터 하나씩 살펴보겠습니다.\n",
        "\n",
        "#### 음식 종류(장르) 정보"
      ]
    },
    {
      "cell_type": "code",
      "metadata": {
        "id": "XNqwl0XBxyrW"
      },
      "source": [
        "air_genre_count = air_store_info[\"air_genre_name\"].value_counts(ascending=True)"
      ],
      "execution_count": null,
      "outputs": []
    },
    {
      "cell_type": "code",
      "metadata": {
        "id": "JHr1foa-xisF"
      },
      "source": [
        "colors = sns.color_palette(\"pastel\", len(air_genre_count))\n",
        "fig, ax = plt.subplots(figsize=(10, 6))\n",
        "sns.barplot(air_genre_count.values, air_genre_count.index, ax=ax, palette=colors)\n",
        "ax.set_title(\"Genre\")\n",
        "\n",
        "\n",
        "for p in ax.patches:\n",
        "    left, bottom, width, height = p.get_bbox().bounds\n",
        "    ax.annotate(int(width), (width+5, bottom+0.5), ha = 'center', color = 'k', style='italic')"
      ],
      "execution_count": null,
      "outputs": []
    },
    {
      "cell_type": "markdown",
      "metadata": {
        "id": "TtYjAg2T2AYv"
      },
      "source": [
        "장르를 살펴보면 이자카야가 가장 많고 그 뒤를 카페, 다이닝 바가 있으며 아시안, 카라오케/파티, 세계요리(international cuisine)이 2개로 최하위에 위치해있습니다. 장르에 관련된 사항은 위에서 방문 예정자, 예약건수를 다룰 때에 hue 값으로 구분해서 사용하면 아주 요긴하게 사용할 수 있을 것 같습니다.\n",
        "\n",
        "#### 매장 위도, 경도 정보\n",
        "위도와 경도에 대한 분석을 해보겠습니다."
      ]
    },
    {
      "cell_type": "code",
      "metadata": {
        "id": "xkRRA9Q647Ui"
      },
      "source": [
        "air_store_info.head()"
      ],
      "execution_count": null,
      "outputs": []
    },
    {
      "cell_type": "code",
      "metadata": {
        "id": "JIs89FaC4jbK"
      },
      "source": [
        "plt.figure(figsize=(12, 12))\n",
        "g = sns.jointplot(x=air_store_info.latitude.values, y=air_store_info.longitude.values, marker=\"+\",\n",
        "                  color='dodgerblue', marginal_kws=dict(color='skyblue'))\n",
        "plt.ylabel('Longitude', fontsize=12)\n",
        "plt.xlabel('Latitude', fontsize=12)\n",
        "plt.show()"
      ],
      "execution_count": null,
      "outputs": []
    },
    {
      "cell_type": "markdown",
      "metadata": {
        "id": "xqAjRcVv7ko1"
      },
      "source": [
        "jointplot을 이용해 산점도와 분포를 보여주는 히스토그램을 그려보았지만 크게 인사이트를 얻기 힘들어 보입니다. 가장 많은 데이터가 경도 140, 위도 36근방에 가장 많이 위치하고 있으니 어떤 곳인지 한번 확인해보겠습니다."
      ]
    },
    {
      "cell_type": "code",
      "metadata": {
        "id": "l4NwDYlD5KhJ"
      },
      "source": [
        "from collections import Counter\n",
        "\n",
        "freq_lat = air_store_info[(35 < air_store_info[\"latitude\"]) & (air_store_info[\"latitude\"] < 37)]\n",
        "freq_long = air_store_info[(139 < air_store_info[\"longitude\"]) & (air_store_info[\"longitude\"] < 141)]\n",
        "\n",
        "freq_lat_list = freq_lat['air_area_name'].to_numpy()\n",
        "freq_long_list = freq_long['air_area_name'].to_numpy()\n",
        "\n",
        "freq_lat_list = [address.split()[0] for address in freq_lat_list]\n",
        "freq_long_list = [address.split()[0] for address in freq_long_list]\n",
        "\n",
        "print(Counter(freq_lat_list))\n",
        "print(Counter(freq_long_list))"
      ],
      "execution_count": null,
      "outputs": []
    },
    {
      "cell_type": "markdown",
      "metadata": {
        "id": "I8sczodY_0aa"
      },
      "source": [
        "위도 36근방, 경도 140근방의 주소의 첫 단어를 통해 어떤 도, 현에 있는 지 뽑아보니 대부분이 도쿄에 위치해있고 시즈오카현, 미야기현, 니이가타현에 조금씩 분포하고 있습니다. 다시 그림을 보면 대부분의 데이터가 아얘 위도 36, 경도 140에 위치하고 있는데 이는 실제 도쿄의 위도, 경도인 (35.652, 139.839)와 매우 비슷한 위치입니다.\n",
        "\n",
        "위도, 경도에 해당하는 위치에 산점도로 점을 찍고 어떤 종류의 음식을 파는 지 구분하기 위해 그려본 그림입니다."
      ]
    },
    {
      "cell_type": "code",
      "metadata": {
        "id": "v2FwX6Rd_AKt"
      },
      "source": [
        "fig, ax = plt.subplots(figsize=(7, 7))\n",
        "sns.scatterplot(data=air_store_info, x='latitude', y='longitude', hue='air_genre_name', ax=ax)\n",
        "ax.legend(loc='lower right')"
      ],
      "execution_count": null,
      "outputs": []
    },
    {
      "cell_type": "markdown",
      "metadata": {
        "id": "EaL4x9gEMgIO"
      },
      "source": [
        "자세히 보이지는 않지만 도쿄 부근에는 다양한 음식점이 혼재하고 있다는 점, 그리고 또 다른 식당이 혼재하고 있는 위도 35, 경도 135 부근은 오사카라는 점을 알 수 있습니다. (실제 오사카의 위도: 34.41, 경도: 135.30)\n",
        "\n",
        "산점도를 통해 어떤 곳에 음식점이 많이 위치하고 있는 지에 대한 정보는 알 수 있지만 전반적인 음식 종류의 분포에 대해서는 알아보기가 힘든 단점이 있습니다."
      ]
    },
    {
      "cell_type": "markdown",
      "metadata": {
        "id": "iFKBrXkgNOf7"
      },
      "source": [
        "#### 매장 위치 정보\n",
        "\n",
        "매장 위치 정보를 우선 음식 종류 정보와 연결시켜 분석해보겠습니다. 번거롭지만 매장에 해당하는 음식 종류수를 세어주기 위해 데이터프레임을 하나씩 만들었습니다."
      ]
    },
    {
      "cell_type": "code",
      "metadata": {
        "id": "MUrUdn5PD1_n"
      },
      "source": [
        "air_IF_store = air_store_info[air_store_info[\"air_genre_name\"] == \"Italian/French\"]\n",
        "air_BC_store = air_store_info[air_store_info[\"air_genre_name\"] == \"Bar/Cocktail\"]\n",
        "air_CS_store = air_store_info[air_store_info[\"air_genre_name\"] == \"Cafe/Sweets\"]\n",
        "air_CC_store = air_store_info[air_store_info[\"air_genre_name\"] == \"Creative cuisine\"]\n",
        "air_DB_store = air_store_info[air_store_info[\"air_genre_name\"] == \"Dining bar\"]\n",
        "air_IC_store = air_store_info[air_store_info[\"air_genre_name\"] == \"International cuisine\"]\n",
        "air_IZ_store = air_store_info[air_store_info[\"air_genre_name\"] == \"Izakaya\"]\n",
        "air_JA_store = air_store_info[air_store_info[\"air_genre_name\"] == \"Japanese food\"]\n",
        "air_KA_store = air_store_info[air_store_info[\"air_genre_name\"] == \"Karaoke/Party\"]\n",
        "air_YA_store = air_store_info[air_store_info[\"air_genre_name\"] == \"Okonomiyaki/Monja/Teppanyaki\"]\n",
        "air_OT_store = air_store_info[air_store_info[\"air_genre_name\"] == \"Other\"]\n",
        "air_WE_store = air_store_info[air_store_info[\"air_genre_name\"] == \"Western food\"]\n",
        "air_KO_store = air_store_info[air_store_info[\"air_genre_name\"] == \"Yakiniku/Korean food\"]\n",
        "air_AS_store = air_store_info[air_store_info[\"air_genre_name\"] == \"Asian\"]"
      ],
      "execution_count": null,
      "outputs": []
    },
    {
      "cell_type": "code",
      "metadata": {
        "id": "T6bFPAJQEpQr"
      },
      "source": [
        "air_IF_count = air_IF_store[\"air_area_name\"].value_counts()\n",
        "air_BC_count = air_BC_store[\"air_area_name\"].value_counts()\n",
        "air_CS_count = air_CS_store[\"air_area_name\"].value_counts()\n",
        "air_CC_count = air_CC_store[\"air_area_name\"].value_counts()\n",
        "air_DB_count = air_DB_store[\"air_area_name\"].value_counts()\n",
        "air_IC_count = air_IC_store[\"air_area_name\"].value_counts()\n",
        "air_IZ_count = air_IZ_store[\"air_area_name\"].value_counts()\n",
        "air_JA_count = air_JA_store[\"air_area_name\"].value_counts()\n",
        "air_KA_count = air_KA_store[\"air_area_name\"].value_counts()\n",
        "air_YA_count = air_YA_store[\"air_area_name\"].value_counts()\n",
        "air_OT_count = air_OT_store[\"air_area_name\"].value_counts()\n",
        "air_WE_count = air_WE_store[\"air_area_name\"].value_counts()\n",
        "air_KO_count = air_KO_store[\"air_area_name\"].value_counts()\n",
        "air_AS_count = air_AS_store[\"air_area_name\"].value_counts()"
      ],
      "execution_count": null,
      "outputs": []
    },
    {
      "cell_type": "code",
      "metadata": {
        "id": "QGI2sjQ4EHZv"
      },
      "source": [
        "count_list = [air_IF_count, air_BC_count, air_CS_count, air_CC_count, air_DB_count, air_IC_count, air_IZ_count, \n",
        "              air_JA_count, air_KA_count, air_YA_count, air_OT_count, air_WE_count, air_KO_count, air_AS_count]\n",
        "name_list = ['Italian/French', 'Bar/Cocktail', 'Cafe/Sweets', 'Creative cuisine', 'Dining bar', 'International cuisine', \n",
        "             'Izakaya', 'Japanese food', 'Karaoke/Party', 'Okonomiyaki/Monja/Teppanyaki', 'Other', \n",
        "             'Western food', 'Yakiniku/Korean food', 'Asian']\n",
        "\n",
        "fig, axes = plt.subplots(figsize=(25, 50), nrows=7, ncols=2)\n",
        "axs = axes.ravel()\n",
        "for i, ax in enumerate(axs):\n",
        "    sns.barplot(y=count_list[i].index, x=count_list[i].values, ax=ax)\n",
        "    ax.set_title(f\"{name_list[i]}\")\n",
        "    for p in ax.patches:\n",
        "        left, bottom, width, height = p.get_bbox().bounds\n",
        "        ax.annotate(int(width), (width, bottom+0.5), ha = 'center', color = 'k', style='italic')\n",
        "\n",
        "fig.tight_layout()"
      ],
      "execution_count": null,
      "outputs": []
    },
    {
      "cell_type": "markdown",
      "metadata": {
        "id": "9VtZV7iq-nNv"
      },
      "source": [
        "위와 같은 막대 그래프로 봤을 때, 특히나 카페, 다이닝 바, 이자카야 등은 여러 도시에 걸쳐 위치하고 있고 세계요리, 카라오케, 아시안의 경우 한 지역에만 위치하고 있음을 알 수 있습니다.\n",
        "\n",
        "계속 염두에 둬야 하는 것은 air 플랫폼에 등록된 매장에 한해서 모아진 정보이므로 전체적인 매장의 구성은 hpg와 함께 보는 것이 더 좋아보입니다.\n",
        "\n",
        "각 지역마다 어떤 종류의 음식점이 몇개씩 있는지에 대한 분포를 알아보기 위해 히트맵을 이용해보겠습니다."
      ]
    },
    {
      "cell_type": "code",
      "metadata": {
        "id": "165op4q5Ektd"
      },
      "source": [
        "area_genre = pd.pivot_table(air_store_info, index='air_area_name', columns='air_genre_name', aggfunc='size').fillna(0).astype(np.int8)"
      ],
      "execution_count": null,
      "outputs": []
    },
    {
      "cell_type": "code",
      "metadata": {
        "id": "B15DfXmgG3Ht"
      },
      "source": [
        "area_genre.head()"
      ],
      "execution_count": null,
      "outputs": []
    },
    {
      "cell_type": "code",
      "metadata": {
        "id": "RrQR5bDBIS9H"
      },
      "source": [
        "fig, ax = plt.subplots(figsize=(25, 25))\n",
        "sns.heatmap(area_genre, ax=ax, linewidths=2.5, annot=True, annot_kws={\"size\": 10, \"fontweight\": 'bold'}, cmap=\"Greens\", fmt=\"d\")"
      ],
      "execution_count": null,
      "outputs": []
    },
    {
      "cell_type": "markdown",
      "metadata": {
        "id": "oW34YiwgOee6"
      },
      "source": [
        "각 지역별로 어떤 종류의 음식을 파는 매장이 많이 놓여있는 지 볼 수 있습니다. 반대로 음식 종류의 지역적인 분포를 알고 싶다면 데이터프레임의 전치(transpose)를 이용하면 좀 더 쉽게 볼 수 있습니다."
      ]
    },
    {
      "cell_type": "markdown",
      "metadata": {
        "id": "HZ7dL1l8tDpn"
      },
      "source": [
        "### 2-4 Analysis of hpg_store_info"
      ]
    },
    {
      "cell_type": "code",
      "metadata": {
        "id": "Zy7C_2tStNLj"
      },
      "source": [
        "hpg_store_info.head()"
      ],
      "execution_count": null,
      "outputs": []
    },
    {
      "cell_type": "code",
      "metadata": {
        "id": "EYSNoC3utNLj"
      },
      "source": [
        "hpg_store_info.describe()"
      ],
      "execution_count": null,
      "outputs": []
    },
    {
      "cell_type": "code",
      "metadata": {
        "id": "vSvBibLItNLk"
      },
      "source": [
        "hpg_store_info.isnull().sum()"
      ],
      "execution_count": null,
      "outputs": []
    },
    {
      "cell_type": "markdown",
      "metadata": {
        "id": "ajSnDGjEtNLk"
      },
      "source": [
        "위와 같은 순서로 장르(음식 종류)이름부터 하나씩 살펴보겠습니다.\n",
        "\n",
        "#### 음식 종류(장르) 정보"
      ]
    },
    {
      "cell_type": "code",
      "metadata": {
        "id": "uLwIhhirtNLk"
      },
      "source": [
        "hpg_genre_count = hpg_store_info[\"hpg_genre_name\"].value_counts(ascending=True)"
      ],
      "execution_count": null,
      "outputs": []
    },
    {
      "cell_type": "code",
      "metadata": {
        "id": "pcDZOM92tqFo"
      },
      "source": [
        "hpg_genre_count.index.to_numpy()"
      ],
      "execution_count": null,
      "outputs": []
    },
    {
      "cell_type": "markdown",
      "metadata": {
        "id": "pFwNSCBltyqr"
      },
      "source": [
        "살펴보니 air의 경우보다 더 많은 종류의 음식이 담겨있습니다."
      ]
    },
    {
      "cell_type": "code",
      "metadata": {
        "id": "UYxeFlvrtNLk"
      },
      "source": [
        "colors = sns.color_palette(\"pastel\", len(air_genre_count))\n",
        "fig, ax = plt.subplots(figsize=(10, 6))\n",
        "sns.barplot(x=hpg_genre_count.values, y=hpg_genre_count.index, ax=ax, palette=colors)\n",
        "ax.set_title(\"Genre\")\n",
        "\n",
        "\n",
        "for p in ax.patches:\n",
        "    left, bottom, width, height = p.get_bbox().bounds\n",
        "    ax.annotate(int(width), (width+20, bottom+0.5), ha = 'center', color = 'k', style='italic')"
      ],
      "execution_count": null,
      "outputs": []
    },
    {
      "cell_type": "markdown",
      "metadata": {
        "id": "vlReODSntNLk"
      },
      "source": [
        "장르를 살펴보면 일본식이 가장 많고 그 뒤를 세계요리(international cuisine)이 creation(창작요리)가 위치해있습니다. 최하위에는 스페인/지중해 요리, 대만/홍콩 요리, 상하이 음식 순으로 놓여있습니다. \n",
        "\n",
        "살펴보면 우동/소바, 스시의 경우 등을 별도로 분류해 일식에 넣지 않았다는 점, air와 달리 cafe와 sweets가 빠져있다는 점 등을 주목해서 보면 좋을 것 같습니다.\n",
        "\n",
        "이 경우에도 hue 값으로 구분해서 사용하면 아주 요긴하게 사용할 수 있을 것 같습니다.\n",
        "\n",
        "#### 매장 위도, 경도 정보\n",
        "위도와 경도에 대한 분석을 해보겠습니다."
      ]
    },
    {
      "cell_type": "code",
      "metadata": {
        "id": "sr32fp1vtNLl"
      },
      "source": [
        "plt.figure(figsize=(12, 12))\n",
        "g = sns.jointplot(x=hpg_store_info.latitude.values, y=hpg_store_info.longitude.values, marker=\"+\",\n",
        "                  color='dodgerblue', marginal_kws=dict(color='skyblue'))\n",
        "plt.ylabel('Longitude', fontsize=12)\n",
        "plt.xlabel('Latitude', fontsize=12)\n",
        "plt.show()"
      ],
      "execution_count": null,
      "outputs": []
    },
    {
      "cell_type": "markdown",
      "metadata": {
        "id": "o3k7rQfitNLl"
      },
      "source": [
        "위와 비슷하게 장 많은 데이터가 경도 140, 위도 36 근방인 도쿄, 그리고 경도 135, 위도 35근방인 오사카에 많이 모여있는 것을 알 수 있습니다."
      ]
    },
    {
      "cell_type": "markdown",
      "metadata": {
        "id": "GH5VAM4MtNLl"
      },
      "source": [
        "위도 36근방, 경도 140근방의 주소의 첫 단어를 통해 어떤 도, 현에 있는 지 뽑아보니 대부분이 도쿄에 위치해있고 시즈오카현, 미야기현, 니이가타현에 조금씩 분포하고 있습니다. 다시 그림을 보면 대부분의 데이터가 아얘 위도 36, 경도 140에 위치하고 있는데 이는 실제 도쿄의 위도, 경도인 (35.652, 139.839)와 매우 비슷한 위치입니다.\n",
        "\n",
        "위도, 경도에 해당하는 위치에 산점도로 점을 찍고 어떤 종류의 음식을 파는 지 구분하기 위해 그려본 그림입니다."
      ]
    },
    {
      "cell_type": "code",
      "metadata": {
        "id": "nBPdiTmEtNLl"
      },
      "source": [
        "fig, ax = plt.subplots(figsize=(15, 15))\n",
        "sns.scatterplot(data=hpg_store_info, x='latitude', y='longitude', hue='hpg_genre_name', ax=ax)\n",
        "ax.legend(loc='lower right')"
      ],
      "execution_count": null,
      "outputs": []
    },
    {
      "cell_type": "markdown",
      "metadata": {
        "id": "DevRjSuztNLm"
      },
      "source": [
        "이 경우도 air의 경우와 비슷하게 음식점의 전반적인 분포, 음식점이 많이 몰린 곳에는 종류도 다양할 것으로 추측된다는 가정을 생각할 수 있습니다."
      ]
    },
    {
      "cell_type": "markdown",
      "metadata": {
        "id": "ZEMNG03UtNLm"
      },
      "source": [
        "#### 매장 위치 정보\n",
        "\n",
        "매장 위치 정보를 우선 음식 종류 정보와 연결시켜 분석해보겠습니다. 번거롭지만 매장에 해당하는 음식 종류수를 세어주기 위해 데이터프레임을 하나씩 만들었습니다."
      ]
    },
    {
      "cell_type": "code",
      "metadata": {
        "id": "pNzw6hyrtNLm"
      },
      "source": [
        "hpg_JS_store = hpg_store_info[hpg_store_info[\"hpg_genre_name\"] == \"Japanese style\"]\n",
        "hpg_IT_store = hpg_store_info[hpg_store_info[\"hpg_genre_name\"] == \"Italian\"]\n",
        "hpg_IC_store = hpg_store_info[hpg_store_info[\"hpg_genre_name\"] == \"International cuisine\"]\n",
        "hpg_GM_store = hpg_store_info[hpg_store_info[\"hpg_genre_name\"] == \"Grilled meat\"]\n",
        "hpg_CR_store = hpg_store_info[hpg_store_info[\"hpg_genre_name\"] == \"Creation\"]\n",
        "hpg_SH_store = hpg_store_info[hpg_store_info[\"hpg_genre_name\"] == \"Shabu-shabu/Sukiyaki\"]\n",
        "hpg_KC_store = hpg_store_info[hpg_store_info[\"hpg_genre_name\"] == \"Korean cuisine\"]\n",
        "hpg_CJ_store = hpg_store_info[hpg_store_info[\"hpg_genre_name\"] == \"Creative Japanese food\"]\n",
        "hpg_KA_store = hpg_store_info[hpg_store_info[\"hpg_genre_name\"] == \"Japanese cuisine/Kaiseki\"]\n",
        "hpg_SE_store = hpg_store_info[hpg_store_info[\"hpg_genre_name\"] == \"Seafood\"]\n",
        "hpg_JG_store = hpg_store_info[hpg_store_info[\"hpg_genre_name\"] == \"Japanese food in general\"]\n",
        "hpg_PA_store = hpg_store_info[hpg_store_info[\"hpg_genre_name\"] == \"Party\"]\n",
        "hpg_YA_store = hpg_store_info[hpg_store_info[\"hpg_genre_name\"] == \"Okonomiyaki/Monja/Teppanyaki\"]\n",
        "hpg_SU_store = hpg_store_info[hpg_store_info[\"hpg_genre_name\"] == \"Sushi\"]\n",
        "hpg_SI_store = hpg_store_info[hpg_store_info[\"hpg_genre_name\"] == \"Spain Bar/Italian Bar\"]\n",
        "hpg_CG_store = hpg_store_info[hpg_store_info[\"hpg_genre_name\"] == \"Chinese general\"]\n",
        "hpg_BI_store = hpg_store_info[hpg_store_info[\"hpg_genre_name\"] == \"Bistro\"]\n",
        "hpg_FR_store = hpg_store_info[hpg_store_info[\"hpg_genre_name\"] == \"French\"]\n",
        "hpg_KA_store = hpg_store_info[hpg_store_info[\"hpg_genre_name\"] == \"Karaoke\"]\n",
        "hpg_PP_store = hpg_store_info[hpg_store_info[\"hpg_genre_name\"] == \"Pasta/Pizza\"]\n",
        "hpg_AS_store = hpg_store_info[hpg_store_info[\"hpg_genre_name\"] == \"Cafe\"]\n",
        "hpg_CA_store = hpg_store_info[hpg_store_info[\"hpg_genre_name\"] == \"Sweets\"]\n",
        "hpg_SHG_store = hpg_store_info[hpg_store_info[\"hpg_genre_name\"] == \"Steak/Hamburger/Curry\"]\n",
        "hpg_TV_store = hpg_store_info[hpg_store_info[\"hpg_genre_name\"] == \"Thai/Vietnamese food\"]\n",
        "hpg_WE_store = hpg_store_info[hpg_store_info[\"hpg_genre_name\"] == \"Western food\"]\n",
        "hpg_TH_store = hpg_store_info[hpg_store_info[\"hpg_genre_name\"] == \"Taiwanese/Hong Kong cuisine\"]\n",
        "hpg_CF_store = hpg_store_info[hpg_store_info[\"hpg_genre_name\"] == \"Cantonese food\"]\n",
        "hpg_BC_store = hpg_store_info[hpg_store_info[\"hpg_genre_name\"] == \"Bar/Cocktail\"]\n",
        "hpg_DD_store = hpg_store_info[hpg_store_info[\"hpg_genre_name\"] == \"Dim Sum/Dumplings\"]\n",
        "hpg_AB_store = hpg_store_info[hpg_store_info[\"hpg_genre_name\"] == \"Amusement bar\"]\n",
        "hpg_SF_store = hpg_store_info[hpg_store_info[\"hpg_genre_name\"] == \"Sichuan food\"]\n",
        "hpg_SHF_store = hpg_store_info[hpg_store_info[\"hpg_genre_name\"] == \"Shanghai food\"]\n",
        "hpg_SM_store = hpg_store_info[hpg_store_info[\"hpg_genre_name\"] == \"Spain/Mediterranean cuisine\"]\n",
        "hpg_US_store = hpg_store_info[hpg_store_info[\"hpg_genre_name\"] == \"Udon/Soba\"]"
      ],
      "execution_count": null,
      "outputs": []
    },
    {
      "cell_type": "code",
      "metadata": {
        "id": "6UWHaQratNLm"
      },
      "source": [
        "hpg_JS_count = hpg_JS_store[\"hpg_area_name\"].value_counts()\n",
        "hpg_IT_count = hpg_IT_store[\"hpg_area_name\"].value_counts()\n",
        "hpg_IC_count = hpg_IC_store[\"hpg_area_name\"].value_counts()\n",
        "hpg_GM_count = hpg_GM_store[\"hpg_area_name\"].value_counts()\n",
        "hpg_CR_count = hpg_CR_store[\"hpg_area_name\"].value_counts()\n",
        "hpg_SH_count = hpg_SH_store[\"hpg_area_name\"].value_counts()\n",
        "hpg_KC_count = hpg_KC_store[\"hpg_area_name\"].value_counts()\n",
        "hpg_CJ_count = hpg_CJ_store[\"hpg_area_name\"].value_counts()\n",
        "hpg_KA_count = hpg_KA_store[\"hpg_area_name\"].value_counts()\n",
        "hpg_SE_count = hpg_SE_store[\"hpg_area_name\"].value_counts()\n",
        "hpg_JG_count = hpg_JG_store[\"hpg_area_name\"].value_counts()\n",
        "hpg_PA_count = hpg_PA_store[\"hpg_area_name\"].value_counts()\n",
        "hpg_YA_count = hpg_YA_store[\"hpg_area_name\"].value_counts()\n",
        "hpg_SU_count = hpg_SU_store[\"hpg_area_name\"].value_counts()\n",
        "hpg_SI_count = hpg_SI_store[\"hpg_area_name\"].value_counts()\n",
        "hpg_CG_count = hpg_CG_store[\"hpg_area_name\"].value_counts()\n",
        "hpg_BI_count = hpg_BI_store[\"hpg_area_name\"].value_counts()\n",
        "hpg_FR_count = hpg_FR_store[\"hpg_area_name\"].value_counts()\n",
        "hpg_KA_count = hpg_KA_store[\"hpg_area_name\"].value_counts()\n",
        "hpg_PP_count = hpg_PP_store[\"hpg_area_name\"].value_counts()\n",
        "hpg_AS_count = hpg_AS_store[\"hpg_area_name\"].value_counts()\n",
        "hpg_CA_count = hpg_CA_store[\"hpg_area_name\"].value_counts()\n",
        "hpg_SHG_count = hpg_SHG_store[\"hpg_area_name\"].value_counts()\n",
        "hpg_TV_count = hpg_TV_store[\"hpg_area_name\"].value_counts()\n",
        "hpg_WE_count = hpg_WE_store[\"hpg_area_name\"].value_counts()\n",
        "hpg_TH_count = hpg_TH_store[\"hpg_area_name\"].value_counts()\n",
        "hpg_CF_count = hpg_CF_store[\"hpg_area_name\"].value_counts()\n",
        "hpg_BC_count = hpg_BC_store[\"hpg_area_name\"].value_counts()\n",
        "hpg_DD_count = hpg_DD_store[\"hpg_area_name\"].value_counts()\n",
        "hpg_AB_count = hpg_AB_store[\"hpg_area_name\"].value_counts()\n",
        "hpg_SF_count = hpg_SF_store[\"hpg_area_name\"].value_counts()\n",
        "hpg_SHF_count = hpg_SHF_store[\"hpg_area_name\"].value_counts()\n",
        "hpg_SM_count = hpg_SM_store[\"hpg_area_name\"].value_counts()\n",
        "hpg_US_count = hpg_US_store[\"hpg_area_name\"].value_counts()"
      ],
      "execution_count": null,
      "outputs": []
    },
    {
      "cell_type": "code",
      "metadata": {
        "id": "Eyb9Y0Ys1rpD"
      },
      "source": [
        "hpg_JS_count.index"
      ],
      "execution_count": null,
      "outputs": []
    },
    {
      "cell_type": "code",
      "metadata": {
        "id": "3R-bVBNItNLm"
      },
      "source": [
        "count_list = [hpg_JS_count, hpg_IT_count, hpg_IC_count, hpg_GM_count, hpg_CR_count, hpg_SH_count, hpg_KC_count, \n",
        "              hpg_CJ_count, hpg_KA_count, hpg_SE_count, hpg_JG_count, hpg_PA_count, hpg_YA_count, hpg_SU_count,\n",
        "              hpg_SI_count, hpg_CG_count, hpg_BI_count, hpg_FR_count, hpg_KA_count, hpg_PP_count, hpg_AS_count,\n",
        "              hpg_CA_count, hpg_SHG_count, hpg_TV_count, hpg_WE_count, hpg_TH_count, hpg_CF_count, hpg_BC_count,\n",
        "              hpg_DD_count, hpg_AB_count, hpg_SF_count, hpg_SHF_count, hpg_SM_count, hpg_US_count]\n",
        "\n",
        "name_list = hpg_store_info[\"hpg_genre_name\"].unique()\n",
        "\n",
        "fig, axes = plt.subplots(figsize=(50, 40), nrows=6, ncols=6)\n",
        "axs = axes.ravel()\n",
        "for i, ax in enumerate(axs):\n",
        "    if i >= len(count_list): continue\n",
        "    sns.barplot(y=count_list[i].index, x=count_list[i].values, ax=ax)\n",
        "    ax.set_title(f\"{name_list[i]}\")\n",
        "    for p in ax.patches:\n",
        "        left, bottom, width, height = p.get_bbox().bounds\n",
        "        ax.annotate(int(width), (width, bottom+0.5), ha = 'center', color = 'k', style='italic')\n",
        "\n",
        "fig.tight_layout()"
      ],
      "execution_count": null,
      "outputs": []
    },
    {
      "cell_type": "markdown",
      "metadata": {
        "id": "rkBRsJsJtNLm"
      },
      "source": [
        "데이터도 많고 종류도 너무 많다보니 실제적으로 상당히 보기가 어렵습니다. 전체적인 갯수와 분포를 살펴보는 정도로 참고하는 게 좋을 것 같습니다. 몇개의 데이터는 한 매장만 있는 경우도 많으니 적당히 카테고리를 합쳐주는 방향도 생각해봐야 할 것 같습니다."
      ]
    },
    {
      "cell_type": "code",
      "metadata": {
        "id": "yls_mKPitNLn"
      },
      "source": [
        "hpg_genre = pd.pivot_table(hpg_store_info, index='hpg_area_name', columns='hpg_genre_name', aggfunc='size').fillna(0).astype(np.int8)"
      ],
      "execution_count": null,
      "outputs": []
    },
    {
      "cell_type": "code",
      "metadata": {
        "id": "yhQbQEwTtNLn"
      },
      "source": [
        "hpg_genre.head()"
      ],
      "execution_count": null,
      "outputs": []
    },
    {
      "cell_type": "code",
      "metadata": {
        "id": "bHQKcf-1tNLn"
      },
      "source": [
        "fig, ax = plt.subplots(figsize=(25, 25))\n",
        "sns.heatmap(hpg_genre, ax=ax, linewidths=2.5, annot=True, annot_kws={\"size\": 10, \"fontweight\": 'bold'}, cmap=\"Greens\", fmt=\"d\")"
      ],
      "execution_count": null,
      "outputs": []
    },
    {
      "cell_type": "markdown",
      "metadata": {
        "id": "y6TfCLxetNLo"
      },
      "source": [
        "hpg도 heatmap을 통해 각 지역별로 어떤 종류의 음식을 파는 매장이 많이 놓여있는 지 볼 수 있습니다. 반대로 음식 종류의 지역적인 분포를 알고 싶다면 데이터프레임의 전치(transpose)를 이용하면 좀 더 쉽게 볼 수 있습니다."
      ]
    },
    {
      "cell_type": "code",
      "metadata": {
        "id": "2fTzH8WA-yCz"
      },
      "source": [
        "len(sample_submission)"
      ],
      "execution_count": null,
      "outputs": []
    },
    {
      "cell_type": "markdown",
      "metadata": {
        "id": "FdmdV21ABfSZ"
      },
      "source": [
        "### 2-5 Analysis of `air_visit_data`\n",
        "\n",
        "air 플랫폼에 등록된 가게에 실제로 방문한 방문자수에 대해 EDA를 해보겠습니다."
      ]
    },
    {
      "cell_type": "code",
      "metadata": {
        "id": "6MO_GBBGBiYZ"
      },
      "source": [
        "air_visit_data.head()"
      ],
      "execution_count": null,
      "outputs": []
    },
    {
      "cell_type": "code",
      "metadata": {
        "id": "g-qHA2PgB8cm"
      },
      "source": [
        "air_visit_data.describe()"
      ],
      "execution_count": null,
      "outputs": []
    },
    {
      "cell_type": "code",
      "metadata": {
        "id": "FWRYDw9zB-TM"
      },
      "source": [
        "air_visit_data.isnull().sum()"
      ],
      "execution_count": null,
      "outputs": []
    },
    {
      "cell_type": "markdown",
      "metadata": {
        "id": "OX1iRoTvCJIV"
      },
      "source": [
        "우선 위에서 했던 것처럼 `visit_date`를 datetime 형식으로 바꿔주겠습니다."
      ]
    },
    {
      "cell_type": "code",
      "metadata": {
        "id": "q_AJRGyzCAXy"
      },
      "source": [
        "air_visit_data['visit_date'] = pd.to_datetime(air_visit_data['visit_date'])"
      ],
      "execution_count": null,
      "outputs": []
    },
    {
      "cell_type": "code",
      "metadata": {
        "id": "nlGc7FjkCguU"
      },
      "source": [
        "air_visit_data_day = air_visit_data['visit_date'].dt.day_name()\n",
        "air_visit_data_month = air_visit_data['visit_date'].dt.month_name()\n",
        "\n",
        "air_visit_data[\"visit_date_day\"] = air_visit_data_day\n",
        "air_visit_data[\"visit_date_month\"] = air_visit_data_month\n",
        "\n",
        "air_visit_data.head()"
      ],
      "execution_count": null,
      "outputs": []
    },
    {
      "cell_type": "code",
      "metadata": {
        "id": "DIt_zvp6K9mz"
      },
      "source": [
        "days = ['Monday', 'Tuesday', 'Wednesday', 'Thursday', 'Friday', 'Saturday', 'Sunday']\n",
        "months = ['January', 'February', 'March', 'April', 'May', 'June', 'July', 'August', 'September', 'October', 'November', 'December']\n",
        "\n",
        "day_visitor_count = pd.pivot_table(air_visit_data, index='visit_date_day', values='visitors', aggfunc='sum').reindex(days).reset_index()\n",
        "month_visitor_count = pd.pivot_table(air_visit_data, index='visit_date_month', values='visitors', aggfunc='sum').reindex(months).reset_index()"
      ],
      "execution_count": null,
      "outputs": []
    },
    {
      "cell_type": "code",
      "metadata": {
        "id": "8HTUMo5jKy46"
      },
      "source": [
        "display(day_visitor_count)\n",
        "display(month_visitor_count)"
      ],
      "execution_count": null,
      "outputs": []
    },
    {
      "cell_type": "code",
      "metadata": {
        "id": "JiBwvfzKKOQq"
      },
      "source": [
        "fig, axes = plt.subplots(nrows=2, ncols=1, figsize=(8, 15))\n",
        "axs = axes.ravel()\n",
        "sns.barplot(data=day_visitor_count, x=\"visit_date_day\", y=\"visitors\", ax=axs[0], zorder=2)\n",
        "sns.lineplot(data=day_visitor_count, x=\"visit_date_day\", y=\"visitors\", ax=axs[0], zorder=1, \n",
        "             linewidth=2, linestyle='--', color='lightcoral')\n",
        "axs[0].set_title(\"Day / Visitor\")\n",
        "axs[0].set_ylabel(\"Visitor\")\n",
        "axs[0].set_xlabel(\"Day\")\n",
        "for p in axs[0].patches:\n",
        "    left, bottom, width, height = p.get_bbox().bounds\n",
        "    axs[0].annotate(int(height), (left+width/2, height), ha = 'center', color = 'k', style='italic')\n",
        "\n",
        "axs[0].patches[4].set_linewidth('4')\n",
        "axs[0].patches[4].set_edgecolor('darkorange')\n",
        "axs[0].patches[5].set_linewidth('4')\n",
        "axs[0].patches[5].set_edgecolor('darkorange')\n",
        "\n",
        "sns.barplot(data=month_visitor_count, x=\"visit_date_month\", y=\"visitors\", ax=axs[1], zorder=2)\n",
        "sns.lineplot(data=month_visitor_count, x=\"visit_date_month\", y=\"visitors\", ax=axs[1], zorder=1,\n",
        "             linewidth=2, linestyle='--', color='lightcoral')\n",
        "axs[1].set_title(\"Month / Visitor\")\n",
        "axs[1].set_ylabel(\"Visitor\")\n",
        "axs[1].set_xlabel(\"Month\")\n",
        "x_tick_labels = [t.get_text() for t in axs[1].get_xticklabels()]\n",
        "axs[1].set_xticklabels(x_tick_labels, rotation=45)\n",
        "for p in axs[1].patches:\n",
        "    left, bottom, width, height = p.get_bbox().bounds\n",
        "    axs[1].annotate(int(height), (left+width/2, height), ha = 'center', color = 'k', style='italic')  \n",
        "\n",
        "axs[1].patches[4].set_linewidth('4')\n",
        "axs[1].patches[4].set_edgecolor('tomato')\n",
        "axs[1].patches[5].set_linewidth('4')\n",
        "axs[1].patches[5].set_edgecolor('tomato')  "
      ],
      "execution_count": null,
      "outputs": []
    },
    {
      "cell_type": "markdown",
      "metadata": {
        "id": "0rrsNO1AR_-T"
      },
      "source": [
        "위에서 살펴본 것과 비슷하게 실제 방문자 또한 금요일, 토요일에 많이 있음을 알 수 있습니다. 또한 데이터 구성에 있어서 2017년 4월을 기준으로 나뉘기 때문에 5, 6월에 해당하는 데이터가 적은 것으로 생각이 듭니다. (추가 파악 필요)"
      ]
    },
    {
      "cell_type": "markdown",
      "metadata": {
        "id": "dYo-mlLOSWWl"
      },
      "source": [
        "### 2-6 Analysis of the rest\n",
        "`store_id_relation`, `date_info`, `sample_submission` 에 대한 간단한 분석을 해보겠습니다. `store_id_relation`, `date_info` 데이터는 실제 아주 중요한 특성값을 보유하기 보다는 데이터 분석에 도움이 되는 정보들을 담고 있습니다. 따라서 어떤 모습을 보이고 있는지 어떻게 활용할 수 있는지에 초점을 두고 살펴보겠습니다.\n",
        "\n",
        "`sample_submission`을 통해서는 개략적인 제출해야 되는 형식을 보면서 어떤식으로 데이터를 구성해야하는지 알아보겠습니다."
      ]
    },
    {
      "cell_type": "code",
      "metadata": {
        "id": "UsnsMQLZKnrK"
      },
      "source": [
        "store_id_relation.head()"
      ],
      "execution_count": null,
      "outputs": []
    },
    {
      "cell_type": "markdown",
      "metadata": {
        "id": "nJlfpRCp7XQ8"
      },
      "source": [
        "store_id_relation은 air와 hpg 둘다 사용하는 매장에 한해서 어떤 id를 각각 가지는 지 보여주고 있습니다. 테스트 셋에서는 air에 대한 데이터만 가지고 있으므로 이에 맞게 둘다 포함되는 hpg만 air_id로 바꿔 데이터 셋을 구성하는 방향으로 생각하면 될 것 같습니다."
      ]
    },
    {
      "cell_type": "code",
      "metadata": {
        "id": "3d44odA7VR8h"
      },
      "source": [
        "date_info.head()"
      ],
      "execution_count": null,
      "outputs": []
    },
    {
      "cell_type": "markdown",
      "metadata": {
        "id": "fiCDmR0y7zC6"
      },
      "source": [
        "date_info는 해당하는 날짜가 무슨 요일이고 공휴일인지 표기를 해주고 있습니다. 요일에 관해서는 pandas의 메소드로 처리를 했으므로 공휴일 유무를 데이터에 추가하는 방향으로 활용할 수 있을 것 같습니다."
      ]
    },
    {
      "cell_type": "code",
      "metadata": {
        "id": "Ox2EHywNVS5Y"
      },
      "source": [
        "sample_submission.head()"
      ],
      "execution_count": null,
      "outputs": []
    },
    {
      "cell_type": "markdown",
      "metadata": {
        "id": "jK5_tkA68AJb"
      },
      "source": [
        "캐글 대회에 파일을 제출할 때 어떤식으로 구성되어야 하는지에 대해 보여주고 있습니다."
      ]
    },
    {
      "cell_type": "code",
      "metadata": {
        "id": "JHZGRBSS7V4B"
      },
      "source": [
        "test = sample_submission.copy()\n",
        "test.head()"
      ],
      "execution_count": null,
      "outputs": []
    },
    {
      "cell_type": "markdown",
      "metadata": {
        "id": "TsLheOCaLN_l"
      },
      "source": [
        "[Reference](https://github.com/junaidnasirkhan/Restaurant-Visitor-Forecasting)\n",
        "\n",
        "데이터를 준비하는 과정에서 merge의 on등을 이용해 겹치는 부분에 한해 쉽게 붙일 수 있는 점이 인상적이여서 많은 참고를 하게 되었습니다.\n",
        "\n",
        "테스트 셋이 air로만 이루어져있기 때문에, air에 관한 정보를 찾아서 빼내주어야 한다는 인사이트를 늦게 얻어 많이 헤맸습니다. 그 과정에서 많은 도움이 됐습니다. \n",
        "\n",
        "가장 많이 참고한 부분은 데이터를 준비하는 과정에서 air_data를 만드는 부분이였으며 기타 total_reserve_data 또는 이를 이용해 다양한 피쳐를 추가해주는 부분은 최대한 해커톤 조 내에서 하려고 노력했습니다.\n"
      ]
    },
    {
      "cell_type": "markdown",
      "metadata": {
        "id": "TGDJaJZJ4Pbu"
      },
      "source": [
        "## 학습용 데이터 준비"
      ]
    },
    {
      "cell_type": "markdown",
      "metadata": {
        "id": "qaY8n4-XMFOF"
      },
      "source": [
        "*(별도의 노트북에서 진행해 아래에 모듈 및 데이터를 다운로드 받는 부분이 다시 구현되있습니다.)*"
      ]
    },
    {
      "cell_type": "markdown",
      "metadata": {
        "id": "lEKDFpJlMNZ9"
      },
      "source": [
        "### Kaggle에서 데이터 다운로드 받기"
      ]
    },
    {
      "cell_type": "code",
      "metadata": {
        "id": "2iOYF6dAx9gl"
      },
      "source": [
        "!pip install kaggle\n",
        "from google.colab import files\n",
        "files.upload()"
      ],
      "execution_count": null,
      "outputs": []
    },
    {
      "cell_type": "code",
      "metadata": {
        "id": "FD7lf8prynxf"
      },
      "source": [
        "ls -1ha kaggle.json"
      ],
      "execution_count": null,
      "outputs": []
    },
    {
      "cell_type": "code",
      "metadata": {
        "id": "MOJoiMEAytuO"
      },
      "source": [
        "!mkdir -p ~/.kaggle\n",
        "!cp kaggle.json ~/.kaggle/\n",
        "# Permission Warning 이 일어나지 않도록 \n",
        "!chmod 600 ~/.kaggle/kaggle.json\n",
        "# 본인이 참가한 모든 대회 보기 \n",
        "!kaggle competitions list"
      ],
      "execution_count": null,
      "outputs": []
    },
    {
      "cell_type": "code",
      "metadata": {
        "id": "RzA-ApeBywfc"
      },
      "source": [
        "!kaggle competitions download -c recruit-restaurant-visitor-forecasting"
      ],
      "execution_count": null,
      "outputs": []
    },
    {
      "cell_type": "code",
      "metadata": {
        "id": "XnvY_0Mbjdhb"
      },
      "source": [
        "air_reserve = pd.read_csv(\"air_reserve.csv.zip\")\n",
        "hpg_reserve = pd.read_csv(\"hpg_reserve.csv.zip\")\n",
        "air_store_info = pd.read_csv(\"air_store_info.csv.zip\")\n",
        "hpg_store_info = pd.read_csv(\"hpg_store_info.csv.zip\")\n",
        "air_visit_data = pd.read_csv(\"air_visit_data.csv.zip\")  \n",
        "store_id_relation = pd.read_csv(\"store_id_relation.csv.zip\")\n",
        "date_info = pd.read_csv(\"date_info.csv.zip\")\n",
        "sample_submission = pd.read_csv(\"sample_submission.csv.zip\")"
      ],
      "execution_count": null,
      "outputs": []
    },
    {
      "cell_type": "markdown",
      "metadata": {
        "id": "5dQlKydkICN-"
      },
      "source": [
        "### air_data"
      ]
    },
    {
      "cell_type": "markdown",
      "metadata": {
        "id": "yJRRLP9O5xBT"
      },
      "source": [
        "`air_data`를 만드는 과정입니다.\n",
        "1. `air_visit_data`에 `air_store_info`를 합칩니다. 이 때 `air_store_id`를 기준으로 하며, `air_visit_data`에 있는 고유값들을 기준으로 합쳐줍니다.\n",
        "2. `date_info`에 해당하는 값을 합쳐줍니다.\n",
        "3. `visit_date` 기준으로 정렬을 하고, date에서 뽑아낼 수 있는 날짜에 대한 정보를 활용해 `air_data`를 가공해줍니다."
      ]
    },
    {
      "cell_type": "code",
      "metadata": {
        "id": "FhssGLEejfdm"
      },
      "source": [
        "air_data = pd.merge(air_visit_data, air_store_info, how='left', on=['air_store_id']) # merging dataframes\n",
        "date_info.rename(columns={'calendar_date':'visit_date'},inplace=True)  # renaming columns\n",
        "air_data = pd.merge(air_data,date_info,how='left', on=['visit_date'])\n",
        "air_data.sort_values(by='visit_date',ignore_index=True,inplace=True)\n",
        "air_data['visit_date'] = pd.to_datetime(air_data['visit_date'])\n",
        "air_data['day'] = air_data['visit_date'].dt.day\n",
        "air_data['dow'] = air_data['visit_date'].dt.isocalendar().week ## weekday -> weekofyear\n",
        "air_data['year'] = air_data['visit_date'].dt.year\n",
        "air_data['month'] = air_data['visit_date'].dt.month\n",
        "air_data['week'] = air_data['visit_date'].dt.isocalendar().week\n",
        "air_data['quarter'] = air_data['visit_date'].dt.quarter\n",
        "air_data['visit_date'] = air_data['visit_date'].dt.date\n",
        "air_data.to_csv('air_data.csv',index=False)"
      ],
      "execution_count": null,
      "outputs": []
    },
    {
      "cell_type": "markdown",
      "metadata": {
        "id": "xoHstEMC66pt"
      },
      "source": [
        "`air_reserve_data`를 만드는 과정입니다.\n",
        "1. `air_reserve`에 `air_store_info`를 합칩니다. 이 때 `air_store_id`를 기준으로 하며, `air_visit_data`에 있는 고유값들을 기준으로 합쳐줍니다.\n",
        "\n",
        "2. date에서 뽑아낼 수 있는 날짜에 대한 정보를 활용해 `air_data`를 가공해줍니다.\n",
        "3. 추가적으로 방문예정시각과 예약시각의 차이를 `res_vis_diff` 라는 컬럼에 입력해줍니다."
      ]
    },
    {
      "cell_type": "code",
      "metadata": {
        "id": "D8xMZuEkjxuy"
      },
      "source": [
        "# preprocessing AIR reservation data\n",
        "air_reserve_data = pd.merge(air_reserve, air_store_info, how='left', on=['air_store_id'])\n",
        "air_reserve_data.head()\n",
        "air_reserve_data['visit_datetime'] = pd.to_datetime(air_reserve_data['visit_datetime'])\n",
        "air_reserve_data['visit_hour'] = air_reserve_data['visit_datetime'].dt.hour\n",
        "air_reserve_data['visit_date'] = air_reserve_data['visit_datetime'].dt.date\n",
        "air_reserve_data['reserve_datetime'] = pd.to_datetime(air_reserve_data['reserve_datetime'])\n",
        "air_reserve_data['reserve_hour'] = air_reserve_data['reserve_datetime'].dt.hour\n",
        "air_reserve_data['reserve_date'] = air_reserve_data['reserve_datetime'].dt.date\n",
        "#calculate reservation time difference \n",
        "air_reserve_data['res_vis_diff'] = air_reserve_data.apply(\n",
        "        lambda d: (d['visit_date'] - d['reserve_date']).days, axis=1)\n",
        "air_reserve_data.rename(columns={'reserve_visitors':'air_reserve_visitors'},inplace=True)\n",
        "air_reserve_data.to_csv('air_reserve_data.csv',index=False)"
      ],
      "execution_count": null,
      "outputs": []
    },
    {
      "cell_type": "markdown",
      "metadata": {
        "id": "QZaOL8HbIFxX"
      },
      "source": [
        "### hpg_reserve_data"
      ]
    },
    {
      "cell_type": "markdown",
      "metadata": {
        "id": "3L00UPru7lV_"
      },
      "source": [
        "`hpg_reserve_data`를 만드는 과정입니다.\n",
        "1. `hpg_reserve`에 `store_id_relation`를 합칩니다. 이 때 `hpg_store_id`를 기준으로 합쳐줍니다. 이런 방식을 통해 `store_id_relation`과 동시에 `hpg_reserve`에 존재하는 식당을 대상으로 merge를 하게 됩니다. _(`how=inner` 를 사용)_\n",
        "\n",
        "`air_data`와 비슷한 과정을 반복합니다."
      ]
    },
    {
      "cell_type": "code",
      "metadata": {
        "id": "Ah1xPLA8jzxp"
      },
      "source": [
        "hpg_reserve_data = pd.merge(hpg_reserve,store_id_relation,on=['hpg_store_id'],how='inner')\n",
        "hpg_reserve_data = pd.merge(hpg_reserve_data,hpg_store_info,on=['hpg_store_id'],how='left')\n",
        "hpg_reserve_data['visit_datetime'] = pd.to_datetime(hpg_reserve_data['visit_datetime'])\n",
        "hpg_reserve_data['visit_hour'] = hpg_reserve_data['visit_datetime'].dt.hour\n",
        "hpg_reserve_data['visit_date'] = hpg_reserve_data['visit_datetime'].dt.date\n",
        "hpg_reserve_data['reserve_datetime'] = pd.to_datetime(hpg_reserve_data['reserve_datetime'])\n",
        "hpg_reserve_data['reserve_hour'] = hpg_reserve_data['reserve_datetime'].dt.hour\n",
        "hpg_reserve_data['reserve_date'] = hpg_reserve_data['reserve_datetime'].dt.date\n",
        "#calculate reserve time difference \n",
        "hpg_reserve_data['res_vis_diff'] = hpg_reserve_data.apply(\n",
        "        lambda r: (r['visit_date'] - r['reserve_date']).days, axis=1)\n",
        "hpg_reserve_data.rename(columns={'reserve_visitors':'hpg_reserve_visitors'},inplace=True)\n",
        "\n",
        "hpg_reserve_data.to_csv('hpg_reserve_data.csv',index=False)\n"
      ],
      "execution_count": null,
      "outputs": []
    },
    {
      "cell_type": "code",
      "metadata": {
        "id": "0jDF9tqrkAUU"
      },
      "source": [
        "hpg_reserve_data.head()"
      ],
      "execution_count": null,
      "outputs": []
    },
    {
      "cell_type": "code",
      "metadata": {
        "id": "0U650bcoR87p"
      },
      "source": [
        "hpg_reserve_data = hpg_reserve_data.drop(columns='hpg_store_id', axis=1)\n",
        "hpg_reserve_data = pd.merge(hpg_reserve_data, air_store_info, on='air_store_id', how='left')\n",
        "hpg_reserve_data['air_store_id'].replace('(.*)air_(.*)', r'\\1both_\\2', regex=True, inplace=True) ## 둘다 포함됐음을 명시\n",
        "\n",
        "hpg_reserve_data.head()"
      ],
      "execution_count": null,
      "outputs": []
    },
    {
      "cell_type": "markdown",
      "metadata": {
        "id": "qmzPm-8LIJ39"
      },
      "source": [
        "### total_reserve_data\n",
        "\n",
        "전체 예약정보를 볼 수 있는 total_reserve_data 를 만드는 과정입니다. concat을 통해 합치면서 발생하는 NaN값들은 모두 수치형데이터 또는 범주형 데이터이므로 0으로 처리를 해줬습니다.\n",
        "\n",
        "또한 위도, 경도 정보가 들어오면서 각각 다른 열로 분류되며 일부가 결측치로 나오는 경우가 있어서 해당하는 값으로 채워줬습니다.\n",
        "\n",
        "장르네임 같은 경우, hpg에서 결측인 부분이 있어 해당 부분은 air의 장르로 채워줬습니다. 이후 필요없는 열을 버리면서 데이터프레임을 완성합니다."
      ]
    },
    {
      "cell_type": "code",
      "metadata": {
        "id": "WSnMI3pIbmzt"
      },
      "source": [
        "total_reserve_data = pd.concat([air_reserve_data, hpg_reserve_data])\n",
        "\n",
        "total_reserve_data['air_reserve_visitors'].fillna(0, inplace=True)\n",
        "\n",
        "total_reserve_data['latitude'].fillna(total_reserve_data['latitude_x'], inplace=True)\n",
        "total_reserve_data['latitude'].fillna(total_reserve_data['latitude_y'], inplace=True)\n",
        "total_reserve_data['longitude'].fillna(total_reserve_data['longitude_x'], inplace=True)\n",
        "total_reserve_data['longitude'].fillna(total_reserve_data['longitude_y'], inplace=True)\n",
        "\n",
        "total_reserve_data['hpg_reserve_visitors'].fillna(0, inplace=True)\n",
        "\n",
        "total_reserve_data['hpg_genre_name'].fillna(total_reserve_data[\"air_genre_name\"], inplace=True)\n",
        "total_reserve_data.drop(columns=['hpg_area_name', \"latitude_x\", \"longitude_x\", \"latitude_y\", \"longitude_y\"], axis=1, inplace=True)\n",
        "\n",
        "total_reserve_data['both-contained'] = np.where(total_reserve_data['air_store_id'].str.contains('both'), 1, 0) ## 이름을 바꿔주면서 Flag로 사용.\n",
        "total_reserve_data['air_store_id'].replace('(.*)both_(.*)', r'\\1air_\\2', regex=True, inplace=True)\n",
        "\n",
        "total_reserve_data.drop(columns='air_genre_name', axis=1, inplace=True) ## hpg_genre_name에 포함되어있다.\n",
        "total_reserve_data.drop(columns=['visit_datetime', 'reserve_datetime'], axis=1, inplace=True)"
      ],
      "execution_count": null,
      "outputs": []
    },
    {
      "cell_type": "code",
      "metadata": {
        "id": "yr2vuTdR4_Dr"
      },
      "source": [
        "print('HEAD')\n",
        "display(total_reserve_data.head())\n",
        "print('TAIL')\n",
        "display(total_reserve_data.tail())"
      ],
      "execution_count": null,
      "outputs": []
    },
    {
      "cell_type": "markdown",
      "metadata": {
        "id": "z1rAPijaIuCb"
      },
      "source": [
        "air_data에 넣어줄 각 플랫폼 별 전체 예약수를 넣어주고 있습니다."
      ]
    },
    {
      "cell_type": "code",
      "metadata": {
        "id": "zGpcY1vqDOQl"
      },
      "source": [
        "total_air_reserve = total_reserve_data.groupby(['air_store_id','visit_date'],as_index=False)['air_reserve_visitors'].sum()\n",
        "total_hpg_reserve =  total_reserve_data.groupby(['air_store_id','visit_date'],as_index=False)['hpg_reserve_visitors'].sum()"
      ],
      "execution_count": null,
      "outputs": []
    },
    {
      "cell_type": "code",
      "metadata": {
        "id": "PD-6R13wCDds"
      },
      "source": [
        "air_data = pd.merge(air_data,total_air_reserve,on=['air_store_id','visit_date'],how='left')\n",
        "air_data = pd.merge(air_data,total_hpg_reserve,on=['air_store_id','visit_date'],how='left')\n",
        "\n",
        "air_data.shape"
      ],
      "execution_count": null,
      "outputs": []
    },
    {
      "cell_type": "code",
      "metadata": {
        "id": "rP6UeHrCUK2J"
      },
      "source": [
        "air_data.fillna(0, inplace=True)"
      ],
      "execution_count": null,
      "outputs": []
    },
    {
      "cell_type": "code",
      "metadata": {
        "id": "HPnixGBAR1Ua"
      },
      "source": [
        "air_data.head()"
      ],
      "execution_count": null,
      "outputs": []
    },
    {
      "cell_type": "code",
      "metadata": {
        "id": "7IVtS8xePEM2"
      },
      "source": [
        "air_data.to_csv('air_data.csv', index=False)"
      ],
      "execution_count": null,
      "outputs": []
    },
    {
      "cell_type": "code",
      "metadata": {
        "id": "nHv3qYa_PcAY"
      },
      "source": [
        "from google.colab import files\n",
        "files.download(\"air_data.csv\")"
      ],
      "execution_count": null,
      "outputs": []
    },
    {
      "cell_type": "markdown",
      "metadata": {
        "id": "W-z2oNF3Niyb"
      },
      "source": [
        "#### EDA of air_data\n",
        "\n",
        "air_data에 대한 분석을 간단하게 진행해보겠습니다."
      ]
    },
    {
      "cell_type": "code",
      "metadata": {
        "id": "aqY1NJrON3ed"
      },
      "source": [
        "air_data.head()"
      ],
      "execution_count": null,
      "outputs": []
    },
    {
      "cell_type": "code",
      "metadata": {
        "id": "Z5K0bNB9OCyU"
      },
      "source": [
        "genre_visitors = pd.pivot_table(air_data, index='air_genre_name', values='visitors', aggfunc='sum').reset_index()\n",
        "days = ['Monday', 'Tuesday', 'Wednesday', 'Thursday', 'Friday', 'Saturday', 'Sunday']\n",
        "day_visitors = pd.pivot_table(air_data, index='day_of_week', values='visitors', aggfunc='sum').reindex(days).reset_index()"
      ],
      "execution_count": null,
      "outputs": []
    },
    {
      "cell_type": "code",
      "metadata": {
        "id": "KGPBtawtQpJo"
      },
      "source": [
        "day_visitors"
      ],
      "execution_count": null,
      "outputs": []
    },
    {
      "cell_type": "code",
      "metadata": {
        "id": "kpS4Y39FOTkA"
      },
      "source": [
        "colors = sns.color_palette(\"pastel\", 7)\n",
        "\n",
        "fig, axes = plt.subplots(nrows=2, ncols=1, figsize=(10, 15))\n",
        "axs = axes.ravel()\n",
        "sns.barplot(data=genre_visitors, x=\"air_genre_name\", y=\"visitors\", ax=axs[0], palette=colors)\n",
        "\n",
        "axs[0].set_ylabel(\"Visitors\", fontsize=12, fontweight='light')\n",
        "axs[0].set_xlabel(\"Genre\", fontsize=12, fontweight='light')\n",
        "\n",
        "axs[0].set_title(\"Genre / Visitors\", fontweight='bold')\n",
        "for p in axs[0].patches:\n",
        "    left, bottom, width, height = p.get_bbox().bounds\n",
        "    axs[0].annotate(int(height), (left+width/2, height+1000), ha = 'center', color = 'k', style='italic')\n",
        "\n",
        "x_tick_labels = [t.get_text() for t in axs[0].get_xticklabels()]\n",
        "axs[0].set_xticklabels(x_tick_labels, rotation=90)\n",
        "\n",
        "axs[0].patches[7].set_linewidth('2')\n",
        "axs[0].patches[7].set_edgecolor('darkorange')\n",
        "\n",
        "axs[0].patches[2].set_linewidth('2')\n",
        "axs[0].patches[2].set_edgecolor('darkorange')\n",
        "\n",
        "\n",
        "\n",
        "axs[0].spines['top'].set_visible(False)\n",
        "axs[0].spines['right'].set_visible(False)\n",
        "\n",
        "sns.barplot(data=day_visitors, x=\"day_of_week\", y=\"visitors\", ax=axs[1], palette=colors)\n",
        "\n",
        "axs[1].set_ylabel(\"Visitors\", fontsize=12, fontweight='light')\n",
        "axs[1].set_xlabel(\"Day of Week\", fontsize=12, fontweight='light')\n",
        "\n",
        "axs[1].set_title(\"Day of week / Visitors\", fontweight='bold')\n",
        "for p in axs[1].patches:\n",
        "    left, bottom, width, height = p.get_bbox().bounds\n",
        "    axs[1].annotate(int(height), (left+width/2, height+1000), ha = 'center', color = 'k', style='italic')\n",
        "\n",
        "axs[1].patches[4].set_linewidth('2')\n",
        "axs[1].patches[4].set_edgecolor('darkorange')\n",
        "axs[1].patches[5].set_linewidth('2')\n",
        "axs[1].patches[5].set_edgecolor('darkorange')\n",
        "\n",
        "axs[1].spines['top'].set_visible(False)\n",
        "axs[1].spines['right'].set_visible(False)\n",
        "\n",
        "fig.tight_layout()"
      ],
      "execution_count": null,
      "outputs": []
    },
    {
      "cell_type": "markdown",
      "metadata": {
        "id": "j8OIYYFNQIDo"
      },
      "source": [
        "요일은 예약과 비슷하게 금, 토요일에 가장 방문객이 많습니다. 예약이 많은 만큼 방문객도 많다고 생각할 수 있을 것 같습니다. 음식 종류의 경우 이자카야가 가장 많고 그 뒤로는 카페가 있습니다."
      ]
    },
    {
      "cell_type": "markdown",
      "metadata": {
        "id": "HHWminkGUuWr"
      },
      "source": [
        "### Training set\n",
        "위에서 만든 air_data를 train_set으로 사용할 수 있습니다. 따라서 복사를 해주고 필요에 따라 컬럼을 없애서 중복되는 feature가 없게 분류해주고 있습니다.\n",
        "\n",
        "또한 각 feature별 특성에 따라 범주형 데이터가 되야하는 경우, 라벨링을 하는 전처리를 진행하겠습니다."
      ]
    },
    {
      "cell_type": "code",
      "metadata": {
        "id": "lTCyZ6_mUwih"
      },
      "source": [
        "train_set = air_data.copy()"
      ],
      "execution_count": null,
      "outputs": []
    },
    {
      "cell_type": "code",
      "metadata": {
        "id": "b0ZWwPBjU0yC"
      },
      "source": [
        "train_set.head()"
      ],
      "execution_count": null,
      "outputs": []
    },
    {
      "cell_type": "code",
      "metadata": {
        "id": "EZ2-tB2OQvMm"
      },
      "source": [
        "print(\"Training data duration:{} to {}\".format(train_set.visit_date.min(), train_set.visit_date.max()))"
      ],
      "execution_count": null,
      "outputs": []
    },
    {
      "cell_type": "code",
      "metadata": {
        "id": "Yw8ymcksVT83"
      },
      "source": [
        "train_set.drop(columns=[\"visit_date\"], axis=1, inplace=True) ## 이미 정보가 저장되어 있으므로"
      ],
      "execution_count": null,
      "outputs": []
    },
    {
      "cell_type": "code",
      "metadata": {
        "id": "E_bHj8_h-mxo"
      },
      "source": [
        "## 범주형 데이터가 되야하는 부분 ##\n",
        "train_set['air_store_id'] = train_set['air_store_id'].astype('category').cat.codes ## 이거 주의\n",
        "train_set['day_of_week'] = train_set['day_of_week'].astype('category').cat.codes\n",
        "train_set['air_genre_name'] = train_set['air_genre_name'].astype('category').cat.codes\n",
        "train_set['air_area_name'] = train_set['air_area_name'].astype('category').cat.codes\n",
        "train_set['day_of_week'] = train_set['day_of_week'].astype('category').cat.codes\n",
        "train_set['year'] = train_set['year'].astype('category').cat.codes\n",
        "train_set['month'] = train_set['month'].astype('category').cat.codes\n",
        "train_set['week'] = train_set['week'].astype('category').cat.codes\n",
        "train_set['quarter'] = train_set['quarter'].astype('category').cat.codes"
      ],
      "execution_count": null,
      "outputs": []
    },
    {
      "cell_type": "code",
      "metadata": {
        "id": "ca8n5mZ5W1tc"
      },
      "source": [
        "train_set.head()"
      ],
      "execution_count": null,
      "outputs": []
    },
    {
      "cell_type": "code",
      "metadata": {
        "id": "Ryqyfu-bY4Gv"
      },
      "source": [
        "train_set.shape"
      ],
      "execution_count": null,
      "outputs": []
    },
    {
      "cell_type": "markdown",
      "metadata": {
        "id": "wXg017Du9Eq3"
      },
      "source": [
        "### Submission"
      ]
    },
    {
      "cell_type": "markdown",
      "metadata": {
        "id": "nEavTQci9GIm"
      },
      "source": [
        "`sample_submission` 데이터는 추후에 test_data로 활용할 예정입니다. 따라서 테스트 셋으로 사용 될 것을 염두에 두고 미리 전처리를 해주겠습니다. 기본적으로는 위의 과정을 다시 한번 반복해서 적용시켜 주고 있습니다."
      ]
    },
    {
      "cell_type": "code",
      "metadata": {
        "id": "m-q_sXksXB6c"
      },
      "source": [
        "sample_submission = pd.read_csv(\"sample_submission.csv.zip\")"
      ],
      "execution_count": null,
      "outputs": []
    },
    {
      "cell_type": "code",
      "metadata": {
        "id": "20vVXJmbj37t"
      },
      "source": [
        "sample_submission['air_store_id'] = sample_submission['id'].map(lambda x: '_'.join(x.split('_')[:2]))\n",
        "sample_submission['visit_date'] = sample_submission['id'].map(lambda x: str(x).split('_')[2])\n",
        "\n",
        "sample_submission = pd.merge(sample_submission, date_info, how='left', on=['visit_date'])\n",
        "\n",
        "sample_submission['visit_date'] = pd.to_datetime(sample_submission['visit_date'])\n",
        "sample_submission['day'] = sample_submission['visit_date'].dt.day\n",
        "sample_submission['dow'] = sample_submission['visit_date'].dt.weekday\n",
        "sample_submission['dow_name'] = sample_submission['visit_date'].dt.day_name()\n",
        "sample_submission['year'] = sample_submission['visit_date'].dt.year\n",
        "sample_submission['month'] = sample_submission['visit_date'].dt.month\n",
        "sample_submission['week'] = sample_submission['visit_date'].dt.isocalendar().week\n",
        "sample_submission['quarter'] = sample_submission['visit_date'].dt.quarter\n",
        "sample_submission['visit_date'] = sample_submission['visit_date'].dt.date\n",
        "\n",
        "sample_submission.to_csv('sample_submission.csv',index=False)\n",
        "\n",
        "sample_submission.shape"
      ],
      "execution_count": null,
      "outputs": []
    },
    {
      "cell_type": "code",
      "metadata": {
        "id": "qA90VrxWXG0q"
      },
      "source": [
        "sample_submission.drop(columns='id', axis=1, inplace=True)"
      ],
      "execution_count": null,
      "outputs": []
    },
    {
      "cell_type": "code",
      "metadata": {
        "id": "3krD6aY48FQ-"
      },
      "source": [
        "sample_submission.head()"
      ],
      "execution_count": null,
      "outputs": []
    },
    {
      "cell_type": "code",
      "metadata": {
        "id": "y-4569JFY9ts"
      },
      "source": [
        "sample_submission = pd.merge(sample_submission, air_store_info, how='left', on=['air_store_id'])\n",
        "sample_submission = pd.merge(sample_submission,total_air_reserve,on=['air_store_id','visit_date'],how='left')\n",
        "sample_submission = pd.merge(sample_submission,total_hpg_reserve,on=['air_store_id','visit_date'],how='left')"
      ],
      "execution_count": null,
      "outputs": []
    },
    {
      "cell_type": "code",
      "metadata": {
        "id": "Uzl_3Q6GYteJ"
      },
      "source": [
        "sample_submission.fillna(0, inplace=True)\n",
        "sample_submission.head()"
      ],
      "execution_count": null,
      "outputs": []
    },
    {
      "cell_type": "code",
      "metadata": {
        "id": "ExTET62tZIOu"
      },
      "source": [
        "sample_submission.drop(columns=['visit_date', 'dow_name'], axis=1, inplace=True)"
      ],
      "execution_count": null,
      "outputs": []
    },
    {
      "cell_type": "code",
      "metadata": {
        "id": "MI3e7B-bZWZF"
      },
      "source": [
        "print(train_set.shape[1] == sample_submission.shape[1])"
      ],
      "execution_count": null,
      "outputs": []
    },
    {
      "cell_type": "markdown",
      "metadata": {
        "id": "6dprrim0Zq-g"
      },
      "source": [
        "### Test set"
      ]
    },
    {
      "cell_type": "code",
      "metadata": {
        "id": "C-_6N5_VZl6p"
      },
      "source": [
        "test_set = sample_submission.copy()"
      ],
      "execution_count": null,
      "outputs": []
    },
    {
      "cell_type": "code",
      "metadata": {
        "id": "y3zHzLtDZ5x3"
      },
      "source": [
        "test_set.drop(columns='visitors', axis=1, inplace=True)"
      ],
      "execution_count": null,
      "outputs": []
    },
    {
      "cell_type": "code",
      "metadata": {
        "id": "vWKD1OtnaA9G"
      },
      "source": [
        "print(train_set.shape) ## visitors를 가지고 있으므로 1개 더 많다.\n",
        "print(test_set.shape)"
      ],
      "execution_count": null,
      "outputs": []
    },
    {
      "cell_type": "code",
      "metadata": {
        "id": "ZMwOL3JucGGl"
      },
      "source": [
        "## 범주형 데이터가 되야하는 부분 ##\n",
        "test_set['air_store_id'] = test_set['air_store_id'].astype('category').cat.codes ## 이거 주의\n",
        "test_set['day_of_week'] = test_set['day_of_week'].astype('category').cat.codes\n",
        "test_set['air_genre_name'] = test_set['air_genre_name'].astype('category').cat.codes\n",
        "test_set['air_area_name'] = test_set['air_area_name'].astype('category').cat.codes\n",
        "test_set['day_of_week'] = test_set['day_of_week'].astype('category').cat.codes\n",
        "test_set['year'] = test_set['year'].astype('category').cat.codes\n",
        "test_set['month'] = test_set['month'].astype('category').cat.codes\n",
        "test_set['week'] = test_set['week'].astype('category').cat.codes\n",
        "test_set['quarter'] = test_set['quarter'].astype('category').cat.codes"
      ],
      "execution_count": null,
      "outputs": []
    },
    {
      "cell_type": "markdown",
      "metadata": {
        "id": "U2yFumHnh1tM"
      },
      "source": [
        "### 학습\n",
        "\n",
        "다양한 모델과 다양한 방법을 이용해 학습을 진행해보겠습니다."
      ]
    },
    {
      "cell_type": "code",
      "metadata": {
        "id": "ag6WG736hA02"
      },
      "source": [
        "from sklearn.metrics import make_scorer\n",
        "from sklearn.neighbors import KNeighborsRegressor\n",
        "from sklearn.linear_model import SGDRegressor\n",
        "from sklearn.tree import DecisionTreeRegressor\n",
        "from sklearn.ensemble import RandomForestRegressor\n",
        "import xgboost as xgb\n",
        "from sklearn.model_selection import GridSearchCV,RandomizedSearchCV\n",
        "from sklearn.preprocessing import StandardScaler"
      ],
      "execution_count": null,
      "outputs": []
    },
    {
      "cell_type": "code",
      "metadata": {
        "id": "baXJBv69h6KW"
      },
      "source": [
        "X_train = train_set.drop(columns='visitors')\n",
        "y_train = train_set.visitors"
      ],
      "execution_count": null,
      "outputs": []
    },
    {
      "cell_type": "code",
      "metadata": {
        "id": "dz2jCE5GiBBv"
      },
      "source": [
        "print(X_train.shape)\n",
        "print(y_train.shape)\n",
        "print(test_set.shape)"
      ],
      "execution_count": null,
      "outputs": []
    },
    {
      "cell_type": "markdown",
      "metadata": {
        "id": "uMDQCy6GsDXO"
      },
      "source": [
        "#### KNN\n",
        "\n",
        "거리 개념을 사용하는 KNN의 경우를 고려해 수치형 데이터만을 뽑아내고 스케일링을 진행해주겠습니다."
      ]
    },
    {
      "cell_type": "code",
      "metadata": {
        "id": "wiIXyMrnsGrO"
      },
      "source": [
        "X_train_knn = X_train[[\"latitude\", \"longitude\", \"air_reserve_visitors\", \"hpg_reserve_visitors\"]]\n",
        "test_set_knn = test_set[[\"latitude\", \"longitude\", \"air_reserve_visitors\", \"hpg_reserve_visitors\"]]\n",
        "\n",
        "std = StandardScaler() \n",
        "X_train_knn_std = std.fit_transform(X_train_knn) # 수치형 데이터만\n",
        "test_set_knn_std = std.transform(test_set_knn)"
      ],
      "execution_count": null,
      "outputs": []
    },
    {
      "cell_type": "code",
      "metadata": {
        "id": "BCUvV50dJ_hr"
      },
      "source": [
        "print(X_train_knn_std.shape)\n",
        "print(test_set_knn_std.shape)"
      ],
      "execution_count": null,
      "outputs": []
    },
    {
      "cell_type": "markdown",
      "metadata": {
        "id": "y0pWnWWAM5NL"
      },
      "source": [
        "Grid Search를 통해 좋은 파라미터를 찾아보겠습니다."
      ]
    },
    {
      "cell_type": "code",
      "metadata": {
        "id": "o6vhaeCrJmJS"
      },
      "source": [
        "from sklearn.metrics import mean_squared_log_error, make_scorer\n",
        "scorer = make_scorer(mean_squared_log_error)\n",
        "\n",
        "# hyperparameters\n",
        "parameters = {'n_neighbors':range(1, 20, 2)}\n",
        "\n",
        "# model\n",
        "knn = KNeighborsRegressor(n_jobs=-1)\n",
        "\n",
        "# cross validation\n",
        "knn_cv = GridSearchCV(estimator=knn,\n",
        "                      param_grid=parameters,\n",
        "                      scoring=scorer,\n",
        "                      n_jobs=-1,\n",
        "                      cv=3,\n",
        "                      verbose=10,\n",
        "                      return_train_score=True)\n",
        "\n",
        "knn_cv.fit(X_train_knn_std, y_train)"
      ],
      "execution_count": null,
      "outputs": []
    },
    {
      "cell_type": "code",
      "metadata": {
        "id": "EBgPiqj6Raqk"
      },
      "source": [
        "knn_cv.best_params_"
      ],
      "execution_count": null,
      "outputs": []
    },
    {
      "cell_type": "markdown",
      "metadata": {
        "id": "nEMPu_X3UF_6"
      },
      "source": [
        "아무래도 파라미터를 잘 찾지 못한 것 같습니다. 파라미터를 8정도로 두고 해보겠습니다."
      ]
    },
    {
      "cell_type": "code",
      "metadata": {
        "id": "8WC5REjEiL_T"
      },
      "source": [
        "knn = KNeighborsRegressor(n_neighbors=8, n_jobs=-1)\n",
        "knn.fit(X_train_knn_std, y_train)"
      ],
      "execution_count": null,
      "outputs": []
    },
    {
      "cell_type": "code",
      "metadata": {
        "id": "CCnrZJNNqwX5"
      },
      "source": [
        "y_pred = knn.predict(X_train_knn_std)"
      ],
      "execution_count": null,
      "outputs": []
    },
    {
      "cell_type": "code",
      "metadata": {
        "id": "kqSZNNansQuz"
      },
      "source": [
        "np.sqrt(mean_squared_log_error(y_train, y_pred))"
      ],
      "execution_count": null,
      "outputs": []
    },
    {
      "cell_type": "code",
      "metadata": {
        "id": "YaoFzjprxNwH"
      },
      "source": [
        "print(f\"true values:{y_train.values[:5]}\")\n",
        "print(f\"predicted values: {y_pred[:5]}\")"
      ],
      "execution_count": null,
      "outputs": []
    },
    {
      "cell_type": "code",
      "metadata": {
        "id": "3t7hz8P1xUd8"
      },
      "source": [
        "y_test = knn.predict(test_set_knn_std)"
      ],
      "execution_count": null,
      "outputs": []
    },
    {
      "cell_type": "code",
      "metadata": {
        "id": "PpxY4YZpxcHf"
      },
      "source": [
        "for_submission = pd.read_csv(\"sample_submission.csv.zip\")"
      ],
      "execution_count": null,
      "outputs": []
    },
    {
      "cell_type": "code",
      "metadata": {
        "id": "mjis69QzxXbb"
      },
      "source": [
        "for_submission['visitors'] = y_test"
      ],
      "execution_count": null,
      "outputs": []
    },
    {
      "cell_type": "code",
      "metadata": {
        "id": "yD2CxJbscfOj"
      },
      "source": [
        "for_submission.head()"
      ],
      "execution_count": null,
      "outputs": []
    },
    {
      "cell_type": "code",
      "metadata": {
        "id": "gy3PpzNjctVl"
      },
      "source": [
        "for_submission.to_csv('submission_knn_scaled_8_neighbors.csv', index=False)"
      ],
      "execution_count": null,
      "outputs": []
    },
    {
      "cell_type": "code",
      "metadata": {
        "id": "2pRMaOR6ctVm"
      },
      "source": [
        "files.download(\"submission_knn_scaled_8_neighbors.csv\")"
      ],
      "execution_count": null,
      "outputs": []
    },
    {
      "cell_type": "markdown",
      "metadata": {
        "id": "sqrfy3CUe3WO"
      },
      "source": [
        "#### SGD Regression\n",
        "\n",
        "SGD 같은 경우에도 step-size가 길이에 따라 다르게 움직이므로 위와 같이 수치형 데이터를 스케일링을 한 데이터를 사용하겠습니다."
      ]
    },
    {
      "cell_type": "code",
      "metadata": {
        "id": "_59jQFj3e21w"
      },
      "source": [
        "std = StandardScaler() \n",
        "X_train_std = std.fit_transform(X_train_knn) # 수치형 데이터만\n",
        "test_std = std.transform(test_set_knn)"
      ],
      "execution_count": null,
      "outputs": []
    },
    {
      "cell_type": "code",
      "metadata": {
        "id": "5efpmgZAfFCn"
      },
      "source": [
        "sgd = SGDRegressor(alpha=0.001)\n",
        "sgd.fit(X_train_knn_std, y_train)"
      ],
      "execution_count": null,
      "outputs": []
    },
    {
      "cell_type": "code",
      "metadata": {
        "id": "GBS8VcFZfcHM"
      },
      "source": [
        "y_pred = sgd.predict(X_train_knn_std)\n",
        "from sklearn.metrics import mean_squared_log_error\n",
        "np.sqrt(mean_squared_log_error(y_train, y_pred))"
      ],
      "execution_count": null,
      "outputs": []
    },
    {
      "cell_type": "code",
      "metadata": {
        "id": "Rwh3UY9ogW6H"
      },
      "source": [
        "print(f\"true values:{y_train.values[:5]}\")\n",
        "print(f\"predicted values: {y_pred[:5]}\")"
      ],
      "execution_count": null,
      "outputs": []
    },
    {
      "cell_type": "code",
      "metadata": {
        "id": "UH08lgorrvwi"
      },
      "source": [
        "y_test = sgd.predict(test_set_knn_std)"
      ],
      "execution_count": null,
      "outputs": []
    },
    {
      "cell_type": "code",
      "metadata": {
        "id": "Hm22xqzErvwt"
      },
      "source": [
        "for_submission = pd.read_csv(\"sample_submission.csv.zip\")"
      ],
      "execution_count": null,
      "outputs": []
    },
    {
      "cell_type": "code",
      "metadata": {
        "id": "ud6jEtxarvwt"
      },
      "source": [
        "for_submission['visitors'] = y_test"
      ],
      "execution_count": null,
      "outputs": []
    },
    {
      "cell_type": "code",
      "metadata": {
        "id": "JWlixGdurvwt"
      },
      "source": [
        "for_submission.head()"
      ],
      "execution_count": null,
      "outputs": []
    },
    {
      "cell_type": "code",
      "metadata": {
        "id": "_ba9ZBLfrvwt"
      },
      "source": [
        "for_submission.to_csv('submission_sgd_ex_sc.csv', index=False)"
      ],
      "execution_count": null,
      "outputs": []
    },
    {
      "cell_type": "code",
      "metadata": {
        "id": "seMm0bxbrvwu"
      },
      "source": [
        "files.download(\"submission_sgd_ex_sc.csv\")"
      ],
      "execution_count": null,
      "outputs": []
    },
    {
      "cell_type": "markdown",
      "metadata": {
        "id": "A91nAaJbg8Pb"
      },
      "source": [
        "#### DT\n",
        "\n",
        "트리는 스케일링에 따라 변하지 않으므로 그대로의 데이터를 사용하겠습니다."
      ]
    },
    {
      "cell_type": "code",
      "metadata": {
        "id": "sjO6JJHTged_"
      },
      "source": [
        "dt = DecisionTreeRegressor(max_depth = 30, min_samples_split = 100)\n",
        "dt.fit(X_train, y_train)"
      ],
      "execution_count": null,
      "outputs": []
    },
    {
      "cell_type": "code",
      "metadata": {
        "id": "LxqbhtE6hDR2"
      },
      "source": [
        "y_pred = dt.predict(X_train)\n",
        "from sklearn.metrics import mean_squared_log_error\n",
        "np.sqrt(mean_squared_log_error(y_train, y_pred))"
      ],
      "execution_count": null,
      "outputs": []
    },
    {
      "cell_type": "code",
      "metadata": {
        "id": "_HLlfewshJZl"
      },
      "source": [
        "print(f\"true values:{y_train.values[:5]}\")\n",
        "print(f\"predicted values: {y_pred[:5]}\")"
      ],
      "execution_count": null,
      "outputs": []
    },
    {
      "cell_type": "code",
      "metadata": {
        "id": "QAybGiMVhVC5"
      },
      "source": [
        "y_test = dt.predict(test_set)"
      ],
      "execution_count": null,
      "outputs": []
    },
    {
      "cell_type": "code",
      "metadata": {
        "id": "sjwNdk8NhVC5"
      },
      "source": [
        "for_submission = pd.read_csv(\"sample_submission.csv.zip\")"
      ],
      "execution_count": null,
      "outputs": []
    },
    {
      "cell_type": "code",
      "metadata": {
        "id": "QDYOS_othVC5"
      },
      "source": [
        "for_submission['visitors'] = y_test"
      ],
      "execution_count": null,
      "outputs": []
    },
    {
      "cell_type": "code",
      "metadata": {
        "id": "gBUT9QrkhVC5"
      },
      "source": [
        "for_submission.head()"
      ],
      "execution_count": null,
      "outputs": []
    },
    {
      "cell_type": "code",
      "metadata": {
        "id": "Iwtw86G5hVC6"
      },
      "source": [
        "for_submission.to_csv('submission_dt.csv', index=False)"
      ],
      "execution_count": null,
      "outputs": []
    },
    {
      "cell_type": "code",
      "metadata": {
        "id": "9E292CPfhVC6"
      },
      "source": [
        "files.download(\"submission_dt.csv\")"
      ],
      "execution_count": null,
      "outputs": []
    },
    {
      "cell_type": "markdown",
      "metadata": {
        "id": "Bo0dFjk7htt6"
      },
      "source": [
        "#### RF\n",
        "\n",
        "DT를 앙상블하는 랜덤포레스트를 이용해보겠습니다."
      ]
    },
    {
      "cell_type": "code",
      "metadata": {
        "id": "yini0uOFhdaA"
      },
      "source": [
        "rf = RandomForestRegressor(max_depth = 30, n_estimators = 100, n_jobs=-1)\n",
        "rf.fit(X_train, y_train)"
      ],
      "execution_count": null,
      "outputs": []
    },
    {
      "cell_type": "code",
      "metadata": {
        "id": "iTILkak2hz2Q"
      },
      "source": [
        "y_pred = rf.predict(X_train)\n",
        "from sklearn.metrics import mean_squared_log_error\n",
        "np.sqrt(mean_squared_log_error(y_train, y_pred))"
      ],
      "execution_count": null,
      "outputs": []
    },
    {
      "cell_type": "code",
      "metadata": {
        "id": "Er5NgNR2hz2Q"
      },
      "source": [
        "print(f\"true values:{y_train.values[:5]}\")\n",
        "print(f\"predicted values: {y_pred[:5]}\")"
      ],
      "execution_count": null,
      "outputs": []
    },
    {
      "cell_type": "code",
      "metadata": {
        "id": "IL0AxHx-hz2R"
      },
      "source": [
        "y_test = rf.predict(test_set)"
      ],
      "execution_count": null,
      "outputs": []
    },
    {
      "cell_type": "code",
      "metadata": {
        "id": "yxLhycVShz2R"
      },
      "source": [
        "for_submission = pd.read_csv(\"sample_submission.csv.zip\")"
      ],
      "execution_count": null,
      "outputs": []
    },
    {
      "cell_type": "code",
      "metadata": {
        "id": "iYES2kk1hz2R"
      },
      "source": [
        "for_submission['visitors'] = y_test"
      ],
      "execution_count": null,
      "outputs": []
    },
    {
      "cell_type": "code",
      "metadata": {
        "id": "sMruDegPhz2R"
      },
      "source": [
        "for_submission.head()"
      ],
      "execution_count": null,
      "outputs": []
    },
    {
      "cell_type": "code",
      "metadata": {
        "id": "fdSAnLGVhz2R"
      },
      "source": [
        "for_submission.to_csv('submission_rf.csv', index=False)"
      ],
      "execution_count": null,
      "outputs": []
    },
    {
      "cell_type": "code",
      "metadata": {
        "id": "-zqcWV0lhz2R"
      },
      "source": [
        "from google.colab import files\n",
        "files.download(\"submission_rf.csv\")"
      ],
      "execution_count": null,
      "outputs": []
    },
    {
      "cell_type": "markdown",
      "metadata": {
        "id": "goTM7jjblC9p"
      },
      "source": [
        "#### 앙상블"
      ]
    },
    {
      "cell_type": "code",
      "metadata": {
        "id": "RubrTd8sklUo"
      },
      "source": [
        "from sklearn.ensemble import GradientBoostingRegressor\n",
        "from sklearn.model_selection import KFold, cross_val_score\n",
        "import xgboost as xgb\n",
        "import lightgbm as lgb\n",
        "\n",
        "gboost = GradientBoostingRegressor(random_state=2019)\n",
        "xgboost = xgb.XGBRegressor(random_state=2019, n_estimators=80, learning_rate=0.05, max_depth=7)\n",
        "lightgbm = lgb.LGBMRegressor(random_state=2019,  n_estimators=80, learning_rate=0.05, num_leaves=60)\n",
        "\n",
        "models = [{'model':gboost, 'name':'GradientBoosting'}, {'model':xgboost, 'name':'XGBoost'},\n",
        "          {'model':lightgbm, 'name':'LightGBM'}]"
      ],
      "execution_count": null,
      "outputs": []
    },
    {
      "cell_type": "code",
      "metadata": {
        "id": "fK2c1cMzlSaq"
      },
      "source": [
        "def AveragingBlending(models, x, y, sub_x):\n",
        "    for m in models : \n",
        "        m['model'].fit(x.values, y)\n",
        "    \n",
        "    predictions = np.column_stack([\n",
        "        m['model'].predict(sub_x.values) for m in models\n",
        "    ])\n",
        "    return np.mean(predictions, axis=1)"
      ],
      "execution_count": null,
      "outputs": []
    },
    {
      "cell_type": "code",
      "metadata": {
        "id": "NZ6KFRMOlaqU"
      },
      "source": [
        "y_pred = AveragingBlending(models, X_train, y_train, test_set)\n",
        "print(len(y_pred))\n",
        "y_pred"
      ],
      "execution_count": null,
      "outputs": []
    },
    {
      "cell_type": "code",
      "metadata": {
        "id": "vLDV_RSPlor1"
      },
      "source": [
        "y_pred.shape"
      ],
      "execution_count": null,
      "outputs": []
    },
    {
      "cell_type": "code",
      "metadata": {
        "id": "KgB3zT0Zl6wp"
      },
      "source": [
        "for_submission = pd.read_csv(\"sample_submission.csv.zip\")"
      ],
      "execution_count": null,
      "outputs": []
    },
    {
      "cell_type": "code",
      "metadata": {
        "id": "1w0U2QrXl6wp"
      },
      "source": [
        "for_submission['visitors'] = y_pred"
      ],
      "execution_count": null,
      "outputs": []
    },
    {
      "cell_type": "code",
      "metadata": {
        "id": "7UpmWyU0l6wp"
      },
      "source": [
        "for_submission.head()"
      ],
      "execution_count": null,
      "outputs": []
    },
    {
      "cell_type": "code",
      "metadata": {
        "id": "vhjPuOB8l6wp"
      },
      "source": [
        "for_submission.to_csv('submission_ensemble_gxl.csv', index=False)"
      ],
      "execution_count": null,
      "outputs": []
    },
    {
      "cell_type": "code",
      "metadata": {
        "id": "69NjJESVl6wq"
      },
      "source": [
        "files.download(\"submission_ensemble_gxl.csv\")"
      ],
      "execution_count": null,
      "outputs": []
    },
    {
      "cell_type": "markdown",
      "metadata": {
        "id": "2fwZt0UzbP_q"
      },
      "source": [
        "##### 더 적은 특성값으로"
      ]
    },
    {
      "cell_type": "markdown",
      "metadata": {
        "id": "6XaNzPIc35yH"
      },
      "source": [
        "지나치게 범주가 많아 학습에 방해가 될 수도 있는 매장명과 지역명을 버린 데이터로 위의 앙상블 학습을 진행해보겠습니다. "
      ]
    },
    {
      "cell_type": "code",
      "metadata": {
        "id": "-Ez6nRRo1Iqx"
      },
      "source": [
        "X_train_ex = X_train.drop(columns=[\"air_store_id\", \"air_area_name\"])\n",
        "test_set_ex = test_set.drop(columns=[\"air_store_id\", \"air_area_name\"])"
      ],
      "execution_count": null,
      "outputs": []
    },
    {
      "cell_type": "code",
      "metadata": {
        "id": "80DlQazP41P9"
      },
      "source": [
        "print(X_train_ex.shape)\n",
        "print(test_set_ex.shape)"
      ],
      "execution_count": null,
      "outputs": []
    },
    {
      "cell_type": "code",
      "metadata": {
        "id": "_G2f2rNC4v1G"
      },
      "source": [
        "y_pred = AveragingBlending(models, X_train_ex, y_train, test_set_ex)\n",
        "print(len(y_pred))\n",
        "y_pred"
      ],
      "execution_count": null,
      "outputs": []
    },
    {
      "cell_type": "code",
      "metadata": {
        "id": "QTdF52XG4v1H"
      },
      "source": [
        "y_pred.shape"
      ],
      "execution_count": null,
      "outputs": []
    },
    {
      "cell_type": "code",
      "metadata": {
        "id": "im3pwNV94v1H"
      },
      "source": [
        "for_submission = pd.read_csv(\"sample_submission.csv.zip\")"
      ],
      "execution_count": null,
      "outputs": []
    },
    {
      "cell_type": "code",
      "metadata": {
        "id": "tcgP1lXA4v1H"
      },
      "source": [
        "for_submission['visitors'] = y_pred"
      ],
      "execution_count": null,
      "outputs": []
    },
    {
      "cell_type": "code",
      "metadata": {
        "id": "_XxafPpG4v1H"
      },
      "source": [
        "for_submission.head()"
      ],
      "execution_count": null,
      "outputs": []
    },
    {
      "cell_type": "code",
      "metadata": {
        "id": "v-uGLYjh4v1J"
      },
      "source": [
        "for_submission.to_csv('submission_ensemble_gxl_ex.csv', index=False)"
      ],
      "execution_count": null,
      "outputs": []
    },
    {
      "cell_type": "code",
      "metadata": {
        "id": "D8S9dcIP4v1J"
      },
      "source": [
        "from google.colab import files\n",
        "files.download(\"submission_ensemble_gxl_ex.csv\")"
      ],
      "execution_count": null,
      "outputs": []
    },
    {
      "cell_type": "code",
      "metadata": {
        "id": "B90w7TlH4rhb"
      },
      "source": [
        "X_train_ex_2 = X_train_ex.drop(columns=['day'], axis=1)\n",
        "test_set_ex_2 = test_set_ex.drop(columns=['day'], axis=1)"
      ],
      "execution_count": null,
      "outputs": []
    },
    {
      "cell_type": "code",
      "metadata": {
        "id": "KBmnDcR1aoZi"
      },
      "source": [
        "y_pred = AveragingBlending(models, X_train_ex_2, y_train, test_set_ex_2)\n",
        "print(len(y_pred))\n",
        "y_pred"
      ],
      "execution_count": null,
      "outputs": []
    },
    {
      "cell_type": "code",
      "metadata": {
        "id": "H60QkrkIaoZi"
      },
      "source": [
        "y_pred.shape"
      ],
      "execution_count": null,
      "outputs": []
    },
    {
      "cell_type": "code",
      "metadata": {
        "id": "Mwt1ur9qaoZj"
      },
      "source": [
        "for_submission = pd.read_csv(\"sample_submission.csv.zip\")"
      ],
      "execution_count": null,
      "outputs": []
    },
    {
      "cell_type": "code",
      "metadata": {
        "id": "BWkzPWHuaoZj"
      },
      "source": [
        "for_submission['visitors'] = y_pred"
      ],
      "execution_count": null,
      "outputs": []
    },
    {
      "cell_type": "code",
      "metadata": {
        "id": "-BJ5Eg-NaoZj"
      },
      "source": [
        "for_submission.head()"
      ],
      "execution_count": null,
      "outputs": []
    },
    {
      "cell_type": "code",
      "metadata": {
        "id": "oLDX55-EaoZj"
      },
      "source": [
        "for_submission.to_csv('submission_ensemble_gxl_ex_2.csv', index=False)"
      ],
      "execution_count": null,
      "outputs": []
    },
    {
      "cell_type": "code",
      "metadata": {
        "id": "aG5vx8WlaoZj"
      },
      "source": [
        "from google.colab import files\n",
        "files.download(\"submission_ensemble_gxl_ex_2.csv\")"
      ],
      "execution_count": null,
      "outputs": []
    },
    {
      "cell_type": "markdown",
      "metadata": {
        "id": "sLHNGdSlbT1l"
      },
      "source": [
        "##### 새로운 앙상블 모델"
      ]
    },
    {
      "cell_type": "code",
      "metadata": {
        "id": "56C1dTRQa0mx"
      },
      "source": [
        "gboost = GradientBoostingRegressor(random_state=2019)\n",
        "xgboost = xgb.XGBRegressor(random_state=2019, n_estimators=80, learning_rate=0.05, max_depth=7)\n",
        "lightgbm = lgb.LGBMRegressor(random_state=2019,  n_estimators=80, learning_rate=0.05, num_leaves=60)\n",
        "knn = KNeighborsRegressor(n_jobs=-1)\n",
        "\n",
        "models_2 = [{'model':gboost, 'name':'GradientBoosting'}, {'model':xgboost, 'name':'XGBoost'},\n",
        "            {'model':lightgbm, 'name':'LightGBM'}, {'model':knn, 'name':'KNN'}]"
      ],
      "execution_count": null,
      "outputs": []
    },
    {
      "cell_type": "code",
      "metadata": {
        "id": "FpSn6FZXbgfc"
      },
      "source": [
        "y_pred = AveragingBlending(models_2, X_train_ex_2, y_train, test_set_ex_2)\n",
        "print(len(y_pred))\n",
        "y_pred"
      ],
      "execution_count": null,
      "outputs": []
    },
    {
      "cell_type": "code",
      "metadata": {
        "id": "5XOoj0RWbgfc"
      },
      "source": [
        "y_pred.shape"
      ],
      "execution_count": null,
      "outputs": []
    },
    {
      "cell_type": "code",
      "metadata": {
        "id": "AKCFf4lbbgfc"
      },
      "source": [
        "for_submission = pd.read_csv(\"sample_submission.csv.zip\")"
      ],
      "execution_count": null,
      "outputs": []
    },
    {
      "cell_type": "code",
      "metadata": {
        "id": "CfEiEvxqbgfd"
      },
      "source": [
        "for_submission['visitors'] = y_pred"
      ],
      "execution_count": null,
      "outputs": []
    },
    {
      "cell_type": "code",
      "metadata": {
        "id": "gh_1Fxyebgfd"
      },
      "source": [
        "for_submission.head()"
      ],
      "execution_count": null,
      "outputs": []
    },
    {
      "cell_type": "code",
      "metadata": {
        "id": "IE_B8h3fbgfd"
      },
      "source": [
        "for_submission.to_csv('submission_ensemble_gxlk_ex_2.csv', index=False)"
      ],
      "execution_count": null,
      "outputs": []
    },
    {
      "cell_type": "code",
      "metadata": {
        "id": "aLgcrTwObgfd"
      },
      "source": [
        "from google.colab import files\n",
        "files.download(\"submission_ensemble_gxlk_ex_2.csv\")"
      ],
      "execution_count": null,
      "outputs": []
    },
    {
      "cell_type": "code",
      "metadata": {
        "id": "UXVVe6EqbdCh"
      },
      "source": [
        ""
      ],
      "execution_count": null,
      "outputs": []
    }
  ]
}